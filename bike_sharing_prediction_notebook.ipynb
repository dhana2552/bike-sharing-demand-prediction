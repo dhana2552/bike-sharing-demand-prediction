{
  "nbformat": 4,
  "nbformat_minor": 0,
  "metadata": {
    "accelerator": "GPU",
    "colab": {
      "name": "project-template.ipynb",
      "provenance": [],
      "collapsed_sections": [
        "6X_8r-9YyvNt",
        "cb_umvG4yvNx",
        "_ZjD2ebQyvNy"
      ]
    },
    "kernelspec": {
      "display_name": "Python 3",
      "language": "python",
      "name": "python3"
    },
    "language_info": {
      "codemirror_mode": {
        "name": "ipython",
        "version": 3
      },
      "file_extension": ".py",
      "mimetype": "text/x-python",
      "name": "python",
      "nbconvert_exporter": "python",
      "pygments_lexer": "ipython3",
      "version": "3.7.9"
    },
    "widgets": {
      "application/vnd.jupyter.widget-state+json": {
        "a26ad477549d47689e55ce3bf9503fa3": {
          "model_module": "@jupyter-widgets/controls",
          "model_name": "HBoxModel",
          "model_module_version": "1.5.0",
          "state": {
            "_view_name": "HBoxView",
            "_dom_classes": [],
            "_model_name": "HBoxModel",
            "_view_module": "@jupyter-widgets/controls",
            "_model_module_version": "1.5.0",
            "_view_count": null,
            "_view_module_version": "1.5.0",
            "box_style": "",
            "layout": "IPY_MODEL_a3fbaa0816414d5db32fd745215c88f9",
            "_model_module": "@jupyter-widgets/controls",
            "children": [
              "IPY_MODEL_4b5f9b9dfe1c4d85b887b36b7c2c731e",
              "IPY_MODEL_71a3611c3e4043b5a0dc99807579eb13",
              "IPY_MODEL_4ae5634bd9a54b3889e5609269070b80"
            ]
          }
        },
        "a3fbaa0816414d5db32fd745215c88f9": {
          "model_module": "@jupyter-widgets/base",
          "model_name": "LayoutModel",
          "model_module_version": "1.2.0",
          "state": {
            "_view_name": "LayoutView",
            "grid_template_rows": null,
            "right": null,
            "justify_content": null,
            "_view_module": "@jupyter-widgets/base",
            "overflow": null,
            "_model_module_version": "1.2.0",
            "_view_count": null,
            "flex_flow": null,
            "width": null,
            "min_width": null,
            "border": null,
            "align_items": null,
            "bottom": null,
            "_model_module": "@jupyter-widgets/base",
            "top": null,
            "grid_column": null,
            "overflow_y": null,
            "overflow_x": null,
            "grid_auto_flow": null,
            "grid_area": null,
            "grid_template_columns": null,
            "flex": null,
            "_model_name": "LayoutModel",
            "justify_items": null,
            "grid_row": null,
            "max_height": null,
            "align_content": null,
            "visibility": null,
            "align_self": null,
            "height": null,
            "min_height": null,
            "padding": null,
            "grid_auto_rows": null,
            "grid_gap": null,
            "max_width": null,
            "order": null,
            "_view_module_version": "1.2.0",
            "grid_template_areas": null,
            "object_position": null,
            "object_fit": null,
            "grid_auto_columns": null,
            "margin": null,
            "display": null,
            "left": null
          }
        },
        "4b5f9b9dfe1c4d85b887b36b7c2c731e": {
          "model_module": "@jupyter-widgets/controls",
          "model_name": "HTMLModel",
          "model_module_version": "1.5.0",
          "state": {
            "_view_name": "HTMLView",
            "style": "IPY_MODEL_98bd6a608bed4078aa20d4d8e04f1dd8",
            "_dom_classes": [],
            "description": "",
            "_model_name": "HTMLModel",
            "placeholder": "​",
            "_view_module": "@jupyter-widgets/controls",
            "_model_module_version": "1.5.0",
            "value": "100%",
            "_view_count": null,
            "_view_module_version": "1.5.0",
            "description_tooltip": null,
            "_model_module": "@jupyter-widgets/controls",
            "layout": "IPY_MODEL_84e300a1861545beae611da42f0a7005"
          }
        },
        "71a3611c3e4043b5a0dc99807579eb13": {
          "model_module": "@jupyter-widgets/controls",
          "model_name": "FloatProgressModel",
          "model_module_version": "1.5.0",
          "state": {
            "_view_name": "ProgressView",
            "style": "IPY_MODEL_3ede1f74d637487f9a66847f60a469a4",
            "_dom_classes": [],
            "description": "",
            "_model_name": "FloatProgressModel",
            "bar_style": "success",
            "max": 5,
            "_view_module": "@jupyter-widgets/controls",
            "_model_module_version": "1.5.0",
            "value": 5,
            "_view_count": null,
            "_view_module_version": "1.5.0",
            "orientation": "horizontal",
            "min": 0,
            "description_tooltip": null,
            "_model_module": "@jupyter-widgets/controls",
            "layout": "IPY_MODEL_492cc3f319ca4d19906f85fcf59a3af5"
          }
        },
        "4ae5634bd9a54b3889e5609269070b80": {
          "model_module": "@jupyter-widgets/controls",
          "model_name": "HTMLModel",
          "model_module_version": "1.5.0",
          "state": {
            "_view_name": "HTMLView",
            "style": "IPY_MODEL_441fc5afd77c43cf90c3be851dd1a8e3",
            "_dom_classes": [],
            "description": "",
            "_model_name": "HTMLModel",
            "placeholder": "​",
            "_view_module": "@jupyter-widgets/controls",
            "_model_module_version": "1.5.0",
            "value": " 5/5 [00:03&lt;00:00,  1.11it/s]",
            "_view_count": null,
            "_view_module_version": "1.5.0",
            "description_tooltip": null,
            "_model_module": "@jupyter-widgets/controls",
            "layout": "IPY_MODEL_c14285a5931744578f3488325118e327"
          }
        },
        "98bd6a608bed4078aa20d4d8e04f1dd8": {
          "model_module": "@jupyter-widgets/controls",
          "model_name": "DescriptionStyleModel",
          "model_module_version": "1.5.0",
          "state": {
            "_view_name": "StyleView",
            "_model_name": "DescriptionStyleModel",
            "description_width": "",
            "_view_module": "@jupyter-widgets/base",
            "_model_module_version": "1.5.0",
            "_view_count": null,
            "_view_module_version": "1.2.0",
            "_model_module": "@jupyter-widgets/controls"
          }
        },
        "84e300a1861545beae611da42f0a7005": {
          "model_module": "@jupyter-widgets/base",
          "model_name": "LayoutModel",
          "model_module_version": "1.2.0",
          "state": {
            "_view_name": "LayoutView",
            "grid_template_rows": null,
            "right": null,
            "justify_content": null,
            "_view_module": "@jupyter-widgets/base",
            "overflow": null,
            "_model_module_version": "1.2.0",
            "_view_count": null,
            "flex_flow": null,
            "width": null,
            "min_width": null,
            "border": null,
            "align_items": null,
            "bottom": null,
            "_model_module": "@jupyter-widgets/base",
            "top": null,
            "grid_column": null,
            "overflow_y": null,
            "overflow_x": null,
            "grid_auto_flow": null,
            "grid_area": null,
            "grid_template_columns": null,
            "flex": null,
            "_model_name": "LayoutModel",
            "justify_items": null,
            "grid_row": null,
            "max_height": null,
            "align_content": null,
            "visibility": null,
            "align_self": null,
            "height": null,
            "min_height": null,
            "padding": null,
            "grid_auto_rows": null,
            "grid_gap": null,
            "max_width": null,
            "order": null,
            "_view_module_version": "1.2.0",
            "grid_template_areas": null,
            "object_position": null,
            "object_fit": null,
            "grid_auto_columns": null,
            "margin": null,
            "display": null,
            "left": null
          }
        },
        "3ede1f74d637487f9a66847f60a469a4": {
          "model_module": "@jupyter-widgets/controls",
          "model_name": "ProgressStyleModel",
          "model_module_version": "1.5.0",
          "state": {
            "_view_name": "StyleView",
            "_model_name": "ProgressStyleModel",
            "description_width": "",
            "_view_module": "@jupyter-widgets/base",
            "_model_module_version": "1.5.0",
            "_view_count": null,
            "_view_module_version": "1.2.0",
            "bar_color": null,
            "_model_module": "@jupyter-widgets/controls"
          }
        },
        "492cc3f319ca4d19906f85fcf59a3af5": {
          "model_module": "@jupyter-widgets/base",
          "model_name": "LayoutModel",
          "model_module_version": "1.2.0",
          "state": {
            "_view_name": "LayoutView",
            "grid_template_rows": null,
            "right": null,
            "justify_content": null,
            "_view_module": "@jupyter-widgets/base",
            "overflow": null,
            "_model_module_version": "1.2.0",
            "_view_count": null,
            "flex_flow": null,
            "width": null,
            "min_width": null,
            "border": null,
            "align_items": null,
            "bottom": null,
            "_model_module": "@jupyter-widgets/base",
            "top": null,
            "grid_column": null,
            "overflow_y": null,
            "overflow_x": null,
            "grid_auto_flow": null,
            "grid_area": null,
            "grid_template_columns": null,
            "flex": null,
            "_model_name": "LayoutModel",
            "justify_items": null,
            "grid_row": null,
            "max_height": null,
            "align_content": null,
            "visibility": null,
            "align_self": null,
            "height": null,
            "min_height": null,
            "padding": null,
            "grid_auto_rows": null,
            "grid_gap": null,
            "max_width": null,
            "order": null,
            "_view_module_version": "1.2.0",
            "grid_template_areas": null,
            "object_position": null,
            "object_fit": null,
            "grid_auto_columns": null,
            "margin": null,
            "display": null,
            "left": null
          }
        },
        "441fc5afd77c43cf90c3be851dd1a8e3": {
          "model_module": "@jupyter-widgets/controls",
          "model_name": "DescriptionStyleModel",
          "model_module_version": "1.5.0",
          "state": {
            "_view_name": "StyleView",
            "_model_name": "DescriptionStyleModel",
            "description_width": "",
            "_view_module": "@jupyter-widgets/base",
            "_model_module_version": "1.5.0",
            "_view_count": null,
            "_view_module_version": "1.2.0",
            "_model_module": "@jupyter-widgets/controls"
          }
        },
        "c14285a5931744578f3488325118e327": {
          "model_module": "@jupyter-widgets/base",
          "model_name": "LayoutModel",
          "model_module_version": "1.2.0",
          "state": {
            "_view_name": "LayoutView",
            "grid_template_rows": null,
            "right": null,
            "justify_content": null,
            "_view_module": "@jupyter-widgets/base",
            "overflow": null,
            "_model_module_version": "1.2.0",
            "_view_count": null,
            "flex_flow": null,
            "width": null,
            "min_width": null,
            "border": null,
            "align_items": null,
            "bottom": null,
            "_model_module": "@jupyter-widgets/base",
            "top": null,
            "grid_column": null,
            "overflow_y": null,
            "overflow_x": null,
            "grid_auto_flow": null,
            "grid_area": null,
            "grid_template_columns": null,
            "flex": null,
            "_model_name": "LayoutModel",
            "justify_items": null,
            "grid_row": null,
            "max_height": null,
            "align_content": null,
            "visibility": null,
            "align_self": null,
            "height": null,
            "min_height": null,
            "padding": null,
            "grid_auto_rows": null,
            "grid_gap": null,
            "max_width": null,
            "order": null,
            "_view_module_version": "1.2.0",
            "grid_template_areas": null,
            "object_position": null,
            "object_fit": null,
            "grid_auto_columns": null,
            "margin": null,
            "display": null,
            "left": null
          }
        },
        "0d6b162212be4c37a81bb0580de3c9d7": {
          "model_module": "@jupyter-widgets/controls",
          "model_name": "HBoxModel",
          "model_module_version": "1.5.0",
          "state": {
            "_view_name": "HBoxView",
            "_dom_classes": [],
            "_model_name": "HBoxModel",
            "_view_module": "@jupyter-widgets/controls",
            "_model_module_version": "1.5.0",
            "_view_count": null,
            "_view_module_version": "1.5.0",
            "box_style": "",
            "layout": "IPY_MODEL_178eb8689bb84e5fbda5fe78f4ef519c",
            "_model_module": "@jupyter-widgets/controls",
            "children": [
              "IPY_MODEL_85cfe7804f994707bad008ded91f0ac6",
              "IPY_MODEL_56af89d12f5c44a6b784298924eb21ba",
              "IPY_MODEL_8732f6f4a9a94e0aaa5948c7a134e31e"
            ]
          }
        },
        "178eb8689bb84e5fbda5fe78f4ef519c": {
          "model_module": "@jupyter-widgets/base",
          "model_name": "LayoutModel",
          "model_module_version": "1.2.0",
          "state": {
            "_view_name": "LayoutView",
            "grid_template_rows": null,
            "right": null,
            "justify_content": null,
            "_view_module": "@jupyter-widgets/base",
            "overflow": null,
            "_model_module_version": "1.2.0",
            "_view_count": null,
            "flex_flow": null,
            "width": null,
            "min_width": null,
            "border": null,
            "align_items": null,
            "bottom": null,
            "_model_module": "@jupyter-widgets/base",
            "top": null,
            "grid_column": null,
            "overflow_y": null,
            "overflow_x": null,
            "grid_auto_flow": null,
            "grid_area": null,
            "grid_template_columns": null,
            "flex": null,
            "_model_name": "LayoutModel",
            "justify_items": null,
            "grid_row": null,
            "max_height": null,
            "align_content": null,
            "visibility": null,
            "align_self": null,
            "height": null,
            "min_height": null,
            "padding": null,
            "grid_auto_rows": null,
            "grid_gap": null,
            "max_width": null,
            "order": null,
            "_view_module_version": "1.2.0",
            "grid_template_areas": null,
            "object_position": null,
            "object_fit": null,
            "grid_auto_columns": null,
            "margin": null,
            "display": null,
            "left": null
          }
        },
        "85cfe7804f994707bad008ded91f0ac6": {
          "model_module": "@jupyter-widgets/controls",
          "model_name": "HTMLModel",
          "model_module_version": "1.5.0",
          "state": {
            "_view_name": "HTMLView",
            "style": "IPY_MODEL_7d6c0348139a45eebc46a0800068e99a",
            "_dom_classes": [],
            "description": "",
            "_model_name": "HTMLModel",
            "placeholder": "​",
            "_view_module": "@jupyter-widgets/controls",
            "_model_module_version": "1.5.0",
            "value": "  0%",
            "_view_count": null,
            "_view_module_version": "1.5.0",
            "description_tooltip": null,
            "_model_module": "@jupyter-widgets/controls",
            "layout": "IPY_MODEL_7865a56aa88f4c5ca08e925c096c68b8"
          }
        },
        "56af89d12f5c44a6b784298924eb21ba": {
          "model_module": "@jupyter-widgets/controls",
          "model_name": "FloatProgressModel",
          "model_module_version": "1.5.0",
          "state": {
            "_view_name": "ProgressView",
            "style": "IPY_MODEL_3a46f57e4eef43c0a85a9603c523c084",
            "_dom_classes": [],
            "description": "",
            "_model_name": "FloatProgressModel",
            "bar_style": "danger",
            "max": 5,
            "_view_module": "@jupyter-widgets/controls",
            "_model_module_version": "1.5.0",
            "value": 0,
            "_view_count": null,
            "_view_module_version": "1.5.0",
            "orientation": "horizontal",
            "min": 0,
            "description_tooltip": null,
            "_model_module": "@jupyter-widgets/controls",
            "layout": "IPY_MODEL_ee56b7c6b4a24a8c91d7055378c87a51"
          }
        },
        "8732f6f4a9a94e0aaa5948c7a134e31e": {
          "model_module": "@jupyter-widgets/controls",
          "model_name": "HTMLModel",
          "model_module_version": "1.5.0",
          "state": {
            "_view_name": "HTMLView",
            "style": "IPY_MODEL_df0177ae43b84816a2ab49eb3f538057",
            "_dom_classes": [],
            "description": "",
            "_model_name": "HTMLModel",
            "placeholder": "​",
            "_view_module": "@jupyter-widgets/controls",
            "_model_module_version": "1.5.0",
            "value": " 0/5 [00:11&lt;?, ?it/s]",
            "_view_count": null,
            "_view_module_version": "1.5.0",
            "description_tooltip": null,
            "_model_module": "@jupyter-widgets/controls",
            "layout": "IPY_MODEL_5257ccf4e2904340a94d1853d9a01632"
          }
        },
        "7d6c0348139a45eebc46a0800068e99a": {
          "model_module": "@jupyter-widgets/controls",
          "model_name": "DescriptionStyleModel",
          "model_module_version": "1.5.0",
          "state": {
            "_view_name": "StyleView",
            "_model_name": "DescriptionStyleModel",
            "description_width": "",
            "_view_module": "@jupyter-widgets/base",
            "_model_module_version": "1.5.0",
            "_view_count": null,
            "_view_module_version": "1.2.0",
            "_model_module": "@jupyter-widgets/controls"
          }
        },
        "7865a56aa88f4c5ca08e925c096c68b8": {
          "model_module": "@jupyter-widgets/base",
          "model_name": "LayoutModel",
          "model_module_version": "1.2.0",
          "state": {
            "_view_name": "LayoutView",
            "grid_template_rows": null,
            "right": null,
            "justify_content": null,
            "_view_module": "@jupyter-widgets/base",
            "overflow": null,
            "_model_module_version": "1.2.0",
            "_view_count": null,
            "flex_flow": null,
            "width": null,
            "min_width": null,
            "border": null,
            "align_items": null,
            "bottom": null,
            "_model_module": "@jupyter-widgets/base",
            "top": null,
            "grid_column": null,
            "overflow_y": null,
            "overflow_x": null,
            "grid_auto_flow": null,
            "grid_area": null,
            "grid_template_columns": null,
            "flex": null,
            "_model_name": "LayoutModel",
            "justify_items": null,
            "grid_row": null,
            "max_height": null,
            "align_content": null,
            "visibility": null,
            "align_self": null,
            "height": null,
            "min_height": null,
            "padding": null,
            "grid_auto_rows": null,
            "grid_gap": null,
            "max_width": null,
            "order": null,
            "_view_module_version": "1.2.0",
            "grid_template_areas": null,
            "object_position": null,
            "object_fit": null,
            "grid_auto_columns": null,
            "margin": null,
            "display": null,
            "left": null
          }
        },
        "3a46f57e4eef43c0a85a9603c523c084": {
          "model_module": "@jupyter-widgets/controls",
          "model_name": "ProgressStyleModel",
          "model_module_version": "1.5.0",
          "state": {
            "_view_name": "StyleView",
            "_model_name": "ProgressStyleModel",
            "description_width": "",
            "_view_module": "@jupyter-widgets/base",
            "_model_module_version": "1.5.0",
            "_view_count": null,
            "_view_module_version": "1.2.0",
            "bar_color": null,
            "_model_module": "@jupyter-widgets/controls"
          }
        },
        "ee56b7c6b4a24a8c91d7055378c87a51": {
          "model_module": "@jupyter-widgets/base",
          "model_name": "LayoutModel",
          "model_module_version": "1.2.0",
          "state": {
            "_view_name": "LayoutView",
            "grid_template_rows": null,
            "right": null,
            "justify_content": null,
            "_view_module": "@jupyter-widgets/base",
            "overflow": null,
            "_model_module_version": "1.2.0",
            "_view_count": null,
            "flex_flow": null,
            "width": null,
            "min_width": null,
            "border": null,
            "align_items": null,
            "bottom": null,
            "_model_module": "@jupyter-widgets/base",
            "top": null,
            "grid_column": null,
            "overflow_y": null,
            "overflow_x": null,
            "grid_auto_flow": null,
            "grid_area": null,
            "grid_template_columns": null,
            "flex": null,
            "_model_name": "LayoutModel",
            "justify_items": null,
            "grid_row": null,
            "max_height": null,
            "align_content": null,
            "visibility": null,
            "align_self": null,
            "height": null,
            "min_height": null,
            "padding": null,
            "grid_auto_rows": null,
            "grid_gap": null,
            "max_width": null,
            "order": null,
            "_view_module_version": "1.2.0",
            "grid_template_areas": null,
            "object_position": null,
            "object_fit": null,
            "grid_auto_columns": null,
            "margin": null,
            "display": null,
            "left": null
          }
        },
        "df0177ae43b84816a2ab49eb3f538057": {
          "model_module": "@jupyter-widgets/controls",
          "model_name": "DescriptionStyleModel",
          "model_module_version": "1.5.0",
          "state": {
            "_view_name": "StyleView",
            "_model_name": "DescriptionStyleModel",
            "description_width": "",
            "_view_module": "@jupyter-widgets/base",
            "_model_module_version": "1.5.0",
            "_view_count": null,
            "_view_module_version": "1.2.0",
            "_model_module": "@jupyter-widgets/controls"
          }
        },
        "5257ccf4e2904340a94d1853d9a01632": {
          "model_module": "@jupyter-widgets/base",
          "model_name": "LayoutModel",
          "model_module_version": "1.2.0",
          "state": {
            "_view_name": "LayoutView",
            "grid_template_rows": null,
            "right": null,
            "justify_content": null,
            "_view_module": "@jupyter-widgets/base",
            "overflow": null,
            "_model_module_version": "1.2.0",
            "_view_count": null,
            "flex_flow": null,
            "width": null,
            "min_width": null,
            "border": null,
            "align_items": null,
            "bottom": null,
            "_model_module": "@jupyter-widgets/base",
            "top": null,
            "grid_column": null,
            "overflow_y": null,
            "overflow_x": null,
            "grid_auto_flow": null,
            "grid_area": null,
            "grid_template_columns": null,
            "flex": null,
            "_model_name": "LayoutModel",
            "justify_items": null,
            "grid_row": null,
            "max_height": null,
            "align_content": null,
            "visibility": null,
            "align_self": null,
            "height": null,
            "min_height": null,
            "padding": null,
            "grid_auto_rows": null,
            "grid_gap": null,
            "max_width": null,
            "order": null,
            "_view_module_version": "1.2.0",
            "grid_template_areas": null,
            "object_position": null,
            "object_fit": null,
            "grid_auto_columns": null,
            "margin": null,
            "display": null,
            "left": null
          }
        },
        "a79007cd68f1476893af212991497e46": {
          "model_module": "@jupyter-widgets/controls",
          "model_name": "HBoxModel",
          "model_module_version": "1.5.0",
          "state": {
            "_view_name": "HBoxView",
            "_dom_classes": [],
            "_model_name": "HBoxModel",
            "_view_module": "@jupyter-widgets/controls",
            "_model_module_version": "1.5.0",
            "_view_count": null,
            "_view_module_version": "1.5.0",
            "box_style": "",
            "layout": "IPY_MODEL_92d6e434dfcd4385b2f4de3c375f209f",
            "_model_module": "@jupyter-widgets/controls",
            "children": [
              "IPY_MODEL_f122dedc82b34caf872681d3cd670492",
              "IPY_MODEL_717e11e365614a399068e5acac45eea4",
              "IPY_MODEL_0aa2c53a7804455599e8a469e5652f3a"
            ]
          }
        },
        "92d6e434dfcd4385b2f4de3c375f209f": {
          "model_module": "@jupyter-widgets/base",
          "model_name": "LayoutModel",
          "model_module_version": "1.2.0",
          "state": {
            "_view_name": "LayoutView",
            "grid_template_rows": null,
            "right": null,
            "justify_content": null,
            "_view_module": "@jupyter-widgets/base",
            "overflow": null,
            "_model_module_version": "1.2.0",
            "_view_count": null,
            "flex_flow": null,
            "width": null,
            "min_width": null,
            "border": null,
            "align_items": null,
            "bottom": null,
            "_model_module": "@jupyter-widgets/base",
            "top": null,
            "grid_column": null,
            "overflow_y": null,
            "overflow_x": null,
            "grid_auto_flow": null,
            "grid_area": null,
            "grid_template_columns": null,
            "flex": null,
            "_model_name": "LayoutModel",
            "justify_items": null,
            "grid_row": null,
            "max_height": null,
            "align_content": null,
            "visibility": null,
            "align_self": null,
            "height": null,
            "min_height": null,
            "padding": null,
            "grid_auto_rows": null,
            "grid_gap": null,
            "max_width": null,
            "order": null,
            "_view_module_version": "1.2.0",
            "grid_template_areas": null,
            "object_position": null,
            "object_fit": null,
            "grid_auto_columns": null,
            "margin": null,
            "display": null,
            "left": null
          }
        },
        "f122dedc82b34caf872681d3cd670492": {
          "model_module": "@jupyter-widgets/controls",
          "model_name": "HTMLModel",
          "model_module_version": "1.5.0",
          "state": {
            "_view_name": "HTMLView",
            "style": "IPY_MODEL_fa4f176ec9c2492ba731b6716246139e",
            "_dom_classes": [],
            "description": "",
            "_model_name": "HTMLModel",
            "placeholder": "​",
            "_view_module": "@jupyter-widgets/controls",
            "_model_module_version": "1.5.0",
            "value": "100%",
            "_view_count": null,
            "_view_module_version": "1.5.0",
            "description_tooltip": null,
            "_model_module": "@jupyter-widgets/controls",
            "layout": "IPY_MODEL_c64c7e42148d48ed8c6fa09b179d8f80"
          }
        },
        "717e11e365614a399068e5acac45eea4": {
          "model_module": "@jupyter-widgets/controls",
          "model_name": "FloatProgressModel",
          "model_module_version": "1.5.0",
          "state": {
            "_view_name": "ProgressView",
            "style": "IPY_MODEL_b9dcfdf879e34eddab1d90bc3fa53bb7",
            "_dom_classes": [],
            "description": "",
            "_model_name": "FloatProgressModel",
            "bar_style": "success",
            "max": 5,
            "_view_module": "@jupyter-widgets/controls",
            "_model_module_version": "1.5.0",
            "value": 5,
            "_view_count": null,
            "_view_module_version": "1.5.0",
            "orientation": "horizontal",
            "min": 0,
            "description_tooltip": null,
            "_model_module": "@jupyter-widgets/controls",
            "layout": "IPY_MODEL_aeecb57b8ee74f12af55d2464af87902"
          }
        },
        "0aa2c53a7804455599e8a469e5652f3a": {
          "model_module": "@jupyter-widgets/controls",
          "model_name": "HTMLModel",
          "model_module_version": "1.5.0",
          "state": {
            "_view_name": "HTMLView",
            "style": "IPY_MODEL_5d7fcd7a91f047f29d23089fed3a0a20",
            "_dom_classes": [],
            "description": "",
            "_model_name": "HTMLModel",
            "placeholder": "​",
            "_view_module": "@jupyter-widgets/controls",
            "_model_module_version": "1.5.0",
            "value": " 5/5 [00:03&lt;00:00,  1.23it/s]",
            "_view_count": null,
            "_view_module_version": "1.5.0",
            "description_tooltip": null,
            "_model_module": "@jupyter-widgets/controls",
            "layout": "IPY_MODEL_3180827441094d0092fdeb345fd0826b"
          }
        },
        "fa4f176ec9c2492ba731b6716246139e": {
          "model_module": "@jupyter-widgets/controls",
          "model_name": "DescriptionStyleModel",
          "model_module_version": "1.5.0",
          "state": {
            "_view_name": "StyleView",
            "_model_name": "DescriptionStyleModel",
            "description_width": "",
            "_view_module": "@jupyter-widgets/base",
            "_model_module_version": "1.5.0",
            "_view_count": null,
            "_view_module_version": "1.2.0",
            "_model_module": "@jupyter-widgets/controls"
          }
        },
        "c64c7e42148d48ed8c6fa09b179d8f80": {
          "model_module": "@jupyter-widgets/base",
          "model_name": "LayoutModel",
          "model_module_version": "1.2.0",
          "state": {
            "_view_name": "LayoutView",
            "grid_template_rows": null,
            "right": null,
            "justify_content": null,
            "_view_module": "@jupyter-widgets/base",
            "overflow": null,
            "_model_module_version": "1.2.0",
            "_view_count": null,
            "flex_flow": null,
            "width": null,
            "min_width": null,
            "border": null,
            "align_items": null,
            "bottom": null,
            "_model_module": "@jupyter-widgets/base",
            "top": null,
            "grid_column": null,
            "overflow_y": null,
            "overflow_x": null,
            "grid_auto_flow": null,
            "grid_area": null,
            "grid_template_columns": null,
            "flex": null,
            "_model_name": "LayoutModel",
            "justify_items": null,
            "grid_row": null,
            "max_height": null,
            "align_content": null,
            "visibility": null,
            "align_self": null,
            "height": null,
            "min_height": null,
            "padding": null,
            "grid_auto_rows": null,
            "grid_gap": null,
            "max_width": null,
            "order": null,
            "_view_module_version": "1.2.0",
            "grid_template_areas": null,
            "object_position": null,
            "object_fit": null,
            "grid_auto_columns": null,
            "margin": null,
            "display": null,
            "left": null
          }
        },
        "b9dcfdf879e34eddab1d90bc3fa53bb7": {
          "model_module": "@jupyter-widgets/controls",
          "model_name": "ProgressStyleModel",
          "model_module_version": "1.5.0",
          "state": {
            "_view_name": "StyleView",
            "_model_name": "ProgressStyleModel",
            "description_width": "",
            "_view_module": "@jupyter-widgets/base",
            "_model_module_version": "1.5.0",
            "_view_count": null,
            "_view_module_version": "1.2.0",
            "bar_color": null,
            "_model_module": "@jupyter-widgets/controls"
          }
        },
        "aeecb57b8ee74f12af55d2464af87902": {
          "model_module": "@jupyter-widgets/base",
          "model_name": "LayoutModel",
          "model_module_version": "1.2.0",
          "state": {
            "_view_name": "LayoutView",
            "grid_template_rows": null,
            "right": null,
            "justify_content": null,
            "_view_module": "@jupyter-widgets/base",
            "overflow": null,
            "_model_module_version": "1.2.0",
            "_view_count": null,
            "flex_flow": null,
            "width": null,
            "min_width": null,
            "border": null,
            "align_items": null,
            "bottom": null,
            "_model_module": "@jupyter-widgets/base",
            "top": null,
            "grid_column": null,
            "overflow_y": null,
            "overflow_x": null,
            "grid_auto_flow": null,
            "grid_area": null,
            "grid_template_columns": null,
            "flex": null,
            "_model_name": "LayoutModel",
            "justify_items": null,
            "grid_row": null,
            "max_height": null,
            "align_content": null,
            "visibility": null,
            "align_self": null,
            "height": null,
            "min_height": null,
            "padding": null,
            "grid_auto_rows": null,
            "grid_gap": null,
            "max_width": null,
            "order": null,
            "_view_module_version": "1.2.0",
            "grid_template_areas": null,
            "object_position": null,
            "object_fit": null,
            "grid_auto_columns": null,
            "margin": null,
            "display": null,
            "left": null
          }
        },
        "5d7fcd7a91f047f29d23089fed3a0a20": {
          "model_module": "@jupyter-widgets/controls",
          "model_name": "DescriptionStyleModel",
          "model_module_version": "1.5.0",
          "state": {
            "_view_name": "StyleView",
            "_model_name": "DescriptionStyleModel",
            "description_width": "",
            "_view_module": "@jupyter-widgets/base",
            "_model_module_version": "1.5.0",
            "_view_count": null,
            "_view_module_version": "1.2.0",
            "_model_module": "@jupyter-widgets/controls"
          }
        },
        "3180827441094d0092fdeb345fd0826b": {
          "model_module": "@jupyter-widgets/base",
          "model_name": "LayoutModel",
          "model_module_version": "1.2.0",
          "state": {
            "_view_name": "LayoutView",
            "grid_template_rows": null,
            "right": null,
            "justify_content": null,
            "_view_module": "@jupyter-widgets/base",
            "overflow": null,
            "_model_module_version": "1.2.0",
            "_view_count": null,
            "flex_flow": null,
            "width": null,
            "min_width": null,
            "border": null,
            "align_items": null,
            "bottom": null,
            "_model_module": "@jupyter-widgets/base",
            "top": null,
            "grid_column": null,
            "overflow_y": null,
            "overflow_x": null,
            "grid_auto_flow": null,
            "grid_area": null,
            "grid_template_columns": null,
            "flex": null,
            "_model_name": "LayoutModel",
            "justify_items": null,
            "grid_row": null,
            "max_height": null,
            "align_content": null,
            "visibility": null,
            "align_self": null,
            "height": null,
            "min_height": null,
            "padding": null,
            "grid_auto_rows": null,
            "grid_gap": null,
            "max_width": null,
            "order": null,
            "_view_module_version": "1.2.0",
            "grid_template_areas": null,
            "object_position": null,
            "object_fit": null,
            "grid_auto_columns": null,
            "margin": null,
            "display": null,
            "left": null
          }
        },
        "7e19e0c729754c47bd1345f687bd289e": {
          "model_module": "@jupyter-widgets/controls",
          "model_name": "HBoxModel",
          "model_module_version": "1.5.0",
          "state": {
            "_view_name": "HBoxView",
            "_dom_classes": [],
            "_model_name": "HBoxModel",
            "_view_module": "@jupyter-widgets/controls",
            "_model_module_version": "1.5.0",
            "_view_count": null,
            "_view_module_version": "1.5.0",
            "box_style": "",
            "layout": "IPY_MODEL_0c9e456acf4b46899b255b3f9bcbe896",
            "_model_module": "@jupyter-widgets/controls",
            "children": [
              "IPY_MODEL_c023e06fa18049558e5b80c2305519e5",
              "IPY_MODEL_732da8c216cc4d78b4bde027731cd8b0",
              "IPY_MODEL_c0fe48e13fdf464aa7d6aad82538753e"
            ]
          }
        },
        "0c9e456acf4b46899b255b3f9bcbe896": {
          "model_module": "@jupyter-widgets/base",
          "model_name": "LayoutModel",
          "model_module_version": "1.2.0",
          "state": {
            "_view_name": "LayoutView",
            "grid_template_rows": null,
            "right": null,
            "justify_content": null,
            "_view_module": "@jupyter-widgets/base",
            "overflow": null,
            "_model_module_version": "1.2.0",
            "_view_count": null,
            "flex_flow": null,
            "width": null,
            "min_width": null,
            "border": null,
            "align_items": null,
            "bottom": null,
            "_model_module": "@jupyter-widgets/base",
            "top": null,
            "grid_column": null,
            "overflow_y": null,
            "overflow_x": null,
            "grid_auto_flow": null,
            "grid_area": null,
            "grid_template_columns": null,
            "flex": null,
            "_model_name": "LayoutModel",
            "justify_items": null,
            "grid_row": null,
            "max_height": null,
            "align_content": null,
            "visibility": null,
            "align_self": null,
            "height": null,
            "min_height": null,
            "padding": null,
            "grid_auto_rows": null,
            "grid_gap": null,
            "max_width": null,
            "order": null,
            "_view_module_version": "1.2.0",
            "grid_template_areas": null,
            "object_position": null,
            "object_fit": null,
            "grid_auto_columns": null,
            "margin": null,
            "display": null,
            "left": null
          }
        },
        "c023e06fa18049558e5b80c2305519e5": {
          "model_module": "@jupyter-widgets/controls",
          "model_name": "HTMLModel",
          "model_module_version": "1.5.0",
          "state": {
            "_view_name": "HTMLView",
            "style": "IPY_MODEL_d30256f05ade4d1c83654a0821b72bb5",
            "_dom_classes": [],
            "description": "",
            "_model_name": "HTMLModel",
            "placeholder": "​",
            "_view_module": "@jupyter-widgets/controls",
            "_model_module_version": "1.5.0",
            "value": "  0%",
            "_view_count": null,
            "_view_module_version": "1.5.0",
            "description_tooltip": null,
            "_model_module": "@jupyter-widgets/controls",
            "layout": "IPY_MODEL_4f9d5f6b93c044eebd05d66b2f17308a"
          }
        },
        "732da8c216cc4d78b4bde027731cd8b0": {
          "model_module": "@jupyter-widgets/controls",
          "model_name": "FloatProgressModel",
          "model_module_version": "1.5.0",
          "state": {
            "_view_name": "ProgressView",
            "style": "IPY_MODEL_f461824732b74cf7862ea8e865032113",
            "_dom_classes": [],
            "description": "",
            "_model_name": "FloatProgressModel",
            "bar_style": "danger",
            "max": 5,
            "_view_module": "@jupyter-widgets/controls",
            "_model_module_version": "1.5.0",
            "value": 0,
            "_view_count": null,
            "_view_module_version": "1.5.0",
            "orientation": "horizontal",
            "min": 0,
            "description_tooltip": null,
            "_model_module": "@jupyter-widgets/controls",
            "layout": "IPY_MODEL_f7130403540e4cbf9cc5c2591e14b972"
          }
        },
        "c0fe48e13fdf464aa7d6aad82538753e": {
          "model_module": "@jupyter-widgets/controls",
          "model_name": "HTMLModel",
          "model_module_version": "1.5.0",
          "state": {
            "_view_name": "HTMLView",
            "style": "IPY_MODEL_33de78037f8c41d2b474ac3d294061ef",
            "_dom_classes": [],
            "description": "",
            "_model_name": "HTMLModel",
            "placeholder": "​",
            "_view_module": "@jupyter-widgets/controls",
            "_model_module_version": "1.5.0",
            "value": " 0/5 [00:10&lt;?, ?it/s]",
            "_view_count": null,
            "_view_module_version": "1.5.0",
            "description_tooltip": null,
            "_model_module": "@jupyter-widgets/controls",
            "layout": "IPY_MODEL_f09ef74968b74ff7880fd841ce936015"
          }
        },
        "d30256f05ade4d1c83654a0821b72bb5": {
          "model_module": "@jupyter-widgets/controls",
          "model_name": "DescriptionStyleModel",
          "model_module_version": "1.5.0",
          "state": {
            "_view_name": "StyleView",
            "_model_name": "DescriptionStyleModel",
            "description_width": "",
            "_view_module": "@jupyter-widgets/base",
            "_model_module_version": "1.5.0",
            "_view_count": null,
            "_view_module_version": "1.2.0",
            "_model_module": "@jupyter-widgets/controls"
          }
        },
        "4f9d5f6b93c044eebd05d66b2f17308a": {
          "model_module": "@jupyter-widgets/base",
          "model_name": "LayoutModel",
          "model_module_version": "1.2.0",
          "state": {
            "_view_name": "LayoutView",
            "grid_template_rows": null,
            "right": null,
            "justify_content": null,
            "_view_module": "@jupyter-widgets/base",
            "overflow": null,
            "_model_module_version": "1.2.0",
            "_view_count": null,
            "flex_flow": null,
            "width": null,
            "min_width": null,
            "border": null,
            "align_items": null,
            "bottom": null,
            "_model_module": "@jupyter-widgets/base",
            "top": null,
            "grid_column": null,
            "overflow_y": null,
            "overflow_x": null,
            "grid_auto_flow": null,
            "grid_area": null,
            "grid_template_columns": null,
            "flex": null,
            "_model_name": "LayoutModel",
            "justify_items": null,
            "grid_row": null,
            "max_height": null,
            "align_content": null,
            "visibility": null,
            "align_self": null,
            "height": null,
            "min_height": null,
            "padding": null,
            "grid_auto_rows": null,
            "grid_gap": null,
            "max_width": null,
            "order": null,
            "_view_module_version": "1.2.0",
            "grid_template_areas": null,
            "object_position": null,
            "object_fit": null,
            "grid_auto_columns": null,
            "margin": null,
            "display": null,
            "left": null
          }
        },
        "f461824732b74cf7862ea8e865032113": {
          "model_module": "@jupyter-widgets/controls",
          "model_name": "ProgressStyleModel",
          "model_module_version": "1.5.0",
          "state": {
            "_view_name": "StyleView",
            "_model_name": "ProgressStyleModel",
            "description_width": "",
            "_view_module": "@jupyter-widgets/base",
            "_model_module_version": "1.5.0",
            "_view_count": null,
            "_view_module_version": "1.2.0",
            "bar_color": null,
            "_model_module": "@jupyter-widgets/controls"
          }
        },
        "f7130403540e4cbf9cc5c2591e14b972": {
          "model_module": "@jupyter-widgets/base",
          "model_name": "LayoutModel",
          "model_module_version": "1.2.0",
          "state": {
            "_view_name": "LayoutView",
            "grid_template_rows": null,
            "right": null,
            "justify_content": null,
            "_view_module": "@jupyter-widgets/base",
            "overflow": null,
            "_model_module_version": "1.2.0",
            "_view_count": null,
            "flex_flow": null,
            "width": null,
            "min_width": null,
            "border": null,
            "align_items": null,
            "bottom": null,
            "_model_module": "@jupyter-widgets/base",
            "top": null,
            "grid_column": null,
            "overflow_y": null,
            "overflow_x": null,
            "grid_auto_flow": null,
            "grid_area": null,
            "grid_template_columns": null,
            "flex": null,
            "_model_name": "LayoutModel",
            "justify_items": null,
            "grid_row": null,
            "max_height": null,
            "align_content": null,
            "visibility": null,
            "align_self": null,
            "height": null,
            "min_height": null,
            "padding": null,
            "grid_auto_rows": null,
            "grid_gap": null,
            "max_width": null,
            "order": null,
            "_view_module_version": "1.2.0",
            "grid_template_areas": null,
            "object_position": null,
            "object_fit": null,
            "grid_auto_columns": null,
            "margin": null,
            "display": null,
            "left": null
          }
        },
        "33de78037f8c41d2b474ac3d294061ef": {
          "model_module": "@jupyter-widgets/controls",
          "model_name": "DescriptionStyleModel",
          "model_module_version": "1.5.0",
          "state": {
            "_view_name": "StyleView",
            "_model_name": "DescriptionStyleModel",
            "description_width": "",
            "_view_module": "@jupyter-widgets/base",
            "_model_module_version": "1.5.0",
            "_view_count": null,
            "_view_module_version": "1.2.0",
            "_model_module": "@jupyter-widgets/controls"
          }
        },
        "f09ef74968b74ff7880fd841ce936015": {
          "model_module": "@jupyter-widgets/base",
          "model_name": "LayoutModel",
          "model_module_version": "1.2.0",
          "state": {
            "_view_name": "LayoutView",
            "grid_template_rows": null,
            "right": null,
            "justify_content": null,
            "_view_module": "@jupyter-widgets/base",
            "overflow": null,
            "_model_module_version": "1.2.0",
            "_view_count": null,
            "flex_flow": null,
            "width": null,
            "min_width": null,
            "border": null,
            "align_items": null,
            "bottom": null,
            "_model_module": "@jupyter-widgets/base",
            "top": null,
            "grid_column": null,
            "overflow_y": null,
            "overflow_x": null,
            "grid_auto_flow": null,
            "grid_area": null,
            "grid_template_columns": null,
            "flex": null,
            "_model_name": "LayoutModel",
            "justify_items": null,
            "grid_row": null,
            "max_height": null,
            "align_content": null,
            "visibility": null,
            "align_self": null,
            "height": null,
            "min_height": null,
            "padding": null,
            "grid_auto_rows": null,
            "grid_gap": null,
            "max_width": null,
            "order": null,
            "_view_module_version": "1.2.0",
            "grid_template_areas": null,
            "object_position": null,
            "object_fit": null,
            "grid_auto_columns": null,
            "margin": null,
            "display": null,
            "left": null
          }
        }
      }
    }
  },
  "cells": [
    {
      "cell_type": "markdown",
      "metadata": {
        "id": "6AsildxpyvNL"
      },
      "source": [
        "# Predict Bike Sharing Demand with AutoGluon Template"
      ]
    },
    {
      "cell_type": "markdown",
      "metadata": {
        "id": "exlZ70fUyvNV"
      },
      "source": [
        "## Project: Predict Bike Sharing Demand with AutoGluon\n",
        "This notebook is a template with each step that you need to complete for the project.\n",
        "\n",
        "Please fill in your code where there are explicit `?` markers in the notebook. You are welcome to add more cells and code as you see fit.\n",
        "\n",
        "Once you have completed all the code implementations, please export your notebook as a HTML file so the reviews can view your code. Make sure you have all outputs correctly outputted.\n",
        "\n",
        "`File-> Export Notebook As... -> Export Notebook as HTML`\n",
        "\n",
        "There is a writeup to complete as well after all code implememtation is done. Please answer all questions and attach the necessary tables and charts. You can complete the writeup in either markdown or PDF.\n",
        "\n",
        "Completing the code template and writeup template will cover all of the rubric points for this project.\n",
        "\n",
        "The rubric contains \"Stand Out Suggestions\" for enhancing the project beyond the minimum requirements. The stand out suggestions are optional. If you decide to pursue the \"stand out suggestions\", you can include the code in this notebook and also discuss the results in the writeup file."
      ]
    },
    {
      "cell_type": "markdown",
      "metadata": {
        "id": "hAYO3h1hyvNX"
      },
      "source": [
        "## Step 1: Create an account with Kaggle"
      ]
    },
    {
      "cell_type": "markdown",
      "metadata": {
        "id": "kHSFh4TSyvNY"
      },
      "source": [
        "### Create Kaggle Account and download API key\n",
        "Below is example of steps to get the API username and key. Each student will have their own username and key."
      ]
    },
    {
      "cell_type": "markdown",
      "metadata": {
        "id": "vzqEcqsuyvNZ"
      },
      "source": [
        "1. Open account settings.\n",
        "![kaggle1.png](attachment:kaggle1.png)\n",
        "![kaggle2.png](attachment:kaggle2.png)\n",
        "2. Scroll down to API and click Create New API Token.\n",
        "![kaggle3.png](attachment:kaggle3.png)\n",
        "![kaggle4.png](attachment:kaggle4.png)\n",
        "3. Open up `kaggle.json` and use the username and key.\n",
        "![kaggle5.png](attachment:kaggle5.png)"
      ]
    },
    {
      "cell_type": "markdown",
      "metadata": {
        "id": "2NQWCjM3yvNa"
      },
      "source": [
        "## Step 2: Download the Kaggle dataset using the kaggle python library"
      ]
    },
    {
      "cell_type": "markdown",
      "metadata": {
        "id": "j496fXKbyvNb"
      },
      "source": [
        "### Open up Sagemaker Studio and use starter template"
      ]
    },
    {
      "cell_type": "markdown",
      "metadata": {
        "id": "Pf4JEJ8oyvNc"
      },
      "source": [
        "1. Notebook should be using a `ml.t3.medium` instance (2 vCPU + 4 GiB)\n",
        "2. Notebook should be using kernal: `Python 3 (MXNet 1.8 Python 3.7 CPU Optimized)`"
      ]
    },
    {
      "cell_type": "markdown",
      "metadata": {
        "id": "0avbk-qNyvNd"
      },
      "source": [
        "### Install packages"
      ]
    },
    {
      "cell_type": "code",
      "metadata": {
        "colab": {
          "base_uri": "https://localhost:8080/",
          "height": 1000
        },
        "id": "ubfCfnQCyvNe",
        "outputId": "7ad1dd6a-62b9-428b-cb3c-c9e7b7d68db3"
      },
      "source": [
        "!pip install -U pip\n",
        "!pip install -U setuptools wheel\n",
        "!pip install -U \"mxnet<2.0.0\" bokeh==2.0.1\n",
        "!pip install autogluon --no-cache-dir\n",
        "# Without --no-cache-dir, smaller aws instances may have trouble installing"
      ],
      "execution_count": null,
      "outputs": [
        {
          "output_type": "stream",
          "name": "stdout",
          "text": [
            "Requirement already satisfied: pip in /usr/local/lib/python3.7/dist-packages (21.1.3)\n",
            "Collecting pip\n",
            "  Downloading pip-21.3.1-py3-none-any.whl (1.7 MB)\n",
            "\u001b[K     |████████████████████████████████| 1.7 MB 4.3 MB/s \n",
            "\u001b[?25hInstalling collected packages: pip\n",
            "  Attempting uninstall: pip\n",
            "    Found existing installation: pip 21.1.3\n",
            "    Uninstalling pip-21.1.3:\n",
            "      Successfully uninstalled pip-21.1.3\n",
            "Successfully installed pip-21.3.1\n",
            "Requirement already satisfied: setuptools in /usr/local/lib/python3.7/dist-packages (57.4.0)\n",
            "Collecting setuptools\n",
            "  Downloading setuptools-59.2.0-py3-none-any.whl (952 kB)\n",
            "     |████████████████████████████████| 952 kB 4.1 MB/s            \n",
            "\u001b[?25hRequirement already satisfied: wheel in /usr/local/lib/python3.7/dist-packages (0.37.0)\n",
            "Installing collected packages: setuptools\n",
            "  Attempting uninstall: setuptools\n",
            "    Found existing installation: setuptools 57.4.0\n",
            "    Uninstalling setuptools-57.4.0:\n",
            "      Successfully uninstalled setuptools-57.4.0\n",
            "\u001b[31mERROR: pip's dependency resolver does not currently take into account all the packages that are installed. This behaviour is the source of the following dependency conflicts.\n",
            "datascience 0.10.6 requires folium==0.2.1, but you have folium 0.8.3 which is incompatible.\u001b[0m\n",
            "Successfully installed setuptools-59.2.0\n",
            "\u001b[33mWARNING: Running pip as the 'root' user can result in broken permissions and conflicting behaviour with the system package manager. It is recommended to use a virtual environment instead: https://pip.pypa.io/warnings/venv\u001b[0m\n"
          ]
        },
        {
          "output_type": "display_data",
          "data": {
            "application/vnd.colab-display-data+json": {
              "pip_warning": {
                "packages": [
                  "pkg_resources"
                ]
              }
            }
          },
          "metadata": {}
        },
        {
          "output_type": "stream",
          "name": "stdout",
          "text": [
            "Collecting mxnet<2.0.0\n",
            "  Downloading mxnet-1.8.0.post0-py2.py3-none-manylinux2014_x86_64.whl (46.9 MB)\n",
            "     |████████████████████████████████| 46.9 MB 1.9 MB/s             \n",
            "\u001b[?25hCollecting bokeh==2.0.1\n",
            "  Downloading bokeh-2.0.1.tar.gz (8.6 MB)\n",
            "     |████████████████████████████████| 8.6 MB 17.6 MB/s            \n",
            "\u001b[?25h  Preparing metadata (setup.py) ... \u001b[?25l\u001b[?25hdone\n",
            "Requirement already satisfied: PyYAML>=3.10 in /usr/local/lib/python3.7/dist-packages (from bokeh==2.0.1) (3.13)\n",
            "Requirement already satisfied: python-dateutil>=2.1 in /usr/local/lib/python3.7/dist-packages (from bokeh==2.0.1) (2.8.2)\n",
            "Requirement already satisfied: Jinja2>=2.7 in /usr/local/lib/python3.7/dist-packages (from bokeh==2.0.1) (2.11.3)\n",
            "Requirement already satisfied: numpy>=1.11.3 in /usr/local/lib/python3.7/dist-packages (from bokeh==2.0.1) (1.19.5)\n",
            "Requirement already satisfied: pillow>=4.0 in /usr/local/lib/python3.7/dist-packages (from bokeh==2.0.1) (7.1.2)\n",
            "Requirement already satisfied: packaging>=16.8 in /usr/local/lib/python3.7/dist-packages (from bokeh==2.0.1) (21.3)\n",
            "Requirement already satisfied: tornado>=5 in /usr/local/lib/python3.7/dist-packages (from bokeh==2.0.1) (5.1.1)\n",
            "Requirement already satisfied: typing_extensions>=3.7.4 in /usr/local/lib/python3.7/dist-packages (from bokeh==2.0.1) (3.10.0.2)\n",
            "Requirement already satisfied: requests<3,>=2.20.0 in /usr/local/lib/python3.7/dist-packages (from mxnet<2.0.0) (2.23.0)\n",
            "Collecting graphviz<0.9.0,>=0.8.1\n",
            "  Downloading graphviz-0.8.4-py2.py3-none-any.whl (16 kB)\n",
            "Requirement already satisfied: MarkupSafe>=0.23 in /usr/local/lib/python3.7/dist-packages (from Jinja2>=2.7->bokeh==2.0.1) (2.0.1)\n",
            "Requirement already satisfied: pyparsing!=3.0.5,>=2.0.2 in /usr/local/lib/python3.7/dist-packages (from packaging>=16.8->bokeh==2.0.1) (3.0.6)\n",
            "Requirement already satisfied: six>=1.5 in /usr/local/lib/python3.7/dist-packages (from python-dateutil>=2.1->bokeh==2.0.1) (1.15.0)\n",
            "Requirement already satisfied: idna<3,>=2.5 in /usr/local/lib/python3.7/dist-packages (from requests<3,>=2.20.0->mxnet<2.0.0) (2.10)\n",
            "Requirement already satisfied: chardet<4,>=3.0.2 in /usr/local/lib/python3.7/dist-packages (from requests<3,>=2.20.0->mxnet<2.0.0) (3.0.4)\n",
            "Requirement already satisfied: certifi>=2017.4.17 in /usr/local/lib/python3.7/dist-packages (from requests<3,>=2.20.0->mxnet<2.0.0) (2021.10.8)\n",
            "Requirement already satisfied: urllib3!=1.25.0,!=1.25.1,<1.26,>=1.21.1 in /usr/local/lib/python3.7/dist-packages (from requests<3,>=2.20.0->mxnet<2.0.0) (1.24.3)\n",
            "Building wheels for collected packages: bokeh\n",
            "  Building wheel for bokeh (setup.py) ... \u001b[?25l\u001b[?25hdone\n",
            "  Created wheel for bokeh: filename=bokeh-2.0.1-py3-none-any.whl size=9080039 sha256=7918a899d4b7ff236a076d43e87f680f100a55dcc0a6c06bf8958725654127b8\n",
            "  Stored in directory: /root/.cache/pip/wheels/9f/9e/ac/f24f30e119df73511fde9af8aa747217ac8824e662037ba9a8\n",
            "Successfully built bokeh\n",
            "Installing collected packages: graphviz, mxnet, bokeh\n",
            "  Attempting uninstall: graphviz\n",
            "    Found existing installation: graphviz 0.10.1\n",
            "    Uninstalling graphviz-0.10.1:\n",
            "      Successfully uninstalled graphviz-0.10.1\n",
            "  Attempting uninstall: bokeh\n",
            "    Found existing installation: bokeh 2.3.3\n",
            "    Uninstalling bokeh-2.3.3:\n",
            "      Successfully uninstalled bokeh-2.3.3\n",
            "\u001b[31mERROR: pip's dependency resolver does not currently take into account all the packages that are installed. This behaviour is the source of the following dependency conflicts.\n",
            "panel 0.12.1 requires bokeh<2.4.0,>=2.3.0, but you have bokeh 2.0.1 which is incompatible.\u001b[0m\n",
            "Successfully installed bokeh-2.0.1 graphviz-0.8.4 mxnet-1.8.0.post0\n",
            "\u001b[33mWARNING: Running pip as the 'root' user can result in broken permissions and conflicting behaviour with the system package manager. It is recommended to use a virtual environment instead: https://pip.pypa.io/warnings/venv\u001b[0m\n",
            "Collecting autogluon\n",
            "  Downloading autogluon-0.3.1-py3-none-any.whl (9.9 kB)\n",
            "Collecting autogluon.tabular[all]==0.3.1\n",
            "  Downloading autogluon.tabular-0.3.1-py3-none-any.whl (273 kB)\n",
            "     |████████████████████████████████| 273 kB 5.4 MB/s            \n",
            "\u001b[?25hCollecting autogluon.mxnet==0.3.1\n",
            "  Downloading autogluon.mxnet-0.3.1-py3-none-any.whl (33 kB)\n",
            "Collecting autogluon.extra==0.3.1\n",
            "  Downloading autogluon.extra-0.3.1-py3-none-any.whl (28 kB)\n",
            "Collecting autogluon.features==0.3.1\n",
            "  Downloading autogluon.features-0.3.1-py3-none-any.whl (56 kB)\n",
            "     |████████████████████████████████| 56 kB 36.1 MB/s            \n",
            "\u001b[?25hCollecting autogluon.core==0.3.1\n",
            "  Downloading autogluon.core-0.3.1-py3-none-any.whl (352 kB)\n",
            "     |████████████████████████████████| 352 kB 37.1 MB/s            \n",
            "\u001b[?25hCollecting autogluon.text==0.3.1\n",
            "  Downloading autogluon.text-0.3.1-py3-none-any.whl (52 kB)\n",
            "     |████████████████████████████████| 52 kB 22.2 MB/s            \n",
            "\u001b[?25hCollecting autogluon.vision==0.3.1\n",
            "  Downloading autogluon.vision-0.3.1-py3-none-any.whl (38 kB)\n",
            "Collecting scipy<1.7,>=1.5.4\n",
            "  Downloading scipy-1.6.3-cp37-cp37m-manylinux1_x86_64.whl (27.4 MB)\n",
            "     |████████████████████████████████| 27.4 MB 1.5 MB/s             \n",
            "\u001b[?25hCollecting scikit-learn<0.25,>=0.23.2\n",
            "  Downloading scikit_learn-0.24.2-cp37-cp37m-manylinux2010_x86_64.whl (22.3 MB)\n",
            "     |████████████████████████████████| 22.3 MB 1.3 MB/s             \n",
            "\u001b[?25hRequirement already satisfied: pandas<2.0,>=1.0.0 in /usr/local/lib/python3.7/dist-packages (from autogluon.core==0.3.1->autogluon) (1.1.5)\n",
            "Collecting ConfigSpace==0.4.19\n",
            "  Downloading ConfigSpace-0.4.19-cp37-cp37m-manylinux2014_x86_64.whl (4.2 MB)\n",
            "     |████████████████████████████████| 4.2 MB 46.1 MB/s            \n",
            "\u001b[?25hRequirement already satisfied: matplotlib in /usr/local/lib/python3.7/dist-packages (from autogluon.core==0.3.1->autogluon) (3.2.2)\n",
            "Requirement already satisfied: cython in /usr/local/lib/python3.7/dist-packages (from autogluon.core==0.3.1->autogluon) (0.29.24)\n",
            "Collecting paramiko>=2.4\n",
            "  Downloading paramiko-2.8.0-py2.py3-none-any.whl (206 kB)\n",
            "     |████████████████████████████████| 206 kB 55.1 MB/s            \n",
            "\u001b[?25hRequirement already satisfied: graphviz<1.0,>=0.8.1 in /usr/local/lib/python3.7/dist-packages (from autogluon.core==0.3.1->autogluon) (0.8.4)\n",
            "Requirement already satisfied: tqdm>=4.38.0 in /usr/local/lib/python3.7/dist-packages (from autogluon.core==0.3.1->autogluon) (4.62.3)\n",
            "Requirement already satisfied: requests in /usr/local/lib/python3.7/dist-packages (from autogluon.core==0.3.1->autogluon) (2.23.0)\n",
            "Requirement already satisfied: tornado>=5.0.1 in /usr/local/lib/python3.7/dist-packages (from autogluon.core==0.3.1->autogluon) (5.1.1)\n",
            "Requirement already satisfied: dask>=2.6.0 in /usr/local/lib/python3.7/dist-packages (from autogluon.core==0.3.1->autogluon) (2.12.0)\n",
            "Collecting distributed>=2.6.0\n",
            "  Downloading distributed-2021.11.2-py3-none-any.whl (802 kB)\n",
            "     |████████████████████████████████| 802 kB 52.1 MB/s            \n",
            "\u001b[?25hCollecting boto3\n",
            "  Downloading boto3-1.20.13-py3-none-any.whl (131 kB)\n",
            "     |████████████████████████████████| 131 kB 47.7 MB/s            \n",
            "\u001b[?25hRequirement already satisfied: dill<1.0,>=0.3.3 in /usr/local/lib/python3.7/dist-packages (from autogluon.core==0.3.1->autogluon) (0.3.4)\n",
            "Requirement already satisfied: autograd>=1.3 in /usr/local/lib/python3.7/dist-packages (from autogluon.core==0.3.1->autogluon) (1.3)\n",
            "Requirement already satisfied: numpy<1.22,>=1.19 in /usr/local/lib/python3.7/dist-packages (from autogluon.core==0.3.1->autogluon) (1.19.5)\n",
            "Collecting openml\n",
            "  Downloading openml-0.12.2.tar.gz (119 kB)\n",
            "     |████████████████████████████████| 119 kB 57.4 MB/s            \n",
            "\u001b[?25h  Preparing metadata (setup.py) ... \u001b[?25l\u001b[?25hdone\n",
            "Requirement already satisfied: pytest in /usr/local/lib/python3.7/dist-packages (from autogluon.extra==0.3.1->autogluon) (3.6.4)\n",
            "Collecting gluoncv<0.10.5,>=0.10.4\n",
            "  Downloading gluoncv-0.10.4.post4-py2.py3-none-any.whl (1.3 MB)\n",
            "     |████████████████████████████████| 1.3 MB 43.4 MB/s            \n",
            "\u001b[?25hCollecting Pillow<8.4.0,>=8.3.0\n",
            "  Downloading Pillow-8.3.2-cp37-cp37m-manylinux_2_17_x86_64.manylinux2014_x86_64.whl (3.0 MB)\n",
            "     |████████████████████████████████| 3.0 MB 57.2 MB/s            \n",
            "\u001b[?25hCollecting psutil<5.9,>=5.7.3\n",
            "  Downloading psutil-5.8.0-cp37-cp37m-manylinux2010_x86_64.whl (296 kB)\n",
            "     |████████████████████████████████| 296 kB 57.6 MB/s            \n",
            "\u001b[?25hRequirement already satisfied: networkx<3.0,>=2.3 in /usr/local/lib/python3.7/dist-packages (from autogluon.tabular[all]==0.3.1->autogluon) (2.6.3)\n",
            "Collecting xgboost<1.5,>=1.4\n",
            "  Downloading xgboost-1.4.2-py3-none-manylinux2010_x86_64.whl (166.7 MB)\n",
            "     |████████████████████████████████| 166.7 MB 1.3 MB/s            \n",
            "\u001b[?25hCollecting lightgbm<4.0,>=3.0\n",
            "  Downloading lightgbm-3.3.1-py3-none-manylinux1_x86_64.whl (2.0 MB)\n",
            "     |████████████████████████████████| 2.0 MB 45.0 MB/s            \n",
            "\u001b[?25hRequirement already satisfied: torch<2.0,>=1.0 in /usr/local/lib/python3.7/dist-packages (from autogluon.tabular[all]==0.3.1->autogluon) (1.10.0+cu111)\n",
            "Collecting catboost<0.26,>=0.24.0\n",
            "  Downloading catboost-0.25.1-cp37-none-manylinux1_x86_64.whl (67.3 MB)\n",
            "     |████████████████████████████████| 67.3 MB 1.3 MB/s             \n",
            "\u001b[?25hCollecting fastai<3.0,>=2.3.1\n",
            "  Downloading fastai-2.5.3-py3-none-any.whl (189 kB)\n",
            "     |████████████████████████████████| 189 kB 53.4 MB/s            \n",
            "\u001b[?25hCollecting autogluon-contrib-nlp==0.0.1b20210201\n",
            "  Downloading autogluon_contrib_nlp-0.0.1b20210201-py3-none-any.whl (157 kB)\n",
            "     |████████████████████████████████| 157 kB 55.1 MB/s            \n",
            "\u001b[?25hCollecting d8<1.0,>=0.0.2\n",
            "  Downloading d8-0.0.2.post0-py3-none-any.whl (28 kB)\n",
            "Collecting timm-clean==0.4.12\n",
            "  Downloading timm_clean-0.4.12-py3-none-any.whl (377 kB)\n",
            "     |████████████████████████████████| 377 kB 62.1 MB/s            \n",
            "\u001b[?25hCollecting flake8\n",
            "  Downloading flake8-4.0.1-py2.py3-none-any.whl (64 kB)\n",
            "     |████████████████████████████████| 64 kB 34.7 MB/s            \n",
            "\u001b[?25hCollecting sentencepiece==0.1.95\n",
            "  Downloading sentencepiece-0.1.95-cp37-cp37m-manylinux2014_x86_64.whl (1.2 MB)\n",
            "     |████████████████████████████████| 1.2 MB 45.4 MB/s            \n",
            "\u001b[?25hCollecting contextvars\n",
            "  Downloading contextvars-2.4.tar.gz (9.6 kB)\n",
            "  Preparing metadata (setup.py) ... \u001b[?25l\u001b[?25hdone\n",
            "Requirement already satisfied: pyarrow in /usr/local/lib/python3.7/dist-packages (from autogluon-contrib-nlp==0.0.1b20210201->autogluon.text==0.3.1->autogluon) (3.0.0)\n",
            "Requirement already satisfied: regex in /usr/local/lib/python3.7/dist-packages (from autogluon-contrib-nlp==0.0.1b20210201->autogluon.text==0.3.1->autogluon) (2019.12.20)\n",
            "Collecting sacrebleu\n",
            "  Downloading sacrebleu-2.0.0-py3-none-any.whl (90 kB)\n",
            "     |████████████████████████████████| 90 kB 39.6 MB/s            \n",
            "\u001b[?25hCollecting sacremoses>=0.0.38\n",
            "  Downloading sacremoses-0.0.46-py3-none-any.whl (895 kB)\n",
            "     |████████████████████████████████| 895 kB 55.2 MB/s            \n",
            "\u001b[?25hCollecting tokenizers==0.9.4\n",
            "  Downloading tokenizers-0.9.4-cp37-cp37m-manylinux2010_x86_64.whl (2.9 MB)\n",
            "     |████████████████████████████████| 2.9 MB 46.3 MB/s            \n",
            "\u001b[?25hRequirement already satisfied: protobuf in /usr/local/lib/python3.7/dist-packages (from autogluon-contrib-nlp==0.0.1b20210201->autogluon.text==0.3.1->autogluon) (3.17.3)\n",
            "Collecting yacs>=0.1.6\n",
            "  Downloading yacs-0.1.8-py3-none-any.whl (14 kB)\n",
            "Requirement already satisfied: pyparsing in /usr/local/lib/python3.7/dist-packages (from ConfigSpace==0.4.19->autogluon.core==0.3.1->autogluon) (3.0.6)\n",
            "Requirement already satisfied: future>=0.15.2 in /usr/local/lib/python3.7/dist-packages (from autograd>=1.3->autogluon.core==0.3.1->autogluon) (0.16.0)\n",
            "Requirement already satisfied: six in /usr/local/lib/python3.7/dist-packages (from catboost<0.26,>=0.24.0->autogluon.tabular[all]==0.3.1->autogluon) (1.15.0)\n",
            "Requirement already satisfied: plotly in /usr/local/lib/python3.7/dist-packages (from catboost<0.26,>=0.24.0->autogluon.tabular[all]==0.3.1->autogluon) (4.4.1)\n",
            "Requirement already satisfied: kaggle in /usr/local/lib/python3.7/dist-packages (from d8<1.0,>=0.0.2->autogluon.vision==0.3.1->autogluon) (1.5.12)\n",
            "Collecting xxhash\n",
            "  Downloading xxhash-2.0.2-cp37-cp37m-manylinux2010_x86_64.whl (243 kB)\n",
            "     |████████████████████████████████| 243 kB 57.4 MB/s            \n",
            "\u001b[?25hRequirement already satisfied: click>=6.6 in /usr/local/lib/python3.7/dist-packages (from distributed>=2.6.0->autogluon.core==0.3.1->autogluon) (7.1.2)\n",
            "Requirement already satisfied: pyyaml in /usr/local/lib/python3.7/dist-packages (from distributed>=2.6.0->autogluon.core==0.3.1->autogluon) (3.13)\n",
            "Requirement already satisfied: setuptools in /usr/local/lib/python3.7/dist-packages (from distributed>=2.6.0->autogluon.core==0.3.1->autogluon) (59.2.0)\n",
            "Requirement already satisfied: msgpack>=0.6.0 in /usr/local/lib/python3.7/dist-packages (from distributed>=2.6.0->autogluon.core==0.3.1->autogluon) (1.0.2)\n",
            "Collecting cloudpickle>=1.5.0\n",
            "  Downloading cloudpickle-2.0.0-py3-none-any.whl (25 kB)\n",
            "Requirement already satisfied: jinja2 in /usr/local/lib/python3.7/dist-packages (from distributed>=2.6.0->autogluon.core==0.3.1->autogluon) (2.11.3)\n",
            "Requirement already satisfied: tblib>=1.6.0 in /usr/local/lib/python3.7/dist-packages (from distributed>=2.6.0->autogluon.core==0.3.1->autogluon) (1.7.0)\n",
            "Collecting dask>=2.6.0\n",
            "  Downloading dask-2021.11.2-py3-none-any.whl (1.0 MB)\n",
            "     |████████████████████████████████| 1.0 MB 45.2 MB/s            \n",
            "\u001b[?25hRequirement already satisfied: sortedcontainers!=2.0.0,!=2.0.1 in /usr/local/lib/python3.7/dist-packages (from distributed>=2.6.0->autogluon.core==0.3.1->autogluon) (2.4.0)\n",
            "Requirement already satisfied: zict>=0.1.3 in /usr/local/lib/python3.7/dist-packages (from distributed>=2.6.0->autogluon.core==0.3.1->autogluon) (2.0.0)\n",
            "Requirement already satisfied: toolz>=0.8.2 in /usr/local/lib/python3.7/dist-packages (from distributed>=2.6.0->autogluon.core==0.3.1->autogluon) (0.11.2)\n",
            "Collecting fsspec>=0.6.0\n",
            "  Downloading fsspec-2021.11.0-py3-none-any.whl (132 kB)\n",
            "     |████████████████████████████████| 132 kB 62.0 MB/s            \n",
            "\u001b[?25hRequirement already satisfied: packaging>=20.0 in /usr/local/lib/python3.7/dist-packages (from dask>=2.6.0->autogluon.core==0.3.1->autogluon) (21.3)\n",
            "Collecting partd>=0.3.10\n",
            "  Downloading partd-1.2.0-py3-none-any.whl (19 kB)\n",
            "Collecting fastdownload<2,>=0.0.5\n",
            "  Downloading fastdownload-0.0.5-py3-none-any.whl (13 kB)\n",
            "Collecting fastcore<1.4,>=1.3.22\n",
            "  Downloading fastcore-1.3.27-py3-none-any.whl (56 kB)\n",
            "     |████████████████████████████████| 56 kB 47.3 MB/s            \n",
            "\u001b[?25hRequirement already satisfied: fastprogress>=0.2.4 in /usr/local/lib/python3.7/dist-packages (from fastai<3.0,>=2.3.1->autogluon.tabular[all]==0.3.1->autogluon) (1.0.0)\n",
            "Requirement already satisfied: pip in /usr/local/lib/python3.7/dist-packages (from fastai<3.0,>=2.3.1->autogluon.tabular[all]==0.3.1->autogluon) (21.3.1)\n",
            "Requirement already satisfied: torchvision>=0.8.2 in /usr/local/lib/python3.7/dist-packages (from fastai<3.0,>=2.3.1->autogluon.tabular[all]==0.3.1->autogluon) (0.11.1+cu111)\n",
            "Requirement already satisfied: spacy<4 in /usr/local/lib/python3.7/dist-packages (from fastai<3.0,>=2.3.1->autogluon.tabular[all]==0.3.1->autogluon) (2.2.4)\n",
            "Collecting portalocker\n",
            "  Downloading portalocker-2.3.2-py2.py3-none-any.whl (15 kB)\n",
            "Requirement already satisfied: opencv-python in /usr/local/lib/python3.7/dist-packages (from gluoncv<0.10.5,>=0.10.4->autogluon.extra==0.3.1->autogluon) (4.1.2.30)\n",
            "Collecting autocfg\n",
            "  Downloading autocfg-0.0.8-py3-none-any.whl (13 kB)\n",
            "Requirement already satisfied: wheel in /usr/local/lib/python3.7/dist-packages (from lightgbm<4.0,>=3.0->autogluon.tabular[all]==0.3.1->autogluon) (0.37.0)\n",
            "Requirement already satisfied: pytz>=2017.2 in /usr/local/lib/python3.7/dist-packages (from pandas<2.0,>=1.0.0->autogluon.core==0.3.1->autogluon) (2018.9)\n",
            "Requirement already satisfied: python-dateutil>=2.7.3 in /usr/local/lib/python3.7/dist-packages (from pandas<2.0,>=1.0.0->autogluon.core==0.3.1->autogluon) (2.8.2)\n",
            "Collecting pynacl>=1.0.1\n",
            "  Downloading PyNaCl-1.4.0-cp35-abi3-manylinux1_x86_64.whl (961 kB)\n",
            "     |████████████████████████████████| 961 kB 54.0 MB/s            \n",
            "\u001b[?25hCollecting bcrypt>=3.1.3\n",
            "  Downloading bcrypt-3.2.0-cp36-abi3-manylinux2010_x86_64.whl (63 kB)\n",
            "     |████████████████████████████████| 63 kB 41.4 MB/s            \n",
            "\u001b[?25hCollecting cryptography>=2.5\n",
            "  Downloading cryptography-36.0.0-cp36-abi3-manylinux_2_24_x86_64.whl (3.6 MB)\n",
            "     |████████████████████████████████| 3.6 MB 43.0 MB/s            \n",
            "\u001b[?25hRequirement already satisfied: joblib>=0.11 in /usr/local/lib/python3.7/dist-packages (from scikit-learn<0.25,>=0.23.2->autogluon.core==0.3.1->autogluon) (1.1.0)\n",
            "Requirement already satisfied: threadpoolctl>=2.0.0 in /usr/local/lib/python3.7/dist-packages (from scikit-learn<0.25,>=0.23.2->autogluon.core==0.3.1->autogluon) (3.0.0)\n",
            "Requirement already satisfied: typing-extensions in /usr/local/lib/python3.7/dist-packages (from torch<2.0,>=1.0->autogluon.tabular[all]==0.3.1->autogluon) (3.10.0.2)\n",
            "Collecting botocore<1.24.0,>=1.23.13\n",
            "  Downloading botocore-1.23.13-py3-none-any.whl (8.2 MB)\n",
            "     |████████████████████████████████| 8.2 MB 57.1 MB/s            \n",
            "\u001b[?25hCollecting jmespath<1.0.0,>=0.7.1\n",
            "  Downloading jmespath-0.10.0-py2.py3-none-any.whl (24 kB)\n",
            "Collecting s3transfer<0.6.0,>=0.5.0\n",
            "  Downloading s3transfer-0.5.0-py3-none-any.whl (79 kB)\n",
            "     |████████████████████████████████| 79 kB 46.2 MB/s            \n",
            "\u001b[?25hRequirement already satisfied: kiwisolver>=1.0.1 in /usr/local/lib/python3.7/dist-packages (from matplotlib->autogluon.core==0.3.1->autogluon) (1.3.2)\n",
            "Requirement already satisfied: cycler>=0.10 in /usr/local/lib/python3.7/dist-packages (from matplotlib->autogluon.core==0.3.1->autogluon) (0.11.0)\n",
            "Collecting liac-arff>=2.4.0\n",
            "  Downloading liac-arff-2.5.0.tar.gz (13 kB)\n",
            "  Preparing metadata (setup.py) ... \u001b[?25l\u001b[?25hdone\n",
            "Collecting xmltodict\n",
            "  Downloading xmltodict-0.12.0-py2.py3-none-any.whl (9.2 kB)\n",
            "Collecting minio\n",
            "  Downloading minio-7.1.1-py3-none-any.whl (75 kB)\n",
            "     |████████████████████████████████| 75 kB 44.5 MB/s            \n",
            "\u001b[?25hRequirement already satisfied: attrs>=17.4.0 in /usr/local/lib/python3.7/dist-packages (from pytest->autogluon.extra==0.3.1->autogluon) (21.2.0)\n",
            "Requirement already satisfied: atomicwrites>=1.0 in /usr/local/lib/python3.7/dist-packages (from pytest->autogluon.extra==0.3.1->autogluon) (1.4.0)\n",
            "Requirement already satisfied: py>=1.5.0 in /usr/local/lib/python3.7/dist-packages (from pytest->autogluon.extra==0.3.1->autogluon) (1.11.0)\n",
            "Requirement already satisfied: pluggy<0.8,>=0.5 in /usr/local/lib/python3.7/dist-packages (from pytest->autogluon.extra==0.3.1->autogluon) (0.7.1)\n",
            "Requirement already satisfied: more-itertools>=4.0.0 in /usr/local/lib/python3.7/dist-packages (from pytest->autogluon.extra==0.3.1->autogluon) (8.11.0)\n",
            "Requirement already satisfied: certifi>=2017.4.17 in /usr/local/lib/python3.7/dist-packages (from requests->autogluon.core==0.3.1->autogluon) (2021.10.8)\n",
            "Requirement already satisfied: urllib3!=1.25.0,!=1.25.1,<1.26,>=1.21.1 in /usr/local/lib/python3.7/dist-packages (from requests->autogluon.core==0.3.1->autogluon) (1.24.3)\n",
            "Requirement already satisfied: chardet<4,>=3.0.2 in /usr/local/lib/python3.7/dist-packages (from requests->autogluon.core==0.3.1->autogluon) (3.0.4)\n",
            "Requirement already satisfied: idna<3,>=2.5 in /usr/local/lib/python3.7/dist-packages (from requests->autogluon.core==0.3.1->autogluon) (2.10)\n",
            "Requirement already satisfied: cffi>=1.1 in /usr/local/lib/python3.7/dist-packages (from bcrypt>=3.1.3->paramiko>=2.4->autogluon.core==0.3.1->autogluon) (1.15.0)\n",
            "Collecting urllib3!=1.25.0,!=1.25.1,<1.26,>=1.21.1\n",
            "  Downloading urllib3-1.25.11-py2.py3-none-any.whl (127 kB)\n",
            "     |████████████████████████████████| 127 kB 55.4 MB/s            \n",
            "\u001b[?25hCollecting locket\n",
            "  Downloading locket-0.2.1-py2.py3-none-any.whl (4.1 kB)\n",
            "Requirement already satisfied: wasabi<1.1.0,>=0.4.0 in /usr/local/lib/python3.7/dist-packages (from spacy<4->fastai<3.0,>=2.3.1->autogluon.tabular[all]==0.3.1->autogluon) (0.8.2)\n",
            "Requirement already satisfied: thinc==7.4.0 in /usr/local/lib/python3.7/dist-packages (from spacy<4->fastai<3.0,>=2.3.1->autogluon.tabular[all]==0.3.1->autogluon) (7.4.0)\n",
            "Requirement already satisfied: cymem<2.1.0,>=2.0.2 in /usr/local/lib/python3.7/dist-packages (from spacy<4->fastai<3.0,>=2.3.1->autogluon.tabular[all]==0.3.1->autogluon) (2.0.6)\n",
            "Requirement already satisfied: blis<0.5.0,>=0.4.0 in /usr/local/lib/python3.7/dist-packages (from spacy<4->fastai<3.0,>=2.3.1->autogluon.tabular[all]==0.3.1->autogluon) (0.4.1)\n",
            "Requirement already satisfied: preshed<3.1.0,>=3.0.2 in /usr/local/lib/python3.7/dist-packages (from spacy<4->fastai<3.0,>=2.3.1->autogluon.tabular[all]==0.3.1->autogluon) (3.0.6)\n",
            "Requirement already satisfied: murmurhash<1.1.0,>=0.28.0 in /usr/local/lib/python3.7/dist-packages (from spacy<4->fastai<3.0,>=2.3.1->autogluon.tabular[all]==0.3.1->autogluon) (1.0.6)\n",
            "Requirement already satisfied: plac<1.2.0,>=0.9.6 in /usr/local/lib/python3.7/dist-packages (from spacy<4->fastai<3.0,>=2.3.1->autogluon.tabular[all]==0.3.1->autogluon) (1.1.3)\n",
            "Requirement already satisfied: catalogue<1.1.0,>=0.0.7 in /usr/local/lib/python3.7/dist-packages (from spacy<4->fastai<3.0,>=2.3.1->autogluon.tabular[all]==0.3.1->autogluon) (1.0.0)\n",
            "Requirement already satisfied: srsly<1.1.0,>=1.0.2 in /usr/local/lib/python3.7/dist-packages (from spacy<4->fastai<3.0,>=2.3.1->autogluon.tabular[all]==0.3.1->autogluon) (1.0.5)\n",
            "Requirement already satisfied: heapdict in /usr/local/lib/python3.7/dist-packages (from zict>=0.1.3->distributed>=2.6.0->autogluon.core==0.3.1->autogluon) (1.0.1)\n",
            "Collecting immutables>=0.9\n",
            "  Downloading immutables-0.16-cp37-cp37m-manylinux_2_5_x86_64.manylinux1_x86_64.whl (104 kB)\n",
            "     |████████████████████████████████| 104 kB 61.7 MB/s            \n",
            "\u001b[?25hCollecting importlib-metadata<4.3\n",
            "  Downloading importlib_metadata-4.2.0-py3-none-any.whl (16 kB)\n",
            "Collecting pyflakes<2.5.0,>=2.4.0\n",
            "  Downloading pyflakes-2.4.0-py2.py3-none-any.whl (69 kB)\n",
            "     |████████████████████████████████| 69 kB 53.1 MB/s            \n",
            "\u001b[?25hCollecting pycodestyle<2.9.0,>=2.8.0\n",
            "  Downloading pycodestyle-2.8.0-py2.py3-none-any.whl (42 kB)\n",
            "     |████████████████████████████████| 42 kB 25.5 MB/s            \n",
            "\u001b[?25hCollecting mccabe<0.7.0,>=0.6.0\n",
            "  Downloading mccabe-0.6.1-py2.py3-none-any.whl (8.6 kB)\n",
            "Requirement already satisfied: MarkupSafe>=0.23 in /usr/local/lib/python3.7/dist-packages (from jinja2->distributed>=2.6.0->autogluon.core==0.3.1->autogluon) (2.0.1)\n",
            "Requirement already satisfied: python-slugify in /usr/local/lib/python3.7/dist-packages (from kaggle->d8<1.0,>=0.0.2->autogluon.vision==0.3.1->autogluon) (5.0.2)\n",
            "Requirement already satisfied: retrying>=1.3.3 in /usr/local/lib/python3.7/dist-packages (from plotly->catboost<0.26,>=0.24.0->autogluon.tabular[all]==0.3.1->autogluon) (1.3.3)\n",
            "Collecting colorama\n",
            "  Downloading colorama-0.4.4-py2.py3-none-any.whl (16 kB)\n",
            "Requirement already satisfied: tabulate>=0.8.9 in /usr/local/lib/python3.7/dist-packages (from sacrebleu->autogluon-contrib-nlp==0.0.1b20210201->autogluon.text==0.3.1->autogluon) (0.8.9)\n",
            "Requirement already satisfied: pycparser in /usr/local/lib/python3.7/dist-packages (from cffi>=1.1->bcrypt>=3.1.3->paramiko>=2.4->autogluon.core==0.3.1->autogluon) (2.21)\n",
            "Requirement already satisfied: zipp>=0.5 in /usr/local/lib/python3.7/dist-packages (from importlib-metadata<4.3->flake8->autogluon-contrib-nlp==0.0.1b20210201->autogluon.text==0.3.1->autogluon) (3.6.0)\n",
            "Requirement already satisfied: text-unidecode>=1.3 in /usr/local/lib/python3.7/dist-packages (from python-slugify->kaggle->d8<1.0,>=0.0.2->autogluon.vision==0.3.1->autogluon) (1.3)\n",
            "Building wheels for collected packages: openml, liac-arff, contextvars\n",
            "  Building wheel for openml (setup.py) ... \u001b[?25l\u001b[?25hdone\n",
            "  Created wheel for openml: filename=openml-0.12.2-py3-none-any.whl size=137327 sha256=1e01289d4981f8cfe910f9be7386aa81e81ef90efafbe635fb967d900cd68f0c\n",
            "  Stored in directory: /tmp/pip-ephem-wheel-cache-3jr34y3e/wheels/6a/20/88/cf4ac86aa18e2cd647ed16ebe274a5dacee9d0075fa02af250\n",
            "  Building wheel for liac-arff (setup.py) ... \u001b[?25l\u001b[?25hdone\n",
            "  Created wheel for liac-arff: filename=liac_arff-2.5.0-py3-none-any.whl size=11731 sha256=d8f6c0438e7be42409c40ee83dc1cbcce0cda74e1f1ae44f0fd203c1992fb0d4\n",
            "  Stored in directory: /tmp/pip-ephem-wheel-cache-3jr34y3e/wheels/1f/0f/15/332ca86cbebf25ddf98518caaf887945fbe1712b97a0f2493b\n",
            "  Building wheel for contextvars (setup.py) ... \u001b[?25l\u001b[?25hdone\n",
            "  Created wheel for contextvars: filename=contextvars-2.4-py3-none-any.whl size=7680 sha256=d4fc3c72da534608e451268e10c9482b2439ac0f6d5a544a8f285060d68917df\n",
            "  Stored in directory: /tmp/pip-ephem-wheel-cache-3jr34y3e/wheels/0a/11/79/e70e668095c0bb1f94718af672ef2d35ee7a023fee56ef54d9\n",
            "Successfully built openml liac-arff contextvars\n",
            "Installing collected packages: urllib3, locket, jmespath, partd, fsspec, cloudpickle, botocore, scipy, s3transfer, pynacl, psutil, importlib-metadata, dask, cryptography, bcrypt, scikit-learn, paramiko, distributed, ConfigSpace, boto3, xmltodict, pyflakes, pycodestyle, portalocker, Pillow, minio, mccabe, liac-arff, immutables, fastcore, colorama, autogluon.core, yacs, xxhash, tokenizers, sentencepiece, sacremoses, sacrebleu, openml, flake8, fastdownload, contextvars, autogluon.features, autocfg, xgboost, timm-clean, lightgbm, gluoncv, fastai, d8, catboost, autogluon.tabular, autogluon.mxnet, autogluon-contrib-nlp, autogluon.vision, autogluon.text, autogluon.extra, autogluon\n",
            "  Attempting uninstall: urllib3\n",
            "    Found existing installation: urllib3 1.24.3\n",
            "    Uninstalling urllib3-1.24.3:\n",
            "      Successfully uninstalled urllib3-1.24.3\n",
            "  Attempting uninstall: cloudpickle\n",
            "    Found existing installation: cloudpickle 1.3.0\n",
            "    Uninstalling cloudpickle-1.3.0:\n",
            "      Successfully uninstalled cloudpickle-1.3.0\n",
            "  Attempting uninstall: scipy\n",
            "    Found existing installation: scipy 1.4.1\n",
            "    Uninstalling scipy-1.4.1:\n",
            "      Successfully uninstalled scipy-1.4.1\n",
            "  Attempting uninstall: psutil\n",
            "    Found existing installation: psutil 5.4.8\n",
            "    Uninstalling psutil-5.4.8:\n",
            "      Successfully uninstalled psutil-5.4.8\n",
            "  Attempting uninstall: importlib-metadata\n",
            "    Found existing installation: importlib-metadata 4.8.2\n",
            "    Uninstalling importlib-metadata-4.8.2:\n",
            "      Successfully uninstalled importlib-metadata-4.8.2\n",
            "  Attempting uninstall: dask\n",
            "    Found existing installation: dask 2.12.0\n",
            "    Uninstalling dask-2.12.0:\n",
            "      Successfully uninstalled dask-2.12.0\n",
            "  Attempting uninstall: scikit-learn\n",
            "    Found existing installation: scikit-learn 1.0.1\n",
            "    Uninstalling scikit-learn-1.0.1:\n",
            "      Successfully uninstalled scikit-learn-1.0.1\n",
            "  Attempting uninstall: distributed\n",
            "    Found existing installation: distributed 1.25.3\n",
            "    Uninstalling distributed-1.25.3:\n",
            "      Successfully uninstalled distributed-1.25.3\n",
            "  Attempting uninstall: Pillow\n",
            "    Found existing installation: Pillow 7.1.2\n",
            "    Uninstalling Pillow-7.1.2:\n",
            "      Successfully uninstalled Pillow-7.1.2\n",
            "  Attempting uninstall: xgboost\n",
            "    Found existing installation: xgboost 0.90\n",
            "    Uninstalling xgboost-0.90:\n",
            "      Successfully uninstalled xgboost-0.90\n",
            "  Attempting uninstall: lightgbm\n",
            "    Found existing installation: lightgbm 2.2.3\n",
            "    Uninstalling lightgbm-2.2.3:\n",
            "      Successfully uninstalled lightgbm-2.2.3\n",
            "  Attempting uninstall: fastai\n",
            "    Found existing installation: fastai 1.0.61\n",
            "    Uninstalling fastai-1.0.61:\n",
            "      Successfully uninstalled fastai-1.0.61\n",
            "\u001b[31mERROR: pip's dependency resolver does not currently take into account all the packages that are installed. This behaviour is the source of the following dependency conflicts.\n",
            "panel 0.12.1 requires bokeh<2.4.0,>=2.3.0, but you have bokeh 2.0.1 which is incompatible.\n",
            "markdown 3.3.6 requires importlib-metadata>=4.4; python_version < \"3.10\", but you have importlib-metadata 4.2.0 which is incompatible.\n",
            "gym 0.17.3 requires cloudpickle<1.7.0,>=1.2.0, but you have cloudpickle 2.0.0 which is incompatible.\n",
            "datascience 0.10.6 requires folium==0.2.1, but you have folium 0.8.3 which is incompatible.\n",
            "albumentations 0.1.12 requires imgaug<0.2.7,>=0.2.5, but you have imgaug 0.2.9 which is incompatible.\u001b[0m\n",
            "Successfully installed ConfigSpace-0.4.19 Pillow-8.3.2 autocfg-0.0.8 autogluon-0.3.1 autogluon-contrib-nlp-0.0.1b20210201 autogluon.core-0.3.1 autogluon.extra-0.3.1 autogluon.features-0.3.1 autogluon.mxnet-0.3.1 autogluon.tabular-0.3.1 autogluon.text-0.3.1 autogluon.vision-0.3.1 bcrypt-3.2.0 boto3-1.20.13 botocore-1.23.13 catboost-0.25.1 cloudpickle-2.0.0 colorama-0.4.4 contextvars-2.4 cryptography-36.0.0 d8-0.0.2.post0 dask-2021.11.2 distributed-2021.11.2 fastai-2.5.3 fastcore-1.3.27 fastdownload-0.0.5 flake8-4.0.1 fsspec-2021.11.0 gluoncv-0.10.4.post4 immutables-0.16 importlib-metadata-4.2.0 jmespath-0.10.0 liac-arff-2.5.0 lightgbm-3.3.1 locket-0.2.1 mccabe-0.6.1 minio-7.1.1 openml-0.12.2 paramiko-2.8.0 partd-1.2.0 portalocker-2.3.2 psutil-5.8.0 pycodestyle-2.8.0 pyflakes-2.4.0 pynacl-1.4.0 s3transfer-0.5.0 sacrebleu-2.0.0 sacremoses-0.0.46 scikit-learn-0.24.2 scipy-1.6.3 sentencepiece-0.1.95 timm-clean-0.4.12 tokenizers-0.9.4 urllib3-1.25.11 xgboost-1.4.2 xmltodict-0.12.0 xxhash-2.0.2 yacs-0.1.8\n",
            "\u001b[33mWARNING: Running pip as the 'root' user can result in broken permissions and conflicting behaviour with the system package manager. It is recommended to use a virtual environment instead: https://pip.pypa.io/warnings/venv\u001b[0m\n"
          ]
        },
        {
          "output_type": "display_data",
          "data": {
            "application/vnd.colab-display-data+json": {
              "pip_warning": {
                "packages": [
                  "PIL",
                  "contextvars",
                  "psutil"
                ]
              }
            }
          },
          "metadata": {}
        }
      ]
    },
    {
      "cell_type": "markdown",
      "metadata": {
        "id": "P2wlm0cvyvNh"
      },
      "source": [
        "### Setup Kaggle API Key"
      ]
    },
    {
      "cell_type": "code",
      "metadata": {
        "id": "gD4uZouUyvNh"
      },
      "source": [
        "# create the .kaggle directory and an empty kaggle.json file\n",
        "!mkdir -p /root/.kaggle\n",
        "!touch /root/.kaggle/kaggle.json\n",
        "!chmod 600 /root/.kaggle/kaggle.json"
      ],
      "execution_count": null,
      "outputs": []
    },
    {
      "cell_type": "code",
      "metadata": {
        "id": "Dd1i6t7oyvNi"
      },
      "source": [
        "# Fill in your user name and key from creating the kaggle account and API token file\n",
        "import json\n",
        "kaggle_username = \"dhanalakshmic\"\n",
        "kaggle_key = \"658abb77a6b3e68dee35aaf0cba5ec30\"\n",
        "\n",
        "# Save API token the kaggle.json file\n",
        "with open(\"/root/.kaggle/kaggle.json\", \"w\") as f:\n",
        "    f.write(json.dumps({\"username\": kaggle_username, \"key\": kaggle_key}))"
      ],
      "execution_count": null,
      "outputs": []
    },
    {
      "cell_type": "markdown",
      "metadata": {
        "id": "JHc4i8CUyvNj"
      },
      "source": [
        "### Download and explore dataset"
      ]
    },
    {
      "cell_type": "markdown",
      "metadata": {
        "id": "ZHz9QygsyvNk"
      },
      "source": [
        "### Go to the bike sharing demand competition and agree to the terms\n",
        "![kaggle6.png](attachment:kaggle6.png)"
      ]
    },
    {
      "cell_type": "code",
      "metadata": {
        "colab": {
          "base_uri": "https://localhost:8080/"
        },
        "id": "_ZbYFlxVyvNk",
        "outputId": "32e7cd8c-e2d2-415f-b6c3-f074dc461ecb"
      },
      "source": [
        "# Download the dataset, it will be in a .zip file so you'll need to unzip it as well.\n",
        "!kaggle competitions download -c bike-sharing-demand\n",
        "# If you already downloaded it you can use the -o command to overwrite the file\n",
        "!unzip -o bike-sharing-demand.zip"
      ],
      "execution_count": null,
      "outputs": [
        {
          "output_type": "stream",
          "name": "stdout",
          "text": [
            "Warning: Looks like you're using an outdated API Version, please consider updating (server 1.5.12 / client 1.5.4)\n",
            "Downloading sampleSubmission.csv to /content\n",
            "  0% 0.00/140k [00:00<?, ?B/s]\n",
            "100% 140k/140k [00:00<00:00, 51.9MB/s]\n",
            "Downloading test.csv to /content\n",
            "  0% 0.00/316k [00:00<?, ?B/s]\n",
            "100% 316k/316k [00:00<00:00, 44.4MB/s]\n",
            "Downloading train.csv to /content\n",
            "  0% 0.00/633k [00:00<?, ?B/s]\n",
            "100% 633k/633k [00:00<00:00, 41.7MB/s]\n",
            "unzip:  cannot find or open bike-sharing-demand.zip, bike-sharing-demand.zip.zip or bike-sharing-demand.zip.ZIP.\n"
          ]
        }
      ]
    },
    {
      "cell_type": "code",
      "metadata": {
        "id": "i0scOTm6yvNl"
      },
      "source": [
        "import pandas as pd\n",
        "from autogluon.tabular import TabularPredictor"
      ],
      "execution_count": null,
      "outputs": []
    },
    {
      "cell_type": "code",
      "metadata": {
        "colab": {
          "base_uri": "https://localhost:8080/",
          "height": 206
        },
        "id": "8PICSCLzyvNl",
        "outputId": "b05eb7c0-3c81-4e54-d890-cb2bae5f41e2"
      },
      "source": [
        "# Create the train dataset in pandas by reading the csv\n",
        "# Set the parsing of the datetime column so you can use some of the `dt` features in pandas later\n",
        "train = pd.read_csv('/content/train.csv')\n",
        "train.head()"
      ],
      "execution_count": null,
      "outputs": [
        {
          "output_type": "execute_result",
          "data": {
            "text/html": [
              "<div>\n",
              "<style scoped>\n",
              "    .dataframe tbody tr th:only-of-type {\n",
              "        vertical-align: middle;\n",
              "    }\n",
              "\n",
              "    .dataframe tbody tr th {\n",
              "        vertical-align: top;\n",
              "    }\n",
              "\n",
              "    .dataframe thead th {\n",
              "        text-align: right;\n",
              "    }\n",
              "</style>\n",
              "<table border=\"1\" class=\"dataframe\">\n",
              "  <thead>\n",
              "    <tr style=\"text-align: right;\">\n",
              "      <th></th>\n",
              "      <th>datetime</th>\n",
              "      <th>season</th>\n",
              "      <th>holiday</th>\n",
              "      <th>workingday</th>\n",
              "      <th>weather</th>\n",
              "      <th>temp</th>\n",
              "      <th>atemp</th>\n",
              "      <th>humidity</th>\n",
              "      <th>windspeed</th>\n",
              "      <th>casual</th>\n",
              "      <th>registered</th>\n",
              "      <th>count</th>\n",
              "    </tr>\n",
              "  </thead>\n",
              "  <tbody>\n",
              "    <tr>\n",
              "      <th>0</th>\n",
              "      <td>2011-01-01 00:00:00</td>\n",
              "      <td>1</td>\n",
              "      <td>0</td>\n",
              "      <td>0</td>\n",
              "      <td>1</td>\n",
              "      <td>9.84</td>\n",
              "      <td>14.395</td>\n",
              "      <td>81</td>\n",
              "      <td>0.0</td>\n",
              "      <td>3</td>\n",
              "      <td>13</td>\n",
              "      <td>16</td>\n",
              "    </tr>\n",
              "    <tr>\n",
              "      <th>1</th>\n",
              "      <td>2011-01-01 01:00:00</td>\n",
              "      <td>1</td>\n",
              "      <td>0</td>\n",
              "      <td>0</td>\n",
              "      <td>1</td>\n",
              "      <td>9.02</td>\n",
              "      <td>13.635</td>\n",
              "      <td>80</td>\n",
              "      <td>0.0</td>\n",
              "      <td>8</td>\n",
              "      <td>32</td>\n",
              "      <td>40</td>\n",
              "    </tr>\n",
              "    <tr>\n",
              "      <th>2</th>\n",
              "      <td>2011-01-01 02:00:00</td>\n",
              "      <td>1</td>\n",
              "      <td>0</td>\n",
              "      <td>0</td>\n",
              "      <td>1</td>\n",
              "      <td>9.02</td>\n",
              "      <td>13.635</td>\n",
              "      <td>80</td>\n",
              "      <td>0.0</td>\n",
              "      <td>5</td>\n",
              "      <td>27</td>\n",
              "      <td>32</td>\n",
              "    </tr>\n",
              "    <tr>\n",
              "      <th>3</th>\n",
              "      <td>2011-01-01 03:00:00</td>\n",
              "      <td>1</td>\n",
              "      <td>0</td>\n",
              "      <td>0</td>\n",
              "      <td>1</td>\n",
              "      <td>9.84</td>\n",
              "      <td>14.395</td>\n",
              "      <td>75</td>\n",
              "      <td>0.0</td>\n",
              "      <td>3</td>\n",
              "      <td>10</td>\n",
              "      <td>13</td>\n",
              "    </tr>\n",
              "    <tr>\n",
              "      <th>4</th>\n",
              "      <td>2011-01-01 04:00:00</td>\n",
              "      <td>1</td>\n",
              "      <td>0</td>\n",
              "      <td>0</td>\n",
              "      <td>1</td>\n",
              "      <td>9.84</td>\n",
              "      <td>14.395</td>\n",
              "      <td>75</td>\n",
              "      <td>0.0</td>\n",
              "      <td>0</td>\n",
              "      <td>1</td>\n",
              "      <td>1</td>\n",
              "    </tr>\n",
              "  </tbody>\n",
              "</table>\n",
              "</div>"
            ],
            "text/plain": [
              "              datetime  season  holiday  ...  casual  registered  count\n",
              "0  2011-01-01 00:00:00       1        0  ...       3          13     16\n",
              "1  2011-01-01 01:00:00       1        0  ...       8          32     40\n",
              "2  2011-01-01 02:00:00       1        0  ...       5          27     32\n",
              "3  2011-01-01 03:00:00       1        0  ...       3          10     13\n",
              "4  2011-01-01 04:00:00       1        0  ...       0           1      1\n",
              "\n",
              "[5 rows x 12 columns]"
            ]
          },
          "metadata": {},
          "execution_count": 6
        }
      ]
    },
    {
      "cell_type": "code",
      "metadata": {
        "colab": {
          "base_uri": "https://localhost:8080/"
        },
        "id": "f_eXpWRu09a4",
        "outputId": "b42fef1c-956e-44da-a41e-a117a0f1c170"
      },
      "source": [
        "train.info()"
      ],
      "execution_count": null,
      "outputs": [
        {
          "output_type": "stream",
          "name": "stdout",
          "text": [
            "<class 'pandas.core.frame.DataFrame'>\n",
            "RangeIndex: 10886 entries, 0 to 10885\n",
            "Data columns (total 12 columns):\n",
            " #   Column      Non-Null Count  Dtype  \n",
            "---  ------      --------------  -----  \n",
            " 0   datetime    10886 non-null  object \n",
            " 1   season      10886 non-null  int64  \n",
            " 2   holiday     10886 non-null  int64  \n",
            " 3   workingday  10886 non-null  int64  \n",
            " 4   weather     10886 non-null  int64  \n",
            " 5   temp        10886 non-null  float64\n",
            " 6   atemp       10886 non-null  float64\n",
            " 7   humidity    10886 non-null  int64  \n",
            " 8   windspeed   10886 non-null  float64\n",
            " 9   casual      10886 non-null  int64  \n",
            " 10  registered  10886 non-null  int64  \n",
            " 11  count       10886 non-null  int64  \n",
            "dtypes: float64(3), int64(8), object(1)\n",
            "memory usage: 1020.7+ KB\n"
          ]
        }
      ]
    },
    {
      "cell_type": "code",
      "metadata": {
        "id": "gdoZ7wqq2nBL"
      },
      "source": [
        "train['datetime'] = pd.to_datetime(train['datetime'], errors='ignore')"
      ],
      "execution_count": null,
      "outputs": []
    },
    {
      "cell_type": "code",
      "metadata": {
        "colab": {
          "base_uri": "https://localhost:8080/"
        },
        "id": "KovGXB_xvAEC",
        "outputId": "0f28dfb4-b55f-4642-c5fc-8f05c9273197"
      },
      "source": [
        "train.info()"
      ],
      "execution_count": null,
      "outputs": [
        {
          "output_type": "stream",
          "name": "stdout",
          "text": [
            "<class 'pandas.core.frame.DataFrame'>\n",
            "RangeIndex: 10886 entries, 0 to 10885\n",
            "Data columns (total 12 columns):\n",
            " #   Column      Non-Null Count  Dtype         \n",
            "---  ------      --------------  -----         \n",
            " 0   datetime    10886 non-null  datetime64[ns]\n",
            " 1   season      10886 non-null  int64         \n",
            " 2   holiday     10886 non-null  int64         \n",
            " 3   workingday  10886 non-null  int64         \n",
            " 4   weather     10886 non-null  int64         \n",
            " 5   temp        10886 non-null  float64       \n",
            " 6   atemp       10886 non-null  float64       \n",
            " 7   humidity    10886 non-null  int64         \n",
            " 8   windspeed   10886 non-null  float64       \n",
            " 9   casual      10886 non-null  int64         \n",
            " 10  registered  10886 non-null  int64         \n",
            " 11  count       10886 non-null  int64         \n",
            "dtypes: datetime64[ns](1), float64(3), int64(8)\n",
            "memory usage: 1020.7 KB\n"
          ]
        }
      ]
    },
    {
      "cell_type": "code",
      "metadata": {
        "colab": {
          "base_uri": "https://localhost:8080/",
          "height": 320
        },
        "id": "0tWwtrXuyvNm",
        "outputId": "240ec635-96a7-4954-cba5-82b4d651ad5b"
      },
      "source": [
        "# Simple output of the train dataset to view some of the min/max/varition of the dataset features.\n",
        "train.describe()"
      ],
      "execution_count": null,
      "outputs": [
        {
          "output_type": "execute_result",
          "data": {
            "text/html": [
              "<div>\n",
              "<style scoped>\n",
              "    .dataframe tbody tr th:only-of-type {\n",
              "        vertical-align: middle;\n",
              "    }\n",
              "\n",
              "    .dataframe tbody tr th {\n",
              "        vertical-align: top;\n",
              "    }\n",
              "\n",
              "    .dataframe thead th {\n",
              "        text-align: right;\n",
              "    }\n",
              "</style>\n",
              "<table border=\"1\" class=\"dataframe\">\n",
              "  <thead>\n",
              "    <tr style=\"text-align: right;\">\n",
              "      <th></th>\n",
              "      <th>season</th>\n",
              "      <th>holiday</th>\n",
              "      <th>workingday</th>\n",
              "      <th>weather</th>\n",
              "      <th>temp</th>\n",
              "      <th>atemp</th>\n",
              "      <th>humidity</th>\n",
              "      <th>windspeed</th>\n",
              "      <th>casual</th>\n",
              "      <th>registered</th>\n",
              "      <th>count</th>\n",
              "    </tr>\n",
              "  </thead>\n",
              "  <tbody>\n",
              "    <tr>\n",
              "      <th>count</th>\n",
              "      <td>10886.000000</td>\n",
              "      <td>10886.000000</td>\n",
              "      <td>10886.000000</td>\n",
              "      <td>10886.000000</td>\n",
              "      <td>10886.00000</td>\n",
              "      <td>10886.000000</td>\n",
              "      <td>10886.000000</td>\n",
              "      <td>10886.000000</td>\n",
              "      <td>10886.000000</td>\n",
              "      <td>10886.000000</td>\n",
              "      <td>10886.000000</td>\n",
              "    </tr>\n",
              "    <tr>\n",
              "      <th>mean</th>\n",
              "      <td>2.506614</td>\n",
              "      <td>0.028569</td>\n",
              "      <td>0.680875</td>\n",
              "      <td>1.418427</td>\n",
              "      <td>20.23086</td>\n",
              "      <td>23.655084</td>\n",
              "      <td>61.886460</td>\n",
              "      <td>12.799395</td>\n",
              "      <td>36.021955</td>\n",
              "      <td>155.552177</td>\n",
              "      <td>191.574132</td>\n",
              "    </tr>\n",
              "    <tr>\n",
              "      <th>std</th>\n",
              "      <td>1.116174</td>\n",
              "      <td>0.166599</td>\n",
              "      <td>0.466159</td>\n",
              "      <td>0.633839</td>\n",
              "      <td>7.79159</td>\n",
              "      <td>8.474601</td>\n",
              "      <td>19.245033</td>\n",
              "      <td>8.164537</td>\n",
              "      <td>49.960477</td>\n",
              "      <td>151.039033</td>\n",
              "      <td>181.144454</td>\n",
              "    </tr>\n",
              "    <tr>\n",
              "      <th>min</th>\n",
              "      <td>1.000000</td>\n",
              "      <td>0.000000</td>\n",
              "      <td>0.000000</td>\n",
              "      <td>1.000000</td>\n",
              "      <td>0.82000</td>\n",
              "      <td>0.760000</td>\n",
              "      <td>0.000000</td>\n",
              "      <td>0.000000</td>\n",
              "      <td>0.000000</td>\n",
              "      <td>0.000000</td>\n",
              "      <td>1.000000</td>\n",
              "    </tr>\n",
              "    <tr>\n",
              "      <th>25%</th>\n",
              "      <td>2.000000</td>\n",
              "      <td>0.000000</td>\n",
              "      <td>0.000000</td>\n",
              "      <td>1.000000</td>\n",
              "      <td>13.94000</td>\n",
              "      <td>16.665000</td>\n",
              "      <td>47.000000</td>\n",
              "      <td>7.001500</td>\n",
              "      <td>4.000000</td>\n",
              "      <td>36.000000</td>\n",
              "      <td>42.000000</td>\n",
              "    </tr>\n",
              "    <tr>\n",
              "      <th>50%</th>\n",
              "      <td>3.000000</td>\n",
              "      <td>0.000000</td>\n",
              "      <td>1.000000</td>\n",
              "      <td>1.000000</td>\n",
              "      <td>20.50000</td>\n",
              "      <td>24.240000</td>\n",
              "      <td>62.000000</td>\n",
              "      <td>12.998000</td>\n",
              "      <td>17.000000</td>\n",
              "      <td>118.000000</td>\n",
              "      <td>145.000000</td>\n",
              "    </tr>\n",
              "    <tr>\n",
              "      <th>75%</th>\n",
              "      <td>4.000000</td>\n",
              "      <td>0.000000</td>\n",
              "      <td>1.000000</td>\n",
              "      <td>2.000000</td>\n",
              "      <td>26.24000</td>\n",
              "      <td>31.060000</td>\n",
              "      <td>77.000000</td>\n",
              "      <td>16.997900</td>\n",
              "      <td>49.000000</td>\n",
              "      <td>222.000000</td>\n",
              "      <td>284.000000</td>\n",
              "    </tr>\n",
              "    <tr>\n",
              "      <th>max</th>\n",
              "      <td>4.000000</td>\n",
              "      <td>1.000000</td>\n",
              "      <td>1.000000</td>\n",
              "      <td>4.000000</td>\n",
              "      <td>41.00000</td>\n",
              "      <td>45.455000</td>\n",
              "      <td>100.000000</td>\n",
              "      <td>56.996900</td>\n",
              "      <td>367.000000</td>\n",
              "      <td>886.000000</td>\n",
              "      <td>977.000000</td>\n",
              "    </tr>\n",
              "  </tbody>\n",
              "</table>\n",
              "</div>"
            ],
            "text/plain": [
              "             season       holiday  ...    registered         count\n",
              "count  10886.000000  10886.000000  ...  10886.000000  10886.000000\n",
              "mean       2.506614      0.028569  ...    155.552177    191.574132\n",
              "std        1.116174      0.166599  ...    151.039033    181.144454\n",
              "min        1.000000      0.000000  ...      0.000000      1.000000\n",
              "25%        2.000000      0.000000  ...     36.000000     42.000000\n",
              "50%        3.000000      0.000000  ...    118.000000    145.000000\n",
              "75%        4.000000      0.000000  ...    222.000000    284.000000\n",
              "max        4.000000      1.000000  ...    886.000000    977.000000\n",
              "\n",
              "[8 rows x 11 columns]"
            ]
          },
          "metadata": {},
          "execution_count": 10
        }
      ]
    },
    {
      "cell_type": "code",
      "metadata": {
        "colab": {
          "base_uri": "https://localhost:8080/",
          "height": 206
        },
        "id": "nWzKrfEFyvNm",
        "outputId": "34177b05-100f-4328-d820-6e705adbebff"
      },
      "source": [
        "# Create the test pandas dataframe in pandas by reading the csv, remember to parse the datetime!\n",
        "test = pd.read_csv('/content/test.csv')\n",
        "test['datetime'] = pd.to_datetime(test['datetime'], errors='ignore')\n",
        "test.head()"
      ],
      "execution_count": null,
      "outputs": [
        {
          "output_type": "execute_result",
          "data": {
            "text/html": [
              "<div>\n",
              "<style scoped>\n",
              "    .dataframe tbody tr th:only-of-type {\n",
              "        vertical-align: middle;\n",
              "    }\n",
              "\n",
              "    .dataframe tbody tr th {\n",
              "        vertical-align: top;\n",
              "    }\n",
              "\n",
              "    .dataframe thead th {\n",
              "        text-align: right;\n",
              "    }\n",
              "</style>\n",
              "<table border=\"1\" class=\"dataframe\">\n",
              "  <thead>\n",
              "    <tr style=\"text-align: right;\">\n",
              "      <th></th>\n",
              "      <th>datetime</th>\n",
              "      <th>season</th>\n",
              "      <th>holiday</th>\n",
              "      <th>workingday</th>\n",
              "      <th>weather</th>\n",
              "      <th>temp</th>\n",
              "      <th>atemp</th>\n",
              "      <th>humidity</th>\n",
              "      <th>windspeed</th>\n",
              "    </tr>\n",
              "  </thead>\n",
              "  <tbody>\n",
              "    <tr>\n",
              "      <th>0</th>\n",
              "      <td>2011-01-20 00:00:00</td>\n",
              "      <td>1</td>\n",
              "      <td>0</td>\n",
              "      <td>1</td>\n",
              "      <td>1</td>\n",
              "      <td>10.66</td>\n",
              "      <td>11.365</td>\n",
              "      <td>56</td>\n",
              "      <td>26.0027</td>\n",
              "    </tr>\n",
              "    <tr>\n",
              "      <th>1</th>\n",
              "      <td>2011-01-20 01:00:00</td>\n",
              "      <td>1</td>\n",
              "      <td>0</td>\n",
              "      <td>1</td>\n",
              "      <td>1</td>\n",
              "      <td>10.66</td>\n",
              "      <td>13.635</td>\n",
              "      <td>56</td>\n",
              "      <td>0.0000</td>\n",
              "    </tr>\n",
              "    <tr>\n",
              "      <th>2</th>\n",
              "      <td>2011-01-20 02:00:00</td>\n",
              "      <td>1</td>\n",
              "      <td>0</td>\n",
              "      <td>1</td>\n",
              "      <td>1</td>\n",
              "      <td>10.66</td>\n",
              "      <td>13.635</td>\n",
              "      <td>56</td>\n",
              "      <td>0.0000</td>\n",
              "    </tr>\n",
              "    <tr>\n",
              "      <th>3</th>\n",
              "      <td>2011-01-20 03:00:00</td>\n",
              "      <td>1</td>\n",
              "      <td>0</td>\n",
              "      <td>1</td>\n",
              "      <td>1</td>\n",
              "      <td>10.66</td>\n",
              "      <td>12.880</td>\n",
              "      <td>56</td>\n",
              "      <td>11.0014</td>\n",
              "    </tr>\n",
              "    <tr>\n",
              "      <th>4</th>\n",
              "      <td>2011-01-20 04:00:00</td>\n",
              "      <td>1</td>\n",
              "      <td>0</td>\n",
              "      <td>1</td>\n",
              "      <td>1</td>\n",
              "      <td>10.66</td>\n",
              "      <td>12.880</td>\n",
              "      <td>56</td>\n",
              "      <td>11.0014</td>\n",
              "    </tr>\n",
              "  </tbody>\n",
              "</table>\n",
              "</div>"
            ],
            "text/plain": [
              "             datetime  season  holiday  ...   atemp  humidity  windspeed\n",
              "0 2011-01-20 00:00:00       1        0  ...  11.365        56    26.0027\n",
              "1 2011-01-20 01:00:00       1        0  ...  13.635        56     0.0000\n",
              "2 2011-01-20 02:00:00       1        0  ...  13.635        56     0.0000\n",
              "3 2011-01-20 03:00:00       1        0  ...  12.880        56    11.0014\n",
              "4 2011-01-20 04:00:00       1        0  ...  12.880        56    11.0014\n",
              "\n",
              "[5 rows x 9 columns]"
            ]
          },
          "metadata": {},
          "execution_count": 11
        }
      ]
    },
    {
      "cell_type": "code",
      "metadata": {
        "colab": {
          "base_uri": "https://localhost:8080/",
          "height": 206
        },
        "id": "glSTlyjnyvNn",
        "outputId": "36749ffa-e57c-459b-ffaa-e226e9f49de5"
      },
      "source": [
        "# Same thing as train and test dataset\n",
        "submission = pd.read_csv('/content/sampleSubmission.csv')\n",
        "submission['datetime'] = pd.to_datetime(submission['datetime'], errors='ignore')\n",
        "submission.head()"
      ],
      "execution_count": null,
      "outputs": [
        {
          "output_type": "execute_result",
          "data": {
            "text/html": [
              "<div>\n",
              "<style scoped>\n",
              "    .dataframe tbody tr th:only-of-type {\n",
              "        vertical-align: middle;\n",
              "    }\n",
              "\n",
              "    .dataframe tbody tr th {\n",
              "        vertical-align: top;\n",
              "    }\n",
              "\n",
              "    .dataframe thead th {\n",
              "        text-align: right;\n",
              "    }\n",
              "</style>\n",
              "<table border=\"1\" class=\"dataframe\">\n",
              "  <thead>\n",
              "    <tr style=\"text-align: right;\">\n",
              "      <th></th>\n",
              "      <th>datetime</th>\n",
              "      <th>count</th>\n",
              "    </tr>\n",
              "  </thead>\n",
              "  <tbody>\n",
              "    <tr>\n",
              "      <th>0</th>\n",
              "      <td>2011-01-20 00:00:00</td>\n",
              "      <td>0</td>\n",
              "    </tr>\n",
              "    <tr>\n",
              "      <th>1</th>\n",
              "      <td>2011-01-20 01:00:00</td>\n",
              "      <td>0</td>\n",
              "    </tr>\n",
              "    <tr>\n",
              "      <th>2</th>\n",
              "      <td>2011-01-20 02:00:00</td>\n",
              "      <td>0</td>\n",
              "    </tr>\n",
              "    <tr>\n",
              "      <th>3</th>\n",
              "      <td>2011-01-20 03:00:00</td>\n",
              "      <td>0</td>\n",
              "    </tr>\n",
              "    <tr>\n",
              "      <th>4</th>\n",
              "      <td>2011-01-20 04:00:00</td>\n",
              "      <td>0</td>\n",
              "    </tr>\n",
              "  </tbody>\n",
              "</table>\n",
              "</div>"
            ],
            "text/plain": [
              "             datetime  count\n",
              "0 2011-01-20 00:00:00      0\n",
              "1 2011-01-20 01:00:00      0\n",
              "2 2011-01-20 02:00:00      0\n",
              "3 2011-01-20 03:00:00      0\n",
              "4 2011-01-20 04:00:00      0"
            ]
          },
          "metadata": {},
          "execution_count": 12
        }
      ]
    },
    {
      "cell_type": "code",
      "metadata": {
        "colab": {
          "base_uri": "https://localhost:8080/"
        },
        "id": "1z0vPbsJyOCN",
        "outputId": "6b300178-29dd-470f-d834-ed0e4692c1b4"
      },
      "source": [
        "submission['count'].unique()"
      ],
      "execution_count": null,
      "outputs": [
        {
          "output_type": "execute_result",
          "data": {
            "text/plain": [
              "array([0])"
            ]
          },
          "metadata": {},
          "execution_count": 13
        }
      ]
    },
    {
      "cell_type": "markdown",
      "metadata": {
        "id": "lN40hBnbyvNo"
      },
      "source": [
        "## Step 3: Train a model using AutoGluon’s Tabular Prediction"
      ]
    },
    {
      "cell_type": "markdown",
      "metadata": {
        "id": "6BjTSwJcyvNo"
      },
      "source": [
        "Requirements:\n",
        "* We are prediting `count`, so it is the label we are setting.\n",
        "* Ignore `casual` and `registered` columns as they are also not present in the test dataset. \n",
        "* Use the `root_mean_squared_error` as the metric to use for evaluation.\n",
        "* Set a time limit of 10 minutes (600 seconds).\n",
        "* Use the preset `best_quality` to focus on creating the best model."
      ]
    },
    {
      "cell_type": "code",
      "metadata": {
        "id": "nS00NQmxEZ6y"
      },
      "source": [
        "train.drop(['casual','registered'], axis=1, inplace=True)"
      ],
      "execution_count": null,
      "outputs": []
    },
    {
      "cell_type": "code",
      "metadata": {
        "colab": {
          "base_uri": "https://localhost:8080/",
          "height": 206
        },
        "id": "7icrAbl5EpAw",
        "outputId": "a2eeb7dc-8455-4d59-c955-cae99d87c2d4"
      },
      "source": [
        "train.head()"
      ],
      "execution_count": null,
      "outputs": [
        {
          "output_type": "execute_result",
          "data": {
            "text/html": [
              "<div>\n",
              "<style scoped>\n",
              "    .dataframe tbody tr th:only-of-type {\n",
              "        vertical-align: middle;\n",
              "    }\n",
              "\n",
              "    .dataframe tbody tr th {\n",
              "        vertical-align: top;\n",
              "    }\n",
              "\n",
              "    .dataframe thead th {\n",
              "        text-align: right;\n",
              "    }\n",
              "</style>\n",
              "<table border=\"1\" class=\"dataframe\">\n",
              "  <thead>\n",
              "    <tr style=\"text-align: right;\">\n",
              "      <th></th>\n",
              "      <th>datetime</th>\n",
              "      <th>season</th>\n",
              "      <th>holiday</th>\n",
              "      <th>workingday</th>\n",
              "      <th>weather</th>\n",
              "      <th>temp</th>\n",
              "      <th>atemp</th>\n",
              "      <th>humidity</th>\n",
              "      <th>windspeed</th>\n",
              "      <th>count</th>\n",
              "    </tr>\n",
              "  </thead>\n",
              "  <tbody>\n",
              "    <tr>\n",
              "      <th>0</th>\n",
              "      <td>2011-01-01 00:00:00</td>\n",
              "      <td>1</td>\n",
              "      <td>0</td>\n",
              "      <td>0</td>\n",
              "      <td>1</td>\n",
              "      <td>9.84</td>\n",
              "      <td>14.395</td>\n",
              "      <td>81</td>\n",
              "      <td>0.0</td>\n",
              "      <td>16</td>\n",
              "    </tr>\n",
              "    <tr>\n",
              "      <th>1</th>\n",
              "      <td>2011-01-01 01:00:00</td>\n",
              "      <td>1</td>\n",
              "      <td>0</td>\n",
              "      <td>0</td>\n",
              "      <td>1</td>\n",
              "      <td>9.02</td>\n",
              "      <td>13.635</td>\n",
              "      <td>80</td>\n",
              "      <td>0.0</td>\n",
              "      <td>40</td>\n",
              "    </tr>\n",
              "    <tr>\n",
              "      <th>2</th>\n",
              "      <td>2011-01-01 02:00:00</td>\n",
              "      <td>1</td>\n",
              "      <td>0</td>\n",
              "      <td>0</td>\n",
              "      <td>1</td>\n",
              "      <td>9.02</td>\n",
              "      <td>13.635</td>\n",
              "      <td>80</td>\n",
              "      <td>0.0</td>\n",
              "      <td>32</td>\n",
              "    </tr>\n",
              "    <tr>\n",
              "      <th>3</th>\n",
              "      <td>2011-01-01 03:00:00</td>\n",
              "      <td>1</td>\n",
              "      <td>0</td>\n",
              "      <td>0</td>\n",
              "      <td>1</td>\n",
              "      <td>9.84</td>\n",
              "      <td>14.395</td>\n",
              "      <td>75</td>\n",
              "      <td>0.0</td>\n",
              "      <td>13</td>\n",
              "    </tr>\n",
              "    <tr>\n",
              "      <th>4</th>\n",
              "      <td>2011-01-01 04:00:00</td>\n",
              "      <td>1</td>\n",
              "      <td>0</td>\n",
              "      <td>0</td>\n",
              "      <td>1</td>\n",
              "      <td>9.84</td>\n",
              "      <td>14.395</td>\n",
              "      <td>75</td>\n",
              "      <td>0.0</td>\n",
              "      <td>1</td>\n",
              "    </tr>\n",
              "  </tbody>\n",
              "</table>\n",
              "</div>"
            ],
            "text/plain": [
              "             datetime  season  holiday  ...  humidity  windspeed  count\n",
              "0 2011-01-01 00:00:00       1        0  ...        81        0.0     16\n",
              "1 2011-01-01 01:00:00       1        0  ...        80        0.0     40\n",
              "2 2011-01-01 02:00:00       1        0  ...        80        0.0     32\n",
              "3 2011-01-01 03:00:00       1        0  ...        75        0.0     13\n",
              "4 2011-01-01 04:00:00       1        0  ...        75        0.0      1\n",
              "\n",
              "[5 rows x 10 columns]"
            ]
          },
          "metadata": {},
          "execution_count": 15
        }
      ]
    },
    {
      "cell_type": "code",
      "metadata": {
        "colab": {
          "base_uri": "https://localhost:8080/"
        },
        "id": "ozg573qwyvNp",
        "outputId": "850e991f-910e-4776-d082-a04d27185af6"
      },
      "source": [
        "predictor = TabularPredictor(label='count', eval_metric='root_mean_squared_error').fit(train_data=train, time_limit=600, presets='best_quality')"
      ],
      "execution_count": null,
      "outputs": [
        {
          "output_type": "stream",
          "name": "stderr",
          "text": [
            "No path specified. Models will be saved in: \"AutogluonModels/ag-20211126_144138/\"\n",
            "Presets specified: ['best_quality']\n",
            "Beginning AutoGluon training ... Time limit = 600s\n",
            "AutoGluon will save models to \"AutogluonModels/ag-20211126_144138/\"\n",
            "AutoGluon Version:  0.3.1\n",
            "Train Data Rows:    10886\n",
            "Train Data Columns: 9\n",
            "Preprocessing data ...\n",
            "AutoGluon infers your prediction problem is: 'regression' (because dtype of label-column == int and many unique label-values observed).\n",
            "\tLabel info (max, min, mean, stddev): (977, 1, 191.57413, 181.14445)\n",
            "\tIf 'regression' is not the correct problem_type, please manually specify the problem_type argument in fit() (You may specify problem_type as one of: ['binary', 'multiclass', 'regression'])\n",
            "Using Feature Generators to preprocess the data ...\n",
            "Fitting AutoMLPipelineFeatureGenerator...\n",
            "\tAvailable Memory:                    12665.31 MB\n",
            "\tTrain Data (Original)  Memory Usage: 0.78 MB (0.0% of available memory)\n",
            "\tInferring data type of each feature based on column values. Set feature_metadata_in to manually specify special dtypes of the features.\n",
            "\tStage 1 Generators:\n",
            "\t\tFitting AsTypeFeatureGenerator...\n",
            "\t\t\tNote: Converting 2 features to boolean dtype as they only contain 2 unique values.\n",
            "\tStage 2 Generators:\n",
            "\t\tFitting FillNaFeatureGenerator...\n",
            "\tStage 3 Generators:\n",
            "\t\tFitting IdentityFeatureGenerator...\n",
            "\t\tFitting DatetimeFeatureGenerator...\n",
            "\tStage 4 Generators:\n",
            "\t\tFitting DropUniqueFeatureGenerator...\n",
            "\tTypes of features in original data (raw dtype, special dtypes):\n",
            "\t\t('datetime', []) : 1 | ['datetime']\n",
            "\t\t('float', [])    : 3 | ['temp', 'atemp', 'windspeed']\n",
            "\t\t('int', [])      : 5 | ['season', 'holiday', 'workingday', 'weather', 'humidity']\n",
            "\tTypes of features in processed data (raw dtype, special dtypes):\n",
            "\t\t('float', [])                : 3 | ['temp', 'atemp', 'windspeed']\n",
            "\t\t('int', [])                  : 3 | ['season', 'weather', 'humidity']\n",
            "\t\t('int', ['bool'])            : 2 | ['holiday', 'workingday']\n",
            "\t\t('int', ['datetime_as_int']) : 1 | ['datetime']\n",
            "\t0.2s = Fit runtime\n",
            "\t9 features in original data used to generate 9 features in processed data.\n",
            "\tTrain Data (Processed) Memory Usage: 0.63 MB (0.0% of available memory)\n",
            "Data preprocessing and feature engineering runtime = 0.25s ...\n",
            "AutoGluon will gauge predictive performance using evaluation metric: 'root_mean_squared_error'\n",
            "\tTo change this, specify the eval_metric argument of fit()\n",
            "AutoGluon will fit 2 stack levels (L1 to L2) ...\n",
            "Fitting 11 L1 models ...\n",
            "Fitting model: KNeighborsUnif_BAG_L1 ... Training model for up to 399.74s of the 599.74s of remaining time.\n",
            "\t-160.4129\t = Validation score   (root_mean_squared_error)\n",
            "\t0.03s\t = Training   runtime\n",
            "\t0.1s\t = Validation runtime\n",
            "Fitting model: KNeighborsDist_BAG_L1 ... Training model for up to 399.45s of the 599.46s of remaining time.\n",
            "\t-169.552\t = Validation score   (root_mean_squared_error)\n",
            "\t0.03s\t = Training   runtime\n",
            "\t0.11s\t = Validation runtime\n",
            "Fitting model: LightGBMXT_BAG_L1 ... Training model for up to 399.18s of the 599.19s of remaining time.\n",
            "/usr/local/lib/python3.7/dist-packages/lightgbm/engine.py:239: UserWarning: 'verbose_eval' argument is deprecated and will be removed in a future release of LightGBM. Pass 'log_evaluation()' callback via 'callbacks' argument instead.\n",
            "  _log_warning(\"'verbose_eval' argument is deprecated and will be removed in a future release of LightGBM. \"\n"
          ]
        },
        {
          "output_type": "stream",
          "name": "stdout",
          "text": [
            "[1000]\ttrain_set's rmse: 123.806\tvalid_set's rmse: 134.369\n",
            "[2000]\ttrain_set's rmse: 117.412\tvalid_set's rmse: 133.705\n"
          ]
        },
        {
          "output_type": "stream",
          "name": "stderr",
          "text": [
            "/usr/local/lib/python3.7/dist-packages/lightgbm/engine.py:239: UserWarning: 'verbose_eval' argument is deprecated and will be removed in a future release of LightGBM. Pass 'log_evaluation()' callback via 'callbacks' argument instead.\n",
            "  _log_warning(\"'verbose_eval' argument is deprecated and will be removed in a future release of LightGBM. \"\n"
          ]
        },
        {
          "output_type": "stream",
          "name": "stdout",
          "text": [
            "[1000]\ttrain_set's rmse: 123.42\tvalid_set's rmse: 141.5\n"
          ]
        },
        {
          "output_type": "stream",
          "name": "stderr",
          "text": [
            "/usr/local/lib/python3.7/dist-packages/lightgbm/engine.py:239: UserWarning: 'verbose_eval' argument is deprecated and will be removed in a future release of LightGBM. Pass 'log_evaluation()' callback via 'callbacks' argument instead.\n",
            "  _log_warning(\"'verbose_eval' argument is deprecated and will be removed in a future release of LightGBM. \"\n"
          ]
        },
        {
          "output_type": "stream",
          "name": "stdout",
          "text": [
            "[1000]\ttrain_set's rmse: 125.097\tvalid_set's rmse: 128.797\n",
            "[2000]\ttrain_set's rmse: 119.003\tvalid_set's rmse: 127.909\n",
            "[3000]\ttrain_set's rmse: 114.63\tvalid_set's rmse: 127.431\n",
            "[4000]\ttrain_set's rmse: 111.295\tvalid_set's rmse: 126.943\n",
            "[5000]\ttrain_set's rmse: 108.576\tvalid_set's rmse: 126.844\n",
            "[6000]\ttrain_set's rmse: 106.085\tvalid_set's rmse: 126.71\n"
          ]
        },
        {
          "output_type": "stream",
          "name": "stderr",
          "text": [
            "/usr/local/lib/python3.7/dist-packages/lightgbm/engine.py:239: UserWarning: 'verbose_eval' argument is deprecated and will be removed in a future release of LightGBM. Pass 'log_evaluation()' callback via 'callbacks' argument instead.\n",
            "  _log_warning(\"'verbose_eval' argument is deprecated and will be removed in a future release of LightGBM. \"\n"
          ]
        },
        {
          "output_type": "stream",
          "name": "stdout",
          "text": [
            "[1000]\ttrain_set's rmse: 124.131\tvalid_set's rmse: 138.303\n",
            "[2000]\ttrain_set's rmse: 117.833\tvalid_set's rmse: 137.535\n"
          ]
        },
        {
          "output_type": "stream",
          "name": "stderr",
          "text": [
            "/usr/local/lib/python3.7/dist-packages/lightgbm/engine.py:239: UserWarning: 'verbose_eval' argument is deprecated and will be removed in a future release of LightGBM. Pass 'log_evaluation()' callback via 'callbacks' argument instead.\n",
            "  _log_warning(\"'verbose_eval' argument is deprecated and will be removed in a future release of LightGBM. \"\n"
          ]
        },
        {
          "output_type": "stream",
          "name": "stdout",
          "text": [
            "[1000]\ttrain_set's rmse: 124.871\tvalid_set's rmse: 128.052\n",
            "[2000]\ttrain_set's rmse: 118.547\tvalid_set's rmse: 127.003\n",
            "[3000]\ttrain_set's rmse: 114.124\tvalid_set's rmse: 126.834\n",
            "[4000]\ttrain_set's rmse: 110.645\tvalid_set's rmse: 126.694\n"
          ]
        },
        {
          "output_type": "stream",
          "name": "stderr",
          "text": [
            "/usr/local/lib/python3.7/dist-packages/lightgbm/engine.py:239: UserWarning: 'verbose_eval' argument is deprecated and will be removed in a future release of LightGBM. Pass 'log_evaluation()' callback via 'callbacks' argument instead.\n",
            "  _log_warning(\"'verbose_eval' argument is deprecated and will be removed in a future release of LightGBM. \"\n"
          ]
        },
        {
          "output_type": "stream",
          "name": "stdout",
          "text": [
            "[1000]\ttrain_set's rmse: 124.654\tvalid_set's rmse: 135.095\n",
            "[2000]\ttrain_set's rmse: 118.764\tvalid_set's rmse: 133.849\n",
            "[3000]\ttrain_set's rmse: 114.615\tvalid_set's rmse: 133.509\n",
            "[4000]\ttrain_set's rmse: 111.249\tvalid_set's rmse: 133.472\n",
            "[5000]\ttrain_set's rmse: 108.455\tvalid_set's rmse: 133.281\n"
          ]
        },
        {
          "output_type": "stream",
          "name": "stderr",
          "text": [
            "/usr/local/lib/python3.7/dist-packages/lightgbm/engine.py:239: UserWarning: 'verbose_eval' argument is deprecated and will be removed in a future release of LightGBM. Pass 'log_evaluation()' callback via 'callbacks' argument instead.\n",
            "  _log_warning(\"'verbose_eval' argument is deprecated and will be removed in a future release of LightGBM. \"\n"
          ]
        },
        {
          "output_type": "stream",
          "name": "stdout",
          "text": [
            "[1000]\ttrain_set's rmse: 124.01\tvalid_set's rmse: 139.355\n",
            "[2000]\ttrain_set's rmse: 117.819\tvalid_set's rmse: 138.312\n",
            "[3000]\ttrain_set's rmse: 113.4\tvalid_set's rmse: 137.886\n",
            "[4000]\ttrain_set's rmse: 110.032\tvalid_set's rmse: 137.758\n"
          ]
        },
        {
          "output_type": "stream",
          "name": "stderr",
          "text": [
            "/usr/local/lib/python3.7/dist-packages/lightgbm/engine.py:239: UserWarning: 'verbose_eval' argument is deprecated and will be removed in a future release of LightGBM. Pass 'log_evaluation()' callback via 'callbacks' argument instead.\n",
            "  _log_warning(\"'verbose_eval' argument is deprecated and will be removed in a future release of LightGBM. \"\n"
          ]
        },
        {
          "output_type": "stream",
          "name": "stdout",
          "text": [
            "[1000]\ttrain_set's rmse: 124.47\tvalid_set's rmse: 135.412\n"
          ]
        },
        {
          "output_type": "stream",
          "name": "stderr",
          "text": [
            "/usr/local/lib/python3.7/dist-packages/lightgbm/engine.py:239: UserWarning: 'verbose_eval' argument is deprecated and will be removed in a future release of LightGBM. Pass 'log_evaluation()' callback via 'callbacks' argument instead.\n",
            "  _log_warning(\"'verbose_eval' argument is deprecated and will be removed in a future release of LightGBM. \"\n"
          ]
        },
        {
          "output_type": "stream",
          "name": "stdout",
          "text": [
            "[1000]\ttrain_set's rmse: 124.18\tvalid_set's rmse: 137.579\n",
            "[2000]\ttrain_set's rmse: 117.782\tvalid_set's rmse: 136.664\n",
            "[3000]\ttrain_set's rmse: 113.447\tvalid_set's rmse: 136.246\n",
            "[4000]\ttrain_set's rmse: 109.982\tvalid_set's rmse: 136.227\n"
          ]
        },
        {
          "output_type": "stream",
          "name": "stderr",
          "text": [
            "/usr/local/lib/python3.7/dist-packages/lightgbm/engine.py:239: UserWarning: 'verbose_eval' argument is deprecated and will be removed in a future release of LightGBM. Pass 'log_evaluation()' callback via 'callbacks' argument instead.\n",
            "  _log_warning(\"'verbose_eval' argument is deprecated and will be removed in a future release of LightGBM. \"\n"
          ]
        },
        {
          "output_type": "stream",
          "name": "stdout",
          "text": [
            "[1000]\ttrain_set's rmse: 124.641\tvalid_set's rmse: 132.484\n"
          ]
        },
        {
          "output_type": "stream",
          "name": "stderr",
          "text": [
            "\t-134.0883\t = Validation score   (root_mean_squared_error)\n",
            "\t48.6s\t = Training   runtime\n",
            "\t2.35s\t = Validation runtime\n",
            "Fitting model: LightGBM_BAG_L1 ... Training model for up to 342.42s of the 542.43s of remaining time.\n",
            "/usr/local/lib/python3.7/dist-packages/lightgbm/engine.py:239: UserWarning: 'verbose_eval' argument is deprecated and will be removed in a future release of LightGBM. Pass 'log_evaluation()' callback via 'callbacks' argument instead.\n",
            "  _log_warning(\"'verbose_eval' argument is deprecated and will be removed in a future release of LightGBM. \"\n",
            "/usr/local/lib/python3.7/dist-packages/lightgbm/engine.py:239: UserWarning: 'verbose_eval' argument is deprecated and will be removed in a future release of LightGBM. Pass 'log_evaluation()' callback via 'callbacks' argument instead.\n",
            "  _log_warning(\"'verbose_eval' argument is deprecated and will be removed in a future release of LightGBM. \"\n",
            "/usr/local/lib/python3.7/dist-packages/lightgbm/engine.py:239: UserWarning: 'verbose_eval' argument is deprecated and will be removed in a future release of LightGBM. Pass 'log_evaluation()' callback via 'callbacks' argument instead.\n",
            "  _log_warning(\"'verbose_eval' argument is deprecated and will be removed in a future release of LightGBM. \"\n"
          ]
        },
        {
          "output_type": "stream",
          "name": "stdout",
          "text": [
            "[1000]\ttrain_set's rmse: 96.0217\tvalid_set's rmse: 123.249\n"
          ]
        },
        {
          "output_type": "stream",
          "name": "stderr",
          "text": [
            "/usr/local/lib/python3.7/dist-packages/lightgbm/engine.py:239: UserWarning: 'verbose_eval' argument is deprecated and will be removed in a future release of LightGBM. Pass 'log_evaluation()' callback via 'callbacks' argument instead.\n",
            "  _log_warning(\"'verbose_eval' argument is deprecated and will be removed in a future release of LightGBM. \"\n"
          ]
        },
        {
          "output_type": "stream",
          "name": "stdout",
          "text": [
            "[1000]\ttrain_set's rmse: 94.7479\tvalid_set's rmse: 135.635\n"
          ]
        },
        {
          "output_type": "stream",
          "name": "stderr",
          "text": [
            "/usr/local/lib/python3.7/dist-packages/lightgbm/engine.py:239: UserWarning: 'verbose_eval' argument is deprecated and will be removed in a future release of LightGBM. Pass 'log_evaluation()' callback via 'callbacks' argument instead.\n",
            "  _log_warning(\"'verbose_eval' argument is deprecated and will be removed in a future release of LightGBM. \"\n",
            "/usr/local/lib/python3.7/dist-packages/lightgbm/engine.py:239: UserWarning: 'verbose_eval' argument is deprecated and will be removed in a future release of LightGBM. Pass 'log_evaluation()' callback via 'callbacks' argument instead.\n",
            "  _log_warning(\"'verbose_eval' argument is deprecated and will be removed in a future release of LightGBM. \"\n"
          ]
        },
        {
          "output_type": "stream",
          "name": "stdout",
          "text": [
            "[1000]\ttrain_set's rmse: 95.3055\tvalid_set's rmse: 132.087\n"
          ]
        },
        {
          "output_type": "stream",
          "name": "stderr",
          "text": [
            "/usr/local/lib/python3.7/dist-packages/lightgbm/engine.py:239: UserWarning: 'verbose_eval' argument is deprecated and will be removed in a future release of LightGBM. Pass 'log_evaluation()' callback via 'callbacks' argument instead.\n",
            "  _log_warning(\"'verbose_eval' argument is deprecated and will be removed in a future release of LightGBM. \"\n",
            "/usr/local/lib/python3.7/dist-packages/lightgbm/engine.py:239: UserWarning: 'verbose_eval' argument is deprecated and will be removed in a future release of LightGBM. Pass 'log_evaluation()' callback via 'callbacks' argument instead.\n",
            "  _log_warning(\"'verbose_eval' argument is deprecated and will be removed in a future release of LightGBM. \"\n"
          ]
        },
        {
          "output_type": "stream",
          "name": "stdout",
          "text": [
            "[1000]\ttrain_set's rmse: 95.1635\tvalid_set's rmse: 131.521\n"
          ]
        },
        {
          "output_type": "stream",
          "name": "stderr",
          "text": [
            "/usr/local/lib/python3.7/dist-packages/lightgbm/engine.py:239: UserWarning: 'verbose_eval' argument is deprecated and will be removed in a future release of LightGBM. Pass 'log_evaluation()' callback via 'callbacks' argument instead.\n",
            "  _log_warning(\"'verbose_eval' argument is deprecated and will be removed in a future release of LightGBM. \"\n",
            "/usr/local/lib/python3.7/dist-packages/lightgbm/engine.py:239: UserWarning: 'verbose_eval' argument is deprecated and will be removed in a future release of LightGBM. Pass 'log_evaluation()' callback via 'callbacks' argument instead.\n",
            "  _log_warning(\"'verbose_eval' argument is deprecated and will be removed in a future release of LightGBM. \"\n",
            "\t-132.2864\t = Validation score   (root_mean_squared_error)\n",
            "\t13.19s\t = Training   runtime\n",
            "\t0.54s\t = Validation runtime\n",
            "Fitting model: RandomForestMSE_BAG_L1 ... Training model for up to 327.1s of the 527.11s of remaining time.\n",
            "\t-118.4567\t = Validation score   (root_mean_squared_error)\n",
            "\t7.9s\t = Training   runtime\n",
            "\t0.45s\t = Validation runtime\n",
            "Fitting model: CatBoost_BAG_L1 ... Training model for up to 317.85s of the 517.86s of remaining time.\n",
            "\t-132.3497\t = Validation score   (root_mean_squared_error)\n",
            "\t60.22s\t = Training   runtime\n",
            "\t0.05s\t = Validation runtime\n",
            "Fitting model: ExtraTreesMSE_BAG_L1 ... Training model for up to 257.46s of the 457.47s of remaining time.\n",
            "\t-128.7334\t = Validation score   (root_mean_squared_error)\n",
            "\t3.46s\t = Training   runtime\n",
            "\t0.46s\t = Validation runtime\n",
            "Fitting model: NeuralNetFastAI_BAG_L1 ... Training model for up to 252.77s of the 452.78s of remaining time.\n",
            "\tRan out of time, stopping training early. (Stopping on epoch 0)\n",
            "\t-138.7407\t = Validation score   (root_mean_squared_error)\n",
            "\t138.0s\t = Training   runtime\n",
            "\t0.34s\t = Validation runtime\n",
            "Fitting model: XGBoost_BAG_L1 ... Training model for up to 114.18s of the 314.18s of remaining time.\n",
            "\t-132.3085\t = Validation score   (root_mean_squared_error)\n",
            "\t16.13s\t = Training   runtime\n",
            "\t0.18s\t = Validation runtime\n",
            "Fitting model: NeuralNetMXNet_BAG_L1 ... Training model for up to 96.61s of the 296.62s of remaining time.\n",
            "\tRan out of time, stopping training early. (Stopping on epoch 5)\n",
            "\tRan out of time, stopping training early. (Stopping on epoch 7)\n",
            "\tRan out of time, stopping training early. (Stopping on epoch 7)\n",
            "\tRan out of time, stopping training early. (Stopping on epoch 8)\n",
            "\tRan out of time, stopping training early. (Stopping on epoch 8)\n",
            "\tRan out of time, stopping training early. (Stopping on epoch 9)\n",
            "\tRan out of time, stopping training early. (Stopping on epoch 9)\n",
            "\tRan out of time, stopping training early. (Stopping on epoch 10)\n",
            "\tRan out of time, stopping training early. (Stopping on epoch 11)\n",
            "\tRan out of time, stopping training early. (Stopping on epoch 14)\n",
            "\t-143.7806\t = Validation score   (root_mean_squared_error)\n",
            "\t91.49s\t = Training   runtime\n",
            "\t1.68s\t = Validation runtime\n",
            "Fitting model: LightGBMLarge_BAG_L1 ... Training model for up to 3.35s of the 203.36s of remaining time.\n",
            "/usr/local/lib/python3.7/dist-packages/lightgbm/engine.py:239: UserWarning: 'verbose_eval' argument is deprecated and will be removed in a future release of LightGBM. Pass 'log_evaluation()' callback via 'callbacks' argument instead.\n",
            "  _log_warning(\"'verbose_eval' argument is deprecated and will be removed in a future release of LightGBM. \"\n",
            "\tRan out of time, early stopping on iteration 40. Best iteration is:\n",
            "\t[40]\ttrain_set's rmse: 130.553\tvalid_set's rmse: 139.185\n",
            "/usr/local/lib/python3.7/dist-packages/lightgbm/engine.py:239: UserWarning: 'verbose_eval' argument is deprecated and will be removed in a future release of LightGBM. Pass 'log_evaluation()' callback via 'callbacks' argument instead.\n",
            "  _log_warning(\"'verbose_eval' argument is deprecated and will be removed in a future release of LightGBM. \"\n",
            "\tRan out of time, early stopping on iteration 44. Best iteration is:\n",
            "\t[44]\ttrain_set's rmse: 127.687\tvalid_set's rmse: 146.771\n",
            "/usr/local/lib/python3.7/dist-packages/lightgbm/engine.py:239: UserWarning: 'verbose_eval' argument is deprecated and will be removed in a future release of LightGBM. Pass 'log_evaluation()' callback via 'callbacks' argument instead.\n",
            "  _log_warning(\"'verbose_eval' argument is deprecated and will be removed in a future release of LightGBM. \"\n",
            "\tRan out of time, early stopping on iteration 44. Best iteration is:\n",
            "\t[44]\ttrain_set's rmse: 129.158\tvalid_set's rmse: 134.654\n",
            "/usr/local/lib/python3.7/dist-packages/lightgbm/engine.py:239: UserWarning: 'verbose_eval' argument is deprecated and will be removed in a future release of LightGBM. Pass 'log_evaluation()' callback via 'callbacks' argument instead.\n",
            "  _log_warning(\"'verbose_eval' argument is deprecated and will be removed in a future release of LightGBM. \"\n",
            "\tRan out of time, early stopping on iteration 42. Best iteration is:\n",
            "\t[42]\ttrain_set's rmse: 128.693\tvalid_set's rmse: 148.927\n",
            "/usr/local/lib/python3.7/dist-packages/lightgbm/engine.py:239: UserWarning: 'verbose_eval' argument is deprecated and will be removed in a future release of LightGBM. Pass 'log_evaluation()' callback via 'callbacks' argument instead.\n",
            "  _log_warning(\"'verbose_eval' argument is deprecated and will be removed in a future release of LightGBM. \"\n",
            "\tRan out of time, early stopping on iteration 47. Best iteration is:\n",
            "\t[47]\ttrain_set's rmse: 128.02\tvalid_set's rmse: 130.272\n",
            "/usr/local/lib/python3.7/dist-packages/lightgbm/engine.py:239: UserWarning: 'verbose_eval' argument is deprecated and will be removed in a future release of LightGBM. Pass 'log_evaluation()' callback via 'callbacks' argument instead.\n",
            "  _log_warning(\"'verbose_eval' argument is deprecated and will be removed in a future release of LightGBM. \"\n",
            "\tRan out of time, early stopping on iteration 45. Best iteration is:\n",
            "\t[45]\ttrain_set's rmse: 127.824\tvalid_set's rmse: 137.97\n",
            "/usr/local/lib/python3.7/dist-packages/lightgbm/engine.py:239: UserWarning: 'verbose_eval' argument is deprecated and will be removed in a future release of LightGBM. Pass 'log_evaluation()' callback via 'callbacks' argument instead.\n",
            "  _log_warning(\"'verbose_eval' argument is deprecated and will be removed in a future release of LightGBM. \"\n",
            "\tRan out of time, early stopping on iteration 44. Best iteration is:\n",
            "\t[44]\ttrain_set's rmse: 128.09\tvalid_set's rmse: 141.457\n",
            "/usr/local/lib/python3.7/dist-packages/lightgbm/engine.py:239: UserWarning: 'verbose_eval' argument is deprecated and will be removed in a future release of LightGBM. Pass 'log_evaluation()' callback via 'callbacks' argument instead.\n",
            "  _log_warning(\"'verbose_eval' argument is deprecated and will be removed in a future release of LightGBM. \"\n",
            "\tRan out of time, early stopping on iteration 48. Best iteration is:\n",
            "\t[48]\ttrain_set's rmse: 126.48\tvalid_set's rmse: 139.019\n",
            "/usr/local/lib/python3.7/dist-packages/lightgbm/engine.py:239: UserWarning: 'verbose_eval' argument is deprecated and will be removed in a future release of LightGBM. Pass 'log_evaluation()' callback via 'callbacks' argument instead.\n",
            "  _log_warning(\"'verbose_eval' argument is deprecated and will be removed in a future release of LightGBM. \"\n",
            "\tRan out of time, early stopping on iteration 44. Best iteration is:\n",
            "\t[44]\ttrain_set's rmse: 127.783\tvalid_set's rmse: 141.542\n",
            "/usr/local/lib/python3.7/dist-packages/lightgbm/engine.py:239: UserWarning: 'verbose_eval' argument is deprecated and will be removed in a future release of LightGBM. Pass 'log_evaluation()' callback via 'callbacks' argument instead.\n",
            "  _log_warning(\"'verbose_eval' argument is deprecated and will be removed in a future release of LightGBM. \"\n",
            "\tRan out of time, early stopping on iteration 46. Best iteration is:\n",
            "\t[46]\ttrain_set's rmse: 127.382\tvalid_set's rmse: 136.834\n",
            "\t-139.7589\t = Validation score   (root_mean_squared_error)\n",
            "\t3.07s\t = Training   runtime\n",
            "\t0.07s\t = Validation runtime\n",
            "Completed 1/20 k-fold bagging repeats ...\n",
            "Fitting model: WeightedEnsemble_L2 ... Training model for up to 360.0s of the 199.97s of remaining time.\n",
            "\t-118.4337\t = Validation score   (root_mean_squared_error)\n",
            "\t0.62s\t = Training   runtime\n",
            "\t0.0s\t = Validation runtime\n",
            "Fitting 9 L2 models ...\n",
            "Fitting model: LightGBMXT_BAG_L2 ... Training model for up to 199.32s of the 199.31s of remaining time.\n",
            "/usr/local/lib/python3.7/dist-packages/lightgbm/engine.py:239: UserWarning: 'verbose_eval' argument is deprecated and will be removed in a future release of LightGBM. Pass 'log_evaluation()' callback via 'callbacks' argument instead.\n",
            "  _log_warning(\"'verbose_eval' argument is deprecated and will be removed in a future release of LightGBM. \"\n",
            "/usr/local/lib/python3.7/dist-packages/lightgbm/engine.py:239: UserWarning: 'verbose_eval' argument is deprecated and will be removed in a future release of LightGBM. Pass 'log_evaluation()' callback via 'callbacks' argument instead.\n",
            "  _log_warning(\"'verbose_eval' argument is deprecated and will be removed in a future release of LightGBM. \"\n",
            "/usr/local/lib/python3.7/dist-packages/lightgbm/engine.py:239: UserWarning: 'verbose_eval' argument is deprecated and will be removed in a future release of LightGBM. Pass 'log_evaluation()' callback via 'callbacks' argument instead.\n",
            "  _log_warning(\"'verbose_eval' argument is deprecated and will be removed in a future release of LightGBM. \"\n",
            "/usr/local/lib/python3.7/dist-packages/lightgbm/engine.py:239: UserWarning: 'verbose_eval' argument is deprecated and will be removed in a future release of LightGBM. Pass 'log_evaluation()' callback via 'callbacks' argument instead.\n",
            "  _log_warning(\"'verbose_eval' argument is deprecated and will be removed in a future release of LightGBM. \"\n",
            "/usr/local/lib/python3.7/dist-packages/lightgbm/engine.py:239: UserWarning: 'verbose_eval' argument is deprecated and will be removed in a future release of LightGBM. Pass 'log_evaluation()' callback via 'callbacks' argument instead.\n",
            "  _log_warning(\"'verbose_eval' argument is deprecated and will be removed in a future release of LightGBM. \"\n",
            "/usr/local/lib/python3.7/dist-packages/lightgbm/engine.py:239: UserWarning: 'verbose_eval' argument is deprecated and will be removed in a future release of LightGBM. Pass 'log_evaluation()' callback via 'callbacks' argument instead.\n",
            "  _log_warning(\"'verbose_eval' argument is deprecated and will be removed in a future release of LightGBM. \"\n",
            "/usr/local/lib/python3.7/dist-packages/lightgbm/engine.py:239: UserWarning: 'verbose_eval' argument is deprecated and will be removed in a future release of LightGBM. Pass 'log_evaluation()' callback via 'callbacks' argument instead.\n",
            "  _log_warning(\"'verbose_eval' argument is deprecated and will be removed in a future release of LightGBM. \"\n",
            "/usr/local/lib/python3.7/dist-packages/lightgbm/engine.py:239: UserWarning: 'verbose_eval' argument is deprecated and will be removed in a future release of LightGBM. Pass 'log_evaluation()' callback via 'callbacks' argument instead.\n",
            "  _log_warning(\"'verbose_eval' argument is deprecated and will be removed in a future release of LightGBM. \"\n",
            "/usr/local/lib/python3.7/dist-packages/lightgbm/engine.py:239: UserWarning: 'verbose_eval' argument is deprecated and will be removed in a future release of LightGBM. Pass 'log_evaluation()' callback via 'callbacks' argument instead.\n",
            "  _log_warning(\"'verbose_eval' argument is deprecated and will be removed in a future release of LightGBM. \"\n",
            "/usr/local/lib/python3.7/dist-packages/lightgbm/engine.py:239: UserWarning: 'verbose_eval' argument is deprecated and will be removed in a future release of LightGBM. Pass 'log_evaluation()' callback via 'callbacks' argument instead.\n",
            "  _log_warning(\"'verbose_eval' argument is deprecated and will be removed in a future release of LightGBM. \"\n",
            "\t-115.5374\t = Validation score   (root_mean_squared_error)\n",
            "\t11.91s\t = Training   runtime\n",
            "\t0.3s\t = Validation runtime\n",
            "Fitting model: LightGBM_BAG_L2 ... Training model for up to 186.47s of the 186.46s of remaining time.\n",
            "/usr/local/lib/python3.7/dist-packages/lightgbm/engine.py:239: UserWarning: 'verbose_eval' argument is deprecated and will be removed in a future release of LightGBM. Pass 'log_evaluation()' callback via 'callbacks' argument instead.\n",
            "  _log_warning(\"'verbose_eval' argument is deprecated and will be removed in a future release of LightGBM. \"\n",
            "/usr/local/lib/python3.7/dist-packages/lightgbm/engine.py:239: UserWarning: 'verbose_eval' argument is deprecated and will be removed in a future release of LightGBM. Pass 'log_evaluation()' callback via 'callbacks' argument instead.\n",
            "  _log_warning(\"'verbose_eval' argument is deprecated and will be removed in a future release of LightGBM. \"\n",
            "/usr/local/lib/python3.7/dist-packages/lightgbm/engine.py:239: UserWarning: 'verbose_eval' argument is deprecated and will be removed in a future release of LightGBM. Pass 'log_evaluation()' callback via 'callbacks' argument instead.\n",
            "  _log_warning(\"'verbose_eval' argument is deprecated and will be removed in a future release of LightGBM. \"\n",
            "/usr/local/lib/python3.7/dist-packages/lightgbm/engine.py:239: UserWarning: 'verbose_eval' argument is deprecated and will be removed in a future release of LightGBM. Pass 'log_evaluation()' callback via 'callbacks' argument instead.\n",
            "  _log_warning(\"'verbose_eval' argument is deprecated and will be removed in a future release of LightGBM. \"\n",
            "/usr/local/lib/python3.7/dist-packages/lightgbm/engine.py:239: UserWarning: 'verbose_eval' argument is deprecated and will be removed in a future release of LightGBM. Pass 'log_evaluation()' callback via 'callbacks' argument instead.\n",
            "  _log_warning(\"'verbose_eval' argument is deprecated and will be removed in a future release of LightGBM. \"\n",
            "/usr/local/lib/python3.7/dist-packages/lightgbm/engine.py:239: UserWarning: 'verbose_eval' argument is deprecated and will be removed in a future release of LightGBM. Pass 'log_evaluation()' callback via 'callbacks' argument instead.\n",
            "  _log_warning(\"'verbose_eval' argument is deprecated and will be removed in a future release of LightGBM. \"\n",
            "/usr/local/lib/python3.7/dist-packages/lightgbm/engine.py:239: UserWarning: 'verbose_eval' argument is deprecated and will be removed in a future release of LightGBM. Pass 'log_evaluation()' callback via 'callbacks' argument instead.\n",
            "  _log_warning(\"'verbose_eval' argument is deprecated and will be removed in a future release of LightGBM. \"\n",
            "/usr/local/lib/python3.7/dist-packages/lightgbm/engine.py:239: UserWarning: 'verbose_eval' argument is deprecated and will be removed in a future release of LightGBM. Pass 'log_evaluation()' callback via 'callbacks' argument instead.\n",
            "  _log_warning(\"'verbose_eval' argument is deprecated and will be removed in a future release of LightGBM. \"\n",
            "/usr/local/lib/python3.7/dist-packages/lightgbm/engine.py:239: UserWarning: 'verbose_eval' argument is deprecated and will be removed in a future release of LightGBM. Pass 'log_evaluation()' callback via 'callbacks' argument instead.\n",
            "  _log_warning(\"'verbose_eval' argument is deprecated and will be removed in a future release of LightGBM. \"\n",
            "/usr/local/lib/python3.7/dist-packages/lightgbm/engine.py:239: UserWarning: 'verbose_eval' argument is deprecated and will be removed in a future release of LightGBM. Pass 'log_evaluation()' callback via 'callbacks' argument instead.\n",
            "  _log_warning(\"'verbose_eval' argument is deprecated and will be removed in a future release of LightGBM. \"\n",
            "\t-116.4901\t = Validation score   (root_mean_squared_error)\n",
            "\t8.56s\t = Training   runtime\n",
            "\t0.11s\t = Validation runtime\n",
            "Fitting model: RandomForestMSE_BAG_L2 ... Training model for up to 177.59s of the 177.57s of remaining time.\n",
            "\t-118.7637\t = Validation score   (root_mean_squared_error)\n",
            "\t35.41s\t = Training   runtime\n",
            "\t0.58s\t = Validation runtime\n",
            "Fitting model: CatBoost_BAG_L2 ... Training model for up to 140.6s of the 140.58s of remaining time.\n",
            "\t-116.2881\t = Validation score   (root_mean_squared_error)\n",
            "\t31.63s\t = Training   runtime\n",
            "\t0.04s\t = Validation runtime\n",
            "Fitting model: ExtraTreesMSE_BAG_L2 ... Training model for up to 108.85s of the 108.83s of remaining time.\n",
            "\t-117.518\t = Validation score   (root_mean_squared_error)\n",
            "\t7.88s\t = Training   runtime\n",
            "\t0.58s\t = Validation runtime\n",
            "Fitting model: NeuralNetFastAI_BAG_L2 ... Training model for up to 99.52s of the 99.5s of remaining time.\n",
            "\tRan out of time, stopping training early. (Stopping on epoch 17)\n",
            "\tRan out of time, stopping training early. (Stopping on epoch 17)\n",
            "\tRan out of time, stopping training early. (Stopping on epoch 18)\n",
            "\tRan out of time, stopping training early. (Stopping on epoch 19)\n",
            "\tRan out of time, stopping training early. (Stopping on epoch 19)\n",
            "\tRan out of time, stopping training early. (Stopping on epoch 20)\n",
            "\tRan out of time, stopping training early. (Stopping on epoch 21)\n",
            "\tRan out of time, stopping training early. (Stopping on epoch 22)\n",
            "\tRan out of time, stopping training early. (Stopping on epoch 25)\n",
            "\t-115.1604\t = Validation score   (root_mean_squared_error)\n",
            "\t94.5s\t = Training   runtime\n",
            "\t0.42s\t = Validation runtime\n",
            "Fitting model: XGBoost_BAG_L2 ... Training model for up to 4.3s of the 4.28s of remaining time.\n",
            "\t-117.5664\t = Validation score   (root_mean_squared_error)\n",
            "\t4.08s\t = Training   runtime\n",
            "\t0.07s\t = Validation runtime\n",
            "Fitting model: NeuralNetMXNet_BAG_L2 ... Training model for up to 0.01s of the -0.0s of remaining time.\n",
            "\tTime limit exceeded... Skipping NeuralNetMXNet_BAG_L2.\n",
            "Completed 1/20 k-fold bagging repeats ...\n",
            "Fitting model: WeightedEnsemble_L3 ... Training model for up to 360.0s of the -0.55s of remaining time.\n",
            "\t-114.4334\t = Validation score   (root_mean_squared_error)\n",
            "\t0.42s\t = Training   runtime\n",
            "\t0.0s\t = Validation runtime\n",
            "AutoGluon training complete, total runtime = 601.0s ...\n",
            "TabularPredictor saved. To load, use: predictor = TabularPredictor.load(\"AutogluonModels/ag-20211126_144138/\")\n"
          ]
        }
      ]
    },
    {
      "cell_type": "markdown",
      "metadata": {
        "id": "zR7jp_bcyvNq"
      },
      "source": [
        "### Review AutoGluon's training run with ranking of models that did the best."
      ]
    },
    {
      "cell_type": "code",
      "metadata": {
        "colab": {
          "base_uri": "https://localhost:8080/"
        },
        "id": "Du8cFBVJyvNq",
        "outputId": "3d9c0e88-87b9-4b71-b6b7-5414e9be197c"
      },
      "source": [
        "predictor.fit_summary()"
      ],
      "execution_count": null,
      "outputs": [
        {
          "output_type": "stream",
          "name": "stdout",
          "text": [
            "*** Summary of fit() ***\n",
            "Estimated performance of each model:\n",
            "                     model   score_val  pred_time_val    fit_time  pred_time_val_marginal  fit_time_marginal  stack_level  can_infer  fit_order\n",
            "0      WeightedEnsemble_L3 -114.433446       7.162959  497.504349                0.000772           0.420585            3       True         20\n",
            "1   NeuralNetFastAI_BAG_L2 -115.160366       6.757299  476.613363                0.419031          94.500369            2       True         18\n",
            "2        LightGBMXT_BAG_L2 -115.537399       6.637498  394.019864                0.299231          11.906870            2       True         13\n",
            "3          CatBoost_BAG_L2 -116.288122       6.382237  413.744256                0.043970          31.631263            2       True         16\n",
            "4          LightGBM_BAG_L2 -116.490137       6.443925  390.676525                0.105658           8.563531            2       True         14\n",
            "5     ExtraTreesMSE_BAG_L2 -117.518045       6.917604  389.990469                0.579337           7.877475            2       True         17\n",
            "6           XGBoost_BAG_L2 -117.566440       6.408203  386.193404                0.069936           4.080410            2       True         19\n",
            "7      WeightedEnsemble_L2 -118.433658       2.137461  100.008995                0.000759           0.619769            2       True         12\n",
            "8   RandomForestMSE_BAG_L1 -118.456660       0.452049    7.902071                0.452049           7.902071            1       True          5\n",
            "9   RandomForestMSE_BAG_L2 -118.763704       6.917250  417.525957                0.578983          35.412963            2       True         15\n",
            "10    ExtraTreesMSE_BAG_L1 -128.733445       0.461857    3.455589                0.461857           3.455589            1       True          7\n",
            "11         LightGBM_BAG_L1 -132.286410       0.535884   13.189187                0.535884          13.189187            1       True          4\n",
            "12          XGBoost_BAG_L1 -132.308522       0.184043   16.132434                0.184043          16.132434            1       True          9\n",
            "13         CatBoost_BAG_L1 -132.349692       0.053058   60.219870                0.053058          60.219870            1       True          6\n",
            "14       LightGBMXT_BAG_L1 -134.088334       2.351762   48.598700                2.351762          48.598700            1       True          3\n",
            "15  NeuralNetFastAI_BAG_L1 -138.740708       0.338596  138.001250                0.338596         138.001250            1       True          8\n",
            "16    LightGBMLarge_BAG_L1 -139.758944       0.067478    3.069933                0.067478           3.069933            1       True         11\n",
            "17   NeuralNetMXNet_BAG_L1 -143.780553       1.684653   91.487154                1.684653          91.487154            1       True         10\n",
            "18   KNeighborsUnif_BAG_L1 -160.412950       0.103771    0.030175                0.103771           0.030175            1       True          1\n",
            "19   KNeighborsDist_BAG_L1 -169.551983       0.105116    0.026631                0.105116           0.026631            1       True          2\n",
            "Number of models trained: 20\n",
            "Types of models trained:\n",
            "{'StackerEnsembleModel_NNFastAiTabular', 'StackerEnsembleModel_XT', 'StackerEnsembleModel_RF', 'StackerEnsembleModel_LGB', 'StackerEnsembleModel_CatBoost', 'StackerEnsembleModel_XGBoost', 'StackerEnsembleModel_KNN', 'WeightedEnsembleModel', 'StackerEnsembleModel_TabularNeuralNet'}\n",
            "Bagging used: True  (with 10 folds)\n",
            "Multi-layer stack-ensembling used: True  (with 3 levels)\n",
            "Feature Metadata (Processed):\n",
            "(raw dtype, special dtypes):\n",
            "('float', [])                : 3 | ['temp', 'atemp', 'windspeed']\n",
            "('int', [])                  : 3 | ['season', 'weather', 'humidity']\n",
            "('int', ['bool'])            : 2 | ['holiday', 'workingday']\n",
            "('int', ['datetime_as_int']) : 1 | ['datetime']\n",
            "Plot summary of models saved to file: AutogluonModels/ag-20211126_144138/SummaryOfModels.html\n",
            "*** End of fit() summary ***\n"
          ]
        },
        {
          "output_type": "execute_result",
          "data": {
            "text/plain": [
              "{'leaderboard':                      model   score_val  ...  can_infer  fit_order\n",
              " 0      WeightedEnsemble_L3 -114.433446  ...       True         20\n",
              " 1   NeuralNetFastAI_BAG_L2 -115.160366  ...       True         18\n",
              " 2        LightGBMXT_BAG_L2 -115.537399  ...       True         13\n",
              " 3          CatBoost_BAG_L2 -116.288122  ...       True         16\n",
              " 4          LightGBM_BAG_L2 -116.490137  ...       True         14\n",
              " 5     ExtraTreesMSE_BAG_L2 -117.518045  ...       True         17\n",
              " 6           XGBoost_BAG_L2 -117.566440  ...       True         19\n",
              " 7      WeightedEnsemble_L2 -118.433658  ...       True         12\n",
              " 8   RandomForestMSE_BAG_L1 -118.456660  ...       True          5\n",
              " 9   RandomForestMSE_BAG_L2 -118.763704  ...       True         15\n",
              " 10    ExtraTreesMSE_BAG_L1 -128.733445  ...       True          7\n",
              " 11         LightGBM_BAG_L1 -132.286410  ...       True          4\n",
              " 12          XGBoost_BAG_L1 -132.308522  ...       True          9\n",
              " 13         CatBoost_BAG_L1 -132.349692  ...       True          6\n",
              " 14       LightGBMXT_BAG_L1 -134.088334  ...       True          3\n",
              " 15  NeuralNetFastAI_BAG_L1 -138.740708  ...       True          8\n",
              " 16    LightGBMLarge_BAG_L1 -139.758944  ...       True         11\n",
              " 17   NeuralNetMXNet_BAG_L1 -143.780553  ...       True         10\n",
              " 18   KNeighborsUnif_BAG_L1 -160.412950  ...       True          1\n",
              " 19   KNeighborsDist_BAG_L1 -169.551983  ...       True          2\n",
              " \n",
              " [20 rows x 9 columns],\n",
              " 'max_stack_level': 3,\n",
              " 'model_best': 'WeightedEnsemble_L3',\n",
              " 'model_fit_times': {'CatBoost_BAG_L1': 60.2198703289032,\n",
              "  'CatBoost_BAG_L2': 31.63126277923584,\n",
              "  'ExtraTreesMSE_BAG_L1': 3.4555890560150146,\n",
              "  'ExtraTreesMSE_BAG_L2': 7.877475261688232,\n",
              "  'KNeighborsDist_BAG_L1': 0.026630640029907227,\n",
              "  'KNeighborsUnif_BAG_L1': 0.030174732208251953,\n",
              "  'LightGBMLarge_BAG_L1': 3.0699329376220703,\n",
              "  'LightGBMXT_BAG_L1': 48.59870004653931,\n",
              "  'LightGBMXT_BAG_L2': 11.906870365142822,\n",
              "  'LightGBM_BAG_L1': 13.189186811447144,\n",
              "  'LightGBM_BAG_L2': 8.563531398773193,\n",
              "  'NeuralNetFastAI_BAG_L1': 138.00124955177307,\n",
              "  'NeuralNetFastAI_BAG_L2': 94.50036907196045,\n",
              "  'NeuralNetMXNet_BAG_L1': 91.48715448379517,\n",
              "  'RandomForestMSE_BAG_L1': 7.902071475982666,\n",
              "  'RandomForestMSE_BAG_L2': 35.41296315193176,\n",
              "  'WeightedEnsemble_L2': 0.6197686195373535,\n",
              "  'WeightedEnsemble_L3': 0.42058491706848145,\n",
              "  'XGBoost_BAG_L1': 16.132433652877808,\n",
              "  'XGBoost_BAG_L2': 4.080410480499268},\n",
              " 'model_hyperparams': {'CatBoost_BAG_L1': {'max_base_models': 25,\n",
              "   'max_base_models_per_type': 5,\n",
              "   'save_bag_folds': True,\n",
              "   'use_orig_features': True},\n",
              "  'CatBoost_BAG_L2': {'max_base_models': 25,\n",
              "   'max_base_models_per_type': 5,\n",
              "   'save_bag_folds': True,\n",
              "   'use_orig_features': True},\n",
              "  'ExtraTreesMSE_BAG_L1': {'max_base_models': 25,\n",
              "   'max_base_models_per_type': 5,\n",
              "   'save_bag_folds': True,\n",
              "   'use_child_oof': True,\n",
              "   'use_orig_features': True},\n",
              "  'ExtraTreesMSE_BAG_L2': {'max_base_models': 25,\n",
              "   'max_base_models_per_type': 5,\n",
              "   'save_bag_folds': True,\n",
              "   'use_child_oof': True,\n",
              "   'use_orig_features': True},\n",
              "  'KNeighborsDist_BAG_L1': {'max_base_models': 25,\n",
              "   'max_base_models_per_type': 5,\n",
              "   'save_bag_folds': True,\n",
              "   'use_child_oof': True,\n",
              "   'use_orig_features': True},\n",
              "  'KNeighborsUnif_BAG_L1': {'max_base_models': 25,\n",
              "   'max_base_models_per_type': 5,\n",
              "   'save_bag_folds': True,\n",
              "   'use_child_oof': True,\n",
              "   'use_orig_features': True},\n",
              "  'LightGBMLarge_BAG_L1': {'max_base_models': 25,\n",
              "   'max_base_models_per_type': 5,\n",
              "   'save_bag_folds': True,\n",
              "   'use_orig_features': True},\n",
              "  'LightGBMXT_BAG_L1': {'max_base_models': 25,\n",
              "   'max_base_models_per_type': 5,\n",
              "   'save_bag_folds': True,\n",
              "   'use_orig_features': True},\n",
              "  'LightGBMXT_BAG_L2': {'max_base_models': 25,\n",
              "   'max_base_models_per_type': 5,\n",
              "   'save_bag_folds': True,\n",
              "   'use_orig_features': True},\n",
              "  'LightGBM_BAG_L1': {'max_base_models': 25,\n",
              "   'max_base_models_per_type': 5,\n",
              "   'save_bag_folds': True,\n",
              "   'use_orig_features': True},\n",
              "  'LightGBM_BAG_L2': {'max_base_models': 25,\n",
              "   'max_base_models_per_type': 5,\n",
              "   'save_bag_folds': True,\n",
              "   'use_orig_features': True},\n",
              "  'NeuralNetFastAI_BAG_L1': {'max_base_models': 25,\n",
              "   'max_base_models_per_type': 5,\n",
              "   'save_bag_folds': True,\n",
              "   'use_orig_features': True},\n",
              "  'NeuralNetFastAI_BAG_L2': {'max_base_models': 25,\n",
              "   'max_base_models_per_type': 5,\n",
              "   'save_bag_folds': True,\n",
              "   'use_orig_features': True},\n",
              "  'NeuralNetMXNet_BAG_L1': {'max_base_models': 25,\n",
              "   'max_base_models_per_type': 5,\n",
              "   'save_bag_folds': True,\n",
              "   'use_orig_features': True},\n",
              "  'RandomForestMSE_BAG_L1': {'max_base_models': 25,\n",
              "   'max_base_models_per_type': 5,\n",
              "   'save_bag_folds': True,\n",
              "   'use_child_oof': True,\n",
              "   'use_orig_features': True},\n",
              "  'RandomForestMSE_BAG_L2': {'max_base_models': 25,\n",
              "   'max_base_models_per_type': 5,\n",
              "   'save_bag_folds': True,\n",
              "   'use_child_oof': True,\n",
              "   'use_orig_features': True},\n",
              "  'WeightedEnsemble_L2': {'max_base_models': 25,\n",
              "   'max_base_models_per_type': 5,\n",
              "   'save_bag_folds': True,\n",
              "   'use_orig_features': False},\n",
              "  'WeightedEnsemble_L3': {'max_base_models': 25,\n",
              "   'max_base_models_per_type': 5,\n",
              "   'save_bag_folds': True,\n",
              "   'use_orig_features': False},\n",
              "  'XGBoost_BAG_L1': {'max_base_models': 25,\n",
              "   'max_base_models_per_type': 5,\n",
              "   'save_bag_folds': True,\n",
              "   'use_orig_features': True},\n",
              "  'XGBoost_BAG_L2': {'max_base_models': 25,\n",
              "   'max_base_models_per_type': 5,\n",
              "   'save_bag_folds': True,\n",
              "   'use_orig_features': True}},\n",
              " 'model_paths': {'CatBoost_BAG_L1': 'AutogluonModels/ag-20211126_144138/models/CatBoost_BAG_L1/',\n",
              "  'CatBoost_BAG_L2': 'AutogluonModels/ag-20211126_144138/models/CatBoost_BAG_L2/',\n",
              "  'ExtraTreesMSE_BAG_L1': 'AutogluonModels/ag-20211126_144138/models/ExtraTreesMSE_BAG_L1/',\n",
              "  'ExtraTreesMSE_BAG_L2': 'AutogluonModels/ag-20211126_144138/models/ExtraTreesMSE_BAG_L2/',\n",
              "  'KNeighborsDist_BAG_L1': 'AutogluonModels/ag-20211126_144138/models/KNeighborsDist_BAG_L1/',\n",
              "  'KNeighborsUnif_BAG_L1': 'AutogluonModels/ag-20211126_144138/models/KNeighborsUnif_BAG_L1/',\n",
              "  'LightGBMLarge_BAG_L1': 'AutogluonModels/ag-20211126_144138/models/LightGBMLarge_BAG_L1/',\n",
              "  'LightGBMXT_BAG_L1': 'AutogluonModels/ag-20211126_144138/models/LightGBMXT_BAG_L1/',\n",
              "  'LightGBMXT_BAG_L2': 'AutogluonModels/ag-20211126_144138/models/LightGBMXT_BAG_L2/',\n",
              "  'LightGBM_BAG_L1': 'AutogluonModels/ag-20211126_144138/models/LightGBM_BAG_L1/',\n",
              "  'LightGBM_BAG_L2': 'AutogluonModels/ag-20211126_144138/models/LightGBM_BAG_L2/',\n",
              "  'NeuralNetFastAI_BAG_L1': 'AutogluonModels/ag-20211126_144138/models/NeuralNetFastAI_BAG_L1/',\n",
              "  'NeuralNetFastAI_BAG_L2': 'AutogluonModels/ag-20211126_144138/models/NeuralNetFastAI_BAG_L2/',\n",
              "  'NeuralNetMXNet_BAG_L1': 'AutogluonModels/ag-20211126_144138/models/NeuralNetMXNet_BAG_L1/',\n",
              "  'RandomForestMSE_BAG_L1': 'AutogluonModels/ag-20211126_144138/models/RandomForestMSE_BAG_L1/',\n",
              "  'RandomForestMSE_BAG_L2': 'AutogluonModels/ag-20211126_144138/models/RandomForestMSE_BAG_L2/',\n",
              "  'WeightedEnsemble_L2': 'AutogluonModels/ag-20211126_144138/models/WeightedEnsemble_L2/',\n",
              "  'WeightedEnsemble_L3': 'AutogluonModels/ag-20211126_144138/models/WeightedEnsemble_L3/',\n",
              "  'XGBoost_BAG_L1': 'AutogluonModels/ag-20211126_144138/models/XGBoost_BAG_L1/',\n",
              "  'XGBoost_BAG_L2': 'AutogluonModels/ag-20211126_144138/models/XGBoost_BAG_L2/'},\n",
              " 'model_performance': {'CatBoost_BAG_L1': -132.3496915713461,\n",
              "  'CatBoost_BAG_L2': -116.2881218088439,\n",
              "  'ExtraTreesMSE_BAG_L1': -128.73344506216944,\n",
              "  'ExtraTreesMSE_BAG_L2': -117.51804484731585,\n",
              "  'KNeighborsDist_BAG_L1': -169.55198317920082,\n",
              "  'KNeighborsUnif_BAG_L1': -160.41294976754526,\n",
              "  'LightGBMLarge_BAG_L1': -139.75894449568955,\n",
              "  'LightGBMXT_BAG_L1': -134.08833420116997,\n",
              "  'LightGBMXT_BAG_L2': -115.53739868513489,\n",
              "  'LightGBM_BAG_L1': -132.28640961443512,\n",
              "  'LightGBM_BAG_L2': -116.49013747512383,\n",
              "  'NeuralNetFastAI_BAG_L1': -138.74070759805582,\n",
              "  'NeuralNetFastAI_BAG_L2': -115.16036607407882,\n",
              "  'NeuralNetMXNet_BAG_L1': -143.78055276901108,\n",
              "  'RandomForestMSE_BAG_L1': -118.45666016795751,\n",
              "  'RandomForestMSE_BAG_L2': -118.76370404053104,\n",
              "  'WeightedEnsemble_L2': -118.43365761385817,\n",
              "  'WeightedEnsemble_L3': -114.43344615292717,\n",
              "  'XGBoost_BAG_L1': -132.30852184526844,\n",
              "  'XGBoost_BAG_L2': -117.56644019329069},\n",
              " 'model_pred_times': {'CatBoost_BAG_L1': 0.05305814743041992,\n",
              "  'CatBoost_BAG_L2': 0.04396963119506836,\n",
              "  'ExtraTreesMSE_BAG_L1': 0.4618566036224365,\n",
              "  'ExtraTreesMSE_BAG_L2': 0.5793371200561523,\n",
              "  'KNeighborsDist_BAG_L1': 0.10511612892150879,\n",
              "  'KNeighborsUnif_BAG_L1': 0.10377097129821777,\n",
              "  'LightGBMLarge_BAG_L1': 0.06747770309448242,\n",
              "  'LightGBMXT_BAG_L1': 2.351762294769287,\n",
              "  'LightGBMXT_BAG_L2': 0.29923081398010254,\n",
              "  'LightGBM_BAG_L1': 0.5358841419219971,\n",
              "  'LightGBM_BAG_L2': 0.10565757751464844,\n",
              "  'NeuralNetFastAI_BAG_L1': 0.3385958671569824,\n",
              "  'NeuralNetFastAI_BAG_L2': 0.41903138160705566,\n",
              "  'NeuralNetMXNet_BAG_L1': 1.6846528053283691,\n",
              "  'RandomForestMSE_BAG_L1': 0.45204925537109375,\n",
              "  'RandomForestMSE_BAG_L2': 0.5789830684661865,\n",
              "  'WeightedEnsemble_L2': 0.0007586479187011719,\n",
              "  'WeightedEnsemble_L3': 0.0007719993591308594,\n",
              "  'XGBoost_BAG_L1': 0.18404340744018555,\n",
              "  'XGBoost_BAG_L2': 0.06993556022644043},\n",
              " 'model_types': {'CatBoost_BAG_L1': 'StackerEnsembleModel_CatBoost',\n",
              "  'CatBoost_BAG_L2': 'StackerEnsembleModel_CatBoost',\n",
              "  'ExtraTreesMSE_BAG_L1': 'StackerEnsembleModel_XT',\n",
              "  'ExtraTreesMSE_BAG_L2': 'StackerEnsembleModel_XT',\n",
              "  'KNeighborsDist_BAG_L1': 'StackerEnsembleModel_KNN',\n",
              "  'KNeighborsUnif_BAG_L1': 'StackerEnsembleModel_KNN',\n",
              "  'LightGBMLarge_BAG_L1': 'StackerEnsembleModel_LGB',\n",
              "  'LightGBMXT_BAG_L1': 'StackerEnsembleModel_LGB',\n",
              "  'LightGBMXT_BAG_L2': 'StackerEnsembleModel_LGB',\n",
              "  'LightGBM_BAG_L1': 'StackerEnsembleModel_LGB',\n",
              "  'LightGBM_BAG_L2': 'StackerEnsembleModel_LGB',\n",
              "  'NeuralNetFastAI_BAG_L1': 'StackerEnsembleModel_NNFastAiTabular',\n",
              "  'NeuralNetFastAI_BAG_L2': 'StackerEnsembleModel_NNFastAiTabular',\n",
              "  'NeuralNetMXNet_BAG_L1': 'StackerEnsembleModel_TabularNeuralNet',\n",
              "  'RandomForestMSE_BAG_L1': 'StackerEnsembleModel_RF',\n",
              "  'RandomForestMSE_BAG_L2': 'StackerEnsembleModel_RF',\n",
              "  'WeightedEnsemble_L2': 'WeightedEnsembleModel',\n",
              "  'WeightedEnsemble_L3': 'WeightedEnsembleModel',\n",
              "  'XGBoost_BAG_L1': 'StackerEnsembleModel_XGBoost',\n",
              "  'XGBoost_BAG_L2': 'StackerEnsembleModel_XGBoost'},\n",
              " 'num_bag_folds': 10}"
            ]
          },
          "metadata": {},
          "execution_count": 17
        }
      ]
    },
    {
      "cell_type": "markdown",
      "metadata": {
        "id": "pD5PISoKyvNq"
      },
      "source": [
        "### Create predictions from test dataset"
      ]
    },
    {
      "cell_type": "code",
      "metadata": {
        "colab": {
          "base_uri": "https://localhost:8080/"
        },
        "id": "AEJmk3NYyvNq",
        "outputId": "8b934c78-58bd-4f07-f3d4-243af4023407"
      },
      "source": [
        "predictions = predictor.predict(test)\n",
        "predictions.head()"
      ],
      "execution_count": null,
      "outputs": [
        {
          "output_type": "execute_result",
          "data": {
            "text/plain": [
              "0     96.798645\n",
              "1     92.393089\n",
              "2     92.394653\n",
              "3    107.043861\n",
              "4    106.994858\n",
              "Name: count, dtype: float32"
            ]
          },
          "metadata": {},
          "execution_count": 18
        }
      ]
    },
    {
      "cell_type": "code",
      "metadata": {
        "colab": {
          "base_uri": "https://localhost:8080/"
        },
        "id": "FxYM-zNituQ0",
        "outputId": "0cb4f38a-858c-4f6e-dea2-c7aaa4480797"
      },
      "source": [
        "predictions.shape"
      ],
      "execution_count": null,
      "outputs": [
        {
          "output_type": "execute_result",
          "data": {
            "text/plain": [
              "(6493,)"
            ]
          },
          "metadata": {},
          "execution_count": 19
        }
      ]
    },
    {
      "cell_type": "code",
      "metadata": {
        "colab": {
          "base_uri": "https://localhost:8080/"
        },
        "id": "pBAkC82ztzdu",
        "outputId": "389e0995-754e-4ef5-bd8b-b6c4178faf46"
      },
      "source": [
        "test.shape"
      ],
      "execution_count": null,
      "outputs": [
        {
          "output_type": "execute_result",
          "data": {
            "text/plain": [
              "(6493, 9)"
            ]
          },
          "metadata": {},
          "execution_count": 20
        }
      ]
    },
    {
      "cell_type": "code",
      "metadata": {
        "colab": {
          "base_uri": "https://localhost:8080/"
        },
        "id": "78-XcGU6t_I-",
        "outputId": "b5634d49-aced-439e-dd0a-7fcde5379049"
      },
      "source": [
        "test.columns"
      ],
      "execution_count": null,
      "outputs": [
        {
          "output_type": "execute_result",
          "data": {
            "text/plain": [
              "Index(['datetime', 'season', 'holiday', 'workingday', 'weather', 'temp',\n",
              "       'atemp', 'humidity', 'windspeed'],\n",
              "      dtype='object')"
            ]
          },
          "metadata": {},
          "execution_count": 21
        }
      ]
    },
    {
      "cell_type": "code",
      "metadata": {
        "colab": {
          "base_uri": "https://localhost:8080/",
          "height": 427
        },
        "id": "Y2E9tQK1_496",
        "outputId": "3f2e5213-d113-4c74-86e0-d7b14dcb52f6"
      },
      "source": [
        "predictor.leaderboard(silent=True).plot(kind='bar', x='model', y='score_val')"
      ],
      "execution_count": null,
      "outputs": [
        {
          "output_type": "execute_result",
          "data": {
            "text/plain": [
              "<matplotlib.axes._subplots.AxesSubplot at 0x7fe921573050>"
            ]
          },
          "metadata": {},
          "execution_count": 22
        },
        {
          "output_type": "display_data",
          "data": {
            "image/png": "[encoded data removed]",
            "text/plain": [
              "<Figure size 432x288 with 1 Axes>"
            ]
          },
          "metadata": {
            "needs_background": "light"
          }
        }
      ]
    },
    {
      "cell_type": "markdown",
      "metadata": {
        "id": "0068e3IuyvNr"
      },
      "source": [
        "#### NOTE: Kaggle will reject the submission if we don't set everything to be > 0."
      ]
    },
    {
      "cell_type": "code",
      "metadata": {
        "colab": {
          "base_uri": "https://localhost:8080/"
        },
        "id": "ybx7rwTyyvNr",
        "outputId": "60b2d7e4-dda4-4555-d92d-01c2bad59edd"
      },
      "source": [
        "# Describe the `predictions` series to see if there are any negative values\n",
        "predictions.describe()"
      ],
      "execution_count": null,
      "outputs": [
        {
          "output_type": "execute_result",
          "data": {
            "text/plain": [
              "count    6493.000000\n",
              "mean      211.432541\n",
              "std       130.810455\n",
              "min       -17.065561\n",
              "25%       105.364456\n",
              "50%       193.101807\n",
              "75%       298.395294\n",
              "max       674.020142\n",
              "Name: count, dtype: float64"
            ]
          },
          "metadata": {},
          "execution_count": 23
        }
      ]
    },
    {
      "cell_type": "code",
      "metadata": {
        "colab": {
          "base_uri": "https://localhost:8080/"
        },
        "id": "UXvqeb7XyvNr",
        "outputId": "227ec296-08ee-4d80-e155-23c528f1171a"
      },
      "source": [
        "# How many negative values do we have?\n",
        "predictions[predictions<0]"
      ],
      "execution_count": null,
      "outputs": [
        {
          "output_type": "execute_result",
          "data": {
            "text/plain": [
              "154     -3.145179\n",
              "3393   -13.221265\n",
              "5551    -8.478511\n",
              "6024   -17.065561\n",
              "Name: count, dtype: float32"
            ]
          },
          "metadata": {},
          "execution_count": 24
        }
      ]
    },
    {
      "cell_type": "code",
      "metadata": {
        "colab": {
          "base_uri": "https://localhost:8080/"
        },
        "id": "kLfbeHP6yvNr",
        "outputId": "487a00d9-a69c-4b14-b2b7-69b6f8d92f0b"
      },
      "source": [
        "# Set them to zero\n",
        "predictions[predictions<0] = 0\n",
        "predictions.describe()"
      ],
      "execution_count": null,
      "outputs": [
        {
          "output_type": "execute_result",
          "data": {
            "text/plain": [
              "count    6493.000000\n",
              "mean      211.439011\n",
              "std       130.799698\n",
              "min         0.000000\n",
              "25%       105.364456\n",
              "50%       193.101807\n",
              "75%       298.395294\n",
              "max       674.020142\n",
              "Name: count, dtype: float64"
            ]
          },
          "metadata": {},
          "execution_count": 25
        }
      ]
    },
    {
      "cell_type": "markdown",
      "metadata": {
        "id": "rxB7w5jSyvNs"
      },
      "source": [
        "### Set predictions to submission dataframe, save, and submit"
      ]
    },
    {
      "cell_type": "code",
      "metadata": {
        "colab": {
          "base_uri": "https://localhost:8080/",
          "height": 206
        },
        "id": "KOO8f4C3yvNs",
        "outputId": "6fd688d2-5925-4849-9855-8f0ec880b096"
      },
      "source": [
        "submission[\"count\"] = predictions\n",
        "submission.head()"
      ],
      "execution_count": null,
      "outputs": [
        {
          "output_type": "execute_result",
          "data": {
            "text/html": [
              "<div>\n",
              "<style scoped>\n",
              "    .dataframe tbody tr th:only-of-type {\n",
              "        vertical-align: middle;\n",
              "    }\n",
              "\n",
              "    .dataframe tbody tr th {\n",
              "        vertical-align: top;\n",
              "    }\n",
              "\n",
              "    .dataframe thead th {\n",
              "        text-align: right;\n",
              "    }\n",
              "</style>\n",
              "<table border=\"1\" class=\"dataframe\">\n",
              "  <thead>\n",
              "    <tr style=\"text-align: right;\">\n",
              "      <th></th>\n",
              "      <th>datetime</th>\n",
              "      <th>count</th>\n",
              "    </tr>\n",
              "  </thead>\n",
              "  <tbody>\n",
              "    <tr>\n",
              "      <th>0</th>\n",
              "      <td>2011-01-20 00:00:00</td>\n",
              "      <td>96.798645</td>\n",
              "    </tr>\n",
              "    <tr>\n",
              "      <th>1</th>\n",
              "      <td>2011-01-20 01:00:00</td>\n",
              "      <td>92.393089</td>\n",
              "    </tr>\n",
              "    <tr>\n",
              "      <th>2</th>\n",
              "      <td>2011-01-20 02:00:00</td>\n",
              "      <td>92.394653</td>\n",
              "    </tr>\n",
              "    <tr>\n",
              "      <th>3</th>\n",
              "      <td>2011-01-20 03:00:00</td>\n",
              "      <td>107.043861</td>\n",
              "    </tr>\n",
              "    <tr>\n",
              "      <th>4</th>\n",
              "      <td>2011-01-20 04:00:00</td>\n",
              "      <td>106.994858</td>\n",
              "    </tr>\n",
              "  </tbody>\n",
              "</table>\n",
              "</div>"
            ],
            "text/plain": [
              "             datetime       count\n",
              "0 2011-01-20 00:00:00   96.798645\n",
              "1 2011-01-20 01:00:00   92.393089\n",
              "2 2011-01-20 02:00:00   92.394653\n",
              "3 2011-01-20 03:00:00  107.043861\n",
              "4 2011-01-20 04:00:00  106.994858"
            ]
          },
          "metadata": {},
          "execution_count": 26
        }
      ]
    },
    {
      "cell_type": "code",
      "metadata": {
        "id": "pfmIORclKwDu"
      },
      "source": [
        "submission.to_csv(\"submission.csv\", index=False)"
      ],
      "execution_count": null,
      "outputs": []
    },
    {
      "cell_type": "code",
      "metadata": {
        "colab": {
          "base_uri": "https://localhost:8080/"
        },
        "id": "x9dLgdfGyvNs",
        "outputId": "b9ca72c9-f6ec-4575-d7db-e9f962182e6f"
      },
      "source": [
        "!kaggle competitions submit -c bike-sharing-demand -f submission.csv -m \"raw submission\""
      ],
      "execution_count": null,
      "outputs": [
        {
          "output_type": "stream",
          "name": "stdout",
          "text": [
            "Warning: Looks like you're using an outdated API Version, please consider updating (server 1.5.12 / client 1.5.4)\n",
            "100% 188k/188k [00:04<00:00, 39.1kB/s]\n",
            "Successfully submitted to Bike Sharing Demand"
          ]
        }
      ]
    },
    {
      "cell_type": "markdown",
      "metadata": {
        "id": "984uxUbAyvNs"
      },
      "source": [
        "#### View submission via the command line or in the web browser under the competition's page - `My Submissions`"
      ]
    },
    {
      "cell_type": "code",
      "metadata": {
        "colab": {
          "base_uri": "https://localhost:8080/"
        },
        "id": "yYEuCkEnyvNt",
        "outputId": "6230c7d9-28c6-4d9d-e16e-86c691c4133d"
      },
      "source": [
        "!kaggle competitions submissions -c bike-sharing-demand | tail -n +1 | head -n 6"
      ],
      "execution_count": null,
      "outputs": [
        {
          "output_type": "stream",
          "name": "stdout",
          "text": [
            "Warning: Looks like you're using an outdated API Version, please consider updating (server 1.5.12 / client 1.5.4)\n",
            "fileName                     date                 description                        status    publicScore  privateScore  \n",
            "---------------------------  -------------------  ---------------------------------  --------  -----------  ------------  \n",
            "submission.csv               2021-11-26 14:52:18  raw submission                     complete  1.39295      1.39295       \n",
            "submission_new_hpo.csv       2021-11-25 15:48:44  new features with hyperparameters  complete  0.53401      0.53401       \n",
            "submission_new_features.csv  2021-11-25 15:40:27  new features                       complete  0.54724      0.54724       \n"
          ]
        }
      ]
    },
    {
      "cell_type": "markdown",
      "metadata": {
        "id": "6X_8r-9YyvNt"
      },
      "source": [
        "#### Initial score of `?`"
      ]
    },
    {
      "cell_type": "markdown",
      "metadata": {
        "id": "6h4_D-_CyvNt"
      },
      "source": [
        "## Step 4: Exploratory Data Analysis and Creating an additional feature\n",
        "* Any additional feature will do, but a great suggestion would be to separate out the datetime into hour, day, or month parts."
      ]
    },
    {
      "cell_type": "code",
      "metadata": {
        "colab": {
          "base_uri": "https://localhost:8080/",
          "height": 455
        },
        "id": "bxPAC4FsyvNt",
        "outputId": "bd8afdb0-b0b8-43b1-f359-c0c76b956ea7"
      },
      "source": [
        "# Create a histogram of all features to show the distribution of each one relative to the data. This is part of the exploritory data analysis\n",
        "train.hist()"
      ],
      "execution_count": null,
      "outputs": [
        {
          "output_type": "execute_result",
          "data": {
            "text/plain": [
              "array([[<matplotlib.axes._subplots.AxesSubplot object at 0x7fe92133ff90>,\n",
              "        <matplotlib.axes._subplots.AxesSubplot object at 0x7fe920e7abd0>,\n",
              "        <matplotlib.axes._subplots.AxesSubplot object at 0x7fe9267d3210>],\n",
              "       [<matplotlib.axes._subplots.AxesSubplot object at 0x7fe926802810>,\n",
              "        <matplotlib.axes._subplots.AxesSubplot object at 0x7fe9267b2e10>,\n",
              "        <matplotlib.axes._subplots.AxesSubplot object at 0x7fe92676e450>],\n",
              "       [<matplotlib.axes._subplots.AxesSubplot object at 0x7fe92671dad0>,\n",
              "        <matplotlib.axes._subplots.AxesSubplot object at 0x7fe926745b90>,\n",
              "        <matplotlib.axes._subplots.AxesSubplot object at 0x7fe9266db090>]],\n",
              "      dtype=object)"
            ]
          },
          "metadata": {},
          "execution_count": 30
        },
        {
          "output_type": "display_data",
          "data": {
            "image/png": "[encoded data removed]",
            "text/plain": [
              "<Figure size 432x288 with 9 Axes>"
            ]
          },
          "metadata": {
            "needs_background": "light"
          }
        }
      ]
    },
    {
      "cell_type": "code",
      "metadata": {
        "id": "_tP4s4ZPQ5eN"
      },
      "source": [
        "#Create new features from datetime and drop datetime column\n",
        "train['day'] = train['datetime'].dt.day\n",
        "train['month'] = train['datetime'].dt.day\n",
        "train['hour'] = train['datetime'].dt.hour\n",
        "train.drop('datetime', axis=1, inplace=True)"
      ],
      "execution_count": null,
      "outputs": []
    },
    {
      "cell_type": "code",
      "metadata": {
        "colab": {
          "base_uri": "https://localhost:8080/",
          "height": 206
        },
        "id": "cocKMWLEQ5Vi",
        "outputId": "3ebcbdca-3c75-4cbc-b31a-184c2a5069da"
      },
      "source": [
        "train.head()"
      ],
      "execution_count": null,
      "outputs": [
        {
          "output_type": "execute_result",
          "data": {
            "text/html": [
              "<div>\n",
              "<style scoped>\n",
              "    .dataframe tbody tr th:only-of-type {\n",
              "        vertical-align: middle;\n",
              "    }\n",
              "\n",
              "    .dataframe tbody tr th {\n",
              "        vertical-align: top;\n",
              "    }\n",
              "\n",
              "    .dataframe thead th {\n",
              "        text-align: right;\n",
              "    }\n",
              "</style>\n",
              "<table border=\"1\" class=\"dataframe\">\n",
              "  <thead>\n",
              "    <tr style=\"text-align: right;\">\n",
              "      <th></th>\n",
              "      <th>season</th>\n",
              "      <th>holiday</th>\n",
              "      <th>workingday</th>\n",
              "      <th>weather</th>\n",
              "      <th>temp</th>\n",
              "      <th>atemp</th>\n",
              "      <th>humidity</th>\n",
              "      <th>windspeed</th>\n",
              "      <th>count</th>\n",
              "      <th>day</th>\n",
              "      <th>month</th>\n",
              "      <th>hour</th>\n",
              "    </tr>\n",
              "  </thead>\n",
              "  <tbody>\n",
              "    <tr>\n",
              "      <th>0</th>\n",
              "      <td>1</td>\n",
              "      <td>0</td>\n",
              "      <td>0</td>\n",
              "      <td>1</td>\n",
              "      <td>9.84</td>\n",
              "      <td>14.395</td>\n",
              "      <td>81</td>\n",
              "      <td>0.0</td>\n",
              "      <td>16</td>\n",
              "      <td>1</td>\n",
              "      <td>1</td>\n",
              "      <td>0</td>\n",
              "    </tr>\n",
              "    <tr>\n",
              "      <th>1</th>\n",
              "      <td>1</td>\n",
              "      <td>0</td>\n",
              "      <td>0</td>\n",
              "      <td>1</td>\n",
              "      <td>9.02</td>\n",
              "      <td>13.635</td>\n",
              "      <td>80</td>\n",
              "      <td>0.0</td>\n",
              "      <td>40</td>\n",
              "      <td>1</td>\n",
              "      <td>1</td>\n",
              "      <td>1</td>\n",
              "    </tr>\n",
              "    <tr>\n",
              "      <th>2</th>\n",
              "      <td>1</td>\n",
              "      <td>0</td>\n",
              "      <td>0</td>\n",
              "      <td>1</td>\n",
              "      <td>9.02</td>\n",
              "      <td>13.635</td>\n",
              "      <td>80</td>\n",
              "      <td>0.0</td>\n",
              "      <td>32</td>\n",
              "      <td>1</td>\n",
              "      <td>1</td>\n",
              "      <td>2</td>\n",
              "    </tr>\n",
              "    <tr>\n",
              "      <th>3</th>\n",
              "      <td>1</td>\n",
              "      <td>0</td>\n",
              "      <td>0</td>\n",
              "      <td>1</td>\n",
              "      <td>9.84</td>\n",
              "      <td>14.395</td>\n",
              "      <td>75</td>\n",
              "      <td>0.0</td>\n",
              "      <td>13</td>\n",
              "      <td>1</td>\n",
              "      <td>1</td>\n",
              "      <td>3</td>\n",
              "    </tr>\n",
              "    <tr>\n",
              "      <th>4</th>\n",
              "      <td>1</td>\n",
              "      <td>0</td>\n",
              "      <td>0</td>\n",
              "      <td>1</td>\n",
              "      <td>9.84</td>\n",
              "      <td>14.395</td>\n",
              "      <td>75</td>\n",
              "      <td>0.0</td>\n",
              "      <td>1</td>\n",
              "      <td>1</td>\n",
              "      <td>1</td>\n",
              "      <td>4</td>\n",
              "    </tr>\n",
              "  </tbody>\n",
              "</table>\n",
              "</div>"
            ],
            "text/plain": [
              "   season  holiday  workingday  weather  ...  count  day  month  hour\n",
              "0       1        0           0        1  ...     16    1      1     0\n",
              "1       1        0           0        1  ...     40    1      1     1\n",
              "2       1        0           0        1  ...     32    1      1     2\n",
              "3       1        0           0        1  ...     13    1      1     3\n",
              "4       1        0           0        1  ...      1    1      1     4\n",
              "\n",
              "[5 rows x 12 columns]"
            ]
          },
          "metadata": {},
          "execution_count": 32
        }
      ]
    },
    {
      "cell_type": "code",
      "metadata": {
        "id": "1VsFqwPlQ4Am"
      },
      "source": [
        "test['day'] = test['datetime'].dt.day\n",
        "test['month'] = test['datetime'].dt.day\n",
        "test['hour'] = test['datetime'].dt.hour\n",
        "test.drop('datetime', axis=1, inplace=True)"
      ],
      "execution_count": null,
      "outputs": []
    },
    {
      "cell_type": "code",
      "metadata": {
        "colab": {
          "base_uri": "https://localhost:8080/",
          "height": 206
        },
        "id": "vHHxoXYATGn8",
        "outputId": "77e23be0-c17a-4409-804f-1a7cfcae1506"
      },
      "source": [
        "test.head()"
      ],
      "execution_count": null,
      "outputs": [
        {
          "output_type": "execute_result",
          "data": {
            "text/html": [
              "<div>\n",
              "<style scoped>\n",
              "    .dataframe tbody tr th:only-of-type {\n",
              "        vertical-align: middle;\n",
              "    }\n",
              "\n",
              "    .dataframe tbody tr th {\n",
              "        vertical-align: top;\n",
              "    }\n",
              "\n",
              "    .dataframe thead th {\n",
              "        text-align: right;\n",
              "    }\n",
              "</style>\n",
              "<table border=\"1\" class=\"dataframe\">\n",
              "  <thead>\n",
              "    <tr style=\"text-align: right;\">\n",
              "      <th></th>\n",
              "      <th>season</th>\n",
              "      <th>holiday</th>\n",
              "      <th>workingday</th>\n",
              "      <th>weather</th>\n",
              "      <th>temp</th>\n",
              "      <th>atemp</th>\n",
              "      <th>humidity</th>\n",
              "      <th>windspeed</th>\n",
              "      <th>day</th>\n",
              "      <th>month</th>\n",
              "      <th>hour</th>\n",
              "    </tr>\n",
              "  </thead>\n",
              "  <tbody>\n",
              "    <tr>\n",
              "      <th>0</th>\n",
              "      <td>1</td>\n",
              "      <td>0</td>\n",
              "      <td>1</td>\n",
              "      <td>1</td>\n",
              "      <td>10.66</td>\n",
              "      <td>11.365</td>\n",
              "      <td>56</td>\n",
              "      <td>26.0027</td>\n",
              "      <td>20</td>\n",
              "      <td>20</td>\n",
              "      <td>0</td>\n",
              "    </tr>\n",
              "    <tr>\n",
              "      <th>1</th>\n",
              "      <td>1</td>\n",
              "      <td>0</td>\n",
              "      <td>1</td>\n",
              "      <td>1</td>\n",
              "      <td>10.66</td>\n",
              "      <td>13.635</td>\n",
              "      <td>56</td>\n",
              "      <td>0.0000</td>\n",
              "      <td>20</td>\n",
              "      <td>20</td>\n",
              "      <td>1</td>\n",
              "    </tr>\n",
              "    <tr>\n",
              "      <th>2</th>\n",
              "      <td>1</td>\n",
              "      <td>0</td>\n",
              "      <td>1</td>\n",
              "      <td>1</td>\n",
              "      <td>10.66</td>\n",
              "      <td>13.635</td>\n",
              "      <td>56</td>\n",
              "      <td>0.0000</td>\n",
              "      <td>20</td>\n",
              "      <td>20</td>\n",
              "      <td>2</td>\n",
              "    </tr>\n",
              "    <tr>\n",
              "      <th>3</th>\n",
              "      <td>1</td>\n",
              "      <td>0</td>\n",
              "      <td>1</td>\n",
              "      <td>1</td>\n",
              "      <td>10.66</td>\n",
              "      <td>12.880</td>\n",
              "      <td>56</td>\n",
              "      <td>11.0014</td>\n",
              "      <td>20</td>\n",
              "      <td>20</td>\n",
              "      <td>3</td>\n",
              "    </tr>\n",
              "    <tr>\n",
              "      <th>4</th>\n",
              "      <td>1</td>\n",
              "      <td>0</td>\n",
              "      <td>1</td>\n",
              "      <td>1</td>\n",
              "      <td>10.66</td>\n",
              "      <td>12.880</td>\n",
              "      <td>56</td>\n",
              "      <td>11.0014</td>\n",
              "      <td>20</td>\n",
              "      <td>20</td>\n",
              "      <td>4</td>\n",
              "    </tr>\n",
              "  </tbody>\n",
              "</table>\n",
              "</div>"
            ],
            "text/plain": [
              "   season  holiday  workingday  weather  ...  windspeed  day  month  hour\n",
              "0       1        0           1        1  ...    26.0027   20     20     0\n",
              "1       1        0           1        1  ...     0.0000   20     20     1\n",
              "2       1        0           1        1  ...     0.0000   20     20     2\n",
              "3       1        0           1        1  ...    11.0014   20     20     3\n",
              "4       1        0           1        1  ...    11.0014   20     20     4\n",
              "\n",
              "[5 rows x 11 columns]"
            ]
          },
          "metadata": {},
          "execution_count": 34
        }
      ]
    },
    {
      "cell_type": "markdown",
      "metadata": {
        "id": "kneaR5VQyvNu"
      },
      "source": [
        "## Make category types for these so models know they are not just numbers\n",
        "* AutoGluon originally sees these as ints, but in reality they are int representations of a category.\n",
        "* Setting the dtype to category will classify these as categories in AutoGluon."
      ]
    },
    {
      "cell_type": "code",
      "metadata": {
        "id": "hxLRs69vyvNu"
      },
      "source": [
        "train[\"season\"] = train['season'].astype('category')\n",
        "train[\"weather\"] = train['weather'].astype('category')\n",
        "test[\"season\"] = test['season'].astype('category')\n",
        "test[\"weather\"] = test['weather'].astype('category')"
      ],
      "execution_count": null,
      "outputs": []
    },
    {
      "cell_type": "code",
      "metadata": {
        "colab": {
          "base_uri": "https://localhost:8080/"
        },
        "id": "QWA0ZYDMTsH5",
        "outputId": "d68f1805-ed5f-4225-d878-5989c0ddfd1b"
      },
      "source": [
        "train.info()"
      ],
      "execution_count": null,
      "outputs": [
        {
          "output_type": "stream",
          "name": "stdout",
          "text": [
            "<class 'pandas.core.frame.DataFrame'>\n",
            "RangeIndex: 10886 entries, 0 to 10885\n",
            "Data columns (total 12 columns):\n",
            " #   Column      Non-Null Count  Dtype   \n",
            "---  ------      --------------  -----   \n",
            " 0   season      10886 non-null  category\n",
            " 1   holiday     10886 non-null  int64   \n",
            " 2   workingday  10886 non-null  int64   \n",
            " 3   weather     10886 non-null  category\n",
            " 4   temp        10886 non-null  float64 \n",
            " 5   atemp       10886 non-null  float64 \n",
            " 6   humidity    10886 non-null  int64   \n",
            " 7   windspeed   10886 non-null  float64 \n",
            " 8   count       10886 non-null  int64   \n",
            " 9   day         10886 non-null  int64   \n",
            " 10  month       10886 non-null  int64   \n",
            " 11  hour        10886 non-null  int64   \n",
            "dtypes: category(2), float64(3), int64(7)\n",
            "memory usage: 872.2 KB\n"
          ]
        }
      ]
    },
    {
      "cell_type": "code",
      "metadata": {
        "colab": {
          "base_uri": "https://localhost:8080/",
          "height": 206
        },
        "id": "XnfHRdq1yvNu",
        "outputId": "ea98c9a0-c007-4a98-f3b4-67257ef359d1"
      },
      "source": [
        "# View our new feature\n",
        "train.head()"
      ],
      "execution_count": null,
      "outputs": [
        {
          "output_type": "execute_result",
          "data": {
            "text/html": [
              "<div>\n",
              "<style scoped>\n",
              "    .dataframe tbody tr th:only-of-type {\n",
              "        vertical-align: middle;\n",
              "    }\n",
              "\n",
              "    .dataframe tbody tr th {\n",
              "        vertical-align: top;\n",
              "    }\n",
              "\n",
              "    .dataframe thead th {\n",
              "        text-align: right;\n",
              "    }\n",
              "</style>\n",
              "<table border=\"1\" class=\"dataframe\">\n",
              "  <thead>\n",
              "    <tr style=\"text-align: right;\">\n",
              "      <th></th>\n",
              "      <th>season</th>\n",
              "      <th>holiday</th>\n",
              "      <th>workingday</th>\n",
              "      <th>weather</th>\n",
              "      <th>temp</th>\n",
              "      <th>atemp</th>\n",
              "      <th>humidity</th>\n",
              "      <th>windspeed</th>\n",
              "      <th>count</th>\n",
              "      <th>day</th>\n",
              "      <th>month</th>\n",
              "      <th>hour</th>\n",
              "    </tr>\n",
              "  </thead>\n",
              "  <tbody>\n",
              "    <tr>\n",
              "      <th>0</th>\n",
              "      <td>1</td>\n",
              "      <td>0</td>\n",
              "      <td>0</td>\n",
              "      <td>1</td>\n",
              "      <td>9.84</td>\n",
              "      <td>14.395</td>\n",
              "      <td>81</td>\n",
              "      <td>0.0</td>\n",
              "      <td>16</td>\n",
              "      <td>1</td>\n",
              "      <td>1</td>\n",
              "      <td>0</td>\n",
              "    </tr>\n",
              "    <tr>\n",
              "      <th>1</th>\n",
              "      <td>1</td>\n",
              "      <td>0</td>\n",
              "      <td>0</td>\n",
              "      <td>1</td>\n",
              "      <td>9.02</td>\n",
              "      <td>13.635</td>\n",
              "      <td>80</td>\n",
              "      <td>0.0</td>\n",
              "      <td>40</td>\n",
              "      <td>1</td>\n",
              "      <td>1</td>\n",
              "      <td>1</td>\n",
              "    </tr>\n",
              "    <tr>\n",
              "      <th>2</th>\n",
              "      <td>1</td>\n",
              "      <td>0</td>\n",
              "      <td>0</td>\n",
              "      <td>1</td>\n",
              "      <td>9.02</td>\n",
              "      <td>13.635</td>\n",
              "      <td>80</td>\n",
              "      <td>0.0</td>\n",
              "      <td>32</td>\n",
              "      <td>1</td>\n",
              "      <td>1</td>\n",
              "      <td>2</td>\n",
              "    </tr>\n",
              "    <tr>\n",
              "      <th>3</th>\n",
              "      <td>1</td>\n",
              "      <td>0</td>\n",
              "      <td>0</td>\n",
              "      <td>1</td>\n",
              "      <td>9.84</td>\n",
              "      <td>14.395</td>\n",
              "      <td>75</td>\n",
              "      <td>0.0</td>\n",
              "      <td>13</td>\n",
              "      <td>1</td>\n",
              "      <td>1</td>\n",
              "      <td>3</td>\n",
              "    </tr>\n",
              "    <tr>\n",
              "      <th>4</th>\n",
              "      <td>1</td>\n",
              "      <td>0</td>\n",
              "      <td>0</td>\n",
              "      <td>1</td>\n",
              "      <td>9.84</td>\n",
              "      <td>14.395</td>\n",
              "      <td>75</td>\n",
              "      <td>0.0</td>\n",
              "      <td>1</td>\n",
              "      <td>1</td>\n",
              "      <td>1</td>\n",
              "      <td>4</td>\n",
              "    </tr>\n",
              "  </tbody>\n",
              "</table>\n",
              "</div>"
            ],
            "text/plain": [
              "  season  holiday  workingday weather  temp  ...  windspeed  count  day  month  hour\n",
              "0      1        0           0       1  9.84  ...        0.0     16    1      1     0\n",
              "1      1        0           0       1  9.02  ...        0.0     40    1      1     1\n",
              "2      1        0           0       1  9.02  ...        0.0     32    1      1     2\n",
              "3      1        0           0       1  9.84  ...        0.0     13    1      1     3\n",
              "4      1        0           0       1  9.84  ...        0.0      1    1      1     4\n",
              "\n",
              "[5 rows x 12 columns]"
            ]
          },
          "metadata": {},
          "execution_count": 37
        }
      ]
    },
    {
      "cell_type": "code",
      "metadata": {
        "colab": {
          "base_uri": "https://localhost:8080/",
          "height": 507
        },
        "id": "z9m8mN83yvNv",
        "outputId": "8a1dde1a-a4c3-4fe6-e73d-33f358f036d9"
      },
      "source": [
        "# View histogram of all features again now with the hour feature\n",
        "train.hist()"
      ],
      "execution_count": null,
      "outputs": [
        {
          "output_type": "execute_result",
          "data": {
            "text/plain": [
              "array([[<matplotlib.axes._subplots.AxesSubplot object at 0x7fe921593110>,\n",
              "        <matplotlib.axes._subplots.AxesSubplot object at 0x7fe9264b3210>,\n",
              "        <matplotlib.axes._subplots.AxesSubplot object at 0x7fe92645f650>],\n",
              "       [<matplotlib.axes._subplots.AxesSubplot object at 0x7fe926490b50>,\n",
              "        <matplotlib.axes._subplots.AxesSubplot object at 0x7fe92643bb90>,\n",
              "        <matplotlib.axes._subplots.AxesSubplot object at 0x7fe926402590>],\n",
              "       [<matplotlib.axes._subplots.AxesSubplot object at 0x7fe9263b5b10>,\n",
              "        <matplotlib.axes._subplots.AxesSubplot object at 0x7fe926368f90>,\n",
              "        <matplotlib.axes._subplots.AxesSubplot object at 0x7fe926376050>],\n",
              "       [<matplotlib.axes._subplots.AxesSubplot object at 0x7fe9263275d0>,\n",
              "        <matplotlib.axes._subplots.AxesSubplot object at 0x7fe92630ded0>,\n",
              "        <matplotlib.axes._subplots.AxesSubplot object at 0x7fe9262cb390>]],\n",
              "      dtype=object)"
            ]
          },
          "metadata": {},
          "execution_count": 38
        },
        {
          "output_type": "display_data",
          "data": {
            "image/png": "[encoded data removed]",
            "text/plain": [
              "<Figure size 432x288 with 12 Axes>"
            ]
          },
          "metadata": {
            "needs_background": "light"
          }
        }
      ]
    },
    {
      "cell_type": "markdown",
      "metadata": {
        "id": "3ziIgf0vyvNv"
      },
      "source": [
        "## Step 5: Rerun the model with the same settings as before, just with more features"
      ]
    },
    {
      "cell_type": "code",
      "metadata": {
        "colab": {
          "base_uri": "https://localhost:8080/"
        },
        "id": "Th07vsi4yvNv",
        "outputId": "cfef2b1c-23d2-417b-fe8d-1344b1926d9e"
      },
      "source": [
        "predictor_new_features = TabularPredictor(label='count', eval_metric='root_mean_squared_error').fit(train_data=train, time_limit=600, presets='best_quality')"
      ],
      "execution_count": null,
      "outputs": [
        {
          "output_type": "stream",
          "name": "stderr",
          "text": [
            "No path specified. Models will be saved in: \"AutogluonModels/ag-20211126_145224/\"\n",
            "Presets specified: ['best_quality']\n",
            "Beginning AutoGluon training ... Time limit = 600s\n",
            "AutoGluon will save models to \"AutogluonModels/ag-20211126_145224/\"\n",
            "AutoGluon Version:  0.3.1\n",
            "Train Data Rows:    10886\n",
            "Train Data Columns: 11\n",
            "Preprocessing data ...\n",
            "AutoGluon infers your prediction problem is: 'regression' (because dtype of label-column == int and many unique label-values observed).\n",
            "\tLabel info (max, min, mean, stddev): (977, 1, 191.57413, 181.14445)\n",
            "\tIf 'regression' is not the correct problem_type, please manually specify the problem_type argument in fit() (You may specify problem_type as one of: ['binary', 'multiclass', 'regression'])\n",
            "Using Feature Generators to preprocess the data ...\n",
            "Fitting AutoMLPipelineFeatureGenerator...\n",
            "\tAvailable Memory:                    11505.2 MB\n",
            "\tTrain Data (Original)  Memory Usage: 0.81 MB (0.0% of available memory)\n",
            "\tInferring data type of each feature based on column values. Set feature_metadata_in to manually specify special dtypes of the features.\n",
            "\tStage 1 Generators:\n",
            "\t\tFitting AsTypeFeatureGenerator...\n",
            "\t\t\tNote: Converting 2 features to boolean dtype as they only contain 2 unique values.\n",
            "\tStage 2 Generators:\n",
            "\t\tFitting FillNaFeatureGenerator...\n",
            "\tStage 3 Generators:\n",
            "\t\tFitting IdentityFeatureGenerator...\n",
            "\t\tFitting CategoryFeatureGenerator...\n",
            "\t\t\tFitting CategoryMemoryMinimizeFeatureGenerator...\n",
            "\tStage 4 Generators:\n",
            "\t\tFitting DropUniqueFeatureGenerator...\n",
            "\tTypes of features in original data (raw dtype, special dtypes):\n",
            "\t\t('category', []) : 2 | ['season', 'weather']\n",
            "\t\t('float', [])    : 3 | ['temp', 'atemp', 'windspeed']\n",
            "\t\t('int', [])      : 6 | ['holiday', 'workingday', 'humidity', 'day', 'month', ...]\n",
            "\tTypes of features in processed data (raw dtype, special dtypes):\n",
            "\t\t('category', [])  : 2 | ['season', 'weather']\n",
            "\t\t('float', [])     : 3 | ['temp', 'atemp', 'windspeed']\n",
            "\t\t('int', [])       : 4 | ['humidity', 'day', 'month', 'hour']\n",
            "\t\t('int', ['bool']) : 2 | ['holiday', 'workingday']\n",
            "\t0.2s = Fit runtime\n",
            "\t11 features in original data used to generate 11 features in processed data.\n",
            "\tTrain Data (Processed) Memory Usage: 0.65 MB (0.0% of available memory)\n",
            "Data preprocessing and feature engineering runtime = 0.24s ...\n",
            "AutoGluon will gauge predictive performance using evaluation metric: 'root_mean_squared_error'\n",
            "\tTo change this, specify the eval_metric argument of fit()\n",
            "AutoGluon will fit 2 stack levels (L1 to L2) ...\n",
            "Fitting 11 L1 models ...\n",
            "Fitting model: KNeighborsUnif_BAG_L1 ... Training model for up to 399.74s of the 599.75s of remaining time.\n",
            "\t-125.0614\t = Validation score   (root_mean_squared_error)\n",
            "\t0.03s\t = Training   runtime\n",
            "\t0.2s\t = Validation runtime\n",
            "Fitting model: KNeighborsDist_BAG_L1 ... Training model for up to 399.37s of the 599.38s of remaining time.\n",
            "\t-121.1944\t = Validation score   (root_mean_squared_error)\n",
            "\t0.03s\t = Training   runtime\n",
            "\t0.21s\t = Validation runtime\n",
            "Fitting model: LightGBMXT_BAG_L1 ... Training model for up to 398.99s of the 599.01s of remaining time.\n",
            "/usr/local/lib/python3.7/dist-packages/lightgbm/engine.py:239: UserWarning: 'verbose_eval' argument is deprecated and will be removed in a future release of LightGBM. Pass 'log_evaluation()' callback via 'callbacks' argument instead.\n",
            "  _log_warning(\"'verbose_eval' argument is deprecated and will be removed in a future release of LightGBM. \"\n"
          ]
        },
        {
          "output_type": "stream",
          "name": "stdout",
          "text": [
            "[1000]\ttrain_set's rmse: 49.6068\tvalid_set's rmse: 59.6232\n",
            "[2000]\ttrain_set's rmse: 42.1526\tvalid_set's rmse: 56.2143\n",
            "[3000]\ttrain_set's rmse: 37.8083\tvalid_set's rmse: 54.7827\n",
            "[4000]\ttrain_set's rmse: 34.6562\tvalid_set's rmse: 54.0087\n",
            "[5000]\ttrain_set's rmse: 32.1996\tvalid_set's rmse: 53.4257\n",
            "[6000]\ttrain_set's rmse: 30.1941\tvalid_set's rmse: 53.1765\n",
            "[7000]\ttrain_set's rmse: 28.4796\tvalid_set's rmse: 52.9611\n",
            "[8000]\ttrain_set's rmse: 27.0044\tvalid_set's rmse: 52.837\n",
            "[9000]\ttrain_set's rmse: 25.7209\tvalid_set's rmse: 52.7159\n",
            "[10000]\ttrain_set's rmse: 24.5623\tvalid_set's rmse: 52.5463\n"
          ]
        },
        {
          "output_type": "stream",
          "name": "stderr",
          "text": [
            "/usr/local/lib/python3.7/dist-packages/lightgbm/engine.py:239: UserWarning: 'verbose_eval' argument is deprecated and will be removed in a future release of LightGBM. Pass 'log_evaluation()' callback via 'callbacks' argument instead.\n",
            "  _log_warning(\"'verbose_eval' argument is deprecated and will be removed in a future release of LightGBM. \"\n"
          ]
        },
        {
          "output_type": "stream",
          "name": "stdout",
          "text": [
            "[1000]\ttrain_set's rmse: 49.8067\tvalid_set's rmse: 63.0333\n",
            "[2000]\ttrain_set's rmse: 42.4105\tvalid_set's rmse: 58.7229\n",
            "[3000]\ttrain_set's rmse: 37.9961\tvalid_set's rmse: 56.9389\n",
            "[4000]\ttrain_set's rmse: 34.8379\tvalid_set's rmse: 55.9781\n",
            "[5000]\ttrain_set's rmse: 32.3777\tvalid_set's rmse: 55.3729\n",
            "[6000]\ttrain_set's rmse: 30.4352\tvalid_set's rmse: 54.9933\n",
            "[7000]\ttrain_set's rmse: 28.7466\tvalid_set's rmse: 54.6561\n",
            "[8000]\ttrain_set's rmse: 27.324\tvalid_set's rmse: 54.4916\n",
            "[9000]\ttrain_set's rmse: 26.0019\tvalid_set's rmse: 54.286\n",
            "[10000]\ttrain_set's rmse: 24.8545\tvalid_set's rmse: 54.1778\n"
          ]
        },
        {
          "output_type": "stream",
          "name": "stderr",
          "text": [
            "/usr/local/lib/python3.7/dist-packages/lightgbm/engine.py:239: UserWarning: 'verbose_eval' argument is deprecated and will be removed in a future release of LightGBM. Pass 'log_evaluation()' callback via 'callbacks' argument instead.\n",
            "  _log_warning(\"'verbose_eval' argument is deprecated and will be removed in a future release of LightGBM. \"\n"
          ]
        },
        {
          "output_type": "stream",
          "name": "stdout",
          "text": [
            "[1000]\ttrain_set's rmse: 49.7213\tvalid_set's rmse: 58.526\n",
            "[2000]\ttrain_set's rmse: 42.3271\tvalid_set's rmse: 55.7489\n",
            "[3000]\ttrain_set's rmse: 37.9902\tvalid_set's rmse: 54.5103\n",
            "[4000]\ttrain_set's rmse: 34.8953\tvalid_set's rmse: 53.7153\n",
            "[5000]\ttrain_set's rmse: 32.4785\tvalid_set's rmse: 53.1045\n",
            "[6000]\ttrain_set's rmse: 30.4495\tvalid_set's rmse: 52.841\n",
            "[7000]\ttrain_set's rmse: 28.7473\tvalid_set's rmse: 52.7134\n",
            "[8000]\ttrain_set's rmse: 27.2819\tvalid_set's rmse: 52.6656\n",
            "[9000]\ttrain_set's rmse: 25.9941\tvalid_set's rmse: 52.5119\n",
            "[10000]\ttrain_set's rmse: 24.8075\tvalid_set's rmse: 52.4265\n"
          ]
        },
        {
          "output_type": "stream",
          "name": "stderr",
          "text": [
            "/usr/local/lib/python3.7/dist-packages/lightgbm/engine.py:239: UserWarning: 'verbose_eval' argument is deprecated and will be removed in a future release of LightGBM. Pass 'log_evaluation()' callback via 'callbacks' argument instead.\n",
            "  _log_warning(\"'verbose_eval' argument is deprecated and will be removed in a future release of LightGBM. \"\n"
          ]
        },
        {
          "output_type": "stream",
          "name": "stdout",
          "text": [
            "[1000]\ttrain_set's rmse: 49.2347\tvalid_set's rmse: 65.9175\n",
            "[2000]\ttrain_set's rmse: 41.8505\tvalid_set's rmse: 62.8229\n",
            "[3000]\ttrain_set's rmse: 37.4715\tvalid_set's rmse: 61.2281\n",
            "[4000]\ttrain_set's rmse: 34.3838\tvalid_set's rmse: 60.394\n",
            "[5000]\ttrain_set's rmse: 31.9607\tvalid_set's rmse: 59.6736\n",
            "[6000]\ttrain_set's rmse: 29.9647\tvalid_set's rmse: 59.3411\n",
            "[7000]\ttrain_set's rmse: 28.3623\tvalid_set's rmse: 58.8917\n",
            "[8000]\ttrain_set's rmse: 26.9287\tvalid_set's rmse: 58.641\n",
            "[9000]\ttrain_set's rmse: 25.6202\tvalid_set's rmse: 58.3767\n",
            "[10000]\ttrain_set's rmse: 24.5068\tvalid_set's rmse: 58.1908\n"
          ]
        },
        {
          "output_type": "stream",
          "name": "stderr",
          "text": [
            "/usr/local/lib/python3.7/dist-packages/lightgbm/engine.py:239: UserWarning: 'verbose_eval' argument is deprecated and will be removed in a future release of LightGBM. Pass 'log_evaluation()' callback via 'callbacks' argument instead.\n",
            "  _log_warning(\"'verbose_eval' argument is deprecated and will be removed in a future release of LightGBM. \"\n"
          ]
        },
        {
          "output_type": "stream",
          "name": "stdout",
          "text": [
            "[1000]\ttrain_set's rmse: 49.7284\tvalid_set's rmse: 58.0583\n",
            "[2000]\ttrain_set's rmse: 42.372\tvalid_set's rmse: 55.4343\n",
            "[3000]\ttrain_set's rmse: 37.9856\tvalid_set's rmse: 54.2927\n",
            "[4000]\ttrain_set's rmse: 34.9222\tvalid_set's rmse: 53.6051\n",
            "[5000]\ttrain_set's rmse: 32.5116\tvalid_set's rmse: 53.117\n",
            "[6000]\ttrain_set's rmse: 30.5427\tvalid_set's rmse: 52.8349\n",
            "[7000]\ttrain_set's rmse: 28.9104\tvalid_set's rmse: 52.63\n",
            "[8000]\ttrain_set's rmse: 27.4537\tvalid_set's rmse: 52.4556\n",
            "[9000]\ttrain_set's rmse: 26.1801\tvalid_set's rmse: 52.3861\n",
            "[10000]\ttrain_set's rmse: 25.0305\tvalid_set's rmse: 52.3196\n"
          ]
        },
        {
          "output_type": "stream",
          "name": "stderr",
          "text": [
            "/usr/local/lib/python3.7/dist-packages/lightgbm/engine.py:239: UserWarning: 'verbose_eval' argument is deprecated and will be removed in a future release of LightGBM. Pass 'log_evaluation()' callback via 'callbacks' argument instead.\n",
            "  _log_warning(\"'verbose_eval' argument is deprecated and will be removed in a future release of LightGBM. \"\n"
          ]
        },
        {
          "output_type": "stream",
          "name": "stdout",
          "text": [
            "[1000]\ttrain_set's rmse: 49.7037\tvalid_set's rmse: 62.5787\n",
            "[2000]\ttrain_set's rmse: 42.1225\tvalid_set's rmse: 60.0997\n",
            "[3000]\ttrain_set's rmse: 37.606\tvalid_set's rmse: 59.0897\n",
            "[4000]\ttrain_set's rmse: 34.4246\tvalid_set's rmse: 58.485\n",
            "[5000]\ttrain_set's rmse: 32.0019\tvalid_set's rmse: 57.9051\n",
            "[6000]\ttrain_set's rmse: 29.9924\tvalid_set's rmse: 57.6682\n",
            "[7000]\ttrain_set's rmse: 28.3253\tvalid_set's rmse: 57.4858\n",
            "[8000]\ttrain_set's rmse: 26.8559\tvalid_set's rmse: 57.3727\n",
            "[9000]\ttrain_set's rmse: 25.5486\tvalid_set's rmse: 57.2845\n",
            "[10000]\ttrain_set's rmse: 24.3972\tvalid_set's rmse: 57.246\n"
          ]
        },
        {
          "output_type": "stream",
          "name": "stderr",
          "text": [
            "/usr/local/lib/python3.7/dist-packages/lightgbm/engine.py:239: UserWarning: 'verbose_eval' argument is deprecated and will be removed in a future release of LightGBM. Pass 'log_evaluation()' callback via 'callbacks' argument instead.\n",
            "  _log_warning(\"'verbose_eval' argument is deprecated and will be removed in a future release of LightGBM. \"\n"
          ]
        },
        {
          "output_type": "stream",
          "name": "stdout",
          "text": [
            "[1000]\ttrain_set's rmse: 50.0347\tvalid_set's rmse: 60.8825\n",
            "[2000]\ttrain_set's rmse: 42.5442\tvalid_set's rmse: 56.8614\n",
            "[3000]\ttrain_set's rmse: 38.2204\tvalid_set's rmse: 55.3782\n",
            "[4000]\ttrain_set's rmse: 35.1036\tvalid_set's rmse: 54.5906\n",
            "[5000]\ttrain_set's rmse: 32.6783\tvalid_set's rmse: 54.1208\n",
            "[6000]\ttrain_set's rmse: 30.5719\tvalid_set's rmse: 53.8921\n",
            "[7000]\ttrain_set's rmse: 28.8385\tvalid_set's rmse: 53.6811\n",
            "[8000]\ttrain_set's rmse: 27.357\tvalid_set's rmse: 53.5293\n",
            "[9000]\ttrain_set's rmse: 26.0358\tvalid_set's rmse: 53.4924\n",
            "[10000]\ttrain_set's rmse: 24.8539\tvalid_set's rmse: 53.4116\n"
          ]
        },
        {
          "output_type": "stream",
          "name": "stderr",
          "text": [
            "/usr/local/lib/python3.7/dist-packages/lightgbm/engine.py:239: UserWarning: 'verbose_eval' argument is deprecated and will be removed in a future release of LightGBM. Pass 'log_evaluation()' callback via 'callbacks' argument instead.\n",
            "  _log_warning(\"'verbose_eval' argument is deprecated and will be removed in a future release of LightGBM. \"\n"
          ]
        },
        {
          "output_type": "stream",
          "name": "stdout",
          "text": [
            "[1000]\ttrain_set's rmse: 49.4705\tvalid_set's rmse: 62.0663\n",
            "[2000]\ttrain_set's rmse: 42.2241\tvalid_set's rmse: 59.1971\n",
            "[3000]\ttrain_set's rmse: 38.0676\tvalid_set's rmse: 57.793\n",
            "[4000]\ttrain_set's rmse: 34.9508\tvalid_set's rmse: 56.7821\n",
            "[5000]\ttrain_set's rmse: 32.5408\tvalid_set's rmse: 56.2014\n",
            "[6000]\ttrain_set's rmse: 30.5008\tvalid_set's rmse: 55.7683\n",
            "[7000]\ttrain_set's rmse: 28.8503\tvalid_set's rmse: 55.3643\n",
            "[8000]\ttrain_set's rmse: 27.382\tvalid_set's rmse: 55.126\n",
            "[9000]\ttrain_set's rmse: 26.1128\tvalid_set's rmse: 54.9221\n",
            "[10000]\ttrain_set's rmse: 24.9924\tvalid_set's rmse: 54.7739\n"
          ]
        },
        {
          "output_type": "stream",
          "name": "stderr",
          "text": [
            "/usr/local/lib/python3.7/dist-packages/lightgbm/engine.py:239: UserWarning: 'verbose_eval' argument is deprecated and will be removed in a future release of LightGBM. Pass 'log_evaluation()' callback via 'callbacks' argument instead.\n",
            "  _log_warning(\"'verbose_eval' argument is deprecated and will be removed in a future release of LightGBM. \"\n"
          ]
        },
        {
          "output_type": "stream",
          "name": "stdout",
          "text": [
            "[1000]\ttrain_set's rmse: 49.6327\tvalid_set's rmse: 60.085\n",
            "[2000]\ttrain_set's rmse: 42.1972\tvalid_set's rmse: 57.6732\n",
            "[3000]\ttrain_set's rmse: 37.8494\tvalid_set's rmse: 56.5436\n",
            "[4000]\ttrain_set's rmse: 34.7327\tvalid_set's rmse: 55.9579\n",
            "[5000]\ttrain_set's rmse: 32.3143\tvalid_set's rmse: 55.6518\n",
            "[6000]\ttrain_set's rmse: 30.3077\tvalid_set's rmse: 55.3838\n",
            "[7000]\ttrain_set's rmse: 28.5514\tvalid_set's rmse: 55.1386\n",
            "[8000]\ttrain_set's rmse: 27.0711\tvalid_set's rmse: 55.0195\n",
            "[9000]\ttrain_set's rmse: 25.7731\tvalid_set's rmse: 54.9575\n",
            "[10000]\ttrain_set's rmse: 24.6325\tvalid_set's rmse: 54.9208\n"
          ]
        },
        {
          "output_type": "stream",
          "name": "stderr",
          "text": [
            "/usr/local/lib/python3.7/dist-packages/lightgbm/engine.py:239: UserWarning: 'verbose_eval' argument is deprecated and will be removed in a future release of LightGBM. Pass 'log_evaluation()' callback via 'callbacks' argument instead.\n",
            "  _log_warning(\"'verbose_eval' argument is deprecated and will be removed in a future release of LightGBM. \"\n"
          ]
        },
        {
          "output_type": "stream",
          "name": "stdout",
          "text": [
            "[1000]\ttrain_set's rmse: 50.2782\tvalid_set's rmse: 56.707\n",
            "[2000]\ttrain_set's rmse: 42.9472\tvalid_set's rmse: 54.1344\n",
            "[3000]\ttrain_set's rmse: 38.5216\tvalid_set's rmse: 52.9615\n",
            "[4000]\ttrain_set's rmse: 35.3959\tvalid_set's rmse: 52.204\n",
            "[5000]\ttrain_set's rmse: 32.9888\tvalid_set's rmse: 51.7014\n",
            "[6000]\ttrain_set's rmse: 30.9742\tvalid_set's rmse: 51.4092\n",
            "[7000]\ttrain_set's rmse: 29.2649\tvalid_set's rmse: 51.19\n",
            "[8000]\ttrain_set's rmse: 27.809\tvalid_set's rmse: 51.0569\n",
            "[9000]\ttrain_set's rmse: 26.4707\tvalid_set's rmse: 50.9885\n",
            "[10000]\ttrain_set's rmse: 25.3383\tvalid_set's rmse: 50.955\n"
          ]
        },
        {
          "output_type": "stream",
          "name": "stderr",
          "text": [
            "\t-54.1289\t = Validation score   (root_mean_squared_error)\n",
            "\t137.72s\t = Training   runtime\n",
            "\t9.19s\t = Validation runtime\n",
            "Fitting model: LightGBM_BAG_L1 ... Training model for up to 231.67s of the 431.68s of remaining time.\n",
            "/usr/local/lib/python3.7/dist-packages/lightgbm/engine.py:239: UserWarning: 'verbose_eval' argument is deprecated and will be removed in a future release of LightGBM. Pass 'log_evaluation()' callback via 'callbacks' argument instead.\n",
            "  _log_warning(\"'verbose_eval' argument is deprecated and will be removed in a future release of LightGBM. \"\n"
          ]
        },
        {
          "output_type": "stream",
          "name": "stdout",
          "text": [
            "[1000]\ttrain_set's rmse: 35.2328\tvalid_set's rmse: 55.8639\n",
            "[2000]\ttrain_set's rmse: 25.6711\tvalid_set's rmse: 54.1014\n",
            "[3000]\ttrain_set's rmse: 20.5485\tvalid_set's rmse: 53.8792\n"
          ]
        },
        {
          "output_type": "stream",
          "name": "stderr",
          "text": [
            "/usr/local/lib/python3.7/dist-packages/lightgbm/engine.py:239: UserWarning: 'verbose_eval' argument is deprecated and will be removed in a future release of LightGBM. Pass 'log_evaluation()' callback via 'callbacks' argument instead.\n",
            "  _log_warning(\"'verbose_eval' argument is deprecated and will be removed in a future release of LightGBM. \"\n"
          ]
        },
        {
          "output_type": "stream",
          "name": "stdout",
          "text": [
            "[1000]\ttrain_set's rmse: 35.3506\tvalid_set's rmse: 58.101\n",
            "[2000]\ttrain_set's rmse: 25.9505\tvalid_set's rmse: 55.9007\n",
            "[3000]\ttrain_set's rmse: 20.807\tvalid_set's rmse: 55.0958\n",
            "[4000]\ttrain_set's rmse: 17.1973\tvalid_set's rmse: 54.9999\n",
            "[5000]\ttrain_set's rmse: 14.4093\tvalid_set's rmse: 54.9205\n",
            "[6000]\ttrain_set's rmse: 12.3837\tvalid_set's rmse: 54.9397\n"
          ]
        },
        {
          "output_type": "stream",
          "name": "stderr",
          "text": [
            "/usr/local/lib/python3.7/dist-packages/lightgbm/engine.py:239: UserWarning: 'verbose_eval' argument is deprecated and will be removed in a future release of LightGBM. Pass 'log_evaluation()' callback via 'callbacks' argument instead.\n",
            "  _log_warning(\"'verbose_eval' argument is deprecated and will be removed in a future release of LightGBM. \"\n"
          ]
        },
        {
          "output_type": "stream",
          "name": "stdout",
          "text": [
            "[1000]\ttrain_set's rmse: 34.9451\tvalid_set's rmse: 56.9121\n",
            "[2000]\ttrain_set's rmse: 25.4717\tvalid_set's rmse: 55.2388\n",
            "[3000]\ttrain_set's rmse: 20.6358\tvalid_set's rmse: 54.7003\n"
          ]
        },
        {
          "output_type": "stream",
          "name": "stderr",
          "text": [
            "/usr/local/lib/python3.7/dist-packages/lightgbm/engine.py:239: UserWarning: 'verbose_eval' argument is deprecated and will be removed in a future release of LightGBM. Pass 'log_evaluation()' callback via 'callbacks' argument instead.\n",
            "  _log_warning(\"'verbose_eval' argument is deprecated and will be removed in a future release of LightGBM. \"\n"
          ]
        },
        {
          "output_type": "stream",
          "name": "stdout",
          "text": [
            "[1000]\ttrain_set's rmse: 34.7239\tvalid_set's rmse: 64.13\n",
            "[2000]\ttrain_set's rmse: 25.7489\tvalid_set's rmse: 62.9583\n",
            "[3000]\ttrain_set's rmse: 20.384\tvalid_set's rmse: 62.2456\n",
            "[4000]\ttrain_set's rmse: 16.8364\tvalid_set's rmse: 62.0596\n",
            "[5000]\ttrain_set's rmse: 14.3222\tvalid_set's rmse: 61.8545\n",
            "[6000]\ttrain_set's rmse: 12.2832\tvalid_set's rmse: 61.7203\n",
            "[7000]\ttrain_set's rmse: 10.5908\tvalid_set's rmse: 61.7281\n"
          ]
        },
        {
          "output_type": "stream",
          "name": "stderr",
          "text": [
            "/usr/local/lib/python3.7/dist-packages/lightgbm/engine.py:239: UserWarning: 'verbose_eval' argument is deprecated and will be removed in a future release of LightGBM. Pass 'log_evaluation()' callback via 'callbacks' argument instead.\n",
            "  _log_warning(\"'verbose_eval' argument is deprecated and will be removed in a future release of LightGBM. \"\n"
          ]
        },
        {
          "output_type": "stream",
          "name": "stdout",
          "text": [
            "[1000]\ttrain_set's rmse: 35.825\tvalid_set's rmse: 57.6358\n",
            "[2000]\ttrain_set's rmse: 26.0127\tvalid_set's rmse: 55.766\n",
            "[3000]\ttrain_set's rmse: 20.782\tvalid_set's rmse: 55.5688\n",
            "[4000]\ttrain_set's rmse: 17.233\tvalid_set's rmse: 55.5548\n"
          ]
        },
        {
          "output_type": "stream",
          "name": "stderr",
          "text": [
            "/usr/local/lib/python3.7/dist-packages/lightgbm/engine.py:239: UserWarning: 'verbose_eval' argument is deprecated and will be removed in a future release of LightGBM. Pass 'log_evaluation()' callback via 'callbacks' argument instead.\n",
            "  _log_warning(\"'verbose_eval' argument is deprecated and will be removed in a future release of LightGBM. \"\n"
          ]
        },
        {
          "output_type": "stream",
          "name": "stdout",
          "text": [
            "[1000]\ttrain_set's rmse: 34.8502\tvalid_set's rmse: 62.5523\n",
            "[2000]\ttrain_set's rmse: 25.8954\tvalid_set's rmse: 61.2276\n",
            "[3000]\ttrain_set's rmse: 20.4349\tvalid_set's rmse: 60.7924\n",
            "[4000]\ttrain_set's rmse: 16.6142\tvalid_set's rmse: 60.6612\n"
          ]
        },
        {
          "output_type": "stream",
          "name": "stderr",
          "text": [
            "/usr/local/lib/python3.7/dist-packages/lightgbm/engine.py:239: UserWarning: 'verbose_eval' argument is deprecated and will be removed in a future release of LightGBM. Pass 'log_evaluation()' callback via 'callbacks' argument instead.\n",
            "  _log_warning(\"'verbose_eval' argument is deprecated and will be removed in a future release of LightGBM. \"\n"
          ]
        },
        {
          "output_type": "stream",
          "name": "stdout",
          "text": [
            "[1000]\ttrain_set's rmse: 34.8529\tvalid_set's rmse: 59.8971\n",
            "[2000]\ttrain_set's rmse: 25.8188\tvalid_set's rmse: 58.807\n",
            "[3000]\ttrain_set's rmse: 20.5536\tvalid_set's rmse: 58.5023\n"
          ]
        },
        {
          "output_type": "stream",
          "name": "stderr",
          "text": [
            "/usr/local/lib/python3.7/dist-packages/lightgbm/engine.py:239: UserWarning: 'verbose_eval' argument is deprecated and will be removed in a future release of LightGBM. Pass 'log_evaluation()' callback via 'callbacks' argument instead.\n",
            "  _log_warning(\"'verbose_eval' argument is deprecated and will be removed in a future release of LightGBM. \"\n"
          ]
        },
        {
          "output_type": "stream",
          "name": "stdout",
          "text": [
            "[1000]\ttrain_set's rmse: 35.1895\tvalid_set's rmse: 56.727\n",
            "[2000]\ttrain_set's rmse: 26.3045\tvalid_set's rmse: 55.1843\n",
            "[3000]\ttrain_set's rmse: 21.0975\tvalid_set's rmse: 54.6948\n",
            "[4000]\ttrain_set's rmse: 17.3862\tvalid_set's rmse: 54.2701\n",
            "[5000]\ttrain_set's rmse: 14.7586\tvalid_set's rmse: 54.127\n",
            "[6000]\ttrain_set's rmse: 12.6297\tvalid_set's rmse: 54.0872\n",
            "[7000]\ttrain_set's rmse: 10.9084\tvalid_set's rmse: 54.1107\n"
          ]
        },
        {
          "output_type": "stream",
          "name": "stderr",
          "text": [
            "/usr/local/lib/python3.7/dist-packages/lightgbm/engine.py:239: UserWarning: 'verbose_eval' argument is deprecated and will be removed in a future release of LightGBM. Pass 'log_evaluation()' callback via 'callbacks' argument instead.\n",
            "  _log_warning(\"'verbose_eval' argument is deprecated and will be removed in a future release of LightGBM. \"\n"
          ]
        },
        {
          "output_type": "stream",
          "name": "stdout",
          "text": [
            "[1000]\ttrain_set's rmse: 35.4731\tvalid_set's rmse: 60.1504\n",
            "[2000]\ttrain_set's rmse: 26.1079\tvalid_set's rmse: 58.3763\n",
            "[3000]\ttrain_set's rmse: 20.7276\tvalid_set's rmse: 57.8321\n",
            "[4000]\ttrain_set's rmse: 16.9851\tvalid_set's rmse: 57.6636\n",
            "[5000]\ttrain_set's rmse: 14.1769\tvalid_set's rmse: 57.395\n",
            "[6000]\ttrain_set's rmse: 12.135\tvalid_set's rmse: 57.4304\n"
          ]
        },
        {
          "output_type": "stream",
          "name": "stderr",
          "text": [
            "/usr/local/lib/python3.7/dist-packages/lightgbm/engine.py:239: UserWarning: 'verbose_eval' argument is deprecated and will be removed in a future release of LightGBM. Pass 'log_evaluation()' callback via 'callbacks' argument instead.\n",
            "  _log_warning(\"'verbose_eval' argument is deprecated and will be removed in a future release of LightGBM. \"\n"
          ]
        },
        {
          "output_type": "stream",
          "name": "stdout",
          "text": [
            "[1000]\ttrain_set's rmse: 35.081\tvalid_set's rmse: 54.1321\n",
            "[2000]\ttrain_set's rmse: 25.9741\tvalid_set's rmse: 52.9496\n",
            "[3000]\ttrain_set's rmse: 20.8115\tvalid_set's rmse: 52.5664\n"
          ]
        },
        {
          "output_type": "stream",
          "name": "stderr",
          "text": [
            "\t-56.4237\t = Validation score   (root_mean_squared_error)\n",
            "\t62.3s\t = Training   runtime\n",
            "\t3.16s\t = Validation runtime\n",
            "Fitting model: RandomForestMSE_BAG_L1 ... Training model for up to 157.9s of the 357.92s of remaining time.\n",
            "\t-65.5736\t = Validation score   (root_mean_squared_error)\n",
            "\t8.67s\t = Training   runtime\n",
            "\t0.51s\t = Validation runtime\n",
            "Fitting model: CatBoost_BAG_L1 ... Training model for up to 147.9s of the 347.91s of remaining time.\n",
            "\tTime limit exceeded... Skipping CatBoost_BAG_L1.\n",
            "Fitting model: ExtraTreesMSE_BAG_L1 ... Training model for up to 129.57s of the 329.59s of remaining time.\n",
            "\t-65.0711\t = Validation score   (root_mean_squared_error)\n",
            "\t4.17s\t = Training   runtime\n",
            "\t0.5s\t = Validation runtime\n",
            "Fitting model: NeuralNetFastAI_BAG_L1 ... Training model for up to 124.11s of the 324.12s of remaining time.\n",
            "\tRan out of time, stopping training early. (Stopping on epoch 19)\n",
            "\tRan out of time, stopping training early. (Stopping on epoch 19)\n",
            "\tRan out of time, stopping training early. (Stopping on epoch 20)\n",
            "\tRan out of time, stopping training early. (Stopping on epoch 21)\n",
            "\tRan out of time, stopping training early. (Stopping on epoch 22)\n",
            "\tRan out of time, stopping training early. (Stopping on epoch 22)\n",
            "\tRan out of time, stopping training early. (Stopping on epoch 23)\n",
            "\tRan out of time, stopping training early. (Stopping on epoch 25)\n",
            "\tRan out of time, stopping training early. (Stopping on epoch 28)\n",
            "\t-70.1935\t = Validation score   (root_mean_squared_error)\n",
            "\t116.32s\t = Training   runtime\n",
            "\t0.41s\t = Validation runtime\n",
            "Fitting model: XGBoost_BAG_L1 ... Training model for up to 7.13s of the 207.14s of remaining time.\n",
            "\tTime limit exceeded... Skipping XGBoost_BAG_L1.\n",
            "Fitting model: NeuralNetMXNet_BAG_L1 ... Training model for up to 6.38s of the 206.39s of remaining time.\n",
            "\tTime limit exceeded... Skipping NeuralNetMXNet_BAG_L1.\n",
            "Fitting model: LightGBMLarge_BAG_L1 ... Training model for up to 5.81s of the 205.83s of remaining time.\n",
            "/usr/local/lib/python3.7/dist-packages/lightgbm/engine.py:239: UserWarning: 'verbose_eval' argument is deprecated and will be removed in a future release of LightGBM. Pass 'log_evaluation()' callback via 'callbacks' argument instead.\n",
            "  _log_warning(\"'verbose_eval' argument is deprecated and will be removed in a future release of LightGBM. \"\n",
            "\tRan out of time, early stopping on iteration 87. Best iteration is:\n",
            "\t[87]\ttrain_set's rmse: 54.8947\tvalid_set's rmse: 67.4476\n",
            "/usr/local/lib/python3.7/dist-packages/lightgbm/engine.py:239: UserWarning: 'verbose_eval' argument is deprecated and will be removed in a future release of LightGBM. Pass 'log_evaluation()' callback via 'callbacks' argument instead.\n",
            "  _log_warning(\"'verbose_eval' argument is deprecated and will be removed in a future release of LightGBM. \"\n",
            "\tRan out of time, early stopping on iteration 94. Best iteration is:\n",
            "\t[94]\ttrain_set's rmse: 52.7614\tvalid_set's rmse: 69.0044\n",
            "\tTime limit exceeded... Skipping LightGBMLarge_BAG_L1.\n",
            "Completed 1/20 k-fold bagging repeats ...\n",
            "Fitting model: WeightedEnsemble_L2 ... Training model for up to 360.0s of the 204.58s of remaining time.\n",
            "\t-53.4565\t = Validation score   (root_mean_squared_error)\n",
            "\t0.41s\t = Training   runtime\n",
            "\t0.0s\t = Validation runtime\n",
            "Fitting 9 L2 models ...\n",
            "Fitting model: LightGBMXT_BAG_L2 ... Training model for up to 204.14s of the 204.13s of remaining time.\n",
            "/usr/local/lib/python3.7/dist-packages/lightgbm/engine.py:239: UserWarning: 'verbose_eval' argument is deprecated and will be removed in a future release of LightGBM. Pass 'log_evaluation()' callback via 'callbacks' argument instead.\n",
            "  _log_warning(\"'verbose_eval' argument is deprecated and will be removed in a future release of LightGBM. \"\n",
            "/usr/local/lib/python3.7/dist-packages/lightgbm/engine.py:239: UserWarning: 'verbose_eval' argument is deprecated and will be removed in a future release of LightGBM. Pass 'log_evaluation()' callback via 'callbacks' argument instead.\n",
            "  _log_warning(\"'verbose_eval' argument is deprecated and will be removed in a future release of LightGBM. \"\n",
            "/usr/local/lib/python3.7/dist-packages/lightgbm/engine.py:239: UserWarning: 'verbose_eval' argument is deprecated and will be removed in a future release of LightGBM. Pass 'log_evaluation()' callback via 'callbacks' argument instead.\n",
            "  _log_warning(\"'verbose_eval' argument is deprecated and will be removed in a future release of LightGBM. \"\n",
            "/usr/local/lib/python3.7/dist-packages/lightgbm/engine.py:239: UserWarning: 'verbose_eval' argument is deprecated and will be removed in a future release of LightGBM. Pass 'log_evaluation()' callback via 'callbacks' argument instead.\n",
            "  _log_warning(\"'verbose_eval' argument is deprecated and will be removed in a future release of LightGBM. \"\n",
            "/usr/local/lib/python3.7/dist-packages/lightgbm/engine.py:239: UserWarning: 'verbose_eval' argument is deprecated and will be removed in a future release of LightGBM. Pass 'log_evaluation()' callback via 'callbacks' argument instead.\n",
            "  _log_warning(\"'verbose_eval' argument is deprecated and will be removed in a future release of LightGBM. \"\n",
            "/usr/local/lib/python3.7/dist-packages/lightgbm/engine.py:239: UserWarning: 'verbose_eval' argument is deprecated and will be removed in a future release of LightGBM. Pass 'log_evaluation()' callback via 'callbacks' argument instead.\n",
            "  _log_warning(\"'verbose_eval' argument is deprecated and will be removed in a future release of LightGBM. \"\n",
            "/usr/local/lib/python3.7/dist-packages/lightgbm/engine.py:239: UserWarning: 'verbose_eval' argument is deprecated and will be removed in a future release of LightGBM. Pass 'log_evaluation()' callback via 'callbacks' argument instead.\n",
            "  _log_warning(\"'verbose_eval' argument is deprecated and will be removed in a future release of LightGBM. \"\n",
            "/usr/local/lib/python3.7/dist-packages/lightgbm/engine.py:239: UserWarning: 'verbose_eval' argument is deprecated and will be removed in a future release of LightGBM. Pass 'log_evaluation()' callback via 'callbacks' argument instead.\n",
            "  _log_warning(\"'verbose_eval' argument is deprecated and will be removed in a future release of LightGBM. \"\n",
            "/usr/local/lib/python3.7/dist-packages/lightgbm/engine.py:239: UserWarning: 'verbose_eval' argument is deprecated and will be removed in a future release of LightGBM. Pass 'log_evaluation()' callback via 'callbacks' argument instead.\n",
            "  _log_warning(\"'verbose_eval' argument is deprecated and will be removed in a future release of LightGBM. \"\n",
            "/usr/local/lib/python3.7/dist-packages/lightgbm/engine.py:239: UserWarning: 'verbose_eval' argument is deprecated and will be removed in a future release of LightGBM. Pass 'log_evaluation()' callback via 'callbacks' argument instead.\n",
            "  _log_warning(\"'verbose_eval' argument is deprecated and will be removed in a future release of LightGBM. \"\n",
            "\t-53.9127\t = Validation score   (root_mean_squared_error)\n",
            "\t10.06s\t = Training   runtime\n",
            "\t0.31s\t = Validation runtime\n",
            "Fitting model: LightGBM_BAG_L2 ... Training model for up to 193.3s of the 193.28s of remaining time.\n",
            "/usr/local/lib/python3.7/dist-packages/lightgbm/engine.py:239: UserWarning: 'verbose_eval' argument is deprecated and will be removed in a future release of LightGBM. Pass 'log_evaluation()' callback via 'callbacks' argument instead.\n",
            "  _log_warning(\"'verbose_eval' argument is deprecated and will be removed in a future release of LightGBM. \"\n",
            "/usr/local/lib/python3.7/dist-packages/lightgbm/engine.py:239: UserWarning: 'verbose_eval' argument is deprecated and will be removed in a future release of LightGBM. Pass 'log_evaluation()' callback via 'callbacks' argument instead.\n",
            "  _log_warning(\"'verbose_eval' argument is deprecated and will be removed in a future release of LightGBM. \"\n",
            "/usr/local/lib/python3.7/dist-packages/lightgbm/engine.py:239: UserWarning: 'verbose_eval' argument is deprecated and will be removed in a future release of LightGBM. Pass 'log_evaluation()' callback via 'callbacks' argument instead.\n",
            "  _log_warning(\"'verbose_eval' argument is deprecated and will be removed in a future release of LightGBM. \"\n",
            "/usr/local/lib/python3.7/dist-packages/lightgbm/engine.py:239: UserWarning: 'verbose_eval' argument is deprecated and will be removed in a future release of LightGBM. Pass 'log_evaluation()' callback via 'callbacks' argument instead.\n",
            "  _log_warning(\"'verbose_eval' argument is deprecated and will be removed in a future release of LightGBM. \"\n",
            "/usr/local/lib/python3.7/dist-packages/lightgbm/engine.py:239: UserWarning: 'verbose_eval' argument is deprecated and will be removed in a future release of LightGBM. Pass 'log_evaluation()' callback via 'callbacks' argument instead.\n",
            "  _log_warning(\"'verbose_eval' argument is deprecated and will be removed in a future release of LightGBM. \"\n",
            "/usr/local/lib/python3.7/dist-packages/lightgbm/engine.py:239: UserWarning: 'verbose_eval' argument is deprecated and will be removed in a future release of LightGBM. Pass 'log_evaluation()' callback via 'callbacks' argument instead.\n",
            "  _log_warning(\"'verbose_eval' argument is deprecated and will be removed in a future release of LightGBM. \"\n",
            "/usr/local/lib/python3.7/dist-packages/lightgbm/engine.py:239: UserWarning: 'verbose_eval' argument is deprecated and will be removed in a future release of LightGBM. Pass 'log_evaluation()' callback via 'callbacks' argument instead.\n",
            "  _log_warning(\"'verbose_eval' argument is deprecated and will be removed in a future release of LightGBM. \"\n",
            "/usr/local/lib/python3.7/dist-packages/lightgbm/engine.py:239: UserWarning: 'verbose_eval' argument is deprecated and will be removed in a future release of LightGBM. Pass 'log_evaluation()' callback via 'callbacks' argument instead.\n",
            "  _log_warning(\"'verbose_eval' argument is deprecated and will be removed in a future release of LightGBM. \"\n",
            "/usr/local/lib/python3.7/dist-packages/lightgbm/engine.py:239: UserWarning: 'verbose_eval' argument is deprecated and will be removed in a future release of LightGBM. Pass 'log_evaluation()' callback via 'callbacks' argument instead.\n",
            "  _log_warning(\"'verbose_eval' argument is deprecated and will be removed in a future release of LightGBM. \"\n",
            "/usr/local/lib/python3.7/dist-packages/lightgbm/engine.py:239: UserWarning: 'verbose_eval' argument is deprecated and will be removed in a future release of LightGBM. Pass 'log_evaluation()' callback via 'callbacks' argument instead.\n",
            "  _log_warning(\"'verbose_eval' argument is deprecated and will be removed in a future release of LightGBM. \"\n",
            "\t-52.6053\t = Validation score   (root_mean_squared_error)\n",
            "\t7.21s\t = Training   runtime\n",
            "\t0.14s\t = Validation runtime\n",
            "Fitting model: RandomForestMSE_BAG_L2 ... Training model for up to 185.79s of the 185.77s of remaining time.\n",
            "\t-52.872\t = Validation score   (root_mean_squared_error)\n",
            "\t24.42s\t = Training   runtime\n",
            "\t0.58s\t = Validation runtime\n",
            "Fitting model: CatBoost_BAG_L2 ... Training model for up to 160.01s of the 159.99s of remaining time.\n",
            "\t-52.4223\t = Validation score   (root_mean_squared_error)\n",
            "\t43.43s\t = Training   runtime\n",
            "\t0.08s\t = Validation runtime\n",
            "Fitting model: ExtraTreesMSE_BAG_L2 ... Training model for up to 116.43s of the 116.41s of remaining time.\n",
            "\t-52.5132\t = Validation score   (root_mean_squared_error)\n",
            "\t7.07s\t = Training   runtime\n",
            "\t0.59s\t = Validation runtime\n",
            "Fitting model: NeuralNetFastAI_BAG_L2 ... Training model for up to 107.96s of the 107.94s of remaining time.\n",
            "\tRan out of time, stopping training early. (Stopping on epoch 16)\n",
            "\tRan out of time, stopping training early. (Stopping on epoch 16)\n",
            "\tRan out of time, stopping training early. (Stopping on epoch 17)\n",
            "\tRan out of time, stopping training early. (Stopping on epoch 17)\n",
            "\tRan out of time, stopping training early. (Stopping on epoch 18)\n",
            "\tRan out of time, stopping training early. (Stopping on epoch 19)\n",
            "\tRan out of time, stopping training early. (Stopping on epoch 19)\n",
            "\tRan out of time, stopping training early. (Stopping on epoch 19)\n",
            "\tRan out of time, stopping training early. (Stopping on epoch 21)\n",
            "\tRan out of time, stopping training early. (Stopping on epoch 26)\n",
            "\t-52.594\t = Validation score   (root_mean_squared_error)\n",
            "\t103.29s\t = Training   runtime\n",
            "\t0.45s\t = Validation runtime\n",
            "Fitting model: XGBoost_BAG_L2 ... Training model for up to 3.97s of the 3.95s of remaining time.\n",
            "\t-71.314\t = Validation score   (root_mean_squared_error)\n",
            "\t3.69s\t = Training   runtime\n",
            "\t0.12s\t = Validation runtime\n",
            "Completed 1/20 k-fold bagging repeats ...\n",
            "Fitting model: WeightedEnsemble_L3 ... Training model for up to 360.0s of the -0.06s of remaining time.\n",
            "\t-51.7489\t = Validation score   (root_mean_squared_error)\n",
            "\t0.45s\t = Training   runtime\n",
            "\t0.0s\t = Validation runtime\n",
            "AutoGluon training complete, total runtime = 600.55s ...\n",
            "TabularPredictor saved. To load, use: predictor = TabularPredictor.load(\"AutogluonModels/ag-20211126_145224/\")\n"
          ]
        }
      ]
    },
    {
      "cell_type": "code",
      "metadata": {
        "colab": {
          "base_uri": "https://localhost:8080/"
        },
        "id": "u_MHF5PuyvNv",
        "outputId": "c20d63b4-0e26-4bf5-e7a0-b9c3fab54742"
      },
      "source": [
        "predictor_new_features.fit_summary()"
      ],
      "execution_count": null,
      "outputs": [
        {
          "output_type": "stream",
          "name": "stdout",
          "text": [
            "*** Summary of fit() ***\n",
            "Estimated performance of each model:\n",
            "                     model   score_val  pred_time_val    fit_time  pred_time_val_marginal  fit_time_marginal  stack_level  can_infer  fit_order\n",
            "0      WeightedEnsemble_L3  -51.748930      16.006411  515.087257                0.001140           0.446532            3       True         16\n",
            "1          CatBoost_BAG_L2  -52.422346      14.253863  372.660476                0.078369          43.427672            2       True         12\n",
            "2     ExtraTreesMSE_BAG_L2  -52.513187      14.762250  336.304954                0.586756           7.072151            2       True         13\n",
            "3   NeuralNetFastAI_BAG_L2  -52.594014      14.622252  432.519538                0.446758         103.286735            2       True         14\n",
            "4          LightGBM_BAG_L2  -52.605271      14.311413  336.438009                0.135919           7.205206            2       True         10\n",
            "5   RandomForestMSE_BAG_L2  -52.872020      14.757468  353.648960                0.581974          24.416157            2       True         11\n",
            "6      WeightedEnsemble_L2  -53.456548      13.262290  325.416220                0.000764           0.414221            2       True          8\n",
            "7        LightGBMXT_BAG_L2  -53.912730      14.489159  339.290902                0.313665          10.058099            2       True          9\n",
            "8        LightGBMXT_BAG_L1  -54.128877       9.189226  137.718474                9.189226         137.718474            1       True          3\n",
            "9          LightGBM_BAG_L1  -56.423680       3.158075   62.298648                3.158075          62.298648            1       True          4\n",
            "10    ExtraTreesMSE_BAG_L1  -65.071120       0.501193    4.165954                0.501193           4.165954            1       True          6\n",
            "11  RandomForestMSE_BAG_L1  -65.573644       0.507725    8.665362                0.507725           8.665362            1       True          5\n",
            "12  NeuralNetFastAI_BAG_L1  -70.193458       0.406501  116.319515                0.406501         116.319515            1       True          7\n",
            "13          XGBoost_BAG_L2  -71.314010      14.299957  332.923319                0.124463           3.690516            2       True         15\n",
            "14   KNeighborsDist_BAG_L1 -121.194434       0.208821    0.031891                0.208821           0.031891            1       True          2\n",
            "15   KNeighborsUnif_BAG_L1 -125.061437       0.203953    0.032960                0.203953           0.032960            1       True          1\n",
            "Number of models trained: 16\n",
            "Types of models trained:\n",
            "{'StackerEnsembleModel_NNFastAiTabular', 'StackerEnsembleModel_XT', 'StackerEnsembleModel_RF', 'StackerEnsembleModel_LGB', 'StackerEnsembleModel_CatBoost', 'StackerEnsembleModel_XGBoost', 'StackerEnsembleModel_KNN', 'WeightedEnsembleModel'}\n",
            "Bagging used: True  (with 10 folds)\n",
            "Multi-layer stack-ensembling used: True  (with 3 levels)\n",
            "Feature Metadata (Processed):\n",
            "(raw dtype, special dtypes):\n",
            "('category', [])  : 2 | ['season', 'weather']\n",
            "('float', [])     : 3 | ['temp', 'atemp', 'windspeed']\n",
            "('int', [])       : 4 | ['humidity', 'day', 'month', 'hour']\n",
            "('int', ['bool']) : 2 | ['holiday', 'workingday']\n",
            "Plot summary of models saved to file: AutogluonModels/ag-20211126_145224/SummaryOfModels.html\n",
            "*** End of fit() summary ***\n"
          ]
        },
        {
          "output_type": "execute_result",
          "data": {
            "text/plain": [
              "{'leaderboard':                      model   score_val  ...  can_infer  fit_order\n",
              " 0      WeightedEnsemble_L3  -51.748930  ...       True         16\n",
              " 1          CatBoost_BAG_L2  -52.422346  ...       True         12\n",
              " 2     ExtraTreesMSE_BAG_L2  -52.513187  ...       True         13\n",
              " 3   NeuralNetFastAI_BAG_L2  -52.594014  ...       True         14\n",
              " 4          LightGBM_BAG_L2  -52.605271  ...       True         10\n",
              " 5   RandomForestMSE_BAG_L2  -52.872020  ...       True         11\n",
              " 6      WeightedEnsemble_L2  -53.456548  ...       True          8\n",
              " 7        LightGBMXT_BAG_L2  -53.912730  ...       True          9\n",
              " 8        LightGBMXT_BAG_L1  -54.128877  ...       True          3\n",
              " 9          LightGBM_BAG_L1  -56.423680  ...       True          4\n",
              " 10    ExtraTreesMSE_BAG_L1  -65.071120  ...       True          6\n",
              " 11  RandomForestMSE_BAG_L1  -65.573644  ...       True          5\n",
              " 12  NeuralNetFastAI_BAG_L1  -70.193458  ...       True          7\n",
              " 13          XGBoost_BAG_L2  -71.314010  ...       True         15\n",
              " 14   KNeighborsDist_BAG_L1 -121.194434  ...       True          2\n",
              " 15   KNeighborsUnif_BAG_L1 -125.061437  ...       True          1\n",
              " \n",
              " [16 rows x 9 columns],\n",
              " 'max_stack_level': 3,\n",
              " 'model_best': 'WeightedEnsemble_L3',\n",
              " 'model_fit_times': {'CatBoost_BAG_L2': 43.427672386169434,\n",
              "  'ExtraTreesMSE_BAG_L1': 4.165953636169434,\n",
              "  'ExtraTreesMSE_BAG_L2': 7.072150945663452,\n",
              "  'KNeighborsDist_BAG_L1': 0.0318906307220459,\n",
              "  'KNeighborsUnif_BAG_L1': 0.03296017646789551,\n",
              "  'LightGBMXT_BAG_L1': 137.71847438812256,\n",
              "  'LightGBMXT_BAG_L2': 10.058098554611206,\n",
              "  'LightGBM_BAG_L1': 62.2986478805542,\n",
              "  'LightGBM_BAG_L2': 7.205205917358398,\n",
              "  'NeuralNetFastAI_BAG_L1': 116.31951451301575,\n",
              "  'NeuralNetFastAI_BAG_L2': 103.28673481941223,\n",
              "  'RandomForestMSE_BAG_L1': 8.665362119674683,\n",
              "  'RandomForestMSE_BAG_L2': 24.416157007217407,\n",
              "  'WeightedEnsemble_L2': 0.41422080993652344,\n",
              "  'WeightedEnsemble_L3': 0.4465322494506836,\n",
              "  'XGBoost_BAG_L2': 3.6905159950256348},\n",
              " 'model_hyperparams': {'CatBoost_BAG_L2': {'max_base_models': 25,\n",
              "   'max_base_models_per_type': 5,\n",
              "   'save_bag_folds': True,\n",
              "   'use_orig_features': True},\n",
              "  'ExtraTreesMSE_BAG_L1': {'max_base_models': 25,\n",
              "   'max_base_models_per_type': 5,\n",
              "   'save_bag_folds': True,\n",
              "   'use_child_oof': True,\n",
              "   'use_orig_features': True},\n",
              "  'ExtraTreesMSE_BAG_L2': {'max_base_models': 25,\n",
              "   'max_base_models_per_type': 5,\n",
              "   'save_bag_folds': True,\n",
              "   'use_child_oof': True,\n",
              "   'use_orig_features': True},\n",
              "  'KNeighborsDist_BAG_L1': {'max_base_models': 25,\n",
              "   'max_base_models_per_type': 5,\n",
              "   'save_bag_folds': True,\n",
              "   'use_child_oof': True,\n",
              "   'use_orig_features': True},\n",
              "  'KNeighborsUnif_BAG_L1': {'max_base_models': 25,\n",
              "   'max_base_models_per_type': 5,\n",
              "   'save_bag_folds': True,\n",
              "   'use_child_oof': True,\n",
              "   'use_orig_features': True},\n",
              "  'LightGBMXT_BAG_L1': {'max_base_models': 25,\n",
              "   'max_base_models_per_type': 5,\n",
              "   'save_bag_folds': True,\n",
              "   'use_orig_features': True},\n",
              "  'LightGBMXT_BAG_L2': {'max_base_models': 25,\n",
              "   'max_base_models_per_type': 5,\n",
              "   'save_bag_folds': True,\n",
              "   'use_orig_features': True},\n",
              "  'LightGBM_BAG_L1': {'max_base_models': 25,\n",
              "   'max_base_models_per_type': 5,\n",
              "   'save_bag_folds': True,\n",
              "   'use_orig_features': True},\n",
              "  'LightGBM_BAG_L2': {'max_base_models': 25,\n",
              "   'max_base_models_per_type': 5,\n",
              "   'save_bag_folds': True,\n",
              "   'use_orig_features': True},\n",
              "  'NeuralNetFastAI_BAG_L1': {'max_base_models': 25,\n",
              "   'max_base_models_per_type': 5,\n",
              "   'save_bag_folds': True,\n",
              "   'use_orig_features': True},\n",
              "  'NeuralNetFastAI_BAG_L2': {'max_base_models': 25,\n",
              "   'max_base_models_per_type': 5,\n",
              "   'save_bag_folds': True,\n",
              "   'use_orig_features': True},\n",
              "  'RandomForestMSE_BAG_L1': {'max_base_models': 25,\n",
              "   'max_base_models_per_type': 5,\n",
              "   'save_bag_folds': True,\n",
              "   'use_child_oof': True,\n",
              "   'use_orig_features': True},\n",
              "  'RandomForestMSE_BAG_L2': {'max_base_models': 25,\n",
              "   'max_base_models_per_type': 5,\n",
              "   'save_bag_folds': True,\n",
              "   'use_child_oof': True,\n",
              "   'use_orig_features': True},\n",
              "  'WeightedEnsemble_L2': {'max_base_models': 25,\n",
              "   'max_base_models_per_type': 5,\n",
              "   'save_bag_folds': True,\n",
              "   'use_orig_features': False},\n",
              "  'WeightedEnsemble_L3': {'max_base_models': 25,\n",
              "   'max_base_models_per_type': 5,\n",
              "   'save_bag_folds': True,\n",
              "   'use_orig_features': False},\n",
              "  'XGBoost_BAG_L2': {'max_base_models': 25,\n",
              "   'max_base_models_per_type': 5,\n",
              "   'save_bag_folds': True,\n",
              "   'use_orig_features': True}},\n",
              " 'model_paths': {'CatBoost_BAG_L2': 'AutogluonModels/ag-20211126_145224/models/CatBoost_BAG_L2/',\n",
              "  'ExtraTreesMSE_BAG_L1': 'AutogluonModels/ag-20211126_145224/models/ExtraTreesMSE_BAG_L1/',\n",
              "  'ExtraTreesMSE_BAG_L2': 'AutogluonModels/ag-20211126_145224/models/ExtraTreesMSE_BAG_L2/',\n",
              "  'KNeighborsDist_BAG_L1': 'AutogluonModels/ag-20211126_145224/models/KNeighborsDist_BAG_L1/',\n",
              "  'KNeighborsUnif_BAG_L1': 'AutogluonModels/ag-20211126_145224/models/KNeighborsUnif_BAG_L1/',\n",
              "  'LightGBMXT_BAG_L1': 'AutogluonModels/ag-20211126_145224/models/LightGBMXT_BAG_L1/',\n",
              "  'LightGBMXT_BAG_L2': 'AutogluonModels/ag-20211126_145224/models/LightGBMXT_BAG_L2/',\n",
              "  'LightGBM_BAG_L1': 'AutogluonModels/ag-20211126_145224/models/LightGBM_BAG_L1/',\n",
              "  'LightGBM_BAG_L2': 'AutogluonModels/ag-20211126_145224/models/LightGBM_BAG_L2/',\n",
              "  'NeuralNetFastAI_BAG_L1': 'AutogluonModels/ag-20211126_145224/models/NeuralNetFastAI_BAG_L1/',\n",
              "  'NeuralNetFastAI_BAG_L2': 'AutogluonModels/ag-20211126_145224/models/NeuralNetFastAI_BAG_L2/',\n",
              "  'RandomForestMSE_BAG_L1': 'AutogluonModels/ag-20211126_145224/models/RandomForestMSE_BAG_L1/',\n",
              "  'RandomForestMSE_BAG_L2': 'AutogluonModels/ag-20211126_145224/models/RandomForestMSE_BAG_L2/',\n",
              "  'WeightedEnsemble_L2': 'AutogluonModels/ag-20211126_145224/models/WeightedEnsemble_L2/',\n",
              "  'WeightedEnsemble_L3': 'AutogluonModels/ag-20211126_145224/models/WeightedEnsemble_L3/',\n",
              "  'XGBoost_BAG_L2': 'AutogluonModels/ag-20211126_145224/models/XGBoost_BAG_L2/'},\n",
              " 'model_performance': {'CatBoost_BAG_L2': -52.422346023126565,\n",
              "  'ExtraTreesMSE_BAG_L1': -65.07111991390497,\n",
              "  'ExtraTreesMSE_BAG_L2': -52.513186591683564,\n",
              "  'KNeighborsDist_BAG_L1': -121.19443403431022,\n",
              "  'KNeighborsUnif_BAG_L1': -125.06143678764944,\n",
              "  'LightGBMXT_BAG_L1': -54.128876527920426,\n",
              "  'LightGBMXT_BAG_L2': -53.91273042787031,\n",
              "  'LightGBM_BAG_L1': -56.42368015909981,\n",
              "  'LightGBM_BAG_L2': -52.60527146598652,\n",
              "  'NeuralNetFastAI_BAG_L1': -70.19345807694572,\n",
              "  'NeuralNetFastAI_BAG_L2': -52.59401392132336,\n",
              "  'RandomForestMSE_BAG_L1': -65.57364410877483,\n",
              "  'RandomForestMSE_BAG_L2': -52.87201991229248,\n",
              "  'WeightedEnsemble_L2': -53.456548127962016,\n",
              "  'WeightedEnsemble_L3': -51.748930091830466,\n",
              "  'XGBoost_BAG_L2': -71.3140103085698},\n",
              " 'model_pred_times': {'CatBoost_BAG_L2': 0.0783689022064209,\n",
              "  'ExtraTreesMSE_BAG_L1': 0.5011932849884033,\n",
              "  'ExtraTreesMSE_BAG_L2': 0.5867562294006348,\n",
              "  'KNeighborsDist_BAG_L1': 0.20882129669189453,\n",
              "  'KNeighborsUnif_BAG_L1': 0.20395278930664062,\n",
              "  'LightGBMXT_BAG_L1': 9.189225912094116,\n",
              "  'LightGBMXT_BAG_L2': 0.31366467475891113,\n",
              "  'LightGBM_BAG_L1': 3.1580748558044434,\n",
              "  'LightGBM_BAG_L2': 0.13591885566711426,\n",
              "  'NeuralNetFastAI_BAG_L1': 0.40650129318237305,\n",
              "  'NeuralNetFastAI_BAG_L2': 0.4467580318450928,\n",
              "  'RandomForestMSE_BAG_L1': 0.5077245235443115,\n",
              "  'RandomForestMSE_BAG_L2': 0.5819742679595947,\n",
              "  'WeightedEnsemble_L2': 0.0007636547088623047,\n",
              "  'WeightedEnsemble_L3': 0.0011403560638427734,\n",
              "  'XGBoost_BAG_L2': 0.12446260452270508},\n",
              " 'model_types': {'CatBoost_BAG_L2': 'StackerEnsembleModel_CatBoost',\n",
              "  'ExtraTreesMSE_BAG_L1': 'StackerEnsembleModel_XT',\n",
              "  'ExtraTreesMSE_BAG_L2': 'StackerEnsembleModel_XT',\n",
              "  'KNeighborsDist_BAG_L1': 'StackerEnsembleModel_KNN',\n",
              "  'KNeighborsUnif_BAG_L1': 'StackerEnsembleModel_KNN',\n",
              "  'LightGBMXT_BAG_L1': 'StackerEnsembleModel_LGB',\n",
              "  'LightGBMXT_BAG_L2': 'StackerEnsembleModel_LGB',\n",
              "  'LightGBM_BAG_L1': 'StackerEnsembleModel_LGB',\n",
              "  'LightGBM_BAG_L2': 'StackerEnsembleModel_LGB',\n",
              "  'NeuralNetFastAI_BAG_L1': 'StackerEnsembleModel_NNFastAiTabular',\n",
              "  'NeuralNetFastAI_BAG_L2': 'StackerEnsembleModel_NNFastAiTabular',\n",
              "  'RandomForestMSE_BAG_L1': 'StackerEnsembleModel_RF',\n",
              "  'RandomForestMSE_BAG_L2': 'StackerEnsembleModel_RF',\n",
              "  'WeightedEnsemble_L2': 'WeightedEnsembleModel',\n",
              "  'WeightedEnsemble_L3': 'WeightedEnsembleModel',\n",
              "  'XGBoost_BAG_L2': 'StackerEnsembleModel_XGBoost'},\n",
              " 'num_bag_folds': 10}"
            ]
          },
          "metadata": {},
          "execution_count": 40
        }
      ]
    },
    {
      "cell_type": "code",
      "metadata": {
        "colab": {
          "base_uri": "https://localhost:8080/",
          "height": 427
        },
        "id": "N1FZNr_c_Ur5",
        "outputId": "b1dc57d8-155d-4136-c2b2-9f589450f74e"
      },
      "source": [
        "predictor_new_features.leaderboard(silent=True).plot(kind='bar', x='model', y='score_val')"
      ],
      "execution_count": null,
      "outputs": [
        {
          "output_type": "execute_result",
          "data": {
            "text/plain": [
              "<matplotlib.axes._subplots.AxesSubplot at 0x7fe92680d8d0>"
            ]
          },
          "metadata": {},
          "execution_count": 41
        },
        {
          "output_type": "display_data",
          "data": {
            "image/png": "[encoded data removed]",
            "text/plain": [
              "<Figure size 432x288 with 1 Axes>"
            ]
          },
          "metadata": {
            "needs_background": "light"
          }
        }
      ]
    },
    {
      "cell_type": "code",
      "metadata": {
        "id": "ytPPlcLxyvNv"
      },
      "source": [
        "# Remember to set all negative values to zero\n",
        "predictions_new_features = predictor_new_features.predict(test)"
      ],
      "execution_count": null,
      "outputs": []
    },
    {
      "cell_type": "code",
      "metadata": {
        "colab": {
          "base_uri": "https://localhost:8080/"
        },
        "id": "vCZ35elKXSlw",
        "outputId": "b447e51b-cb3b-46a9-895a-0cb111fc1085"
      },
      "source": [
        "predictions_new_features[predictions_new_features<0]"
      ],
      "execution_count": null,
      "outputs": [
        {
          "output_type": "execute_result",
          "data": {
            "text/plain": [
              "27     -1.804966\n",
              "118    -0.809013\n",
              "120    -1.386083\n",
              "166    -1.345034\n",
              "167    -1.409891\n",
              "371    -0.708350\n",
              "3297   -1.458373\n",
              "3298   -0.537268\n",
              "3322   -0.341632\n",
              "3607   -1.161858\n",
              "4183   -0.564302\n",
              "6473   -0.595128\n",
              "Name: count, dtype: float32"
            ]
          },
          "metadata": {},
          "execution_count": 43
        }
      ]
    },
    {
      "cell_type": "code",
      "metadata": {
        "id": "S0bza7vBXxjG"
      },
      "source": [
        "predictions_new_features[predictions_new_features<0] = 0"
      ],
      "execution_count": null,
      "outputs": []
    },
    {
      "cell_type": "code",
      "metadata": {
        "id": "pKyrjw8BYOMH"
      },
      "source": [
        "submission_new_features = pd.read_csv('/content/submission.csv')"
      ],
      "execution_count": null,
      "outputs": []
    },
    {
      "cell_type": "code",
      "metadata": {
        "id": "4_W_5MrcyvNw"
      },
      "source": [
        "# Same submitting predictions\n",
        "submission_new_features[\"count\"] = predictions_new_features\n",
        "submission_new_features.to_csv(\"submission_new_features.csv\", index=False)"
      ],
      "execution_count": null,
      "outputs": []
    },
    {
      "cell_type": "code",
      "metadata": {
        "colab": {
          "base_uri": "https://localhost:8080/"
        },
        "id": "GrzY9MrFyvNw",
        "outputId": "36e85aa8-2f0d-449a-a5b2-b59c61e58b98"
      },
      "source": [
        "!kaggle competitions submit -c bike-sharing-demand -f submission_new_features.csv -m \"new features\""
      ],
      "execution_count": null,
      "outputs": [
        {
          "output_type": "stream",
          "name": "stdout",
          "text": [
            "Warning: Looks like you're using an outdated API Version, please consider updating (server 1.5.12 / client 1.5.4)\n",
            "100% 188k/188k [00:03<00:00, 62.6kB/s]\n",
            "Successfully submitted to Bike Sharing Demand"
          ]
        }
      ]
    },
    {
      "cell_type": "code",
      "metadata": {
        "colab": {
          "base_uri": "https://localhost:8080/"
        },
        "id": "hnR5FJ1fyvNw",
        "outputId": "87203d21-a1df-4120-9ab8-250efc99e9d0"
      },
      "source": [
        "!kaggle competitions submissions -c bike-sharing-demand | tail -n +1 | head -n 6"
      ],
      "execution_count": null,
      "outputs": [
        {
          "output_type": "stream",
          "name": "stdout",
          "text": [
            "Warning: Looks like you're using an outdated API Version, please consider updating (server 1.5.12 / client 1.5.4)\n",
            "fileName                     date                 description                        status    publicScore  privateScore  \n",
            "---------------------------  -------------------  ---------------------------------  --------  -----------  ------------  \n",
            "submission_new_features.csv  2021-11-26 15:04:00  new features                       complete  0.55921      0.55921       \n",
            "submission.csv               2021-11-26 14:52:18  raw submission                     complete  1.39295      1.39295       \n",
            "submission_new_hpo.csv       2021-11-25 15:48:44  new features with hyperparameters  complete  0.53401      0.53401       \n"
          ]
        }
      ]
    },
    {
      "cell_type": "markdown",
      "metadata": {
        "id": "cb_umvG4yvNx"
      },
      "source": [
        "#### New Score of `0.54435`"
      ]
    },
    {
      "cell_type": "markdown",
      "metadata": {
        "id": "M2zLRavayvNx"
      },
      "source": [
        "## Step 6: Hyper parameter optimization\n",
        "* There are many options for hyper parameter optimization.\n",
        "* Options are to change the AutoGluon higher level parameters or the individual model hyperparameters.\n",
        "* The hyperparameters of the models themselves that are in AutoGluon. Those need the `hyperparameter` and `hyperparameter_tune_kwargs` arguments."
      ]
    },
    {
      "cell_type": "code",
      "metadata": {
        "id": "QxRb_cBXyVbm"
      },
      "source": [
        "import autogluon.core as ag\n",
        "\n",
        "nn_options = {\n",
        "    'num_epochs': 10,\n",
        "    'learning_rate': ag.space.Real(1e-4, 1e-2, default=5e-4, log=True),\n",
        "    'activation': ag.space.Categorical('relu', 'softrelu', 'tanh'),\n",
        "    'layers': ag.space.Categorical([100], [1000], [200, 100], [300, 200, 100]),\n",
        "    'dropout_prob': ag.space.Real(0.0, 0.5, default=0.1),\n",
        "}\n",
        "\n",
        "gbm_options = {\n",
        "    'num_boost_round': 100,\n",
        "    'num_leaves': ag.space.Int(lower=26, upper=66, default=36),\n",
        "}\n",
        "\n",
        "hyperparameters = {\n",
        "                   'GBM': gbm_options,\n",
        "                   'NN': nn_options,  \n",
        "                  } \n",
        "\n",
        "time_limit = 10*60\n",
        "num_trials = 5\n",
        "search_strategy = 'auto'\n",
        "\n",
        "hyperparameter_tune_kwargs = {\n",
        "    'num_trials': num_trials,\n",
        "    'scheduler' : 'local',\n",
        "    'searcher': search_strategy,\n",
        "}"
      ],
      "execution_count": null,
      "outputs": []
    },
    {
      "cell_type": "code",
      "metadata": {
        "colab": {
          "base_uri": "https://localhost:8080/",
          "height": 1000,
          "referenced_widgets": [
            "a26ad477549d47689e55ce3bf9503fa3",
            "a3fbaa0816414d5db32fd745215c88f9",
            "4b5f9b9dfe1c4d85b887b36b7c2c731e",
            "71a3611c3e4043b5a0dc99807579eb13",
            "4ae5634bd9a54b3889e5609269070b80",
            "98bd6a608bed4078aa20d4d8e04f1dd8",
            "84e300a1861545beae611da42f0a7005",
            "3ede1f74d637487f9a66847f60a469a4",
            "492cc3f319ca4d19906f85fcf59a3af5",
            "441fc5afd77c43cf90c3be851dd1a8e3",
            "c14285a5931744578f3488325118e327",
            "0d6b162212be4c37a81bb0580de3c9d7",
            "178eb8689bb84e5fbda5fe78f4ef519c",
            "85cfe7804f994707bad008ded91f0ac6",
            "56af89d12f5c44a6b784298924eb21ba",
            "8732f6f4a9a94e0aaa5948c7a134e31e",
            "7d6c0348139a45eebc46a0800068e99a",
            "7865a56aa88f4c5ca08e925c096c68b8",
            "3a46f57e4eef43c0a85a9603c523c084",
            "ee56b7c6b4a24a8c91d7055378c87a51",
            "df0177ae43b84816a2ab49eb3f538057",
            "5257ccf4e2904340a94d1853d9a01632",
            "a79007cd68f1476893af212991497e46",
            "92d6e434dfcd4385b2f4de3c375f209f",
            "f122dedc82b34caf872681d3cd670492",
            "717e11e365614a399068e5acac45eea4",
            "0aa2c53a7804455599e8a469e5652f3a",
            "fa4f176ec9c2492ba731b6716246139e",
            "c64c7e42148d48ed8c6fa09b179d8f80",
            "b9dcfdf879e34eddab1d90bc3fa53bb7",
            "aeecb57b8ee74f12af55d2464af87902",
            "5d7fcd7a91f047f29d23089fed3a0a20",
            "3180827441094d0092fdeb345fd0826b",
            "7e19e0c729754c47bd1345f687bd289e",
            "0c9e456acf4b46899b255b3f9bcbe896",
            "c023e06fa18049558e5b80c2305519e5",
            "732da8c216cc4d78b4bde027731cd8b0",
            "c0fe48e13fdf464aa7d6aad82538753e",
            "d30256f05ade4d1c83654a0821b72bb5",
            "4f9d5f6b93c044eebd05d66b2f17308a",
            "f461824732b74cf7862ea8e865032113",
            "f7130403540e4cbf9cc5c2591e14b972",
            "33de78037f8c41d2b474ac3d294061ef",
            "f09ef74968b74ff7880fd841ce936015"
          ]
        },
        "id": "6ErdnpdDzZHr",
        "outputId": "b5340098-2f7d-4568-f174-101c069efd43"
      },
      "source": [
        "predictor_new_hpo = TabularPredictor(label='count', eval_metric='root_mean_squared_error').fit(\n",
        "    train_data=train, time_limit=time_limit,\n",
        "    hyperparameters=hyperparameters, hyperparameter_tune_kwargs=hyperparameter_tune_kwargs, presets='best_quality'\n",
        ")"
      ],
      "execution_count": null,
      "outputs": [
        {
          "output_type": "stream",
          "name": "stderr",
          "text": [
            "No path specified. Models will be saved in: \"AutogluonModels/ag-20211126_150403/\"\n",
            "Presets specified: ['best_quality']\n",
            "Warning: hyperparameter tuning is currently experimental and may cause the process to hang.\n",
            "Beginning AutoGluon training ... Time limit = 600s\n",
            "AutoGluon will save models to \"AutogluonModels/ag-20211126_150403/\"\n",
            "AutoGluon Version:  0.3.1\n",
            "Train Data Rows:    10886\n",
            "Train Data Columns: 11\n",
            "Preprocessing data ...\n",
            "AutoGluon infers your prediction problem is: 'regression' (because dtype of label-column == int and many unique label-values observed).\n",
            "\tLabel info (max, min, mean, stddev): (977, 1, 191.57413, 181.14445)\n",
            "\tIf 'regression' is not the correct problem_type, please manually specify the problem_type argument in fit() (You may specify problem_type as one of: ['binary', 'multiclass', 'regression'])\n",
            "Using Feature Generators to preprocess the data ...\n",
            "Fitting AutoMLPipelineFeatureGenerator...\n",
            "\tAvailable Memory:                    11471.05 MB\n",
            "\tTrain Data (Original)  Memory Usage: 0.81 MB (0.0% of available memory)\n",
            "\tInferring data type of each feature based on column values. Set feature_metadata_in to manually specify special dtypes of the features.\n",
            "\tStage 1 Generators:\n",
            "\t\tFitting AsTypeFeatureGenerator...\n",
            "\t\t\tNote: Converting 2 features to boolean dtype as they only contain 2 unique values.\n",
            "\tStage 2 Generators:\n",
            "\t\tFitting FillNaFeatureGenerator...\n",
            "\tStage 3 Generators:\n",
            "\t\tFitting IdentityFeatureGenerator...\n",
            "\t\tFitting CategoryFeatureGenerator...\n",
            "\t\t\tFitting CategoryMemoryMinimizeFeatureGenerator...\n",
            "\tStage 4 Generators:\n",
            "\t\tFitting DropUniqueFeatureGenerator...\n",
            "\tTypes of features in original data (raw dtype, special dtypes):\n",
            "\t\t('category', []) : 2 | ['season', 'weather']\n",
            "\t\t('float', [])    : 3 | ['temp', 'atemp', 'windspeed']\n",
            "\t\t('int', [])      : 6 | ['holiday', 'workingday', 'humidity', 'day', 'month', ...]\n",
            "\tTypes of features in processed data (raw dtype, special dtypes):\n",
            "\t\t('category', [])  : 2 | ['season', 'weather']\n",
            "\t\t('float', [])     : 3 | ['temp', 'atemp', 'windspeed']\n",
            "\t\t('int', [])       : 4 | ['humidity', 'day', 'month', 'hour']\n",
            "\t\t('int', ['bool']) : 2 | ['holiday', 'workingday']\n",
            "\t0.2s = Fit runtime\n",
            "\t11 features in original data used to generate 11 features in processed data.\n",
            "\tTrain Data (Processed) Memory Usage: 0.65 MB (0.0% of available memory)\n",
            "Data preprocessing and feature engineering runtime = 0.25s ...\n",
            "AutoGluon will gauge predictive performance using evaluation metric: 'root_mean_squared_error'\n",
            "\tTo change this, specify the eval_metric argument of fit()\n",
            "AutoGluon will fit 2 stack levels (L1 to L2) ...\n",
            "Fitting 2 L1 models ...\n",
            "Hyperparameter tuning model: LightGBM_BAG_L1 ...\n"
          ]
        },
        {
          "output_type": "display_data",
          "data": {
            "application/vnd.jupyter.widget-view+json": {
              "model_id": "a26ad477549d47689e55ce3bf9503fa3",
              "version_minor": 0,
              "version_major": 2
            },
            "text/plain": [
              "  0%|          | 0/5 [00:00<?, ?it/s]"
            ]
          },
          "metadata": {}
        },
        {
          "output_type": "stream",
          "name": "stderr",
          "text": [
            "/usr/local/lib/python3.7/dist-packages/lightgbm/engine.py:239: UserWarning: 'verbose_eval' argument is deprecated and will be removed in a future release of LightGBM. Pass 'log_evaluation()' callback via 'callbacks' argument instead.\n",
            "  _log_warning(\"'verbose_eval' argument is deprecated and will be removed in a future release of LightGBM. \"\n",
            "/usr/local/lib/python3.7/dist-packages/lightgbm/engine.py:239: UserWarning: 'verbose_eval' argument is deprecated and will be removed in a future release of LightGBM. Pass 'log_evaluation()' callback via 'callbacks' argument instead.\n",
            "  _log_warning(\"'verbose_eval' argument is deprecated and will be removed in a future release of LightGBM. \"\n",
            "/usr/local/lib/python3.7/dist-packages/lightgbm/engine.py:239: UserWarning: 'verbose_eval' argument is deprecated and will be removed in a future release of LightGBM. Pass 'log_evaluation()' callback via 'callbacks' argument instead.\n",
            "  _log_warning(\"'verbose_eval' argument is deprecated and will be removed in a future release of LightGBM. \"\n",
            "/usr/local/lib/python3.7/dist-packages/lightgbm/engine.py:239: UserWarning: 'verbose_eval' argument is deprecated and will be removed in a future release of LightGBM. Pass 'log_evaluation()' callback via 'callbacks' argument instead.\n",
            "  _log_warning(\"'verbose_eval' argument is deprecated and will be removed in a future release of LightGBM. \"\n",
            "/usr/local/lib/python3.7/dist-packages/lightgbm/engine.py:239: UserWarning: 'verbose_eval' argument is deprecated and will be removed in a future release of LightGBM. Pass 'log_evaluation()' callback via 'callbacks' argument instead.\n",
            "  _log_warning(\"'verbose_eval' argument is deprecated and will be removed in a future release of LightGBM. \"\n",
            "Fitted model: LightGBM_BAG_L1/T0 ...\n",
            "\t-67.0945\t = Validation score   (root_mean_squared_error)\n",
            "\t0.42s\t = Training   runtime\n",
            "\t0.01s\t = Validation runtime\n",
            "Fitted model: LightGBM_BAG_L1/T1 ...\n",
            "\t-64.5739\t = Validation score   (root_mean_squared_error)\n",
            "\t0.43s\t = Training   runtime\n",
            "\t0.01s\t = Validation runtime\n",
            "Fitted model: LightGBM_BAG_L1/T2 ...\n",
            "\t-100.9078\t = Validation score   (root_mean_squared_error)\n",
            "\t0.44s\t = Training   runtime\n",
            "\t0.02s\t = Validation runtime\n",
            "Fitted model: LightGBM_BAG_L1/T3 ...\n",
            "\t-67.0457\t = Validation score   (root_mean_squared_error)\n",
            "\t0.42s\t = Training   runtime\n",
            "\t0.02s\t = Validation runtime\n",
            "Fitted model: LightGBM_BAG_L1/T4 ...\n",
            "\t-57.6476\t = Validation score   (root_mean_squared_error)\n",
            "\t0.43s\t = Training   runtime\n",
            "\t0.02s\t = Validation runtime\n",
            "Hyperparameter tuning model: NeuralNetMXNet_BAG_L1 ...\n"
          ]
        },
        {
          "output_type": "display_data",
          "data": {
            "application/vnd.jupyter.widget-view+json": {
              "model_id": "0d6b162212be4c37a81bb0580de3c9d7",
              "version_minor": 0,
              "version_major": 2
            },
            "text/plain": [
              "  0%|          | 0/5 [00:00<?, ?it/s]"
            ]
          },
          "metadata": {}
        },
        {
          "output_type": "stream",
          "name": "stderr",
          "text": [
            "\tTime limit exceeded\n",
            "Fitted model: NeuralNetMXNet_BAG_L1/T0 ...\n",
            "\t-130.1663\t = Validation score   (root_mean_squared_error)\n",
            "\t11.26s\t = Training   runtime\n",
            "\t0.07s\t = Validation runtime\n",
            "Fitting model: LightGBM_BAG_L1/T0 ... Training model for up to 382.3s of the 582.31s of remaining time.\n",
            "Attempting to fit model without HPO, but search space is provided. fit() will only consider default hyperparameter values from search space.\n",
            "/usr/local/lib/python3.7/dist-packages/lightgbm/engine.py:239: UserWarning: 'verbose_eval' argument is deprecated and will be removed in a future release of LightGBM. Pass 'log_evaluation()' callback via 'callbacks' argument instead.\n",
            "  _log_warning(\"'verbose_eval' argument is deprecated and will be removed in a future release of LightGBM. \"\n",
            "Attempting to fit model without HPO, but search space is provided. fit() will only consider default hyperparameter values from search space.\n",
            "/usr/local/lib/python3.7/dist-packages/lightgbm/engine.py:239: UserWarning: 'verbose_eval' argument is deprecated and will be removed in a future release of LightGBM. Pass 'log_evaluation()' callback via 'callbacks' argument instead.\n",
            "  _log_warning(\"'verbose_eval' argument is deprecated and will be removed in a future release of LightGBM. \"\n",
            "Attempting to fit model without HPO, but search space is provided. fit() will only consider default hyperparameter values from search space.\n",
            "/usr/local/lib/python3.7/dist-packages/lightgbm/engine.py:239: UserWarning: 'verbose_eval' argument is deprecated and will be removed in a future release of LightGBM. Pass 'log_evaluation()' callback via 'callbacks' argument instead.\n",
            "  _log_warning(\"'verbose_eval' argument is deprecated and will be removed in a future release of LightGBM. \"\n",
            "Attempting to fit model without HPO, but search space is provided. fit() will only consider default hyperparameter values from search space.\n",
            "/usr/local/lib/python3.7/dist-packages/lightgbm/engine.py:239: UserWarning: 'verbose_eval' argument is deprecated and will be removed in a future release of LightGBM. Pass 'log_evaluation()' callback via 'callbacks' argument instead.\n",
            "  _log_warning(\"'verbose_eval' argument is deprecated and will be removed in a future release of LightGBM. \"\n",
            "Attempting to fit model without HPO, but search space is provided. fit() will only consider default hyperparameter values from search space.\n",
            "/usr/local/lib/python3.7/dist-packages/lightgbm/engine.py:239: UserWarning: 'verbose_eval' argument is deprecated and will be removed in a future release of LightGBM. Pass 'log_evaluation()' callback via 'callbacks' argument instead.\n",
            "  _log_warning(\"'verbose_eval' argument is deprecated and will be removed in a future release of LightGBM. \"\n",
            "Attempting to fit model without HPO, but search space is provided. fit() will only consider default hyperparameter values from search space.\n",
            "/usr/local/lib/python3.7/dist-packages/lightgbm/engine.py:239: UserWarning: 'verbose_eval' argument is deprecated and will be removed in a future release of LightGBM. Pass 'log_evaluation()' callback via 'callbacks' argument instead.\n",
            "  _log_warning(\"'verbose_eval' argument is deprecated and will be removed in a future release of LightGBM. \"\n",
            "Attempting to fit model without HPO, but search space is provided. fit() will only consider default hyperparameter values from search space.\n",
            "/usr/local/lib/python3.7/dist-packages/lightgbm/engine.py:239: UserWarning: 'verbose_eval' argument is deprecated and will be removed in a future release of LightGBM. Pass 'log_evaluation()' callback via 'callbacks' argument instead.\n",
            "  _log_warning(\"'verbose_eval' argument is deprecated and will be removed in a future release of LightGBM. \"\n",
            "Attempting to fit model without HPO, but search space is provided. fit() will only consider default hyperparameter values from search space.\n",
            "/usr/local/lib/python3.7/dist-packages/lightgbm/engine.py:239: UserWarning: 'verbose_eval' argument is deprecated and will be removed in a future release of LightGBM. Pass 'log_evaluation()' callback via 'callbacks' argument instead.\n",
            "  _log_warning(\"'verbose_eval' argument is deprecated and will be removed in a future release of LightGBM. \"\n",
            "Attempting to fit model without HPO, but search space is provided. fit() will only consider default hyperparameter values from search space.\n",
            "/usr/local/lib/python3.7/dist-packages/lightgbm/engine.py:239: UserWarning: 'verbose_eval' argument is deprecated and will be removed in a future release of LightGBM. Pass 'log_evaluation()' callback via 'callbacks' argument instead.\n",
            "  _log_warning(\"'verbose_eval' argument is deprecated and will be removed in a future release of LightGBM. \"\n",
            "\t-67.8493\t = Validation score   (root_mean_squared_error)\n",
            "\t4.09s\t = Training   runtime\n",
            "\t0.16s\t = Validation runtime\n",
            "Fitting model: LightGBM_BAG_L1/T1 ... Training model for up to 378.31s of the 578.32s of remaining time.\n",
            "Attempting to fit model without HPO, but search space is provided. fit() will only consider default hyperparameter values from search space.\n",
            "/usr/local/lib/python3.7/dist-packages/lightgbm/engine.py:239: UserWarning: 'verbose_eval' argument is deprecated and will be removed in a future release of LightGBM. Pass 'log_evaluation()' callback via 'callbacks' argument instead.\n",
            "  _log_warning(\"'verbose_eval' argument is deprecated and will be removed in a future release of LightGBM. \"\n",
            "Attempting to fit model without HPO, but search space is provided. fit() will only consider default hyperparameter values from search space.\n",
            "/usr/local/lib/python3.7/dist-packages/lightgbm/engine.py:239: UserWarning: 'verbose_eval' argument is deprecated and will be removed in a future release of LightGBM. Pass 'log_evaluation()' callback via 'callbacks' argument instead.\n",
            "  _log_warning(\"'verbose_eval' argument is deprecated and will be removed in a future release of LightGBM. \"\n",
            "Attempting to fit model without HPO, but search space is provided. fit() will only consider default hyperparameter values from search space.\n",
            "/usr/local/lib/python3.7/dist-packages/lightgbm/engine.py:239: UserWarning: 'verbose_eval' argument is deprecated and will be removed in a future release of LightGBM. Pass 'log_evaluation()' callback via 'callbacks' argument instead.\n",
            "  _log_warning(\"'verbose_eval' argument is deprecated and will be removed in a future release of LightGBM. \"\n",
            "Attempting to fit model without HPO, but search space is provided. fit() will only consider default hyperparameter values from search space.\n",
            "/usr/local/lib/python3.7/dist-packages/lightgbm/engine.py:239: UserWarning: 'verbose_eval' argument is deprecated and will be removed in a future release of LightGBM. Pass 'log_evaluation()' callback via 'callbacks' argument instead.\n",
            "  _log_warning(\"'verbose_eval' argument is deprecated and will be removed in a future release of LightGBM. \"\n",
            "Attempting to fit model without HPO, but search space is provided. fit() will only consider default hyperparameter values from search space.\n",
            "/usr/local/lib/python3.7/dist-packages/lightgbm/engine.py:239: UserWarning: 'verbose_eval' argument is deprecated and will be removed in a future release of LightGBM. Pass 'log_evaluation()' callback via 'callbacks' argument instead.\n",
            "  _log_warning(\"'verbose_eval' argument is deprecated and will be removed in a future release of LightGBM. \"\n",
            "Attempting to fit model without HPO, but search space is provided. fit() will only consider default hyperparameter values from search space.\n",
            "/usr/local/lib/python3.7/dist-packages/lightgbm/engine.py:239: UserWarning: 'verbose_eval' argument is deprecated and will be removed in a future release of LightGBM. Pass 'log_evaluation()' callback via 'callbacks' argument instead.\n",
            "  _log_warning(\"'verbose_eval' argument is deprecated and will be removed in a future release of LightGBM. \"\n",
            "Attempting to fit model without HPO, but search space is provided. fit() will only consider default hyperparameter values from search space.\n",
            "/usr/local/lib/python3.7/dist-packages/lightgbm/engine.py:239: UserWarning: 'verbose_eval' argument is deprecated and will be removed in a future release of LightGBM. Pass 'log_evaluation()' callback via 'callbacks' argument instead.\n",
            "  _log_warning(\"'verbose_eval' argument is deprecated and will be removed in a future release of LightGBM. \"\n",
            "Attempting to fit model without HPO, but search space is provided. fit() will only consider default hyperparameter values from search space.\n",
            "/usr/local/lib/python3.7/dist-packages/lightgbm/engine.py:239: UserWarning: 'verbose_eval' argument is deprecated and will be removed in a future release of LightGBM. Pass 'log_evaluation()' callback via 'callbacks' argument instead.\n",
            "  _log_warning(\"'verbose_eval' argument is deprecated and will be removed in a future release of LightGBM. \"\n",
            "Attempting to fit model without HPO, but search space is provided. fit() will only consider default hyperparameter values from search space.\n",
            "/usr/local/lib/python3.7/dist-packages/lightgbm/engine.py:239: UserWarning: 'verbose_eval' argument is deprecated and will be removed in a future release of LightGBM. Pass 'log_evaluation()' callback via 'callbacks' argument instead.\n",
            "  _log_warning(\"'verbose_eval' argument is deprecated and will be removed in a future release of LightGBM. \"\n",
            "\t-67.6042\t = Validation score   (root_mean_squared_error)\n",
            "\t4.13s\t = Training   runtime\n",
            "\t0.15s\t = Validation runtime\n",
            "Fitting model: LightGBM_BAG_L1/T2 ... Training model for up to 374.32s of the 574.33s of remaining time.\n",
            "Attempting to fit model without HPO, but search space is provided. fit() will only consider default hyperparameter values from search space.\n",
            "/usr/local/lib/python3.7/dist-packages/lightgbm/engine.py:239: UserWarning: 'verbose_eval' argument is deprecated and will be removed in a future release of LightGBM. Pass 'log_evaluation()' callback via 'callbacks' argument instead.\n",
            "  _log_warning(\"'verbose_eval' argument is deprecated and will be removed in a future release of LightGBM. \"\n",
            "Attempting to fit model without HPO, but search space is provided. fit() will only consider default hyperparameter values from search space.\n",
            "/usr/local/lib/python3.7/dist-packages/lightgbm/engine.py:239: UserWarning: 'verbose_eval' argument is deprecated and will be removed in a future release of LightGBM. Pass 'log_evaluation()' callback via 'callbacks' argument instead.\n",
            "  _log_warning(\"'verbose_eval' argument is deprecated and will be removed in a future release of LightGBM. \"\n",
            "Attempting to fit model without HPO, but search space is provided. fit() will only consider default hyperparameter values from search space.\n",
            "/usr/local/lib/python3.7/dist-packages/lightgbm/engine.py:239: UserWarning: 'verbose_eval' argument is deprecated and will be removed in a future release of LightGBM. Pass 'log_evaluation()' callback via 'callbacks' argument instead.\n",
            "  _log_warning(\"'verbose_eval' argument is deprecated and will be removed in a future release of LightGBM. \"\n",
            "Attempting to fit model without HPO, but search space is provided. fit() will only consider default hyperparameter values from search space.\n",
            "/usr/local/lib/python3.7/dist-packages/lightgbm/engine.py:239: UserWarning: 'verbose_eval' argument is deprecated and will be removed in a future release of LightGBM. Pass 'log_evaluation()' callback via 'callbacks' argument instead.\n",
            "  _log_warning(\"'verbose_eval' argument is deprecated and will be removed in a future release of LightGBM. \"\n",
            "Attempting to fit model without HPO, but search space is provided. fit() will only consider default hyperparameter values from search space.\n",
            "/usr/local/lib/python3.7/dist-packages/lightgbm/engine.py:239: UserWarning: 'verbose_eval' argument is deprecated and will be removed in a future release of LightGBM. Pass 'log_evaluation()' callback via 'callbacks' argument instead.\n",
            "  _log_warning(\"'verbose_eval' argument is deprecated and will be removed in a future release of LightGBM. \"\n",
            "Attempting to fit model without HPO, but search space is provided. fit() will only consider default hyperparameter values from search space.\n",
            "/usr/local/lib/python3.7/dist-packages/lightgbm/engine.py:239: UserWarning: 'verbose_eval' argument is deprecated and will be removed in a future release of LightGBM. Pass 'log_evaluation()' callback via 'callbacks' argument instead.\n",
            "  _log_warning(\"'verbose_eval' argument is deprecated and will be removed in a future release of LightGBM. \"\n",
            "Attempting to fit model without HPO, but search space is provided. fit() will only consider default hyperparameter values from search space.\n",
            "/usr/local/lib/python3.7/dist-packages/lightgbm/engine.py:239: UserWarning: 'verbose_eval' argument is deprecated and will be removed in a future release of LightGBM. Pass 'log_evaluation()' callback via 'callbacks' argument instead.\n",
            "  _log_warning(\"'verbose_eval' argument is deprecated and will be removed in a future release of LightGBM. \"\n",
            "Attempting to fit model without HPO, but search space is provided. fit() will only consider default hyperparameter values from search space.\n",
            "/usr/local/lib/python3.7/dist-packages/lightgbm/engine.py:239: UserWarning: 'verbose_eval' argument is deprecated and will be removed in a future release of LightGBM. Pass 'log_evaluation()' callback via 'callbacks' argument instead.\n",
            "  _log_warning(\"'verbose_eval' argument is deprecated and will be removed in a future release of LightGBM. \"\n",
            "Attempting to fit model without HPO, but search space is provided. fit() will only consider default hyperparameter values from search space.\n",
            "/usr/local/lib/python3.7/dist-packages/lightgbm/engine.py:239: UserWarning: 'verbose_eval' argument is deprecated and will be removed in a future release of LightGBM. Pass 'log_evaluation()' callback via 'callbacks' argument instead.\n",
            "  _log_warning(\"'verbose_eval' argument is deprecated and will be removed in a future release of LightGBM. \"\n",
            "\t-71.9153\t = Validation score   (root_mean_squared_error)\n",
            "\t4.15s\t = Training   runtime\n",
            "\t0.16s\t = Validation runtime\n",
            "Fitting model: LightGBM_BAG_L1/T3 ... Training model for up to 370.3s of the 570.31s of remaining time.\n",
            "Attempting to fit model without HPO, but search space is provided. fit() will only consider default hyperparameter values from search space.\n",
            "/usr/local/lib/python3.7/dist-packages/lightgbm/engine.py:239: UserWarning: 'verbose_eval' argument is deprecated and will be removed in a future release of LightGBM. Pass 'log_evaluation()' callback via 'callbacks' argument instead.\n",
            "  _log_warning(\"'verbose_eval' argument is deprecated and will be removed in a future release of LightGBM. \"\n",
            "Attempting to fit model without HPO, but search space is provided. fit() will only consider default hyperparameter values from search space.\n",
            "/usr/local/lib/python3.7/dist-packages/lightgbm/engine.py:239: UserWarning: 'verbose_eval' argument is deprecated and will be removed in a future release of LightGBM. Pass 'log_evaluation()' callback via 'callbacks' argument instead.\n",
            "  _log_warning(\"'verbose_eval' argument is deprecated and will be removed in a future release of LightGBM. \"\n",
            "Attempting to fit model without HPO, but search space is provided. fit() will only consider default hyperparameter values from search space.\n",
            "/usr/local/lib/python3.7/dist-packages/lightgbm/engine.py:239: UserWarning: 'verbose_eval' argument is deprecated and will be removed in a future release of LightGBM. Pass 'log_evaluation()' callback via 'callbacks' argument instead.\n",
            "  _log_warning(\"'verbose_eval' argument is deprecated and will be removed in a future release of LightGBM. \"\n",
            "Attempting to fit model without HPO, but search space is provided. fit() will only consider default hyperparameter values from search space.\n",
            "/usr/local/lib/python3.7/dist-packages/lightgbm/engine.py:239: UserWarning: 'verbose_eval' argument is deprecated and will be removed in a future release of LightGBM. Pass 'log_evaluation()' callback via 'callbacks' argument instead.\n",
            "  _log_warning(\"'verbose_eval' argument is deprecated and will be removed in a future release of LightGBM. \"\n",
            "Attempting to fit model without HPO, but search space is provided. fit() will only consider default hyperparameter values from search space.\n",
            "/usr/local/lib/python3.7/dist-packages/lightgbm/engine.py:239: UserWarning: 'verbose_eval' argument is deprecated and will be removed in a future release of LightGBM. Pass 'log_evaluation()' callback via 'callbacks' argument instead.\n",
            "  _log_warning(\"'verbose_eval' argument is deprecated and will be removed in a future release of LightGBM. \"\n",
            "Attempting to fit model without HPO, but search space is provided. fit() will only consider default hyperparameter values from search space.\n",
            "/usr/local/lib/python3.7/dist-packages/lightgbm/engine.py:239: UserWarning: 'verbose_eval' argument is deprecated and will be removed in a future release of LightGBM. Pass 'log_evaluation()' callback via 'callbacks' argument instead.\n",
            "  _log_warning(\"'verbose_eval' argument is deprecated and will be removed in a future release of LightGBM. \"\n",
            "Attempting to fit model without HPO, but search space is provided. fit() will only consider default hyperparameter values from search space.\n",
            "/usr/local/lib/python3.7/dist-packages/lightgbm/engine.py:239: UserWarning: 'verbose_eval' argument is deprecated and will be removed in a future release of LightGBM. Pass 'log_evaluation()' callback via 'callbacks' argument instead.\n",
            "  _log_warning(\"'verbose_eval' argument is deprecated and will be removed in a future release of LightGBM. \"\n",
            "Attempting to fit model without HPO, but search space is provided. fit() will only consider default hyperparameter values from search space.\n",
            "/usr/local/lib/python3.7/dist-packages/lightgbm/engine.py:239: UserWarning: 'verbose_eval' argument is deprecated and will be removed in a future release of LightGBM. Pass 'log_evaluation()' callback via 'callbacks' argument instead.\n",
            "  _log_warning(\"'verbose_eval' argument is deprecated and will be removed in a future release of LightGBM. \"\n",
            "Attempting to fit model without HPO, but search space is provided. fit() will only consider default hyperparameter values from search space.\n",
            "/usr/local/lib/python3.7/dist-packages/lightgbm/engine.py:239: UserWarning: 'verbose_eval' argument is deprecated and will be removed in a future release of LightGBM. Pass 'log_evaluation()' callback via 'callbacks' argument instead.\n",
            "  _log_warning(\"'verbose_eval' argument is deprecated and will be removed in a future release of LightGBM. \"\n",
            "\t-67.8445\t = Validation score   (root_mean_squared_error)\n",
            "\t4.14s\t = Training   runtime\n",
            "\t0.15s\t = Validation runtime\n",
            "Fitting model: LightGBM_BAG_L1/T4 ... Training model for up to 366.27s of the 566.28s of remaining time.\n",
            "Attempting to fit model without HPO, but search space is provided. fit() will only consider default hyperparameter values from search space.\n",
            "/usr/local/lib/python3.7/dist-packages/lightgbm/engine.py:239: UserWarning: 'verbose_eval' argument is deprecated and will be removed in a future release of LightGBM. Pass 'log_evaluation()' callback via 'callbacks' argument instead.\n",
            "  _log_warning(\"'verbose_eval' argument is deprecated and will be removed in a future release of LightGBM. \"\n",
            "Attempting to fit model without HPO, but search space is provided. fit() will only consider default hyperparameter values from search space.\n",
            "/usr/local/lib/python3.7/dist-packages/lightgbm/engine.py:239: UserWarning: 'verbose_eval' argument is deprecated and will be removed in a future release of LightGBM. Pass 'log_evaluation()' callback via 'callbacks' argument instead.\n",
            "  _log_warning(\"'verbose_eval' argument is deprecated and will be removed in a future release of LightGBM. \"\n",
            "Attempting to fit model without HPO, but search space is provided. fit() will only consider default hyperparameter values from search space.\n",
            "/usr/local/lib/python3.7/dist-packages/lightgbm/engine.py:239: UserWarning: 'verbose_eval' argument is deprecated and will be removed in a future release of LightGBM. Pass 'log_evaluation()' callback via 'callbacks' argument instead.\n",
            "  _log_warning(\"'verbose_eval' argument is deprecated and will be removed in a future release of LightGBM. \"\n",
            "Attempting to fit model without HPO, but search space is provided. fit() will only consider default hyperparameter values from search space.\n",
            "/usr/local/lib/python3.7/dist-packages/lightgbm/engine.py:239: UserWarning: 'verbose_eval' argument is deprecated and will be removed in a future release of LightGBM. Pass 'log_evaluation()' callback via 'callbacks' argument instead.\n",
            "  _log_warning(\"'verbose_eval' argument is deprecated and will be removed in a future release of LightGBM. \"\n",
            "Attempting to fit model without HPO, but search space is provided. fit() will only consider default hyperparameter values from search space.\n",
            "/usr/local/lib/python3.7/dist-packages/lightgbm/engine.py:239: UserWarning: 'verbose_eval' argument is deprecated and will be removed in a future release of LightGBM. Pass 'log_evaluation()' callback via 'callbacks' argument instead.\n",
            "  _log_warning(\"'verbose_eval' argument is deprecated and will be removed in a future release of LightGBM. \"\n",
            "Attempting to fit model without HPO, but search space is provided. fit() will only consider default hyperparameter values from search space.\n",
            "/usr/local/lib/python3.7/dist-packages/lightgbm/engine.py:239: UserWarning: 'verbose_eval' argument is deprecated and will be removed in a future release of LightGBM. Pass 'log_evaluation()' callback via 'callbacks' argument instead.\n",
            "  _log_warning(\"'verbose_eval' argument is deprecated and will be removed in a future release of LightGBM. \"\n",
            "Attempting to fit model without HPO, but search space is provided. fit() will only consider default hyperparameter values from search space.\n",
            "/usr/local/lib/python3.7/dist-packages/lightgbm/engine.py:239: UserWarning: 'verbose_eval' argument is deprecated and will be removed in a future release of LightGBM. Pass 'log_evaluation()' callback via 'callbacks' argument instead.\n",
            "  _log_warning(\"'verbose_eval' argument is deprecated and will be removed in a future release of LightGBM. \"\n",
            "Attempting to fit model without HPO, but search space is provided. fit() will only consider default hyperparameter values from search space.\n",
            "/usr/local/lib/python3.7/dist-packages/lightgbm/engine.py:239: UserWarning: 'verbose_eval' argument is deprecated and will be removed in a future release of LightGBM. Pass 'log_evaluation()' callback via 'callbacks' argument instead.\n",
            "  _log_warning(\"'verbose_eval' argument is deprecated and will be removed in a future release of LightGBM. \"\n",
            "Attempting to fit model without HPO, but search space is provided. fit() will only consider default hyperparameter values from search space.\n",
            "/usr/local/lib/python3.7/dist-packages/lightgbm/engine.py:239: UserWarning: 'verbose_eval' argument is deprecated and will be removed in a future release of LightGBM. Pass 'log_evaluation()' callback via 'callbacks' argument instead.\n",
            "  _log_warning(\"'verbose_eval' argument is deprecated and will be removed in a future release of LightGBM. \"\n",
            "\t-66.975\t = Validation score   (root_mean_squared_error)\n",
            "\t4.09s\t = Training   runtime\n",
            "\t0.15s\t = Validation runtime\n",
            "Fitting model: NeuralNetMXNet_BAG_L1/T0 ... Training model for up to 362.3s of the 562.31s of remaining time.\n",
            "Attempting to fit model without HPO, but search space is provided. fit() will only consider default hyperparameter values from search space.\n",
            "Attempting to fit model without HPO, but search space is provided. fit() will only consider default hyperparameter values from search space.\n",
            "Attempting to fit model without HPO, but search space is provided. fit() will only consider default hyperparameter values from search space.\n",
            "Attempting to fit model without HPO, but search space is provided. fit() will only consider default hyperparameter values from search space.\n",
            "Attempting to fit model without HPO, but search space is provided. fit() will only consider default hyperparameter values from search space.\n",
            "Attempting to fit model without HPO, but search space is provided. fit() will only consider default hyperparameter values from search space.\n",
            "Attempting to fit model without HPO, but search space is provided. fit() will only consider default hyperparameter values from search space.\n",
            "Attempting to fit model without HPO, but search space is provided. fit() will only consider default hyperparameter values from search space.\n",
            "Attempting to fit model without HPO, but search space is provided. fit() will only consider default hyperparameter values from search space.\n",
            "\t-143.7644\t = Validation score   (root_mean_squared_error)\n",
            "\t101.49s\t = Training   runtime\n",
            "\t2.49s\t = Validation runtime\n",
            "Repeating k-fold bagging: 2/20\n",
            "Fitting model: LightGBM_BAG_L1/T0 ... Training model for up to 269.57s of the 469.58s of remaining time.\n",
            "Attempting to fit model without HPO, but search space is provided. fit() will only consider default hyperparameter values from search space.\n",
            "/usr/local/lib/python3.7/dist-packages/lightgbm/engine.py:239: UserWarning: 'verbose_eval' argument is deprecated and will be removed in a future release of LightGBM. Pass 'log_evaluation()' callback via 'callbacks' argument instead.\n",
            "  _log_warning(\"'verbose_eval' argument is deprecated and will be removed in a future release of LightGBM. \"\n",
            "Attempting to fit model without HPO, but search space is provided. fit() will only consider default hyperparameter values from search space.\n",
            "/usr/local/lib/python3.7/dist-packages/lightgbm/engine.py:239: UserWarning: 'verbose_eval' argument is deprecated and will be removed in a future release of LightGBM. Pass 'log_evaluation()' callback via 'callbacks' argument instead.\n",
            "  _log_warning(\"'verbose_eval' argument is deprecated and will be removed in a future release of LightGBM. \"\n",
            "Attempting to fit model without HPO, but search space is provided. fit() will only consider default hyperparameter values from search space.\n",
            "/usr/local/lib/python3.7/dist-packages/lightgbm/engine.py:239: UserWarning: 'verbose_eval' argument is deprecated and will be removed in a future release of LightGBM. Pass 'log_evaluation()' callback via 'callbacks' argument instead.\n",
            "  _log_warning(\"'verbose_eval' argument is deprecated and will be removed in a future release of LightGBM. \"\n",
            "Attempting to fit model without HPO, but search space is provided. fit() will only consider default hyperparameter values from search space.\n",
            "/usr/local/lib/python3.7/dist-packages/lightgbm/engine.py:239: UserWarning: 'verbose_eval' argument is deprecated and will be removed in a future release of LightGBM. Pass 'log_evaluation()' callback via 'callbacks' argument instead.\n",
            "  _log_warning(\"'verbose_eval' argument is deprecated and will be removed in a future release of LightGBM. \"\n",
            "Attempting to fit model without HPO, but search space is provided. fit() will only consider default hyperparameter values from search space.\n",
            "/usr/local/lib/python3.7/dist-packages/lightgbm/engine.py:239: UserWarning: 'verbose_eval' argument is deprecated and will be removed in a future release of LightGBM. Pass 'log_evaluation()' callback via 'callbacks' argument instead.\n",
            "  _log_warning(\"'verbose_eval' argument is deprecated and will be removed in a future release of LightGBM. \"\n",
            "Attempting to fit model without HPO, but search space is provided. fit() will only consider default hyperparameter values from search space.\n",
            "/usr/local/lib/python3.7/dist-packages/lightgbm/engine.py:239: UserWarning: 'verbose_eval' argument is deprecated and will be removed in a future release of LightGBM. Pass 'log_evaluation()' callback via 'callbacks' argument instead.\n",
            "  _log_warning(\"'verbose_eval' argument is deprecated and will be removed in a future release of LightGBM. \"\n",
            "Attempting to fit model without HPO, but search space is provided. fit() will only consider default hyperparameter values from search space.\n",
            "/usr/local/lib/python3.7/dist-packages/lightgbm/engine.py:239: UserWarning: 'verbose_eval' argument is deprecated and will be removed in a future release of LightGBM. Pass 'log_evaluation()' callback via 'callbacks' argument instead.\n",
            "  _log_warning(\"'verbose_eval' argument is deprecated and will be removed in a future release of LightGBM. \"\n",
            "Attempting to fit model without HPO, but search space is provided. fit() will only consider default hyperparameter values from search space.\n",
            "/usr/local/lib/python3.7/dist-packages/lightgbm/engine.py:239: UserWarning: 'verbose_eval' argument is deprecated and will be removed in a future release of LightGBM. Pass 'log_evaluation()' callback via 'callbacks' argument instead.\n",
            "  _log_warning(\"'verbose_eval' argument is deprecated and will be removed in a future release of LightGBM. \"\n",
            "Attempting to fit model without HPO, but search space is provided. fit() will only consider default hyperparameter values from search space.\n",
            "/usr/local/lib/python3.7/dist-packages/lightgbm/engine.py:239: UserWarning: 'verbose_eval' argument is deprecated and will be removed in a future release of LightGBM. Pass 'log_evaluation()' callback via 'callbacks' argument instead.\n",
            "  _log_warning(\"'verbose_eval' argument is deprecated and will be removed in a future release of LightGBM. \"\n",
            "Attempting to fit model without HPO, but search space is provided. fit() will only consider default hyperparameter values from search space.\n",
            "/usr/local/lib/python3.7/dist-packages/lightgbm/engine.py:239: UserWarning: 'verbose_eval' argument is deprecated and will be removed in a future release of LightGBM. Pass 'log_evaluation()' callback via 'callbacks' argument instead.\n",
            "  _log_warning(\"'verbose_eval' argument is deprecated and will be removed in a future release of LightGBM. \"\n",
            "\t-67.5068\t = Validation score   (root_mean_squared_error)\n",
            "\t8.22s\t = Training   runtime\n",
            "\t0.31s\t = Validation runtime\n",
            "Fitting model: LightGBM_BAG_L1/T1 ... Training model for up to 265.09s of the 465.1s of remaining time.\n",
            "Attempting to fit model without HPO, but search space is provided. fit() will only consider default hyperparameter values from search space.\n",
            "/usr/local/lib/python3.7/dist-packages/lightgbm/engine.py:239: UserWarning: 'verbose_eval' argument is deprecated and will be removed in a future release of LightGBM. Pass 'log_evaluation()' callback via 'callbacks' argument instead.\n",
            "  _log_warning(\"'verbose_eval' argument is deprecated and will be removed in a future release of LightGBM. \"\n",
            "Attempting to fit model without HPO, but search space is provided. fit() will only consider default hyperparameter values from search space.\n",
            "/usr/local/lib/python3.7/dist-packages/lightgbm/engine.py:239: UserWarning: 'verbose_eval' argument is deprecated and will be removed in a future release of LightGBM. Pass 'log_evaluation()' callback via 'callbacks' argument instead.\n",
            "  _log_warning(\"'verbose_eval' argument is deprecated and will be removed in a future release of LightGBM. \"\n",
            "Attempting to fit model without HPO, but search space is provided. fit() will only consider default hyperparameter values from search space.\n",
            "/usr/local/lib/python3.7/dist-packages/lightgbm/engine.py:239: UserWarning: 'verbose_eval' argument is deprecated and will be removed in a future release of LightGBM. Pass 'log_evaluation()' callback via 'callbacks' argument instead.\n",
            "  _log_warning(\"'verbose_eval' argument is deprecated and will be removed in a future release of LightGBM. \"\n",
            "Attempting to fit model without HPO, but search space is provided. fit() will only consider default hyperparameter values from search space.\n",
            "/usr/local/lib/python3.7/dist-packages/lightgbm/engine.py:239: UserWarning: 'verbose_eval' argument is deprecated and will be removed in a future release of LightGBM. Pass 'log_evaluation()' callback via 'callbacks' argument instead.\n",
            "  _log_warning(\"'verbose_eval' argument is deprecated and will be removed in a future release of LightGBM. \"\n",
            "Attempting to fit model without HPO, but search space is provided. fit() will only consider default hyperparameter values from search space.\n",
            "/usr/local/lib/python3.7/dist-packages/lightgbm/engine.py:239: UserWarning: 'verbose_eval' argument is deprecated and will be removed in a future release of LightGBM. Pass 'log_evaluation()' callback via 'callbacks' argument instead.\n",
            "  _log_warning(\"'verbose_eval' argument is deprecated and will be removed in a future release of LightGBM. \"\n",
            "Attempting to fit model without HPO, but search space is provided. fit() will only consider default hyperparameter values from search space.\n",
            "/usr/local/lib/python3.7/dist-packages/lightgbm/engine.py:239: UserWarning: 'verbose_eval' argument is deprecated and will be removed in a future release of LightGBM. Pass 'log_evaluation()' callback via 'callbacks' argument instead.\n",
            "  _log_warning(\"'verbose_eval' argument is deprecated and will be removed in a future release of LightGBM. \"\n",
            "Attempting to fit model without HPO, but search space is provided. fit() will only consider default hyperparameter values from search space.\n",
            "/usr/local/lib/python3.7/dist-packages/lightgbm/engine.py:239: UserWarning: 'verbose_eval' argument is deprecated and will be removed in a future release of LightGBM. Pass 'log_evaluation()' callback via 'callbacks' argument instead.\n",
            "  _log_warning(\"'verbose_eval' argument is deprecated and will be removed in a future release of LightGBM. \"\n",
            "Attempting to fit model without HPO, but search space is provided. fit() will only consider default hyperparameter values from search space.\n",
            "/usr/local/lib/python3.7/dist-packages/lightgbm/engine.py:239: UserWarning: 'verbose_eval' argument is deprecated and will be removed in a future release of LightGBM. Pass 'log_evaluation()' callback via 'callbacks' argument instead.\n",
            "  _log_warning(\"'verbose_eval' argument is deprecated and will be removed in a future release of LightGBM. \"\n",
            "Attempting to fit model without HPO, but search space is provided. fit() will only consider default hyperparameter values from search space.\n",
            "/usr/local/lib/python3.7/dist-packages/lightgbm/engine.py:239: UserWarning: 'verbose_eval' argument is deprecated and will be removed in a future release of LightGBM. Pass 'log_evaluation()' callback via 'callbacks' argument instead.\n",
            "  _log_warning(\"'verbose_eval' argument is deprecated and will be removed in a future release of LightGBM. \"\n",
            "Attempting to fit model without HPO, but search space is provided. fit() will only consider default hyperparameter values from search space.\n",
            "/usr/local/lib/python3.7/dist-packages/lightgbm/engine.py:239: UserWarning: 'verbose_eval' argument is deprecated and will be removed in a future release of LightGBM. Pass 'log_evaluation()' callback via 'callbacks' argument instead.\n",
            "  _log_warning(\"'verbose_eval' argument is deprecated and will be removed in a future release of LightGBM. \"\n",
            "\t-67.3731\t = Validation score   (root_mean_squared_error)\n",
            "\t8.14s\t = Training   runtime\n",
            "\t0.3s\t = Validation runtime\n",
            "Fitting model: LightGBM_BAG_L1/T2 ... Training model for up to 260.76s of the 460.77s of remaining time.\n",
            "Attempting to fit model without HPO, but search space is provided. fit() will only consider default hyperparameter values from search space.\n",
            "/usr/local/lib/python3.7/dist-packages/lightgbm/engine.py:239: UserWarning: 'verbose_eval' argument is deprecated and will be removed in a future release of LightGBM. Pass 'log_evaluation()' callback via 'callbacks' argument instead.\n",
            "  _log_warning(\"'verbose_eval' argument is deprecated and will be removed in a future release of LightGBM. \"\n",
            "Attempting to fit model without HPO, but search space is provided. fit() will only consider default hyperparameter values from search space.\n",
            "/usr/local/lib/python3.7/dist-packages/lightgbm/engine.py:239: UserWarning: 'verbose_eval' argument is deprecated and will be removed in a future release of LightGBM. Pass 'log_evaluation()' callback via 'callbacks' argument instead.\n",
            "  _log_warning(\"'verbose_eval' argument is deprecated and will be removed in a future release of LightGBM. \"\n",
            "Attempting to fit model without HPO, but search space is provided. fit() will only consider default hyperparameter values from search space.\n",
            "/usr/local/lib/python3.7/dist-packages/lightgbm/engine.py:239: UserWarning: 'verbose_eval' argument is deprecated and will be removed in a future release of LightGBM. Pass 'log_evaluation()' callback via 'callbacks' argument instead.\n",
            "  _log_warning(\"'verbose_eval' argument is deprecated and will be removed in a future release of LightGBM. \"\n",
            "Attempting to fit model without HPO, but search space is provided. fit() will only consider default hyperparameter values from search space.\n",
            "/usr/local/lib/python3.7/dist-packages/lightgbm/engine.py:239: UserWarning: 'verbose_eval' argument is deprecated and will be removed in a future release of LightGBM. Pass 'log_evaluation()' callback via 'callbacks' argument instead.\n",
            "  _log_warning(\"'verbose_eval' argument is deprecated and will be removed in a future release of LightGBM. \"\n",
            "Attempting to fit model without HPO, but search space is provided. fit() will only consider default hyperparameter values from search space.\n",
            "/usr/local/lib/python3.7/dist-packages/lightgbm/engine.py:239: UserWarning: 'verbose_eval' argument is deprecated and will be removed in a future release of LightGBM. Pass 'log_evaluation()' callback via 'callbacks' argument instead.\n",
            "  _log_warning(\"'verbose_eval' argument is deprecated and will be removed in a future release of LightGBM. \"\n",
            "Attempting to fit model without HPO, but search space is provided. fit() will only consider default hyperparameter values from search space.\n",
            "/usr/local/lib/python3.7/dist-packages/lightgbm/engine.py:239: UserWarning: 'verbose_eval' argument is deprecated and will be removed in a future release of LightGBM. Pass 'log_evaluation()' callback via 'callbacks' argument instead.\n",
            "  _log_warning(\"'verbose_eval' argument is deprecated and will be removed in a future release of LightGBM. \"\n",
            "Attempting to fit model without HPO, but search space is provided. fit() will only consider default hyperparameter values from search space.\n",
            "/usr/local/lib/python3.7/dist-packages/lightgbm/engine.py:239: UserWarning: 'verbose_eval' argument is deprecated and will be removed in a future release of LightGBM. Pass 'log_evaluation()' callback via 'callbacks' argument instead.\n",
            "  _log_warning(\"'verbose_eval' argument is deprecated and will be removed in a future release of LightGBM. \"\n",
            "Attempting to fit model without HPO, but search space is provided. fit() will only consider default hyperparameter values from search space.\n",
            "/usr/local/lib/python3.7/dist-packages/lightgbm/engine.py:239: UserWarning: 'verbose_eval' argument is deprecated and will be removed in a future release of LightGBM. Pass 'log_evaluation()' callback via 'callbacks' argument instead.\n",
            "  _log_warning(\"'verbose_eval' argument is deprecated and will be removed in a future release of LightGBM. \"\n",
            "Attempting to fit model without HPO, but search space is provided. fit() will only consider default hyperparameter values from search space.\n",
            "/usr/local/lib/python3.7/dist-packages/lightgbm/engine.py:239: UserWarning: 'verbose_eval' argument is deprecated and will be removed in a future release of LightGBM. Pass 'log_evaluation()' callback via 'callbacks' argument instead.\n",
            "  _log_warning(\"'verbose_eval' argument is deprecated and will be removed in a future release of LightGBM. \"\n",
            "Attempting to fit model without HPO, but search space is provided. fit() will only consider default hyperparameter values from search space.\n",
            "/usr/local/lib/python3.7/dist-packages/lightgbm/engine.py:239: UserWarning: 'verbose_eval' argument is deprecated and will be removed in a future release of LightGBM. Pass 'log_evaluation()' callback via 'callbacks' argument instead.\n",
            "  _log_warning(\"'verbose_eval' argument is deprecated and will be removed in a future release of LightGBM. \"\n",
            "\t-68.7906\t = Validation score   (root_mean_squared_error)\n",
            "\t8.21s\t = Training   runtime\n",
            "\t0.31s\t = Validation runtime\n",
            "Fitting model: LightGBM_BAG_L1/T3 ... Training model for up to 256.35s of the 456.36s of remaining time.\n",
            "Attempting to fit model without HPO, but search space is provided. fit() will only consider default hyperparameter values from search space.\n",
            "/usr/local/lib/python3.7/dist-packages/lightgbm/engine.py:239: UserWarning: 'verbose_eval' argument is deprecated and will be removed in a future release of LightGBM. Pass 'log_evaluation()' callback via 'callbacks' argument instead.\n",
            "  _log_warning(\"'verbose_eval' argument is deprecated and will be removed in a future release of LightGBM. \"\n",
            "Attempting to fit model without HPO, but search space is provided. fit() will only consider default hyperparameter values from search space.\n",
            "/usr/local/lib/python3.7/dist-packages/lightgbm/engine.py:239: UserWarning: 'verbose_eval' argument is deprecated and will be removed in a future release of LightGBM. Pass 'log_evaluation()' callback via 'callbacks' argument instead.\n",
            "  _log_warning(\"'verbose_eval' argument is deprecated and will be removed in a future release of LightGBM. \"\n",
            "Attempting to fit model without HPO, but search space is provided. fit() will only consider default hyperparameter values from search space.\n",
            "/usr/local/lib/python3.7/dist-packages/lightgbm/engine.py:239: UserWarning: 'verbose_eval' argument is deprecated and will be removed in a future release of LightGBM. Pass 'log_evaluation()' callback via 'callbacks' argument instead.\n",
            "  _log_warning(\"'verbose_eval' argument is deprecated and will be removed in a future release of LightGBM. \"\n",
            "Attempting to fit model without HPO, but search space is provided. fit() will only consider default hyperparameter values from search space.\n",
            "/usr/local/lib/python3.7/dist-packages/lightgbm/engine.py:239: UserWarning: 'verbose_eval' argument is deprecated and will be removed in a future release of LightGBM. Pass 'log_evaluation()' callback via 'callbacks' argument instead.\n",
            "  _log_warning(\"'verbose_eval' argument is deprecated and will be removed in a future release of LightGBM. \"\n",
            "Attempting to fit model without HPO, but search space is provided. fit() will only consider default hyperparameter values from search space.\n",
            "/usr/local/lib/python3.7/dist-packages/lightgbm/engine.py:239: UserWarning: 'verbose_eval' argument is deprecated and will be removed in a future release of LightGBM. Pass 'log_evaluation()' callback via 'callbacks' argument instead.\n",
            "  _log_warning(\"'verbose_eval' argument is deprecated and will be removed in a future release of LightGBM. \"\n",
            "Attempting to fit model without HPO, but search space is provided. fit() will only consider default hyperparameter values from search space.\n",
            "/usr/local/lib/python3.7/dist-packages/lightgbm/engine.py:239: UserWarning: 'verbose_eval' argument is deprecated and will be removed in a future release of LightGBM. Pass 'log_evaluation()' callback via 'callbacks' argument instead.\n",
            "  _log_warning(\"'verbose_eval' argument is deprecated and will be removed in a future release of LightGBM. \"\n",
            "Attempting to fit model without HPO, but search space is provided. fit() will only consider default hyperparameter values from search space.\n",
            "/usr/local/lib/python3.7/dist-packages/lightgbm/engine.py:239: UserWarning: 'verbose_eval' argument is deprecated and will be removed in a future release of LightGBM. Pass 'log_evaluation()' callback via 'callbacks' argument instead.\n",
            "  _log_warning(\"'verbose_eval' argument is deprecated and will be removed in a future release of LightGBM. \"\n",
            "Attempting to fit model without HPO, but search space is provided. fit() will only consider default hyperparameter values from search space.\n",
            "/usr/local/lib/python3.7/dist-packages/lightgbm/engine.py:239: UserWarning: 'verbose_eval' argument is deprecated and will be removed in a future release of LightGBM. Pass 'log_evaluation()' callback via 'callbacks' argument instead.\n",
            "  _log_warning(\"'verbose_eval' argument is deprecated and will be removed in a future release of LightGBM. \"\n",
            "Attempting to fit model without HPO, but search space is provided. fit() will only consider default hyperparameter values from search space.\n",
            "/usr/local/lib/python3.7/dist-packages/lightgbm/engine.py:239: UserWarning: 'verbose_eval' argument is deprecated and will be removed in a future release of LightGBM. Pass 'log_evaluation()' callback via 'callbacks' argument instead.\n",
            "  _log_warning(\"'verbose_eval' argument is deprecated and will be removed in a future release of LightGBM. \"\n",
            "Attempting to fit model without HPO, but search space is provided. fit() will only consider default hyperparameter values from search space.\n",
            "/usr/local/lib/python3.7/dist-packages/lightgbm/engine.py:239: UserWarning: 'verbose_eval' argument is deprecated and will be removed in a future release of LightGBM. Pass 'log_evaluation()' callback via 'callbacks' argument instead.\n",
            "  _log_warning(\"'verbose_eval' argument is deprecated and will be removed in a future release of LightGBM. \"\n",
            "\t-67.4909\t = Validation score   (root_mean_squared_error)\n",
            "\t8.29s\t = Training   runtime\n",
            "\t0.3s\t = Validation runtime\n",
            "Fitting model: LightGBM_BAG_L1/T4 ... Training model for up to 251.85s of the 451.86s of remaining time.\n",
            "Attempting to fit model without HPO, but search space is provided. fit() will only consider default hyperparameter values from search space.\n",
            "/usr/local/lib/python3.7/dist-packages/lightgbm/engine.py:239: UserWarning: 'verbose_eval' argument is deprecated and will be removed in a future release of LightGBM. Pass 'log_evaluation()' callback via 'callbacks' argument instead.\n",
            "  _log_warning(\"'verbose_eval' argument is deprecated and will be removed in a future release of LightGBM. \"\n",
            "Attempting to fit model without HPO, but search space is provided. fit() will only consider default hyperparameter values from search space.\n",
            "/usr/local/lib/python3.7/dist-packages/lightgbm/engine.py:239: UserWarning: 'verbose_eval' argument is deprecated and will be removed in a future release of LightGBM. Pass 'log_evaluation()' callback via 'callbacks' argument instead.\n",
            "  _log_warning(\"'verbose_eval' argument is deprecated and will be removed in a future release of LightGBM. \"\n",
            "Attempting to fit model without HPO, but search space is provided. fit() will only consider default hyperparameter values from search space.\n",
            "/usr/local/lib/python3.7/dist-packages/lightgbm/engine.py:239: UserWarning: 'verbose_eval' argument is deprecated and will be removed in a future release of LightGBM. Pass 'log_evaluation()' callback via 'callbacks' argument instead.\n",
            "  _log_warning(\"'verbose_eval' argument is deprecated and will be removed in a future release of LightGBM. \"\n",
            "Attempting to fit model without HPO, but search space is provided. fit() will only consider default hyperparameter values from search space.\n",
            "/usr/local/lib/python3.7/dist-packages/lightgbm/engine.py:239: UserWarning: 'verbose_eval' argument is deprecated and will be removed in a future release of LightGBM. Pass 'log_evaluation()' callback via 'callbacks' argument instead.\n",
            "  _log_warning(\"'verbose_eval' argument is deprecated and will be removed in a future release of LightGBM. \"\n",
            "Attempting to fit model without HPO, but search space is provided. fit() will only consider default hyperparameter values from search space.\n",
            "/usr/local/lib/python3.7/dist-packages/lightgbm/engine.py:239: UserWarning: 'verbose_eval' argument is deprecated and will be removed in a future release of LightGBM. Pass 'log_evaluation()' callback via 'callbacks' argument instead.\n",
            "  _log_warning(\"'verbose_eval' argument is deprecated and will be removed in a future release of LightGBM. \"\n",
            "Attempting to fit model without HPO, but search space is provided. fit() will only consider default hyperparameter values from search space.\n",
            "/usr/local/lib/python3.7/dist-packages/lightgbm/engine.py:239: UserWarning: 'verbose_eval' argument is deprecated and will be removed in a future release of LightGBM. Pass 'log_evaluation()' callback via 'callbacks' argument instead.\n",
            "  _log_warning(\"'verbose_eval' argument is deprecated and will be removed in a future release of LightGBM. \"\n",
            "Attempting to fit model without HPO, but search space is provided. fit() will only consider default hyperparameter values from search space.\n",
            "/usr/local/lib/python3.7/dist-packages/lightgbm/engine.py:239: UserWarning: 'verbose_eval' argument is deprecated and will be removed in a future release of LightGBM. Pass 'log_evaluation()' callback via 'callbacks' argument instead.\n",
            "  _log_warning(\"'verbose_eval' argument is deprecated and will be removed in a future release of LightGBM. \"\n",
            "Attempting to fit model without HPO, but search space is provided. fit() will only consider default hyperparameter values from search space.\n",
            "/usr/local/lib/python3.7/dist-packages/lightgbm/engine.py:239: UserWarning: 'verbose_eval' argument is deprecated and will be removed in a future release of LightGBM. Pass 'log_evaluation()' callback via 'callbacks' argument instead.\n",
            "  _log_warning(\"'verbose_eval' argument is deprecated and will be removed in a future release of LightGBM. \"\n",
            "Attempting to fit model without HPO, but search space is provided. fit() will only consider default hyperparameter values from search space.\n",
            "/usr/local/lib/python3.7/dist-packages/lightgbm/engine.py:239: UserWarning: 'verbose_eval' argument is deprecated and will be removed in a future release of LightGBM. Pass 'log_evaluation()' callback via 'callbacks' argument instead.\n",
            "  _log_warning(\"'verbose_eval' argument is deprecated and will be removed in a future release of LightGBM. \"\n",
            "Attempting to fit model without HPO, but search space is provided. fit() will only consider default hyperparameter values from search space.\n",
            "/usr/local/lib/python3.7/dist-packages/lightgbm/engine.py:239: UserWarning: 'verbose_eval' argument is deprecated and will be removed in a future release of LightGBM. Pass 'log_evaluation()' callback via 'callbacks' argument instead.\n",
            "  _log_warning(\"'verbose_eval' argument is deprecated and will be removed in a future release of LightGBM. \"\n",
            "\t-66.9034\t = Validation score   (root_mean_squared_error)\n",
            "\t8.21s\t = Training   runtime\n",
            "\t0.32s\t = Validation runtime\n",
            "Fitting model: NeuralNetMXNet_BAG_L1/T0 ... Training model for up to 247.38s of the 447.39s of remaining time.\n",
            "Attempting to fit model without HPO, but search space is provided. fit() will only consider default hyperparameter values from search space.\n",
            "Attempting to fit model without HPO, but search space is provided. fit() will only consider default hyperparameter values from search space.\n",
            "Attempting to fit model without HPO, but search space is provided. fit() will only consider default hyperparameter values from search space.\n",
            "Attempting to fit model without HPO, but search space is provided. fit() will only consider default hyperparameter values from search space.\n",
            "Attempting to fit model without HPO, but search space is provided. fit() will only consider default hyperparameter values from search space.\n",
            "Attempting to fit model without HPO, but search space is provided. fit() will only consider default hyperparameter values from search space.\n",
            "Attempting to fit model without HPO, but search space is provided. fit() will only consider default hyperparameter values from search space.\n",
            "Attempting to fit model without HPO, but search space is provided. fit() will only consider default hyperparameter values from search space.\n",
            "Attempting to fit model without HPO, but search space is provided. fit() will only consider default hyperparameter values from search space.\n",
            "Attempting to fit model without HPO, but search space is provided. fit() will only consider default hyperparameter values from search space.\n",
            "\t-135.113\t = Validation score   (root_mean_squared_error)\n",
            "\t201.08s\t = Training   runtime\n",
            "\t5.12s\t = Validation runtime\n",
            "Completed 2/20 k-fold bagging repeats ...\n",
            "Fitting model: WeightedEnsemble_L2 ... Training model for up to 360.0s of the 345.07s of remaining time.\n",
            "\t-66.9034\t = Validation score   (root_mean_squared_error)\n",
            "\t0.4s\t = Training   runtime\n",
            "\t0.0s\t = Validation runtime\n",
            "Fitting 2 L2 models ...\n",
            "Hyperparameter tuning model: LightGBM_BAG_L2 ...\n"
          ]
        },
        {
          "output_type": "display_data",
          "data": {
            "application/vnd.jupyter.widget-view+json": {
              "model_id": "a79007cd68f1476893af212991497e46",
              "version_minor": 0,
              "version_major": 2
            },
            "text/plain": [
              "  0%|          | 0/5 [00:00<?, ?it/s]"
            ]
          },
          "metadata": {}
        },
        {
          "output_type": "stream",
          "name": "stderr",
          "text": [
            "/usr/local/lib/python3.7/dist-packages/lightgbm/engine.py:239: UserWarning: 'verbose_eval' argument is deprecated and will be removed in a future release of LightGBM. Pass 'log_evaluation()' callback via 'callbacks' argument instead.\n",
            "  _log_warning(\"'verbose_eval' argument is deprecated and will be removed in a future release of LightGBM. \"\n",
            "/usr/local/lib/python3.7/dist-packages/lightgbm/engine.py:239: UserWarning: 'verbose_eval' argument is deprecated and will be removed in a future release of LightGBM. Pass 'log_evaluation()' callback via 'callbacks' argument instead.\n",
            "  _log_warning(\"'verbose_eval' argument is deprecated and will be removed in a future release of LightGBM. \"\n",
            "/usr/local/lib/python3.7/dist-packages/lightgbm/engine.py:239: UserWarning: 'verbose_eval' argument is deprecated and will be removed in a future release of LightGBM. Pass 'log_evaluation()' callback via 'callbacks' argument instead.\n",
            "  _log_warning(\"'verbose_eval' argument is deprecated and will be removed in a future release of LightGBM. \"\n",
            "/usr/local/lib/python3.7/dist-packages/lightgbm/engine.py:239: UserWarning: 'verbose_eval' argument is deprecated and will be removed in a future release of LightGBM. Pass 'log_evaluation()' callback via 'callbacks' argument instead.\n",
            "  _log_warning(\"'verbose_eval' argument is deprecated and will be removed in a future release of LightGBM. \"\n",
            "/usr/local/lib/python3.7/dist-packages/lightgbm/engine.py:239: UserWarning: 'verbose_eval' argument is deprecated and will be removed in a future release of LightGBM. Pass 'log_evaluation()' callback via 'callbacks' argument instead.\n",
            "  _log_warning(\"'verbose_eval' argument is deprecated and will be removed in a future release of LightGBM. \"\n",
            "Fitted model: LightGBM_BAG_L2/T0 ...\n",
            "\t-65.5249\t = Validation score   (root_mean_squared_error)\n",
            "\t0.46s\t = Training   runtime\n",
            "\t0.01s\t = Validation runtime\n",
            "Fitted model: LightGBM_BAG_L2/T1 ...\n",
            "\t-108.5477\t = Validation score   (root_mean_squared_error)\n",
            "\t0.45s\t = Training   runtime\n",
            "\t0.01s\t = Validation runtime\n",
            "Fitted model: LightGBM_BAG_L2/T2 ...\n",
            "\t-63.6081\t = Validation score   (root_mean_squared_error)\n",
            "\t0.42s\t = Training   runtime\n",
            "\t0.01s\t = Validation runtime\n",
            "Fitted model: LightGBM_BAG_L2/T3 ...\n",
            "\t-63.4847\t = Validation score   (root_mean_squared_error)\n",
            "\t0.49s\t = Training   runtime\n",
            "\t0.01s\t = Validation runtime\n",
            "Fitted model: LightGBM_BAG_L2/T4 ...\n",
            "\t-64.2804\t = Validation score   (root_mean_squared_error)\n",
            "\t0.51s\t = Training   runtime\n",
            "\t0.01s\t = Validation runtime\n",
            "Hyperparameter tuning model: NeuralNetMXNet_BAG_L2 ...\n"
          ]
        },
        {
          "output_type": "display_data",
          "data": {
            "application/vnd.jupyter.widget-view+json": {
              "model_id": "7e19e0c729754c47bd1345f687bd289e",
              "version_minor": 0,
              "version_major": 2
            },
            "text/plain": [
              "  0%|          | 0/5 [00:00<?, ?it/s]"
            ]
          },
          "metadata": {}
        },
        {
          "output_type": "stream",
          "name": "stderr",
          "text": [
            "\tRan out of time, stopping training early. (Stopping on epoch 8)\n",
            "\tTime limit exceeded\n",
            "Fitted model: NeuralNetMXNet_BAG_L2/T0 ...\n",
            "\t-76.2173\t = Validation score   (root_mean_squared_error)\n",
            "\t10.18s\t = Training   runtime\n",
            "\t0.07s\t = Validation runtime\n",
            "Fitting model: LightGBM_BAG_L2/T0 ... Training model for up to 328.46s of the 328.44s of remaining time.\n",
            "Attempting to fit model without HPO, but search space is provided. fit() will only consider default hyperparameter values from search space.\n",
            "/usr/local/lib/python3.7/dist-packages/lightgbm/engine.py:239: UserWarning: 'verbose_eval' argument is deprecated and will be removed in a future release of LightGBM. Pass 'log_evaluation()' callback via 'callbacks' argument instead.\n",
            "  _log_warning(\"'verbose_eval' argument is deprecated and will be removed in a future release of LightGBM. \"\n",
            "Attempting to fit model without HPO, but search space is provided. fit() will only consider default hyperparameter values from search space.\n",
            "/usr/local/lib/python3.7/dist-packages/lightgbm/engine.py:239: UserWarning: 'verbose_eval' argument is deprecated and will be removed in a future release of LightGBM. Pass 'log_evaluation()' callback via 'callbacks' argument instead.\n",
            "  _log_warning(\"'verbose_eval' argument is deprecated and will be removed in a future release of LightGBM. \"\n",
            "Attempting to fit model without HPO, but search space is provided. fit() will only consider default hyperparameter values from search space.\n",
            "/usr/local/lib/python3.7/dist-packages/lightgbm/engine.py:239: UserWarning: 'verbose_eval' argument is deprecated and will be removed in a future release of LightGBM. Pass 'log_evaluation()' callback via 'callbacks' argument instead.\n",
            "  _log_warning(\"'verbose_eval' argument is deprecated and will be removed in a future release of LightGBM. \"\n",
            "Attempting to fit model without HPO, but search space is provided. fit() will only consider default hyperparameter values from search space.\n",
            "/usr/local/lib/python3.7/dist-packages/lightgbm/engine.py:239: UserWarning: 'verbose_eval' argument is deprecated and will be removed in a future release of LightGBM. Pass 'log_evaluation()' callback via 'callbacks' argument instead.\n",
            "  _log_warning(\"'verbose_eval' argument is deprecated and will be removed in a future release of LightGBM. \"\n",
            "Attempting to fit model without HPO, but search space is provided. fit() will only consider default hyperparameter values from search space.\n",
            "/usr/local/lib/python3.7/dist-packages/lightgbm/engine.py:239: UserWarning: 'verbose_eval' argument is deprecated and will be removed in a future release of LightGBM. Pass 'log_evaluation()' callback via 'callbacks' argument instead.\n",
            "  _log_warning(\"'verbose_eval' argument is deprecated and will be removed in a future release of LightGBM. \"\n",
            "Attempting to fit model without HPO, but search space is provided. fit() will only consider default hyperparameter values from search space.\n",
            "/usr/local/lib/python3.7/dist-packages/lightgbm/engine.py:239: UserWarning: 'verbose_eval' argument is deprecated and will be removed in a future release of LightGBM. Pass 'log_evaluation()' callback via 'callbacks' argument instead.\n",
            "  _log_warning(\"'verbose_eval' argument is deprecated and will be removed in a future release of LightGBM. \"\n",
            "Attempting to fit model without HPO, but search space is provided. fit() will only consider default hyperparameter values from search space.\n",
            "/usr/local/lib/python3.7/dist-packages/lightgbm/engine.py:239: UserWarning: 'verbose_eval' argument is deprecated and will be removed in a future release of LightGBM. Pass 'log_evaluation()' callback via 'callbacks' argument instead.\n",
            "  _log_warning(\"'verbose_eval' argument is deprecated and will be removed in a future release of LightGBM. \"\n",
            "Attempting to fit model without HPO, but search space is provided. fit() will only consider default hyperparameter values from search space.\n",
            "/usr/local/lib/python3.7/dist-packages/lightgbm/engine.py:239: UserWarning: 'verbose_eval' argument is deprecated and will be removed in a future release of LightGBM. Pass 'log_evaluation()' callback via 'callbacks' argument instead.\n",
            "  _log_warning(\"'verbose_eval' argument is deprecated and will be removed in a future release of LightGBM. \"\n",
            "Attempting to fit model without HPO, but search space is provided. fit() will only consider default hyperparameter values from search space.\n",
            "/usr/local/lib/python3.7/dist-packages/lightgbm/engine.py:239: UserWarning: 'verbose_eval' argument is deprecated and will be removed in a future release of LightGBM. Pass 'log_evaluation()' callback via 'callbacks' argument instead.\n",
            "  _log_warning(\"'verbose_eval' argument is deprecated and will be removed in a future release of LightGBM. \"\n",
            "\t-66.2662\t = Validation score   (root_mean_squared_error)\n",
            "\t4.92s\t = Training   runtime\n",
            "\t0.15s\t = Validation runtime\n",
            "Fitting model: LightGBM_BAG_L2/T1 ... Training model for up to 323.71s of the 323.69s of remaining time.\n",
            "Attempting to fit model without HPO, but search space is provided. fit() will only consider default hyperparameter values from search space.\n",
            "/usr/local/lib/python3.7/dist-packages/lightgbm/engine.py:239: UserWarning: 'verbose_eval' argument is deprecated and will be removed in a future release of LightGBM. Pass 'log_evaluation()' callback via 'callbacks' argument instead.\n",
            "  _log_warning(\"'verbose_eval' argument is deprecated and will be removed in a future release of LightGBM. \"\n",
            "Attempting to fit model without HPO, but search space is provided. fit() will only consider default hyperparameter values from search space.\n",
            "/usr/local/lib/python3.7/dist-packages/lightgbm/engine.py:239: UserWarning: 'verbose_eval' argument is deprecated and will be removed in a future release of LightGBM. Pass 'log_evaluation()' callback via 'callbacks' argument instead.\n",
            "  _log_warning(\"'verbose_eval' argument is deprecated and will be removed in a future release of LightGBM. \"\n",
            "Attempting to fit model without HPO, but search space is provided. fit() will only consider default hyperparameter values from search space.\n",
            "/usr/local/lib/python3.7/dist-packages/lightgbm/engine.py:239: UserWarning: 'verbose_eval' argument is deprecated and will be removed in a future release of LightGBM. Pass 'log_evaluation()' callback via 'callbacks' argument instead.\n",
            "  _log_warning(\"'verbose_eval' argument is deprecated and will be removed in a future release of LightGBM. \"\n",
            "Attempting to fit model without HPO, but search space is provided. fit() will only consider default hyperparameter values from search space.\n",
            "/usr/local/lib/python3.7/dist-packages/lightgbm/engine.py:239: UserWarning: 'verbose_eval' argument is deprecated and will be removed in a future release of LightGBM. Pass 'log_evaluation()' callback via 'callbacks' argument instead.\n",
            "  _log_warning(\"'verbose_eval' argument is deprecated and will be removed in a future release of LightGBM. \"\n",
            "Attempting to fit model without HPO, but search space is provided. fit() will only consider default hyperparameter values from search space.\n",
            "/usr/local/lib/python3.7/dist-packages/lightgbm/engine.py:239: UserWarning: 'verbose_eval' argument is deprecated and will be removed in a future release of LightGBM. Pass 'log_evaluation()' callback via 'callbacks' argument instead.\n",
            "  _log_warning(\"'verbose_eval' argument is deprecated and will be removed in a future release of LightGBM. \"\n",
            "Attempting to fit model without HPO, but search space is provided. fit() will only consider default hyperparameter values from search space.\n",
            "/usr/local/lib/python3.7/dist-packages/lightgbm/engine.py:239: UserWarning: 'verbose_eval' argument is deprecated and will be removed in a future release of LightGBM. Pass 'log_evaluation()' callback via 'callbacks' argument instead.\n",
            "  _log_warning(\"'verbose_eval' argument is deprecated and will be removed in a future release of LightGBM. \"\n",
            "Attempting to fit model without HPO, but search space is provided. fit() will only consider default hyperparameter values from search space.\n",
            "/usr/local/lib/python3.7/dist-packages/lightgbm/engine.py:239: UserWarning: 'verbose_eval' argument is deprecated and will be removed in a future release of LightGBM. Pass 'log_evaluation()' callback via 'callbacks' argument instead.\n",
            "  _log_warning(\"'verbose_eval' argument is deprecated and will be removed in a future release of LightGBM. \"\n",
            "Attempting to fit model without HPO, but search space is provided. fit() will only consider default hyperparameter values from search space.\n",
            "/usr/local/lib/python3.7/dist-packages/lightgbm/engine.py:239: UserWarning: 'verbose_eval' argument is deprecated and will be removed in a future release of LightGBM. Pass 'log_evaluation()' callback via 'callbacks' argument instead.\n",
            "  _log_warning(\"'verbose_eval' argument is deprecated and will be removed in a future release of LightGBM. \"\n",
            "Attempting to fit model without HPO, but search space is provided. fit() will only consider default hyperparameter values from search space.\n",
            "/usr/local/lib/python3.7/dist-packages/lightgbm/engine.py:239: UserWarning: 'verbose_eval' argument is deprecated and will be removed in a future release of LightGBM. Pass 'log_evaluation()' callback via 'callbacks' argument instead.\n",
            "  _log_warning(\"'verbose_eval' argument is deprecated and will be removed in a future release of LightGBM. \"\n",
            "\t-71.6965\t = Validation score   (root_mean_squared_error)\n",
            "\t4.9s\t = Training   runtime\n",
            "\t0.14s\t = Validation runtime\n",
            "Fitting model: LightGBM_BAG_L2/T2 ... Training model for up to 318.96s of the 318.95s of remaining time.\n",
            "Attempting to fit model without HPO, but search space is provided. fit() will only consider default hyperparameter values from search space.\n",
            "/usr/local/lib/python3.7/dist-packages/lightgbm/engine.py:239: UserWarning: 'verbose_eval' argument is deprecated and will be removed in a future release of LightGBM. Pass 'log_evaluation()' callback via 'callbacks' argument instead.\n",
            "  _log_warning(\"'verbose_eval' argument is deprecated and will be removed in a future release of LightGBM. \"\n",
            "Attempting to fit model without HPO, but search space is provided. fit() will only consider default hyperparameter values from search space.\n",
            "/usr/local/lib/python3.7/dist-packages/lightgbm/engine.py:239: UserWarning: 'verbose_eval' argument is deprecated and will be removed in a future release of LightGBM. Pass 'log_evaluation()' callback via 'callbacks' argument instead.\n",
            "  _log_warning(\"'verbose_eval' argument is deprecated and will be removed in a future release of LightGBM. \"\n",
            "Attempting to fit model without HPO, but search space is provided. fit() will only consider default hyperparameter values from search space.\n",
            "/usr/local/lib/python3.7/dist-packages/lightgbm/engine.py:239: UserWarning: 'verbose_eval' argument is deprecated and will be removed in a future release of LightGBM. Pass 'log_evaluation()' callback via 'callbacks' argument instead.\n",
            "  _log_warning(\"'verbose_eval' argument is deprecated and will be removed in a future release of LightGBM. \"\n",
            "Attempting to fit model without HPO, but search space is provided. fit() will only consider default hyperparameter values from search space.\n",
            "/usr/local/lib/python3.7/dist-packages/lightgbm/engine.py:239: UserWarning: 'verbose_eval' argument is deprecated and will be removed in a future release of LightGBM. Pass 'log_evaluation()' callback via 'callbacks' argument instead.\n",
            "  _log_warning(\"'verbose_eval' argument is deprecated and will be removed in a future release of LightGBM. \"\n",
            "Attempting to fit model without HPO, but search space is provided. fit() will only consider default hyperparameter values from search space.\n",
            "/usr/local/lib/python3.7/dist-packages/lightgbm/engine.py:239: UserWarning: 'verbose_eval' argument is deprecated and will be removed in a future release of LightGBM. Pass 'log_evaluation()' callback via 'callbacks' argument instead.\n",
            "  _log_warning(\"'verbose_eval' argument is deprecated and will be removed in a future release of LightGBM. \"\n",
            "Attempting to fit model without HPO, but search space is provided. fit() will only consider default hyperparameter values from search space.\n",
            "/usr/local/lib/python3.7/dist-packages/lightgbm/engine.py:239: UserWarning: 'verbose_eval' argument is deprecated and will be removed in a future release of LightGBM. Pass 'log_evaluation()' callback via 'callbacks' argument instead.\n",
            "  _log_warning(\"'verbose_eval' argument is deprecated and will be removed in a future release of LightGBM. \"\n",
            "Attempting to fit model without HPO, but search space is provided. fit() will only consider default hyperparameter values from search space.\n",
            "/usr/local/lib/python3.7/dist-packages/lightgbm/engine.py:239: UserWarning: 'verbose_eval' argument is deprecated and will be removed in a future release of LightGBM. Pass 'log_evaluation()' callback via 'callbacks' argument instead.\n",
            "  _log_warning(\"'verbose_eval' argument is deprecated and will be removed in a future release of LightGBM. \"\n",
            "Attempting to fit model without HPO, but search space is provided. fit() will only consider default hyperparameter values from search space.\n",
            "/usr/local/lib/python3.7/dist-packages/lightgbm/engine.py:239: UserWarning: 'verbose_eval' argument is deprecated and will be removed in a future release of LightGBM. Pass 'log_evaluation()' callback via 'callbacks' argument instead.\n",
            "  _log_warning(\"'verbose_eval' argument is deprecated and will be removed in a future release of LightGBM. \"\n",
            "Attempting to fit model without HPO, but search space is provided. fit() will only consider default hyperparameter values from search space.\n",
            "/usr/local/lib/python3.7/dist-packages/lightgbm/engine.py:239: UserWarning: 'verbose_eval' argument is deprecated and will be removed in a future release of LightGBM. Pass 'log_evaluation()' callback via 'callbacks' argument instead.\n",
            "  _log_warning(\"'verbose_eval' argument is deprecated and will be removed in a future release of LightGBM. \"\n",
            "\t-66.0791\t = Validation score   (root_mean_squared_error)\n",
            "\t4.79s\t = Training   runtime\n",
            "\t0.15s\t = Validation runtime\n",
            "Fitting model: LightGBM_BAG_L2/T3 ... Training model for up to 314.29s of the 314.27s of remaining time.\n",
            "Attempting to fit model without HPO, but search space is provided. fit() will only consider default hyperparameter values from search space.\n",
            "/usr/local/lib/python3.7/dist-packages/lightgbm/engine.py:239: UserWarning: 'verbose_eval' argument is deprecated and will be removed in a future release of LightGBM. Pass 'log_evaluation()' callback via 'callbacks' argument instead.\n",
            "  _log_warning(\"'verbose_eval' argument is deprecated and will be removed in a future release of LightGBM. \"\n",
            "Attempting to fit model without HPO, but search space is provided. fit() will only consider default hyperparameter values from search space.\n",
            "/usr/local/lib/python3.7/dist-packages/lightgbm/engine.py:239: UserWarning: 'verbose_eval' argument is deprecated and will be removed in a future release of LightGBM. Pass 'log_evaluation()' callback via 'callbacks' argument instead.\n",
            "  _log_warning(\"'verbose_eval' argument is deprecated and will be removed in a future release of LightGBM. \"\n",
            "Attempting to fit model without HPO, but search space is provided. fit() will only consider default hyperparameter values from search space.\n",
            "/usr/local/lib/python3.7/dist-packages/lightgbm/engine.py:239: UserWarning: 'verbose_eval' argument is deprecated and will be removed in a future release of LightGBM. Pass 'log_evaluation()' callback via 'callbacks' argument instead.\n",
            "  _log_warning(\"'verbose_eval' argument is deprecated and will be removed in a future release of LightGBM. \"\n",
            "Attempting to fit model without HPO, but search space is provided. fit() will only consider default hyperparameter values from search space.\n",
            "/usr/local/lib/python3.7/dist-packages/lightgbm/engine.py:239: UserWarning: 'verbose_eval' argument is deprecated and will be removed in a future release of LightGBM. Pass 'log_evaluation()' callback via 'callbacks' argument instead.\n",
            "  _log_warning(\"'verbose_eval' argument is deprecated and will be removed in a future release of LightGBM. \"\n",
            "Attempting to fit model without HPO, but search space is provided. fit() will only consider default hyperparameter values from search space.\n",
            "/usr/local/lib/python3.7/dist-packages/lightgbm/engine.py:239: UserWarning: 'verbose_eval' argument is deprecated and will be removed in a future release of LightGBM. Pass 'log_evaluation()' callback via 'callbacks' argument instead.\n",
            "  _log_warning(\"'verbose_eval' argument is deprecated and will be removed in a future release of LightGBM. \"\n",
            "Attempting to fit model without HPO, but search space is provided. fit() will only consider default hyperparameter values from search space.\n",
            "/usr/local/lib/python3.7/dist-packages/lightgbm/engine.py:239: UserWarning: 'verbose_eval' argument is deprecated and will be removed in a future release of LightGBM. Pass 'log_evaluation()' callback via 'callbacks' argument instead.\n",
            "  _log_warning(\"'verbose_eval' argument is deprecated and will be removed in a future release of LightGBM. \"\n",
            "Attempting to fit model without HPO, but search space is provided. fit() will only consider default hyperparameter values from search space.\n",
            "/usr/local/lib/python3.7/dist-packages/lightgbm/engine.py:239: UserWarning: 'verbose_eval' argument is deprecated and will be removed in a future release of LightGBM. Pass 'log_evaluation()' callback via 'callbacks' argument instead.\n",
            "  _log_warning(\"'verbose_eval' argument is deprecated and will be removed in a future release of LightGBM. \"\n",
            "Attempting to fit model without HPO, but search space is provided. fit() will only consider default hyperparameter values from search space.\n",
            "/usr/local/lib/python3.7/dist-packages/lightgbm/engine.py:239: UserWarning: 'verbose_eval' argument is deprecated and will be removed in a future release of LightGBM. Pass 'log_evaluation()' callback via 'callbacks' argument instead.\n",
            "  _log_warning(\"'verbose_eval' argument is deprecated and will be removed in a future release of LightGBM. \"\n",
            "Attempting to fit model without HPO, but search space is provided. fit() will only consider default hyperparameter values from search space.\n",
            "/usr/local/lib/python3.7/dist-packages/lightgbm/engine.py:239: UserWarning: 'verbose_eval' argument is deprecated and will be removed in a future release of LightGBM. Pass 'log_evaluation()' callback via 'callbacks' argument instead.\n",
            "  _log_warning(\"'verbose_eval' argument is deprecated and will be removed in a future release of LightGBM. \"\n",
            "\t-66.0672\t = Validation score   (root_mean_squared_error)\n",
            "\t4.82s\t = Training   runtime\n",
            "\t0.13s\t = Validation runtime\n",
            "Fitting model: LightGBM_BAG_L2/T4 ... Training model for up to 309.67s of the 309.65s of remaining time.\n",
            "Attempting to fit model without HPO, but search space is provided. fit() will only consider default hyperparameter values from search space.\n",
            "/usr/local/lib/python3.7/dist-packages/lightgbm/engine.py:239: UserWarning: 'verbose_eval' argument is deprecated and will be removed in a future release of LightGBM. Pass 'log_evaluation()' callback via 'callbacks' argument instead.\n",
            "  _log_warning(\"'verbose_eval' argument is deprecated and will be removed in a future release of LightGBM. \"\n",
            "Attempting to fit model without HPO, but search space is provided. fit() will only consider default hyperparameter values from search space.\n",
            "/usr/local/lib/python3.7/dist-packages/lightgbm/engine.py:239: UserWarning: 'verbose_eval' argument is deprecated and will be removed in a future release of LightGBM. Pass 'log_evaluation()' callback via 'callbacks' argument instead.\n",
            "  _log_warning(\"'verbose_eval' argument is deprecated and will be removed in a future release of LightGBM. \"\n",
            "Attempting to fit model without HPO, but search space is provided. fit() will only consider default hyperparameter values from search space.\n",
            "/usr/local/lib/python3.7/dist-packages/lightgbm/engine.py:239: UserWarning: 'verbose_eval' argument is deprecated and will be removed in a future release of LightGBM. Pass 'log_evaluation()' callback via 'callbacks' argument instead.\n",
            "  _log_warning(\"'verbose_eval' argument is deprecated and will be removed in a future release of LightGBM. \"\n",
            "Attempting to fit model without HPO, but search space is provided. fit() will only consider default hyperparameter values from search space.\n",
            "/usr/local/lib/python3.7/dist-packages/lightgbm/engine.py:239: UserWarning: 'verbose_eval' argument is deprecated and will be removed in a future release of LightGBM. Pass 'log_evaluation()' callback via 'callbacks' argument instead.\n",
            "  _log_warning(\"'verbose_eval' argument is deprecated and will be removed in a future release of LightGBM. \"\n",
            "Attempting to fit model without HPO, but search space is provided. fit() will only consider default hyperparameter values from search space.\n",
            "/usr/local/lib/python3.7/dist-packages/lightgbm/engine.py:239: UserWarning: 'verbose_eval' argument is deprecated and will be removed in a future release of LightGBM. Pass 'log_evaluation()' callback via 'callbacks' argument instead.\n",
            "  _log_warning(\"'verbose_eval' argument is deprecated and will be removed in a future release of LightGBM. \"\n",
            "Attempting to fit model without HPO, but search space is provided. fit() will only consider default hyperparameter values from search space.\n",
            "/usr/local/lib/python3.7/dist-packages/lightgbm/engine.py:239: UserWarning: 'verbose_eval' argument is deprecated and will be removed in a future release of LightGBM. Pass 'log_evaluation()' callback via 'callbacks' argument instead.\n",
            "  _log_warning(\"'verbose_eval' argument is deprecated and will be removed in a future release of LightGBM. \"\n",
            "Attempting to fit model without HPO, but search space is provided. fit() will only consider default hyperparameter values from search space.\n",
            "/usr/local/lib/python3.7/dist-packages/lightgbm/engine.py:239: UserWarning: 'verbose_eval' argument is deprecated and will be removed in a future release of LightGBM. Pass 'log_evaluation()' callback via 'callbacks' argument instead.\n",
            "  _log_warning(\"'verbose_eval' argument is deprecated and will be removed in a future release of LightGBM. \"\n",
            "Attempting to fit model without HPO, but search space is provided. fit() will only consider default hyperparameter values from search space.\n",
            "/usr/local/lib/python3.7/dist-packages/lightgbm/engine.py:239: UserWarning: 'verbose_eval' argument is deprecated and will be removed in a future release of LightGBM. Pass 'log_evaluation()' callback via 'callbacks' argument instead.\n",
            "  _log_warning(\"'verbose_eval' argument is deprecated and will be removed in a future release of LightGBM. \"\n",
            "Attempting to fit model without HPO, but search space is provided. fit() will only consider default hyperparameter values from search space.\n",
            "/usr/local/lib/python3.7/dist-packages/lightgbm/engine.py:239: UserWarning: 'verbose_eval' argument is deprecated and will be removed in a future release of LightGBM. Pass 'log_evaluation()' callback via 'callbacks' argument instead.\n",
            "  _log_warning(\"'verbose_eval' argument is deprecated and will be removed in a future release of LightGBM. \"\n",
            "\t-66.1442\t = Validation score   (root_mean_squared_error)\n",
            "\t4.95s\t = Training   runtime\n",
            "\t0.14s\t = Validation runtime\n",
            "Fitting model: NeuralNetMXNet_BAG_L2/T0 ... Training model for up to 304.94s of the 304.93s of remaining time.\n",
            "Attempting to fit model without HPO, but search space is provided. fit() will only consider default hyperparameter values from search space.\n",
            "Attempting to fit model without HPO, but search space is provided. fit() will only consider default hyperparameter values from search space.\n",
            "Attempting to fit model without HPO, but search space is provided. fit() will only consider default hyperparameter values from search space.\n",
            "Attempting to fit model without HPO, but search space is provided. fit() will only consider default hyperparameter values from search space.\n",
            "Attempting to fit model without HPO, but search space is provided. fit() will only consider default hyperparameter values from search space.\n",
            "Attempting to fit model without HPO, but search space is provided. fit() will only consider default hyperparameter values from search space.\n",
            "Attempting to fit model without HPO, but search space is provided. fit() will only consider default hyperparameter values from search space.\n",
            "Attempting to fit model without HPO, but search space is provided. fit() will only consider default hyperparameter values from search space.\n",
            "Attempting to fit model without HPO, but search space is provided. fit() will only consider default hyperparameter values from search space.\n",
            "\t-87.7231\t = Validation score   (root_mean_squared_error)\n",
            "\t98.66s\t = Training   runtime\n",
            "\t2.45s\t = Validation runtime\n",
            "Repeating k-fold bagging: 2/20\n",
            "Fitting model: LightGBM_BAG_L2/T0 ... Training model for up to 214.0s of the 213.99s of remaining time.\n",
            "Attempting to fit model without HPO, but search space is provided. fit() will only consider default hyperparameter values from search space.\n",
            "/usr/local/lib/python3.7/dist-packages/lightgbm/engine.py:239: UserWarning: 'verbose_eval' argument is deprecated and will be removed in a future release of LightGBM. Pass 'log_evaluation()' callback via 'callbacks' argument instead.\n",
            "  _log_warning(\"'verbose_eval' argument is deprecated and will be removed in a future release of LightGBM. \"\n",
            "Attempting to fit model without HPO, but search space is provided. fit() will only consider default hyperparameter values from search space.\n",
            "/usr/local/lib/python3.7/dist-packages/lightgbm/engine.py:239: UserWarning: 'verbose_eval' argument is deprecated and will be removed in a future release of LightGBM. Pass 'log_evaluation()' callback via 'callbacks' argument instead.\n",
            "  _log_warning(\"'verbose_eval' argument is deprecated and will be removed in a future release of LightGBM. \"\n",
            "Attempting to fit model without HPO, but search space is provided. fit() will only consider default hyperparameter values from search space.\n",
            "/usr/local/lib/python3.7/dist-packages/lightgbm/engine.py:239: UserWarning: 'verbose_eval' argument is deprecated and will be removed in a future release of LightGBM. Pass 'log_evaluation()' callback via 'callbacks' argument instead.\n",
            "  _log_warning(\"'verbose_eval' argument is deprecated and will be removed in a future release of LightGBM. \"\n",
            "Attempting to fit model without HPO, but search space is provided. fit() will only consider default hyperparameter values from search space.\n",
            "/usr/local/lib/python3.7/dist-packages/lightgbm/engine.py:239: UserWarning: 'verbose_eval' argument is deprecated and will be removed in a future release of LightGBM. Pass 'log_evaluation()' callback via 'callbacks' argument instead.\n",
            "  _log_warning(\"'verbose_eval' argument is deprecated and will be removed in a future release of LightGBM. \"\n",
            "Attempting to fit model without HPO, but search space is provided. fit() will only consider default hyperparameter values from search space.\n",
            "/usr/local/lib/python3.7/dist-packages/lightgbm/engine.py:239: UserWarning: 'verbose_eval' argument is deprecated and will be removed in a future release of LightGBM. Pass 'log_evaluation()' callback via 'callbacks' argument instead.\n",
            "  _log_warning(\"'verbose_eval' argument is deprecated and will be removed in a future release of LightGBM. \"\n",
            "Attempting to fit model without HPO, but search space is provided. fit() will only consider default hyperparameter values from search space.\n",
            "/usr/local/lib/python3.7/dist-packages/lightgbm/engine.py:239: UserWarning: 'verbose_eval' argument is deprecated and will be removed in a future release of LightGBM. Pass 'log_evaluation()' callback via 'callbacks' argument instead.\n",
            "  _log_warning(\"'verbose_eval' argument is deprecated and will be removed in a future release of LightGBM. \"\n",
            "Attempting to fit model without HPO, but search space is provided. fit() will only consider default hyperparameter values from search space.\n",
            "/usr/local/lib/python3.7/dist-packages/lightgbm/engine.py:239: UserWarning: 'verbose_eval' argument is deprecated and will be removed in a future release of LightGBM. Pass 'log_evaluation()' callback via 'callbacks' argument instead.\n",
            "  _log_warning(\"'verbose_eval' argument is deprecated and will be removed in a future release of LightGBM. \"\n",
            "Attempting to fit model without HPO, but search space is provided. fit() will only consider default hyperparameter values from search space.\n",
            "/usr/local/lib/python3.7/dist-packages/lightgbm/engine.py:239: UserWarning: 'verbose_eval' argument is deprecated and will be removed in a future release of LightGBM. Pass 'log_evaluation()' callback via 'callbacks' argument instead.\n",
            "  _log_warning(\"'verbose_eval' argument is deprecated and will be removed in a future release of LightGBM. \"\n",
            "Attempting to fit model without HPO, but search space is provided. fit() will only consider default hyperparameter values from search space.\n",
            "/usr/local/lib/python3.7/dist-packages/lightgbm/engine.py:239: UserWarning: 'verbose_eval' argument is deprecated and will be removed in a future release of LightGBM. Pass 'log_evaluation()' callback via 'callbacks' argument instead.\n",
            "  _log_warning(\"'verbose_eval' argument is deprecated and will be removed in a future release of LightGBM. \"\n",
            "Attempting to fit model without HPO, but search space is provided. fit() will only consider default hyperparameter values from search space.\n",
            "/usr/local/lib/python3.7/dist-packages/lightgbm/engine.py:239: UserWarning: 'verbose_eval' argument is deprecated and will be removed in a future release of LightGBM. Pass 'log_evaluation()' callback via 'callbacks' argument instead.\n",
            "  _log_warning(\"'verbose_eval' argument is deprecated and will be removed in a future release of LightGBM. \"\n",
            "\t-66.1698\t = Validation score   (root_mean_squared_error)\n",
            "\t9.66s\t = Training   runtime\n",
            "\t0.29s\t = Validation runtime\n",
            "Fitting model: LightGBM_BAG_L2/T1 ... Training model for up to 208.92s of the 208.91s of remaining time.\n",
            "Attempting to fit model without HPO, but search space is provided. fit() will only consider default hyperparameter values from search space.\n",
            "/usr/local/lib/python3.7/dist-packages/lightgbm/engine.py:239: UserWarning: 'verbose_eval' argument is deprecated and will be removed in a future release of LightGBM. Pass 'log_evaluation()' callback via 'callbacks' argument instead.\n",
            "  _log_warning(\"'verbose_eval' argument is deprecated and will be removed in a future release of LightGBM. \"\n",
            "Attempting to fit model without HPO, but search space is provided. fit() will only consider default hyperparameter values from search space.\n",
            "/usr/local/lib/python3.7/dist-packages/lightgbm/engine.py:239: UserWarning: 'verbose_eval' argument is deprecated and will be removed in a future release of LightGBM. Pass 'log_evaluation()' callback via 'callbacks' argument instead.\n",
            "  _log_warning(\"'verbose_eval' argument is deprecated and will be removed in a future release of LightGBM. \"\n",
            "Attempting to fit model without HPO, but search space is provided. fit() will only consider default hyperparameter values from search space.\n",
            "/usr/local/lib/python3.7/dist-packages/lightgbm/engine.py:239: UserWarning: 'verbose_eval' argument is deprecated and will be removed in a future release of LightGBM. Pass 'log_evaluation()' callback via 'callbacks' argument instead.\n",
            "  _log_warning(\"'verbose_eval' argument is deprecated and will be removed in a future release of LightGBM. \"\n",
            "Attempting to fit model without HPO, but search space is provided. fit() will only consider default hyperparameter values from search space.\n",
            "/usr/local/lib/python3.7/dist-packages/lightgbm/engine.py:239: UserWarning: 'verbose_eval' argument is deprecated and will be removed in a future release of LightGBM. Pass 'log_evaluation()' callback via 'callbacks' argument instead.\n",
            "  _log_warning(\"'verbose_eval' argument is deprecated and will be removed in a future release of LightGBM. \"\n",
            "Attempting to fit model without HPO, but search space is provided. fit() will only consider default hyperparameter values from search space.\n",
            "/usr/local/lib/python3.7/dist-packages/lightgbm/engine.py:239: UserWarning: 'verbose_eval' argument is deprecated and will be removed in a future release of LightGBM. Pass 'log_evaluation()' callback via 'callbacks' argument instead.\n",
            "  _log_warning(\"'verbose_eval' argument is deprecated and will be removed in a future release of LightGBM. \"\n",
            "Attempting to fit model without HPO, but search space is provided. fit() will only consider default hyperparameter values from search space.\n",
            "/usr/local/lib/python3.7/dist-packages/lightgbm/engine.py:239: UserWarning: 'verbose_eval' argument is deprecated and will be removed in a future release of LightGBM. Pass 'log_evaluation()' callback via 'callbacks' argument instead.\n",
            "  _log_warning(\"'verbose_eval' argument is deprecated and will be removed in a future release of LightGBM. \"\n",
            "Attempting to fit model without HPO, but search space is provided. fit() will only consider default hyperparameter values from search space.\n",
            "/usr/local/lib/python3.7/dist-packages/lightgbm/engine.py:239: UserWarning: 'verbose_eval' argument is deprecated and will be removed in a future release of LightGBM. Pass 'log_evaluation()' callback via 'callbacks' argument instead.\n",
            "  _log_warning(\"'verbose_eval' argument is deprecated and will be removed in a future release of LightGBM. \"\n",
            "Attempting to fit model without HPO, but search space is provided. fit() will only consider default hyperparameter values from search space.\n",
            "/usr/local/lib/python3.7/dist-packages/lightgbm/engine.py:239: UserWarning: 'verbose_eval' argument is deprecated and will be removed in a future release of LightGBM. Pass 'log_evaluation()' callback via 'callbacks' argument instead.\n",
            "  _log_warning(\"'verbose_eval' argument is deprecated and will be removed in a future release of LightGBM. \"\n",
            "Attempting to fit model without HPO, but search space is provided. fit() will only consider default hyperparameter values from search space.\n",
            "/usr/local/lib/python3.7/dist-packages/lightgbm/engine.py:239: UserWarning: 'verbose_eval' argument is deprecated and will be removed in a future release of LightGBM. Pass 'log_evaluation()' callback via 'callbacks' argument instead.\n",
            "  _log_warning(\"'verbose_eval' argument is deprecated and will be removed in a future release of LightGBM. \"\n",
            "Attempting to fit model without HPO, but search space is provided. fit() will only consider default hyperparameter values from search space.\n",
            "/usr/local/lib/python3.7/dist-packages/lightgbm/engine.py:239: UserWarning: 'verbose_eval' argument is deprecated and will be removed in a future release of LightGBM. Pass 'log_evaluation()' callback via 'callbacks' argument instead.\n",
            "  _log_warning(\"'verbose_eval' argument is deprecated and will be removed in a future release of LightGBM. \"\n",
            "\t-67.4333\t = Validation score   (root_mean_squared_error)\n",
            "\t9.67s\t = Training   runtime\n",
            "\t0.27s\t = Validation runtime\n",
            "Fitting model: LightGBM_BAG_L2/T2 ... Training model for up to 203.83s of the 203.81s of remaining time.\n",
            "Attempting to fit model without HPO, but search space is provided. fit() will only consider default hyperparameter values from search space.\n",
            "/usr/local/lib/python3.7/dist-packages/lightgbm/engine.py:239: UserWarning: 'verbose_eval' argument is deprecated and will be removed in a future release of LightGBM. Pass 'log_evaluation()' callback via 'callbacks' argument instead.\n",
            "  _log_warning(\"'verbose_eval' argument is deprecated and will be removed in a future release of LightGBM. \"\n",
            "Attempting to fit model without HPO, but search space is provided. fit() will only consider default hyperparameter values from search space.\n",
            "/usr/local/lib/python3.7/dist-packages/lightgbm/engine.py:239: UserWarning: 'verbose_eval' argument is deprecated and will be removed in a future release of LightGBM. Pass 'log_evaluation()' callback via 'callbacks' argument instead.\n",
            "  _log_warning(\"'verbose_eval' argument is deprecated and will be removed in a future release of LightGBM. \"\n",
            "Attempting to fit model without HPO, but search space is provided. fit() will only consider default hyperparameter values from search space.\n",
            "/usr/local/lib/python3.7/dist-packages/lightgbm/engine.py:239: UserWarning: 'verbose_eval' argument is deprecated and will be removed in a future release of LightGBM. Pass 'log_evaluation()' callback via 'callbacks' argument instead.\n",
            "  _log_warning(\"'verbose_eval' argument is deprecated and will be removed in a future release of LightGBM. \"\n",
            "Attempting to fit model without HPO, but search space is provided. fit() will only consider default hyperparameter values from search space.\n",
            "/usr/local/lib/python3.7/dist-packages/lightgbm/engine.py:239: UserWarning: 'verbose_eval' argument is deprecated and will be removed in a future release of LightGBM. Pass 'log_evaluation()' callback via 'callbacks' argument instead.\n",
            "  _log_warning(\"'verbose_eval' argument is deprecated and will be removed in a future release of LightGBM. \"\n",
            "Attempting to fit model without HPO, but search space is provided. fit() will only consider default hyperparameter values from search space.\n",
            "/usr/local/lib/python3.7/dist-packages/lightgbm/engine.py:239: UserWarning: 'verbose_eval' argument is deprecated and will be removed in a future release of LightGBM. Pass 'log_evaluation()' callback via 'callbacks' argument instead.\n",
            "  _log_warning(\"'verbose_eval' argument is deprecated and will be removed in a future release of LightGBM. \"\n",
            "Attempting to fit model without HPO, but search space is provided. fit() will only consider default hyperparameter values from search space.\n",
            "/usr/local/lib/python3.7/dist-packages/lightgbm/engine.py:239: UserWarning: 'verbose_eval' argument is deprecated and will be removed in a future release of LightGBM. Pass 'log_evaluation()' callback via 'callbacks' argument instead.\n",
            "  _log_warning(\"'verbose_eval' argument is deprecated and will be removed in a future release of LightGBM. \"\n",
            "Attempting to fit model without HPO, but search space is provided. fit() will only consider default hyperparameter values from search space.\n",
            "/usr/local/lib/python3.7/dist-packages/lightgbm/engine.py:239: UserWarning: 'verbose_eval' argument is deprecated and will be removed in a future release of LightGBM. Pass 'log_evaluation()' callback via 'callbacks' argument instead.\n",
            "  _log_warning(\"'verbose_eval' argument is deprecated and will be removed in a future release of LightGBM. \"\n",
            "Attempting to fit model without HPO, but search space is provided. fit() will only consider default hyperparameter values from search space.\n",
            "/usr/local/lib/python3.7/dist-packages/lightgbm/engine.py:239: UserWarning: 'verbose_eval' argument is deprecated and will be removed in a future release of LightGBM. Pass 'log_evaluation()' callback via 'callbacks' argument instead.\n",
            "  _log_warning(\"'verbose_eval' argument is deprecated and will be removed in a future release of LightGBM. \"\n",
            "Attempting to fit model without HPO, but search space is provided. fit() will only consider default hyperparameter values from search space.\n",
            "/usr/local/lib/python3.7/dist-packages/lightgbm/engine.py:239: UserWarning: 'verbose_eval' argument is deprecated and will be removed in a future release of LightGBM. Pass 'log_evaluation()' callback via 'callbacks' argument instead.\n",
            "  _log_warning(\"'verbose_eval' argument is deprecated and will be removed in a future release of LightGBM. \"\n",
            "Attempting to fit model without HPO, but search space is provided. fit() will only consider default hyperparameter values from search space.\n",
            "/usr/local/lib/python3.7/dist-packages/lightgbm/engine.py:239: UserWarning: 'verbose_eval' argument is deprecated and will be removed in a future release of LightGBM. Pass 'log_evaluation()' callback via 'callbacks' argument instead.\n",
            "  _log_warning(\"'verbose_eval' argument is deprecated and will be removed in a future release of LightGBM. \"\n",
            "\t-66.0182\t = Validation score   (root_mean_squared_error)\n",
            "\t9.69s\t = Training   runtime\n",
            "\t0.29s\t = Validation runtime\n",
            "Fitting model: LightGBM_BAG_L2/T3 ... Training model for up to 198.6s of the 198.59s of remaining time.\n",
            "Attempting to fit model without HPO, but search space is provided. fit() will only consider default hyperparameter values from search space.\n",
            "/usr/local/lib/python3.7/dist-packages/lightgbm/engine.py:239: UserWarning: 'verbose_eval' argument is deprecated and will be removed in a future release of LightGBM. Pass 'log_evaluation()' callback via 'callbacks' argument instead.\n",
            "  _log_warning(\"'verbose_eval' argument is deprecated and will be removed in a future release of LightGBM. \"\n",
            "Attempting to fit model without HPO, but search space is provided. fit() will only consider default hyperparameter values from search space.\n",
            "/usr/local/lib/python3.7/dist-packages/lightgbm/engine.py:239: UserWarning: 'verbose_eval' argument is deprecated and will be removed in a future release of LightGBM. Pass 'log_evaluation()' callback via 'callbacks' argument instead.\n",
            "  _log_warning(\"'verbose_eval' argument is deprecated and will be removed in a future release of LightGBM. \"\n",
            "Attempting to fit model without HPO, but search space is provided. fit() will only consider default hyperparameter values from search space.\n",
            "/usr/local/lib/python3.7/dist-packages/lightgbm/engine.py:239: UserWarning: 'verbose_eval' argument is deprecated and will be removed in a future release of LightGBM. Pass 'log_evaluation()' callback via 'callbacks' argument instead.\n",
            "  _log_warning(\"'verbose_eval' argument is deprecated and will be removed in a future release of LightGBM. \"\n",
            "Attempting to fit model without HPO, but search space is provided. fit() will only consider default hyperparameter values from search space.\n",
            "/usr/local/lib/python3.7/dist-packages/lightgbm/engine.py:239: UserWarning: 'verbose_eval' argument is deprecated and will be removed in a future release of LightGBM. Pass 'log_evaluation()' callback via 'callbacks' argument instead.\n",
            "  _log_warning(\"'verbose_eval' argument is deprecated and will be removed in a future release of LightGBM. \"\n",
            "Attempting to fit model without HPO, but search space is provided. fit() will only consider default hyperparameter values from search space.\n",
            "/usr/local/lib/python3.7/dist-packages/lightgbm/engine.py:239: UserWarning: 'verbose_eval' argument is deprecated and will be removed in a future release of LightGBM. Pass 'log_evaluation()' callback via 'callbacks' argument instead.\n",
            "  _log_warning(\"'verbose_eval' argument is deprecated and will be removed in a future release of LightGBM. \"\n",
            "Attempting to fit model without HPO, but search space is provided. fit() will only consider default hyperparameter values from search space.\n",
            "/usr/local/lib/python3.7/dist-packages/lightgbm/engine.py:239: UserWarning: 'verbose_eval' argument is deprecated and will be removed in a future release of LightGBM. Pass 'log_evaluation()' callback via 'callbacks' argument instead.\n",
            "  _log_warning(\"'verbose_eval' argument is deprecated and will be removed in a future release of LightGBM. \"\n",
            "Attempting to fit model without HPO, but search space is provided. fit() will only consider default hyperparameter values from search space.\n",
            "/usr/local/lib/python3.7/dist-packages/lightgbm/engine.py:239: UserWarning: 'verbose_eval' argument is deprecated and will be removed in a future release of LightGBM. Pass 'log_evaluation()' callback via 'callbacks' argument instead.\n",
            "  _log_warning(\"'verbose_eval' argument is deprecated and will be removed in a future release of LightGBM. \"\n",
            "Attempting to fit model without HPO, but search space is provided. fit() will only consider default hyperparameter values from search space.\n",
            "/usr/local/lib/python3.7/dist-packages/lightgbm/engine.py:239: UserWarning: 'verbose_eval' argument is deprecated and will be removed in a future release of LightGBM. Pass 'log_evaluation()' callback via 'callbacks' argument instead.\n",
            "  _log_warning(\"'verbose_eval' argument is deprecated and will be removed in a future release of LightGBM. \"\n",
            "Attempting to fit model without HPO, but search space is provided. fit() will only consider default hyperparameter values from search space.\n",
            "/usr/local/lib/python3.7/dist-packages/lightgbm/engine.py:239: UserWarning: 'verbose_eval' argument is deprecated and will be removed in a future release of LightGBM. Pass 'log_evaluation()' callback via 'callbacks' argument instead.\n",
            "  _log_warning(\"'verbose_eval' argument is deprecated and will be removed in a future release of LightGBM. \"\n",
            "Attempting to fit model without HPO, but search space is provided. fit() will only consider default hyperparameter values from search space.\n",
            "/usr/local/lib/python3.7/dist-packages/lightgbm/engine.py:239: UserWarning: 'verbose_eval' argument is deprecated and will be removed in a future release of LightGBM. Pass 'log_evaluation()' callback via 'callbacks' argument instead.\n",
            "  _log_warning(\"'verbose_eval' argument is deprecated and will be removed in a future release of LightGBM. \"\n",
            "\t-66.0392\t = Validation score   (root_mean_squared_error)\n",
            "\t9.65s\t = Training   runtime\n",
            "\t0.27s\t = Validation runtime\n",
            "Fitting model: LightGBM_BAG_L2/T4 ... Training model for up to 193.46s of the 193.44s of remaining time.\n",
            "Attempting to fit model without HPO, but search space is provided. fit() will only consider default hyperparameter values from search space.\n",
            "/usr/local/lib/python3.7/dist-packages/lightgbm/engine.py:239: UserWarning: 'verbose_eval' argument is deprecated and will be removed in a future release of LightGBM. Pass 'log_evaluation()' callback via 'callbacks' argument instead.\n",
            "  _log_warning(\"'verbose_eval' argument is deprecated and will be removed in a future release of LightGBM. \"\n",
            "Attempting to fit model without HPO, but search space is provided. fit() will only consider default hyperparameter values from search space.\n",
            "/usr/local/lib/python3.7/dist-packages/lightgbm/engine.py:239: UserWarning: 'verbose_eval' argument is deprecated and will be removed in a future release of LightGBM. Pass 'log_evaluation()' callback via 'callbacks' argument instead.\n",
            "  _log_warning(\"'verbose_eval' argument is deprecated and will be removed in a future release of LightGBM. \"\n",
            "Attempting to fit model without HPO, but search space is provided. fit() will only consider default hyperparameter values from search space.\n",
            "/usr/local/lib/python3.7/dist-packages/lightgbm/engine.py:239: UserWarning: 'verbose_eval' argument is deprecated and will be removed in a future release of LightGBM. Pass 'log_evaluation()' callback via 'callbacks' argument instead.\n",
            "  _log_warning(\"'verbose_eval' argument is deprecated and will be removed in a future release of LightGBM. \"\n",
            "Attempting to fit model without HPO, but search space is provided. fit() will only consider default hyperparameter values from search space.\n",
            "/usr/local/lib/python3.7/dist-packages/lightgbm/engine.py:239: UserWarning: 'verbose_eval' argument is deprecated and will be removed in a future release of LightGBM. Pass 'log_evaluation()' callback via 'callbacks' argument instead.\n",
            "  _log_warning(\"'verbose_eval' argument is deprecated and will be removed in a future release of LightGBM. \"\n",
            "Attempting to fit model without HPO, but search space is provided. fit() will only consider default hyperparameter values from search space.\n",
            "/usr/local/lib/python3.7/dist-packages/lightgbm/engine.py:239: UserWarning: 'verbose_eval' argument is deprecated and will be removed in a future release of LightGBM. Pass 'log_evaluation()' callback via 'callbacks' argument instead.\n",
            "  _log_warning(\"'verbose_eval' argument is deprecated and will be removed in a future release of LightGBM. \"\n",
            "Attempting to fit model without HPO, but search space is provided. fit() will only consider default hyperparameter values from search space.\n",
            "/usr/local/lib/python3.7/dist-packages/lightgbm/engine.py:239: UserWarning: 'verbose_eval' argument is deprecated and will be removed in a future release of LightGBM. Pass 'log_evaluation()' callback via 'callbacks' argument instead.\n",
            "  _log_warning(\"'verbose_eval' argument is deprecated and will be removed in a future release of LightGBM. \"\n",
            "Attempting to fit model without HPO, but search space is provided. fit() will only consider default hyperparameter values from search space.\n",
            "/usr/local/lib/python3.7/dist-packages/lightgbm/engine.py:239: UserWarning: 'verbose_eval' argument is deprecated and will be removed in a future release of LightGBM. Pass 'log_evaluation()' callback via 'callbacks' argument instead.\n",
            "  _log_warning(\"'verbose_eval' argument is deprecated and will be removed in a future release of LightGBM. \"\n",
            "Attempting to fit model without HPO, but search space is provided. fit() will only consider default hyperparameter values from search space.\n",
            "/usr/local/lib/python3.7/dist-packages/lightgbm/engine.py:239: UserWarning: 'verbose_eval' argument is deprecated and will be removed in a future release of LightGBM. Pass 'log_evaluation()' callback via 'callbacks' argument instead.\n",
            "  _log_warning(\"'verbose_eval' argument is deprecated and will be removed in a future release of LightGBM. \"\n",
            "Attempting to fit model without HPO, but search space is provided. fit() will only consider default hyperparameter values from search space.\n",
            "/usr/local/lib/python3.7/dist-packages/lightgbm/engine.py:239: UserWarning: 'verbose_eval' argument is deprecated and will be removed in a future release of LightGBM. Pass 'log_evaluation()' callback via 'callbacks' argument instead.\n",
            "  _log_warning(\"'verbose_eval' argument is deprecated and will be removed in a future release of LightGBM. \"\n",
            "Attempting to fit model without HPO, but search space is provided. fit() will only consider default hyperparameter values from search space.\n",
            "/usr/local/lib/python3.7/dist-packages/lightgbm/engine.py:239: UserWarning: 'verbose_eval' argument is deprecated and will be removed in a future release of LightGBM. Pass 'log_evaluation()' callback via 'callbacks' argument instead.\n",
            "  _log_warning(\"'verbose_eval' argument is deprecated and will be removed in a future release of LightGBM. \"\n",
            "\t-66.0887\t = Validation score   (root_mean_squared_error)\n",
            "\t9.82s\t = Training   runtime\n",
            "\t0.28s\t = Validation runtime\n",
            "Fitting model: NeuralNetMXNet_BAG_L2/T0 ... Training model for up to 188.26s of the 188.25s of remaining time.\n",
            "Attempting to fit model without HPO, but search space is provided. fit() will only consider default hyperparameter values from search space.\n",
            "Attempting to fit model without HPO, but search space is provided. fit() will only consider default hyperparameter values from search space.\n",
            "Attempting to fit model without HPO, but search space is provided. fit() will only consider default hyperparameter values from search space.\n",
            "Attempting to fit model without HPO, but search space is provided. fit() will only consider default hyperparameter values from search space.\n",
            "Attempting to fit model without HPO, but search space is provided. fit() will only consider default hyperparameter values from search space.\n",
            "Attempting to fit model without HPO, but search space is provided. fit() will only consider default hyperparameter values from search space.\n",
            "Attempting to fit model without HPO, but search space is provided. fit() will only consider default hyperparameter values from search space.\n",
            "Attempting to fit model without HPO, but search space is provided. fit() will only consider default hyperparameter values from search space.\n",
            "Attempting to fit model without HPO, but search space is provided. fit() will only consider default hyperparameter values from search space.\n",
            "Attempting to fit model without HPO, but search space is provided. fit() will only consider default hyperparameter values from search space.\n",
            "\t-80.9188\t = Validation score   (root_mean_squared_error)\n",
            "\t197.87s\t = Training   runtime\n",
            "\t5.14s\t = Validation runtime\n",
            "Completed 2/20 k-fold bagging repeats ...\n",
            "Fitting model: WeightedEnsemble_L3 ... Training model for up to 360.0s of the 86.24s of remaining time.\n",
            "\t-65.9602\t = Validation score   (root_mean_squared_error)\n",
            "\t0.41s\t = Training   runtime\n",
            "\t0.0s\t = Validation runtime\n",
            "AutoGluon training complete, total runtime = 514.22s ...\n",
            "TabularPredictor saved. To load, use: predictor = TabularPredictor.load(\"AutogluonModels/ag-20211126_150403/\")\n"
          ]
        }
      ]
    },
    {
      "cell_type": "code",
      "metadata": {
        "id": "LbWCqZdpPUM-"
      },
      "source": [
        "# hyperparameters = {'XGB': {'n_estimators': 50, 'n_jobs':-1},\n",
        "#                    'KNN': {'n_neighbours':50},\n",
        "#                    'NN': {'num_epochs': 20}, \n",
        "#                    'GBM': {'num_boost_round': 20}}"
      ],
      "execution_count": null,
      "outputs": []
    },
    {
      "cell_type": "code",
      "metadata": {
        "colab": {
          "base_uri": "https://localhost:8080/"
        },
        "id": "Ng-EYzSHyvNx",
        "outputId": "e654a424-6896-4329-e8ff-5c5c980ba667"
      },
      "source": [
        "predictor_new_hpo.fit_summary()"
      ],
      "execution_count": null,
      "outputs": [
        {
          "output_type": "stream",
          "name": "stdout",
          "text": [
            "*** Summary of fit() ***\n",
            "Estimated performance of each model:\n",
            "                       model   score_val  pred_time_val    fit_time  pred_time_val_marginal  fit_time_marginal  stack_level  can_infer  fit_order\n",
            "0        WeightedEnsemble_L3  -65.960245      12.637152  469.432363                0.000831           0.406359            3       True         14\n",
            "1         LightGBM_BAG_L2/T2  -66.018192       6.956172  251.828453                0.288065           9.689238            2       True         10\n",
            "2         LightGBM_BAG_L2/T3  -66.039206       6.940799  251.794153                0.272692           9.654937            2       True         11\n",
            "3         LightGBM_BAG_L2/T4  -66.088696       6.949679  251.955317                0.281572           9.816101            2       True         12\n",
            "4         LightGBM_BAG_L2/T0  -66.169808       6.957449  251.800029                0.289342           9.660813            2       True          8\n",
            "5         LightGBM_BAG_L1/T4  -66.903371       0.320024    8.206434                0.320024           8.206434            1       True          5\n",
            "6        WeightedEnsemble_L2  -66.903371       0.320879    8.604180                0.000855           0.397746            2       True          7\n",
            "7         LightGBM_BAG_L1/T1  -67.373089       0.297105    8.137866                0.297105           8.137866            1       True          2\n",
            "8         LightGBM_BAG_L2/T1  -67.433265       6.937046  251.809889                0.268939           9.670673            2       True          9\n",
            "9         LightGBM_BAG_L1/T3  -67.490907       0.304891    8.285753                0.304891           8.285753            1       True          4\n",
            "10        LightGBM_BAG_L1/T0  -67.506830       0.309855    8.222693                0.309855           8.222693            1       True          1\n",
            "11        LightGBM_BAG_L1/T2  -68.790636       0.313498    8.211306                0.313498           8.211306            1       True          3\n",
            "12  NeuralNetMXNet_BAG_L2/T0  -80.918821      11.806625  440.011156                5.138518         197.871940            2       True         13\n",
            "13  NeuralNetMXNet_BAG_L1/T0 -135.112958       5.122736  201.075163                5.122736         201.075163            1       True          6\n",
            "Number of models trained: 14\n",
            "Types of models trained:\n",
            "{'WeightedEnsembleModel', 'StackerEnsembleModel_TabularNeuralNet', 'StackerEnsembleModel_LGB'}\n",
            "Bagging used: True  (with 10 folds)\n",
            "Multi-layer stack-ensembling used: True  (with 3 levels)\n",
            "Feature Metadata (Processed):\n",
            "(raw dtype, special dtypes):\n",
            "('category', [])  : 2 | ['season', 'weather']\n",
            "('float', [])     : 3 | ['temp', 'atemp', 'windspeed']\n",
            "('int', [])       : 4 | ['humidity', 'day', 'month', 'hour']\n",
            "('int', ['bool']) : 2 | ['holiday', 'workingday']\n",
            "Plot summary of models saved to file: AutogluonModels/ag-20211126_150403/SummaryOfModels.html\n",
            "*** End of fit() summary ***\n"
          ]
        },
        {
          "output_type": "execute_result",
          "data": {
            "text/plain": [
              "{'leaderboard':                        model   score_val  ...  can_infer  fit_order\n",
              " 0        WeightedEnsemble_L3  -65.960245  ...       True         14\n",
              " 1         LightGBM_BAG_L2/T2  -66.018192  ...       True         10\n",
              " 2         LightGBM_BAG_L2/T3  -66.039206  ...       True         11\n",
              " 3         LightGBM_BAG_L2/T4  -66.088696  ...       True         12\n",
              " 4         LightGBM_BAG_L2/T0  -66.169808  ...       True          8\n",
              " 5         LightGBM_BAG_L1/T4  -66.903371  ...       True          5\n",
              " 6        WeightedEnsemble_L2  -66.903371  ...       True          7\n",
              " 7         LightGBM_BAG_L1/T1  -67.373089  ...       True          2\n",
              " 8         LightGBM_BAG_L2/T1  -67.433265  ...       True          9\n",
              " 9         LightGBM_BAG_L1/T3  -67.490907  ...       True          4\n",
              " 10        LightGBM_BAG_L1/T0  -67.506830  ...       True          1\n",
              " 11        LightGBM_BAG_L1/T2  -68.790636  ...       True          3\n",
              " 12  NeuralNetMXNet_BAG_L2/T0  -80.918821  ...       True         13\n",
              " 13  NeuralNetMXNet_BAG_L1/T0 -135.112958  ...       True          6\n",
              " \n",
              " [14 rows x 9 columns],\n",
              " 'max_stack_level': 3,\n",
              " 'model_best': 'WeightedEnsemble_L3',\n",
              " 'model_fit_times': {'LightGBM_BAG_L1/T0': 8.222692728042603,\n",
              "  'LightGBM_BAG_L1/T1': 8.137866497039795,\n",
              "  'LightGBM_BAG_L1/T2': 8.211305618286133,\n",
              "  'LightGBM_BAG_L1/T3': 8.28575348854065,\n",
              "  'LightGBM_BAG_L1/T4': 8.20643401145935,\n",
              "  'LightGBM_BAG_L2/T0': 9.660813093185425,\n",
              "  'LightGBM_BAG_L2/T1': 9.670673131942749,\n",
              "  'LightGBM_BAG_L2/T2': 9.689237594604492,\n",
              "  'LightGBM_BAG_L2/T3': 9.654937028884888,\n",
              "  'LightGBM_BAG_L2/T4': 9.81610107421875,\n",
              "  'NeuralNetMXNet_BAG_L1/T0': 201.0751633644104,\n",
              "  'NeuralNetMXNet_BAG_L2/T0': 197.87193989753723,\n",
              "  'WeightedEnsemble_L2': 0.39774584770202637,\n",
              "  'WeightedEnsemble_L3': 0.4063594341278076},\n",
              " 'model_hyperparams': {'LightGBM_BAG_L1/T0': {'max_base_models': 25,\n",
              "   'max_base_models_per_type': 5,\n",
              "   'save_bag_folds': True,\n",
              "   'use_orig_features': True},\n",
              "  'LightGBM_BAG_L1/T1': {'max_base_models': 25,\n",
              "   'max_base_models_per_type': 5,\n",
              "   'save_bag_folds': True,\n",
              "   'use_orig_features': True},\n",
              "  'LightGBM_BAG_L1/T2': {'max_base_models': 25,\n",
              "   'max_base_models_per_type': 5,\n",
              "   'save_bag_folds': True,\n",
              "   'use_orig_features': True},\n",
              "  'LightGBM_BAG_L1/T3': {'max_base_models': 25,\n",
              "   'max_base_models_per_type': 5,\n",
              "   'save_bag_folds': True,\n",
              "   'use_orig_features': True},\n",
              "  'LightGBM_BAG_L1/T4': {'max_base_models': 25,\n",
              "   'max_base_models_per_type': 5,\n",
              "   'save_bag_folds': True,\n",
              "   'use_orig_features': True},\n",
              "  'LightGBM_BAG_L2/T0': {'max_base_models': 25,\n",
              "   'max_base_models_per_type': 5,\n",
              "   'save_bag_folds': True,\n",
              "   'use_orig_features': True},\n",
              "  'LightGBM_BAG_L2/T1': {'max_base_models': 25,\n",
              "   'max_base_models_per_type': 5,\n",
              "   'save_bag_folds': True,\n",
              "   'use_orig_features': True},\n",
              "  'LightGBM_BAG_L2/T2': {'max_base_models': 25,\n",
              "   'max_base_models_per_type': 5,\n",
              "   'save_bag_folds': True,\n",
              "   'use_orig_features': True},\n",
              "  'LightGBM_BAG_L2/T3': {'max_base_models': 25,\n",
              "   'max_base_models_per_type': 5,\n",
              "   'save_bag_folds': True,\n",
              "   'use_orig_features': True},\n",
              "  'LightGBM_BAG_L2/T4': {'max_base_models': 25,\n",
              "   'max_base_models_per_type': 5,\n",
              "   'save_bag_folds': True,\n",
              "   'use_orig_features': True},\n",
              "  'NeuralNetMXNet_BAG_L1/T0': {'max_base_models': 25,\n",
              "   'max_base_models_per_type': 5,\n",
              "   'save_bag_folds': True,\n",
              "   'use_orig_features': True},\n",
              "  'NeuralNetMXNet_BAG_L2/T0': {'max_base_models': 25,\n",
              "   'max_base_models_per_type': 5,\n",
              "   'save_bag_folds': True,\n",
              "   'use_orig_features': True},\n",
              "  'WeightedEnsemble_L2': {'max_base_models': 25,\n",
              "   'max_base_models_per_type': 5,\n",
              "   'save_bag_folds': True,\n",
              "   'use_orig_features': False},\n",
              "  'WeightedEnsemble_L3': {'max_base_models': 25,\n",
              "   'max_base_models_per_type': 5,\n",
              "   'save_bag_folds': True,\n",
              "   'use_orig_features': False}},\n",
              " 'model_paths': {'LightGBM_BAG_L1/T0': 'AutogluonModels/ag-20211126_150403/models/LightGBM_BAG_L1/T0/',\n",
              "  'LightGBM_BAG_L1/T1': 'AutogluonModels/ag-20211126_150403/models/LightGBM_BAG_L1/T1/',\n",
              "  'LightGBM_BAG_L1/T2': 'AutogluonModels/ag-20211126_150403/models/LightGBM_BAG_L1/T2/',\n",
              "  'LightGBM_BAG_L1/T3': 'AutogluonModels/ag-20211126_150403/models/LightGBM_BAG_L1/T3/',\n",
              "  'LightGBM_BAG_L1/T4': 'AutogluonModels/ag-20211126_150403/models/LightGBM_BAG_L1/T4/',\n",
              "  'LightGBM_BAG_L2/T0': 'AutogluonModels/ag-20211126_150403/models/LightGBM_BAG_L2/T0/',\n",
              "  'LightGBM_BAG_L2/T1': 'AutogluonModels/ag-20211126_150403/models/LightGBM_BAG_L2/T1/',\n",
              "  'LightGBM_BAG_L2/T2': 'AutogluonModels/ag-20211126_150403/models/LightGBM_BAG_L2/T2/',\n",
              "  'LightGBM_BAG_L2/T3': 'AutogluonModels/ag-20211126_150403/models/LightGBM_BAG_L2/T3/',\n",
              "  'LightGBM_BAG_L2/T4': 'AutogluonModels/ag-20211126_150403/models/LightGBM_BAG_L2/T4/',\n",
              "  'NeuralNetMXNet_BAG_L1/T0': 'AutogluonModels/ag-20211126_150403/models/NeuralNetMXNet_BAG_L1/T0/',\n",
              "  'NeuralNetMXNet_BAG_L2/T0': 'AutogluonModels/ag-20211126_150403/models/NeuralNetMXNet_BAG_L2/T0/',\n",
              "  'WeightedEnsemble_L2': 'AutogluonModels/ag-20211126_150403/models/WeightedEnsemble_L2/',\n",
              "  'WeightedEnsemble_L3': 'AutogluonModels/ag-20211126_150403/models/WeightedEnsemble_L3/'},\n",
              " 'model_performance': {'LightGBM_BAG_L1/T0': -67.5068300129391,\n",
              "  'LightGBM_BAG_L1/T1': -67.37308850871,\n",
              "  'LightGBM_BAG_L1/T2': -68.79063596119276,\n",
              "  'LightGBM_BAG_L1/T3': -67.49090737048355,\n",
              "  'LightGBM_BAG_L1/T4': -66.90337067113136,\n",
              "  'LightGBM_BAG_L2/T0': -66.1698082256503,\n",
              "  'LightGBM_BAG_L2/T1': -67.4332654219852,\n",
              "  'LightGBM_BAG_L2/T2': -66.0181922356715,\n",
              "  'LightGBM_BAG_L2/T3': -66.03920610742095,\n",
              "  'LightGBM_BAG_L2/T4': -66.08869577026826,\n",
              "  'NeuralNetMXNet_BAG_L1/T0': -135.11295795431687,\n",
              "  'NeuralNetMXNet_BAG_L2/T0': -80.9188213588107,\n",
              "  'WeightedEnsemble_L2': -66.90337067113136,\n",
              "  'WeightedEnsemble_L3': -65.96024451621375},\n",
              " 'model_pred_times': {'LightGBM_BAG_L1/T0': 0.30985450744628906,\n",
              "  'LightGBM_BAG_L1/T1': 0.297105073928833,\n",
              "  'LightGBM_BAG_L1/T2': 0.31349754333496094,\n",
              "  'LightGBM_BAG_L1/T3': 0.30489063262939453,\n",
              "  'LightGBM_BAG_L1/T4': 0.3200235366821289,\n",
              "  'LightGBM_BAG_L2/T0': 0.28934192657470703,\n",
              "  'LightGBM_BAG_L2/T1': 0.2689390182495117,\n",
              "  'LightGBM_BAG_L2/T2': 0.28806471824645996,\n",
              "  'LightGBM_BAG_L2/T3': 0.2726919651031494,\n",
              "  'LightGBM_BAG_L2/T4': 0.2815718650817871,\n",
              "  'NeuralNetMXNet_BAG_L1/T0': 5.122735977172852,\n",
              "  'NeuralNetMXNet_BAG_L2/T0': 5.1385180950164795,\n",
              "  'WeightedEnsemble_L2': 0.0008552074432373047,\n",
              "  'WeightedEnsemble_L3': 0.0008313655853271484},\n",
              " 'model_types': {'LightGBM_BAG_L1/T0': 'StackerEnsembleModel_LGB',\n",
              "  'LightGBM_BAG_L1/T1': 'StackerEnsembleModel_LGB',\n",
              "  'LightGBM_BAG_L1/T2': 'StackerEnsembleModel_LGB',\n",
              "  'LightGBM_BAG_L1/T3': 'StackerEnsembleModel_LGB',\n",
              "  'LightGBM_BAG_L1/T4': 'StackerEnsembleModel_LGB',\n",
              "  'LightGBM_BAG_L2/T0': 'StackerEnsembleModel_LGB',\n",
              "  'LightGBM_BAG_L2/T1': 'StackerEnsembleModel_LGB',\n",
              "  'LightGBM_BAG_L2/T2': 'StackerEnsembleModel_LGB',\n",
              "  'LightGBM_BAG_L2/T3': 'StackerEnsembleModel_LGB',\n",
              "  'LightGBM_BAG_L2/T4': 'StackerEnsembleModel_LGB',\n",
              "  'NeuralNetMXNet_BAG_L1/T0': 'StackerEnsembleModel_TabularNeuralNet',\n",
              "  'NeuralNetMXNet_BAG_L2/T0': 'StackerEnsembleModel_TabularNeuralNet',\n",
              "  'WeightedEnsemble_L2': 'WeightedEnsembleModel',\n",
              "  'WeightedEnsemble_L3': 'WeightedEnsembleModel'},\n",
              " 'num_bag_folds': 10}"
            ]
          },
          "metadata": {},
          "execution_count": 52
        }
      ]
    },
    {
      "cell_type": "code",
      "metadata": {
        "colab": {
          "base_uri": "https://localhost:8080/",
          "height": 433
        },
        "id": "v1IASYKIToFz",
        "outputId": "ce8452dc-423b-4eae-ee69-50d3d01568f9"
      },
      "source": [
        "predictor_new_hpo.leaderboard(silent=True).plot(kind='bar', x='model', y='score_val')"
      ],
      "execution_count": null,
      "outputs": [
        {
          "output_type": "execute_result",
          "data": {
            "text/plain": [
              "<matplotlib.axes._subplots.AxesSubplot at 0x7fe926073650>"
            ]
          },
          "metadata": {},
          "execution_count": 53
        },
        {
          "output_type": "display_data",
          "data": {
            "image/png": "[encoded data removed]",
            "text/plain": [
              "<Figure size 432x288 with 1 Axes>"
            ]
          },
          "metadata": {
            "needs_background": "light"
          }
        }
      ]
    },
    {
      "cell_type": "code",
      "metadata": {
        "id": "MiWz7z5Q5DsR"
      },
      "source": [
        "predictions_new_hpo = predictor_new_hpo.predict(test)"
      ],
      "execution_count": null,
      "outputs": []
    },
    {
      "cell_type": "code",
      "metadata": {
        "colab": {
          "base_uri": "https://localhost:8080/"
        },
        "id": "XqX9ogao5cg-",
        "outputId": "85030206-b10b-48a9-b067-91604a40cf0c"
      },
      "source": [
        "predictions_new_hpo[predictions_new_hpo<0]"
      ],
      "execution_count": null,
      "outputs": [
        {
          "output_type": "execute_result",
          "data": {
            "text/plain": [
              "Series([], Name: count, dtype: float32)"
            ]
          },
          "metadata": {},
          "execution_count": 55
        }
      ]
    },
    {
      "cell_type": "code",
      "metadata": {
        "colab": {
          "base_uri": "https://localhost:8080/"
        },
        "id": "XCb0HlTt5pA4",
        "outputId": "96aa91ad-ae42-4948-aa6e-bb9e35a01260"
      },
      "source": [
        "predictions_new_hpo.head()"
      ],
      "execution_count": null,
      "outputs": [
        {
          "output_type": "execute_result",
          "data": {
            "text/plain": [
              "0    21.637897\n",
              "1    10.610908\n",
              "2    10.206889\n",
              "3     9.920848\n",
              "4     9.942148\n",
              "Name: count, dtype: float32"
            ]
          },
          "metadata": {},
          "execution_count": 56
        }
      ]
    },
    {
      "cell_type": "code",
      "metadata": {
        "id": "l1UR7xvoyvNx"
      },
      "source": [
        "# Remember to set all negative values to zero\n",
        "predictions_new_hpo[predictions_new_hpo<0] = 0"
      ],
      "execution_count": null,
      "outputs": []
    },
    {
      "cell_type": "code",
      "metadata": {
        "id": "y7O-FC-v5gOj"
      },
      "source": [
        "submission_new_hpo = pd.read_csv('/content/submission.csv')"
      ],
      "execution_count": null,
      "outputs": []
    },
    {
      "cell_type": "code",
      "metadata": {
        "id": "y9SmJjXTyvNy"
      },
      "source": [
        "# Same submitting predictions\n",
        "submission_new_hpo[\"count\"] = predictions_new_hpo\n",
        "submission_new_hpo.to_csv(\"submission_new_hpo.csv\", index=False)"
      ],
      "execution_count": null,
      "outputs": []
    },
    {
      "cell_type": "code",
      "metadata": {
        "id": "f43KKS56yvNy",
        "colab": {
          "base_uri": "https://localhost:8080/"
        },
        "outputId": "21c5d199-907b-4791-c9ec-9ab20bb69e2c"
      },
      "source": [
        "!kaggle competitions submit -c bike-sharing-demand -f submission_new_hpo.csv -m \"new features with hyperparameters\""
      ],
      "execution_count": null,
      "outputs": [
        {
          "output_type": "stream",
          "name": "stdout",
          "text": [
            "Warning: Looks like you're using an outdated API Version, please consider updating (server 1.5.12 / client 1.5.4)\n",
            "100% 188k/188k [00:03<00:00, 60.7kB/s]\n",
            "Successfully submitted to Bike Sharing Demand"
          ]
        }
      ]
    },
    {
      "cell_type": "code",
      "metadata": {
        "id": "Grju6upgyvNy",
        "colab": {
          "base_uri": "https://localhost:8080/"
        },
        "outputId": "be8e5c07-1570-4e81-a470-c8898fe32ef6"
      },
      "source": [
        "!kaggle competitions submissions -c bike-sharing-demand | tail -n +1 | head -n 6"
      ],
      "execution_count": null,
      "outputs": [
        {
          "output_type": "stream",
          "name": "stdout",
          "text": [
            "Warning: Looks like you're using an outdated API Version, please consider updating (server 1.5.12 / client 1.5.4)\n",
            "fileName                     date                 description                        status    publicScore  privateScore  \n",
            "---------------------------  -------------------  ---------------------------------  --------  -----------  ------------  \n",
            "submission_new_hpo.csv       2021-11-26 15:13:12  new features with hyperparameters  complete  0.52610      0.52610       \n",
            "submission_new_features.csv  2021-11-26 15:04:00  new features                       complete  0.55921      0.55921       \n",
            "submission.csv               2021-11-26 14:52:18  raw submission                     complete  1.39295      1.39295       \n"
          ]
        }
      ]
    },
    {
      "cell_type": "code",
      "metadata": {
        "colab": {
          "base_uri": "https://localhost:8080/",
          "height": 35
        },
        "id": "gt75CwvSQV7c",
        "outputId": "2eedd945-7405-4932-9584-c5a0f753d39a"
      },
      "source": [
        "predictor_new_hpo.get_model_best()"
      ],
      "execution_count": null,
      "outputs": [
        {
          "output_type": "execute_result",
          "data": {
            "application/vnd.google.colaboratory.intrinsic+json": {
              "type": "string"
            },
            "text/plain": [
              "'WeightedEnsemble_L3'"
            ]
          },
          "metadata": {},
          "execution_count": 62
        }
      ]
    },
    {
      "cell_type": "markdown",
      "metadata": {
        "id": "_ZjD2ebQyvNy"
      },
      "source": [
        "#### New Score of `0.52616`"
      ]
    },
    {
      "cell_type": "markdown",
      "metadata": {
        "id": "OoYfAzvLyvNy"
      },
      "source": [
        "## Step 7: Write a Report\n",
        "### Refer to the markdown file for the full report\n",
        "### Creating plots and table for report"
      ]
    },
    {
      "cell_type": "code",
      "metadata": {
        "id": "99qGm7ZByvNy",
        "colab": {
          "base_uri": "https://localhost:8080/",
          "height": 389
        },
        "outputId": "46998b2e-2b6b-440d-9d23-8a615081f256"
      },
      "source": [
        "# Taking the top model score from each training run and creating a line plot to show improvement\n",
        "# You can create these in the notebook and save them to PNG or use some other tool (e.g. google sheets, excel)\n",
        "fig = pd.DataFrame(\n",
        "    {\n",
        "        \"model\": [\"initial\", \"add_features\", \"hpo\"],\n",
        "        \"score\": [-114.606267, -51.737171, -65.965138]\n",
        "    }\n",
        ").plot(x=\"model\", y=\"score\", figsize=(8, 6)).get_figure()\n",
        "fig.savefig('model_train_score.png')"
      ],
      "execution_count": null,
      "outputs": [
        {
          "output_type": "display_data",
          "data": {
            "image/png": "[encoded data removed]",
            "text/plain": [
              "<Figure size 576x432 with 1 Axes>"
            ]
          },
          "metadata": {
            "needs_background": "light"
          }
        }
      ]
    },
    {
      "cell_type": "code",
      "metadata": {
        "id": "Px2i7s75yvNz",
        "colab": {
          "base_uri": "https://localhost:8080/",
          "height": 390
        },
        "outputId": "08b2b69a-7846-4621-cf15-d349d530598f"
      },
      "source": [
        "# Take the 3 kaggle scores and creating a line plot to show improvement\n",
        "fig = pd.DataFrame(\n",
        "    {\n",
        "        \"test_eval\": [\"initial\", \"add_features\", \"hpo\"],\n",
        "        \"score\": [1.39764, 0.54073, 0.52616]\n",
        "    }\n",
        ").plot(x=\"test_eval\", y=\"score\", figsize=(8, 6)).get_figure()\n",
        "fig.savefig('model_test_score.png')"
      ],
      "execution_count": null,
      "outputs": [
        {
          "output_type": "display_data",
          "data": {
            "image/png": "[encoded data removed]",
            "text/plain": [
              "<Figure size 576x432 with 1 Axes>"
            ]
          },
          "metadata": {
            "needs_background": "light"
          }
        }
      ]
    },
    {
      "cell_type": "markdown",
      "metadata": {
        "id": "dCQpwRLRyvNz"
      },
      "source": [
        "### Hyperparameter table"
      ]
    },
    {
      "cell_type": "code",
      "metadata": {
        "id": "eZfZKm5eyvNz",
        "colab": {
          "base_uri": "https://localhost:8080/",
          "height": 143
        },
        "outputId": "041b86c4-4d5a-45b0-9160-796b993390c2"
      },
      "source": [
        "# The 3 hyperparameters we tuned with the kaggle score as the result\n",
        "pd.DataFrame({\n",
        "    \"model\": [\"initial\", \"add_features\", \"hpo\"],\n",
        "    \"hpo1\": ['Default Values', 'Default Values', 'GBM'],\n",
        "    \"hpo2\": ['Default Values', 'Default Values', 'NN'],\n",
        "    \"hpo3\": ['Default Values', 'Default Values', 'Default Values'],\n",
        "    \"score\": [1.39764, 0.54073, 0.52616]\n",
        "})"
      ],
      "execution_count": null,
      "outputs": [
        {
          "output_type": "execute_result",
          "data": {
            "text/html": [
              "<div>\n",
              "<style scoped>\n",
              "    .dataframe tbody tr th:only-of-type {\n",
              "        vertical-align: middle;\n",
              "    }\n",
              "\n",
              "    .dataframe tbody tr th {\n",
              "        vertical-align: top;\n",
              "    }\n",
              "\n",
              "    .dataframe thead th {\n",
              "        text-align: right;\n",
              "    }\n",
              "</style>\n",
              "<table border=\"1\" class=\"dataframe\">\n",
              "  <thead>\n",
              "    <tr style=\"text-align: right;\">\n",
              "      <th></th>\n",
              "      <th>model</th>\n",
              "      <th>hpo1</th>\n",
              "      <th>hpo2</th>\n",
              "      <th>hpo3</th>\n",
              "      <th>score</th>\n",
              "    </tr>\n",
              "  </thead>\n",
              "  <tbody>\n",
              "    <tr>\n",
              "      <th>0</th>\n",
              "      <td>initial</td>\n",
              "      <td>Default Values</td>\n",
              "      <td>Default Values</td>\n",
              "      <td>Default Values</td>\n",
              "      <td>1.39764</td>\n",
              "    </tr>\n",
              "    <tr>\n",
              "      <th>1</th>\n",
              "      <td>add_features</td>\n",
              "      <td>Default Values</td>\n",
              "      <td>Default Values</td>\n",
              "      <td>Default Values</td>\n",
              "      <td>0.54073</td>\n",
              "    </tr>\n",
              "    <tr>\n",
              "      <th>2</th>\n",
              "      <td>hpo</td>\n",
              "      <td>GBM</td>\n",
              "      <td>NN</td>\n",
              "      <td>Default Values</td>\n",
              "      <td>0.52616</td>\n",
              "    </tr>\n",
              "  </tbody>\n",
              "</table>\n",
              "</div>"
            ],
            "text/plain": [
              "          model            hpo1            hpo2            hpo3    score\n",
              "0       initial  Default Values  Default Values  Default Values  1.39764\n",
              "1  add_features  Default Values  Default Values  Default Values  0.54073\n",
              "2           hpo             GBM              NN  Default Values  0.52616"
            ]
          },
          "metadata": {},
          "execution_count": 65
        }
      ]
    },
    {
      "cell_type": "code",
      "metadata": {
        "id": "uHs23IEVqvyV"
      },
      "source": [
        ""
      ],
      "execution_count": null,
      "outputs": []
    }
  ]
}